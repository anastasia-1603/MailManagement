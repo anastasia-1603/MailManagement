{
 "nbformat": 4,
 "nbformat_minor": 0,
 "metadata": {
  "colab": {
   "provenance": []
  },
  "kernelspec": {
   "name": "python3",
   "language": "python",
   "display_name": "Python 3 (ipykernel)"
  },
  "language_info": {
   "name": "python"
  }
 },
 "cells": [
  {
   "cell_type": "code",
   "execution_count": null,
   "metadata": {
    "id": "SMg26pl7cDTM"
   },
   "outputs": [],
   "source": [
    "# /content/drive/MyDrive/Диплом/emails.csv\n",
    "# /content/drive/MyDrive/Диплом/GoogleNews-vectors-negative300.bin"
   ]
  },
  {
   "cell_type": "code",
   "source": [
    "import nltk\n",
    "nltk.download('stopwords')"
   ],
   "metadata": {
    "colab": {
     "base_uri": "https://localhost:8080/"
    },
    "id": "p19v4VEPgCYQ",
    "outputId": "dd240733-1b03-4766-e474-01a420090cd9"
   },
   "execution_count": 4,
   "outputs": [
    {
     "output_type": "stream",
     "name": "stderr",
     "text": [
      "[nltk_data] Downloading package stopwords to /root/nltk_data...\n",
      "[nltk_data]   Unzipping corpora/stopwords.zip.\n"
     ]
    },
    {
     "output_type": "execute_result",
     "data": {
      "text/plain": [
       "True"
      ]
     },
     "metadata": {},
     "execution_count": 4
    }
   ]
  },
  {
   "cell_type": "code",
   "source": [
    "import matplotlib.pyplot as plt\n",
    "import time\n",
    "from sklearn.preprocessing import LabelEncoder\n",
    "from sklearn.model_selection import train_test_split\n",
    "import keras._tf_keras.keras.preprocessing\n",
    "from keras.preprocessing.text import Tokenizer\n",
    "from keras.preprocessing.sequence import pad_sequences\n",
    "from keras.models import Sequential\n",
    "\n",
    "from keras.layers import Dense, LSTM, Flatten, Embedding\n",
    "from keras.utils import to_categorical\n",
    "from keras.backend import clear_session\n",
    "import numpy as np\n",
    "import pandas as pd\n",
    "import multiprocessing\n",
    "import seaborn as sns\n",
    "import email\n",
    "import matplotlib.pyplot as plt"
   ],
   "metadata": {
    "id": "4tRk8MJxclV6",
    "ExecuteTime": {
     "end_time": "2024-05-14T21:57:01.524453400Z",
     "start_time": "2024-05-14T21:57:01.493421900Z"
    }
   },
   "execution_count": 1,
   "outputs": [
    {
     "ename": "ModuleNotFoundError",
     "evalue": "No module named 'matplotlib'",
     "output_type": "error",
     "traceback": [
      "\u001B[1;31m---------------------------------------------------------------------------\u001B[0m",
      "\u001B[1;31mModuleNotFoundError\u001B[0m                       Traceback (most recent call last)",
      "Cell \u001B[1;32mIn[1], line 1\u001B[0m\n\u001B[1;32m----> 1\u001B[0m \u001B[38;5;28;01mimport\u001B[39;00m \u001B[38;5;21;01mmatplotlib\u001B[39;00m\u001B[38;5;21;01m.\u001B[39;00m\u001B[38;5;21;01mpyplot\u001B[39;00m \u001B[38;5;28;01mas\u001B[39;00m \u001B[38;5;21;01mplt\u001B[39;00m\n\u001B[0;32m      2\u001B[0m \u001B[38;5;28;01mfrom\u001B[39;00m \u001B[38;5;21;01mgensim\u001B[39;00m\u001B[38;5;21;01m.\u001B[39;00m\u001B[38;5;21;01mmodels\u001B[39;00m \u001B[38;5;28;01mimport\u001B[39;00m KeyedVectors\n\u001B[0;32m      3\u001B[0m \u001B[38;5;28;01mfrom\u001B[39;00m \u001B[38;5;21;01mgensim\u001B[39;00m\u001B[38;5;21;01m.\u001B[39;00m\u001B[38;5;21;01mscripts\u001B[39;00m\u001B[38;5;21;01m.\u001B[39;00m\u001B[38;5;21;01mglove2word2vec\u001B[39;00m \u001B[38;5;28;01mimport\u001B[39;00m glove2word2vec\n",
      "\u001B[1;31mModuleNotFoundError\u001B[0m: No module named 'matplotlib'"
     ]
    }
   ]
  },
  {
   "cell_type": "code",
   "source": [
    "import matplotlib.pyplot as plt\n",
    "import re\n",
    "import string\n",
    "import time\n",
    "pd.set_option('display.max_rows', 50)\n",
    "import nltk\n",
    "from nltk.corpus import stopwords\n",
    "stop = stopwords.words('english')\n",
    "\n",
    "from sklearn.preprocessing import LabelEncoder\n",
    "from sklearn.feature_extraction.text import CountVectorizer\n",
    "from sklearn.feature_extraction.text import TfidfVectorizer\n",
    "from sklearn.model_selection import cross_validate\n",
    "\n",
    "from sklearn.naive_bayes import MultinomialNB, GaussianNB\n",
    "from sklearn.tree import DecisionTreeClassifier\n",
    "from sklearn.svm import LinearSVC\n",
    "from sklearn.ensemble import AdaBoostClassifier\n",
    "from sklearn.neural_network import MLPClassifier"
   ],
   "metadata": {
    "id": "CvAAGjrcjG73"
   },
   "execution_count": 5,
   "outputs": []
  },
  {
   "cell_type": "markdown",
   "source": [
    "# Data cleaning and preprocessing"
   ],
   "metadata": {
    "id": "mnNBhWs6ByX7"
   }
  },
  {
   "cell_type": "code",
   "source": [
    "filename = \"/content/drive/MyDrive/Диплом/GoogleNews-vectors-negative300.bin\"\n",
    "\n",
    "google_embeddings = KeyedVectors.load_word2vec_format(filename, binary=True)"
   ],
   "metadata": {
    "id": "xBGxcNJ2cv8_"
   },
   "execution_count": 43,
   "outputs": []
  },
  {
   "cell_type": "code",
   "source": [
    "df = pd.read_csv(\"/content/drive/MyDrive/Диплом/emails.csv\")"
   ],
   "metadata": {
    "id": "TF3aFDCAjLJA"
   },
   "execution_count": null,
   "outputs": []
  },
  {
   "cell_type": "code",
   "source": [
    "df.head()"
   ],
   "metadata": {
    "id": "wM9Dhp7XjPYQ"
   },
   "execution_count": null,
   "outputs": []
  },
  {
   "cell_type": "code",
   "source": [
    "df.shape"
   ],
   "metadata": {
    "id": "WMeES9SDjQTk"
   },
   "execution_count": null,
   "outputs": []
  },
  {
   "cell_type": "code",
   "source": [
    "print(df.loc[1]['message'])"
   ],
   "metadata": {
    "id": "ZKGf5mo6jSnC"
   },
   "execution_count": null,
   "outputs": []
  },
  {
   "cell_type": "code",
   "source": [
    "message = df.loc[1]['message']\n",
    "e = email.message_from_string(message)\n",
    "\n",
    "e.items()"
   ],
   "metadata": {
    "id": "wp5Y7xQDjV0t"
   },
   "execution_count": null,
   "outputs": []
  },
  {
   "cell_type": "code",
   "source": [
    "e.get('Date')"
   ],
   "metadata": {
    "id": "EysyDU3mggnS"
   },
   "execution_count": null,
   "outputs": []
  },
  {
   "cell_type": "code",
   "source": [
    "# now we add those fields into our 'df' dataframe\n",
    "def get_field(field, messages):\n",
    "    column = []\n",
    "    for message in messages:\n",
    "        e = email.message_from_string(message)\n",
    "        column.append(e.get(field))\n",
    "    return column"
   ],
   "metadata": {
    "id": "sMoWxP_xglo-"
   },
   "execution_count": null,
   "outputs": []
  },
  {
   "cell_type": "code",
   "source": [
    "df['date'] = get_field(\"Date\", df['message'])\n",
    "df['subject'] = get_field(\"Subject\", df['message'])\n",
    "df['X-Folder'] = get_field(\"X-Folder\", df['message'])\n",
    "df['X-From'] = get_field(\"X-From\", df['message'])\n",
    "df['X-To'] = get_field(\"X-To\", df['message'])\n",
    "df.head(3)"
   ],
   "metadata": {
    "id": "eRceEKYngoCx"
   },
   "execution_count": null,
   "outputs": []
  },
  {
   "cell_type": "code",
   "source": [
    "def body(messages):\n",
    "    column = []\n",
    "    for message in messages:\n",
    "        e = email.message_from_string(message)\n",
    "        column.append(e.get_payload())\n",
    "    return column\n",
    "\n",
    "df['body'] = body(df['message'])\n",
    "df.head(3)"
   ],
   "metadata": {
    "id": "r0wT1qslgpgZ"
   },
   "execution_count": null,
   "outputs": []
  },
  {
   "cell_type": "code",
   "source": [
    "def employee(file):\n",
    "    column = []\n",
    "    for string in file:\n",
    "        column.append(string.split(\"/\")[0])\n",
    "    return column\n",
    "\n",
    "df['employee'] = employee(df['file'])\n",
    "df.head(3)"
   ],
   "metadata": {
    "id": "K5Yg8Ip3iifx"
   },
   "execution_count": null,
   "outputs": []
  },
  {
   "cell_type": "code",
   "source": [
    "print(\"number of folders: \", df.shape[0])\n",
    "print(\"number of unique folders: \", df['X-Folder'].unique().shape[0])"
   ],
   "metadata": {
    "id": "IvAxVQESitfb"
   },
   "execution_count": null,
   "outputs": []
  },
  {
   "cell_type": "code",
   "source": [
    "unique_emails = pd.DataFrame(df['X-Folder'].value_counts())\n",
    "unique_emails.reset_index(inplace=True)\n",
    "\n",
    "\n",
    "unique_emails.columns = ['folder_name', 'count']\n",
    "# top 20 folders\n",
    "unique_emails.iloc[:20,:]"
   ],
   "metadata": {
    "id": "oDRIJeYtiwfX"
   },
   "execution_count": null,
   "outputs": []
  },
  {
   "cell_type": "code",
   "source": [
    "plt.figure(figsize=(10,6))\n",
    "sns.barplot(x='count', y='folder_name', data=unique_emails.iloc[:20, :], palette=\"Blues_d\")\n",
    "plt.title(\"Top 20 folders\")\n",
    "plt.xlabel(\"Count\")\n",
    "plt.ylabel(\"Folder_Name\")\n",
    "plt.show()"
   ],
   "metadata": {
    "id": "X7OYFbFJi5tm"
   },
   "execution_count": null,
   "outputs": []
  },
  {
   "cell_type": "code",
   "source": [
    "df.head()"
   ],
   "metadata": {
    "id": "bieKAgOii95m"
   },
   "execution_count": null,
   "outputs": []
  },
  {
   "cell_type": "code",
   "source": [
    "import datetime\n",
    "from dateutil import parser\n",
    "\n",
    "def change_type(dates):\n",
    "    column = []\n",
    "\n",
    "    for date in dates:\n",
    "        column.append(parser.parse(date).strftime(\"%d-%m-%Y %H:%M:%S\"))\n",
    "    return column\n",
    "\n",
    "df['date'] = change_type(df['date'])\n",
    "df.head(2)"
   ],
   "metadata": {
    "id": "t_Wkc9JDpuph"
   },
   "execution_count": null,
   "outputs": []
  },
  {
   "cell_type": "code",
   "source": [
    "def preprocess_folder(folders):\n",
    "    column = []\n",
    "    for folder in folders:\n",
    "        if (folder is None or folder == \"\"):\n",
    "            column.append(np.nan)\n",
    "        else:\n",
    "            column.append(folder.split(\"\\\\\")[-1].lower())\n",
    "    return column\n",
    "\n",
    "df['X-Folder'] = preprocess_folder(df['X-Folder'])\n",
    "df.head(2)"
   ],
   "metadata": {
    "id": "bpix-Lqmp_A-"
   },
   "execution_count": null,
   "outputs": []
  },
  {
   "cell_type": "code",
   "source": [
    "print(\"Unique Foldes: \", len(df['X-Folder'].unique()))\n",
    "\n",
    "# view some of them\n",
    "df['X-Folder'].unique()[0:20]"
   ],
   "metadata": {
    "id": "jBCjUkHdqHFb"
   },
   "execution_count": null,
   "outputs": []
  },
  {
   "cell_type": "code",
   "source": [
    "def replace_empty_with_nan(subject):\n",
    "    column = []\n",
    "    for val in subject:\n",
    "        if (val == \"\"):\n",
    "            column.append(np.nan)\n",
    "        else:\n",
    "            column.append(val)\n",
    "    return column"
   ],
   "metadata": {
    "id": "NPYj6cVKqIWy"
   },
   "execution_count": null,
   "outputs": []
  },
  {
   "cell_type": "code",
   "source": [
    "df['subject'] = replace_empty_with_nan(df['subject'])\n",
    "df['X-To'] = replace_empty_with_nan(df['X-To'])"
   ],
   "metadata": {
    "id": "nAfvFq-SqKS4"
   },
   "execution_count": null,
   "outputs": []
  },
  {
   "cell_type": "code",
   "source": [
    "df.isnull().sum()"
   ],
   "metadata": {
    "id": "ZvjAhuB_qNEY"
   },
   "execution_count": null,
   "outputs": []
  },
  {
   "cell_type": "code",
   "source": [
    "miss = df.isnull().sum()\n",
    "miss = miss[miss>0]\n",
    "miss = miss / df.shape[0]\n",
    "miss"
   ],
   "metadata": {
    "id": "6qyEeQeuqQ13"
   },
   "execution_count": null,
   "outputs": []
  },
  {
   "cell_type": "code",
   "source": [
    "# drop missing value rows\n",
    "df.dropna(axis=0, inplace=True)"
   ],
   "metadata": {
    "id": "d42Ivsc3qWDn"
   },
   "execution_count": null,
   "outputs": []
  },
  {
   "cell_type": "code",
   "source": [
    "cols_to_drop = ['file','message','date','X-From','X-To','employee']"
   ],
   "metadata": {
    "id": "ex8VX4m4qbGW"
   },
   "execution_count": null,
   "outputs": []
  },
  {
   "cell_type": "code",
   "source": [
    "df.drop(cols_to_drop, axis=1, inplace=True)\n",
    "df.head()"
   ],
   "metadata": {
    "id": "iOtKDWLhrlE5"
   },
   "execution_count": null,
   "outputs": []
  },
  {
   "cell_type": "code",
   "source": [
    "df.to_csv(\"cleaned_data.csv\", index=False)"
   ],
   "metadata": {
    "id": "crVSD9LBrvx9"
   },
   "execution_count": null,
   "outputs": []
  },
  {
   "cell_type": "markdown",
   "source": [
    "#  Preprocessing"
   ],
   "metadata": {
    "id": "o21iTEJaCKA0"
   }
  },
  {
   "cell_type": "code",
   "source": [
    "df = pd.read_csv(\"/content/drive/MyDrive/Диплом/cleaned_data.csv\")"
   ],
   "metadata": {
    "id": "xX_D-X7SCMym"
   },
   "execution_count": 6,
   "outputs": []
  },
  {
   "cell_type": "code",
   "source": [
    "df"
   ],
   "metadata": {
    "colab": {
     "base_uri": "https://localhost:8080/",
     "height": 614
    },
    "id": "HCdlK7oGEVyl",
    "outputId": "c1ec42eb-67d5-438d-8fc6-45689c7cbb72"
   },
   "execution_count": null,
   "outputs": [
    {
     "output_type": "execute_result",
     "data": {
      "text/plain": [
       "                             subject    X-Folder  \\\n",
       "0                                Re:  'sent mail   \n",
       "1                           Re: test  'sent mail   \n",
       "2                          Re: Hello  'sent mail   \n",
       "3                          Re: Hello  'sent mail   \n",
       "4       Re: PRC review - phone calls  'sent mail   \n",
       "...                              ...         ...   \n",
       "489231      Trade with John Lavorato  sent items   \n",
       "489232                    Gas Hedges  sent items   \n",
       "489233              RE: CONFIDENTIAL  sent items   \n",
       "489234     Calgary Analyst/Associate  sent items   \n",
       "489235              RE: ali's essays  sent items   \n",
       "\n",
       "                                                     body  \n",
       "0       Traveling to have a business meeting takes the...  \n",
       "1                          test successful.  way to go!!!  \n",
       "2                     Let's shoot for Tuesday at 11:45.    \n",
       "3       Greg,\\n\\n How about either next Tuesday or Thu...  \n",
       "4                        any morning between 10 and 11:30  \n",
       "...                                                   ...  \n",
       "489231  This is a trade with OIL-SPEC-HEDGE-NG (John L...  \n",
       "489232  Some of my position is with the Alberta Term b...  \n",
       "489233  2\\n\\n -----Original Message-----\\nFrom: \\tDouc...  \n",
       "489234  Analyst\\t\\t\\t\\t\\tRank\\n\\nStephane Brodeur\\t\\t\\...  \n",
       "489235  i think the YMCA has a class that is for peopl...  \n",
       "\n",
       "[489236 rows x 3 columns]"
      ],
      "text/html": [
       "\n",
       "  <div id=\"df-88a1c939-014b-4564-90f2-725a9fdcbe33\" class=\"colab-df-container\">\n",
       "    <div>\n",
       "<style scoped>\n",
       "    .dataframe tbody tr th:only-of-type {\n",
       "        vertical-align: middle;\n",
       "    }\n",
       "\n",
       "    .dataframe tbody tr th {\n",
       "        vertical-align: top;\n",
       "    }\n",
       "\n",
       "    .dataframe thead th {\n",
       "        text-align: right;\n",
       "    }\n",
       "</style>\n",
       "<table border=\"1\" class=\"dataframe\">\n",
       "  <thead>\n",
       "    <tr style=\"text-align: right;\">\n",
       "      <th></th>\n",
       "      <th>subject</th>\n",
       "      <th>X-Folder</th>\n",
       "      <th>body</th>\n",
       "    </tr>\n",
       "  </thead>\n",
       "  <tbody>\n",
       "    <tr>\n",
       "      <th>0</th>\n",
       "      <td>Re:</td>\n",
       "      <td>'sent mail</td>\n",
       "      <td>Traveling to have a business meeting takes the...</td>\n",
       "    </tr>\n",
       "    <tr>\n",
       "      <th>1</th>\n",
       "      <td>Re: test</td>\n",
       "      <td>'sent mail</td>\n",
       "      <td>test successful.  way to go!!!</td>\n",
       "    </tr>\n",
       "    <tr>\n",
       "      <th>2</th>\n",
       "      <td>Re: Hello</td>\n",
       "      <td>'sent mail</td>\n",
       "      <td>Let's shoot for Tuesday at 11:45.</td>\n",
       "    </tr>\n",
       "    <tr>\n",
       "      <th>3</th>\n",
       "      <td>Re: Hello</td>\n",
       "      <td>'sent mail</td>\n",
       "      <td>Greg,\\n\\n How about either next Tuesday or Thu...</td>\n",
       "    </tr>\n",
       "    <tr>\n",
       "      <th>4</th>\n",
       "      <td>Re: PRC review - phone calls</td>\n",
       "      <td>'sent mail</td>\n",
       "      <td>any morning between 10 and 11:30</td>\n",
       "    </tr>\n",
       "    <tr>\n",
       "      <th>...</th>\n",
       "      <td>...</td>\n",
       "      <td>...</td>\n",
       "      <td>...</td>\n",
       "    </tr>\n",
       "    <tr>\n",
       "      <th>489231</th>\n",
       "      <td>Trade with John Lavorato</td>\n",
       "      <td>sent items</td>\n",
       "      <td>This is a trade with OIL-SPEC-HEDGE-NG (John L...</td>\n",
       "    </tr>\n",
       "    <tr>\n",
       "      <th>489232</th>\n",
       "      <td>Gas Hedges</td>\n",
       "      <td>sent items</td>\n",
       "      <td>Some of my position is with the Alberta Term b...</td>\n",
       "    </tr>\n",
       "    <tr>\n",
       "      <th>489233</th>\n",
       "      <td>RE: CONFIDENTIAL</td>\n",
       "      <td>sent items</td>\n",
       "      <td>2\\n\\n -----Original Message-----\\nFrom: \\tDouc...</td>\n",
       "    </tr>\n",
       "    <tr>\n",
       "      <th>489234</th>\n",
       "      <td>Calgary Analyst/Associate</td>\n",
       "      <td>sent items</td>\n",
       "      <td>Analyst\\t\\t\\t\\t\\tRank\\n\\nStephane Brodeur\\t\\t\\...</td>\n",
       "    </tr>\n",
       "    <tr>\n",
       "      <th>489235</th>\n",
       "      <td>RE: ali's essays</td>\n",
       "      <td>sent items</td>\n",
       "      <td>i think the YMCA has a class that is for peopl...</td>\n",
       "    </tr>\n",
       "  </tbody>\n",
       "</table>\n",
       "<p>489236 rows × 3 columns</p>\n",
       "</div>\n",
       "    <div class=\"colab-df-buttons\">\n",
       "\n",
       "  <div class=\"colab-df-container\">\n",
       "    <button class=\"colab-df-convert\" onclick=\"convertToInteractive('df-88a1c939-014b-4564-90f2-725a9fdcbe33')\"\n",
       "            title=\"Convert this dataframe to an interactive table.\"\n",
       "            style=\"display:none;\">\n",
       "\n",
       "  <svg xmlns=\"http://www.w3.org/2000/svg\" height=\"24px\" viewBox=\"0 -960 960 960\">\n",
       "    <path d=\"M120-120v-720h720v720H120Zm60-500h600v-160H180v160Zm220 220h160v-160H400v160Zm0 220h160v-160H400v160ZM180-400h160v-160H180v160Zm440 0h160v-160H620v160ZM180-180h160v-160H180v160Zm440 0h160v-160H620v160Z\"/>\n",
       "  </svg>\n",
       "    </button>\n",
       "\n",
       "  <style>\n",
       "    .colab-df-container {\n",
       "      display:flex;\n",
       "      gap: 12px;\n",
       "    }\n",
       "\n",
       "    .colab-df-convert {\n",
       "      background-color: #E8F0FE;\n",
       "      border: none;\n",
       "      border-radius: 50%;\n",
       "      cursor: pointer;\n",
       "      display: none;\n",
       "      fill: #1967D2;\n",
       "      height: 32px;\n",
       "      padding: 0 0 0 0;\n",
       "      width: 32px;\n",
       "    }\n",
       "\n",
       "    .colab-df-convert:hover {\n",
       "      background-color: #E2EBFA;\n",
       "      box-shadow: 0px 1px 2px rgba(60, 64, 67, 0.3), 0px 1px 3px 1px rgba(60, 64, 67, 0.15);\n",
       "      fill: #174EA6;\n",
       "    }\n",
       "\n",
       "    .colab-df-buttons div {\n",
       "      margin-bottom: 4px;\n",
       "    }\n",
       "\n",
       "    [theme=dark] .colab-df-convert {\n",
       "      background-color: #3B4455;\n",
       "      fill: #D2E3FC;\n",
       "    }\n",
       "\n",
       "    [theme=dark] .colab-df-convert:hover {\n",
       "      background-color: #434B5C;\n",
       "      box-shadow: 0px 1px 3px 1px rgba(0, 0, 0, 0.15);\n",
       "      filter: drop-shadow(0px 1px 2px rgba(0, 0, 0, 0.3));\n",
       "      fill: #FFFFFF;\n",
       "    }\n",
       "  </style>\n",
       "\n",
       "    <script>\n",
       "      const buttonEl =\n",
       "        document.querySelector('#df-88a1c939-014b-4564-90f2-725a9fdcbe33 button.colab-df-convert');\n",
       "      buttonEl.style.display =\n",
       "        google.colab.kernel.accessAllowed ? 'block' : 'none';\n",
       "\n",
       "      async function convertToInteractive(key) {\n",
       "        const element = document.querySelector('#df-88a1c939-014b-4564-90f2-725a9fdcbe33');\n",
       "        const dataTable =\n",
       "          await google.colab.kernel.invokeFunction('convertToInteractive',\n",
       "                                                    [key], {});\n",
       "        if (!dataTable) return;\n",
       "\n",
       "        const docLinkHtml = 'Like what you see? Visit the ' +\n",
       "          '<a target=\"_blank\" href=https://colab.research.google.com/notebooks/data_table.ipynb>data table notebook</a>'\n",
       "          + ' to learn more about interactive tables.';\n",
       "        element.innerHTML = '';\n",
       "        dataTable['output_type'] = 'display_data';\n",
       "        await google.colab.output.renderOutput(dataTable, element);\n",
       "        const docLink = document.createElement('div');\n",
       "        docLink.innerHTML = docLinkHtml;\n",
       "        element.appendChild(docLink);\n",
       "      }\n",
       "    </script>\n",
       "  </div>\n",
       "\n",
       "\n",
       "<div id=\"df-35107163-e10f-4f2c-8bcf-4e528cc2fe52\">\n",
       "  <button class=\"colab-df-quickchart\" onclick=\"quickchart('df-35107163-e10f-4f2c-8bcf-4e528cc2fe52')\"\n",
       "            title=\"Suggest charts\"\n",
       "            style=\"display:none;\">\n",
       "\n",
       "<svg xmlns=\"http://www.w3.org/2000/svg\" height=\"24px\"viewBox=\"0 0 24 24\"\n",
       "     width=\"24px\">\n",
       "    <g>\n",
       "        <path d=\"M19 3H5c-1.1 0-2 .9-2 2v14c0 1.1.9 2 2 2h14c1.1 0 2-.9 2-2V5c0-1.1-.9-2-2-2zM9 17H7v-7h2v7zm4 0h-2V7h2v10zm4 0h-2v-4h2v4z\"/>\n",
       "    </g>\n",
       "</svg>\n",
       "  </button>\n",
       "\n",
       "<style>\n",
       "  .colab-df-quickchart {\n",
       "      --bg-color: #E8F0FE;\n",
       "      --fill-color: #1967D2;\n",
       "      --hover-bg-color: #E2EBFA;\n",
       "      --hover-fill-color: #174EA6;\n",
       "      --disabled-fill-color: #AAA;\n",
       "      --disabled-bg-color: #DDD;\n",
       "  }\n",
       "\n",
       "  [theme=dark] .colab-df-quickchart {\n",
       "      --bg-color: #3B4455;\n",
       "      --fill-color: #D2E3FC;\n",
       "      --hover-bg-color: #434B5C;\n",
       "      --hover-fill-color: #FFFFFF;\n",
       "      --disabled-bg-color: #3B4455;\n",
       "      --disabled-fill-color: #666;\n",
       "  }\n",
       "\n",
       "  .colab-df-quickchart {\n",
       "    background-color: var(--bg-color);\n",
       "    border: none;\n",
       "    border-radius: 50%;\n",
       "    cursor: pointer;\n",
       "    display: none;\n",
       "    fill: var(--fill-color);\n",
       "    height: 32px;\n",
       "    padding: 0;\n",
       "    width: 32px;\n",
       "  }\n",
       "\n",
       "  .colab-df-quickchart:hover {\n",
       "    background-color: var(--hover-bg-color);\n",
       "    box-shadow: 0 1px 2px rgba(60, 64, 67, 0.3), 0 1px 3px 1px rgba(60, 64, 67, 0.15);\n",
       "    fill: var(--button-hover-fill-color);\n",
       "  }\n",
       "\n",
       "  .colab-df-quickchart-complete:disabled,\n",
       "  .colab-df-quickchart-complete:disabled:hover {\n",
       "    background-color: var(--disabled-bg-color);\n",
       "    fill: var(--disabled-fill-color);\n",
       "    box-shadow: none;\n",
       "  }\n",
       "\n",
       "  .colab-df-spinner {\n",
       "    border: 2px solid var(--fill-color);\n",
       "    border-color: transparent;\n",
       "    border-bottom-color: var(--fill-color);\n",
       "    animation:\n",
       "      spin 1s steps(1) infinite;\n",
       "  }\n",
       "\n",
       "  @keyframes spin {\n",
       "    0% {\n",
       "      border-color: transparent;\n",
       "      border-bottom-color: var(--fill-color);\n",
       "      border-left-color: var(--fill-color);\n",
       "    }\n",
       "    20% {\n",
       "      border-color: transparent;\n",
       "      border-left-color: var(--fill-color);\n",
       "      border-top-color: var(--fill-color);\n",
       "    }\n",
       "    30% {\n",
       "      border-color: transparent;\n",
       "      border-left-color: var(--fill-color);\n",
       "      border-top-color: var(--fill-color);\n",
       "      border-right-color: var(--fill-color);\n",
       "    }\n",
       "    40% {\n",
       "      border-color: transparent;\n",
       "      border-right-color: var(--fill-color);\n",
       "      border-top-color: var(--fill-color);\n",
       "    }\n",
       "    60% {\n",
       "      border-color: transparent;\n",
       "      border-right-color: var(--fill-color);\n",
       "    }\n",
       "    80% {\n",
       "      border-color: transparent;\n",
       "      border-right-color: var(--fill-color);\n",
       "      border-bottom-color: var(--fill-color);\n",
       "    }\n",
       "    90% {\n",
       "      border-color: transparent;\n",
       "      border-bottom-color: var(--fill-color);\n",
       "    }\n",
       "  }\n",
       "</style>\n",
       "\n",
       "  <script>\n",
       "    async function quickchart(key) {\n",
       "      const quickchartButtonEl =\n",
       "        document.querySelector('#' + key + ' button');\n",
       "      quickchartButtonEl.disabled = true;  // To prevent multiple clicks.\n",
       "      quickchartButtonEl.classList.add('colab-df-spinner');\n",
       "      try {\n",
       "        const charts = await google.colab.kernel.invokeFunction(\n",
       "            'suggestCharts', [key], {});\n",
       "      } catch (error) {\n",
       "        console.error('Error during call to suggestCharts:', error);\n",
       "      }\n",
       "      quickchartButtonEl.classList.remove('colab-df-spinner');\n",
       "      quickchartButtonEl.classList.add('colab-df-quickchart-complete');\n",
       "    }\n",
       "    (() => {\n",
       "      let quickchartButtonEl =\n",
       "        document.querySelector('#df-35107163-e10f-4f2c-8bcf-4e528cc2fe52 button');\n",
       "      quickchartButtonEl.style.display =\n",
       "        google.colab.kernel.accessAllowed ? 'block' : 'none';\n",
       "    })();\n",
       "  </script>\n",
       "</div>\n",
       "    </div>\n",
       "  </div>\n"
      ],
      "application/vnd.google.colaboratory.intrinsic+json": {
       "type": "dataframe",
       "variable_name": "df"
      }
     },
     "metadata": {},
     "execution_count": 5
    }
   ]
  },
  {
   "cell_type": "code",
   "source": [
    "def remove_folders(emails, n):\n",
    "    # returns the number of folders containing more than 'n' number of emails\n",
    "    email_count = dict(df['X-Folder'].value_counts())\n",
    "    small_folders = [key for key, val in email_count.items() if val<=n]\n",
    "    emails = df.loc[~df['X-Folder'].isin(small_folders)]\n",
    "    return emails"
   ],
   "metadata": {
    "id": "HYK7u0ZYsmYK"
   },
   "execution_count": 7,
   "outputs": []
  },
  {
   "cell_type": "code",
   "source": [
    "n = 300\n",
    "df = remove_folders(df, n)"
   ],
   "metadata": {
    "id": "Mnx0UT5Hjty-"
   },
   "execution_count": 9,
   "outputs": []
  },
  {
   "cell_type": "code",
   "source": [
    "print(\"Total folders: \", len(df['X-Folder'].unique()))\n",
    "print(\"df.shape: \", df.shape)"
   ],
   "metadata": {
    "colab": {
     "base_uri": "https://localhost:8080/"
    },
    "id": "D8qMLYdQjy9E",
    "outputId": "81eacb68-529d-40c4-eb64-5341e8158abf"
   },
   "execution_count": 10,
   "outputs": [
    {
     "output_type": "stream",
     "name": "stdout",
     "text": [
      "Total folders:  40\n",
      "df.shape:  (450882, 3)\n"
     ]
    }
   ]
  },
  {
   "cell_type": "code",
   "source": [
    "df['X-Folder'].unique()"
   ],
   "metadata": {
    "colab": {
     "base_uri": "https://localhost:8080/"
    },
    "id": "n1fuGK74E6PO",
    "outputId": "9bcff9cf-b003-40cf-8f88-c4a9598755d6"
   },
   "execution_count": 11,
   "outputs": [
    {
     "output_type": "execute_result",
     "data": {
      "text/plain": [
       "array([\"'sent mail\", 'all documents', 'deleted items',\n",
       "       'discussion threads', 'inbox', 'notes inbox', 'sent items', 'sent',\n",
       "       'personal', 'california', 'calendar', 'it', 'hr', 'resumes',\n",
       "       'connect deletes', 'archives', 'junk file', 'ces', 'logistics',\n",
       "       'tufco', 'wellhead', 'projects', 'online trading', 'management',\n",
       "       'universities', 'untitled', 'attachments', 'esvl', 'ooc',\n",
       "       'corporate', 'tw-commercial group', 'genco-jv_ipo', 'read',\n",
       "       'iso_ pricecaps', 'junk', 'california issues',\n",
       "       'deal discrepancies', 'e-mail bin', 'bill williams iii',\n",
       "       'schedule crawler'], dtype=object)"
      ]
     },
     "metadata": {},
     "execution_count": 11
    }
   ]
  },
  {
   "cell_type": "code",
   "source": [
    "folders = ['personal', 'california', 'it', 'hr', 'resumes', 'logistics',\n",
    "           'wellhead', 'projects', 'management', 'universities', 'corporate']"
   ],
   "metadata": {
    "id": "mUdQcVG6FykO"
   },
   "execution_count": 12,
   "outputs": []
  },
  {
   "cell_type": "code",
   "source": [
    "df = df[df['X-Folder'].isin(folders)]\n",
    "df"
   ],
   "metadata": {
    "colab": {
     "base_uri": "https://localhost:8080/",
     "height": 614
    },
    "id": "OSd5nBZJGd-2",
    "outputId": "7c96e815-c9c6-4a36-a71e-a9eff211c5ea"
   },
   "execution_count": 13,
   "outputs": [
    {
     "output_type": "execute_result",
     "data": {
      "text/plain": [
       "                                                subject  X-Folder  \\\n",
       "4778                            Dell Order Confirmation  personal   \n",
       "4779                                Brown bag thank you  personal   \n",
       "4780                                  Dell online order  personal   \n",
       "4781    UPDATE - Attendees for brown bags (12/13-12/14)  personal   \n",
       "4782                    Confirmation for Order #3253472  personal   \n",
       "...                                                 ...       ...   \n",
       "482360                                   Singles Debate  personal   \n",
       "482361                                yummy frappachino  personal   \n",
       "482362                                     Re: No Java?  personal   \n",
       "482363                                     Re: No Java?  personal   \n",
       "482364                                         No Java?  personal   \n",
       "\n",
       "                                                     body  \n",
       "4778    Dear JENNIFER S MEDCALF,\\n\\nThank you for your...  \n",
       "4779    Dear Jennifer,\\n\\nThank you for hosting a brow...  \n",
       "4780    >\\n>\\n> DELL & ENRON ClickAtHome ORDER CONFIRM...  \n",
       "4781    I just noticed I missed Jim, who was, of cours...  \n",
       "4782    Hope you are doing well!\\n\\n------------------...  \n",
       "...                                                   ...  \n",
       "482360  Hey check these out dude. The Smashing Pumkins...  \n",
       "482361  Hey let's go get coffee again that was really ...  \n",
       "482362  You are cracking me up. Basically you are the ...  \n",
       "482363  So what's the situation? You swamped? Under pr...  \n",
       "482364  Bill,\\n\\nHow's your day going? You seem busy a...  \n",
       "\n",
       "[8387 rows x 3 columns]"
      ],
      "text/html": [
       "\n",
       "  <div id=\"df-305d230b-3859-4ac6-8af6-20d193ceb5d0\" class=\"colab-df-container\">\n",
       "    <div>\n",
       "<style scoped>\n",
       "    .dataframe tbody tr th:only-of-type {\n",
       "        vertical-align: middle;\n",
       "    }\n",
       "\n",
       "    .dataframe tbody tr th {\n",
       "        vertical-align: top;\n",
       "    }\n",
       "\n",
       "    .dataframe thead th {\n",
       "        text-align: right;\n",
       "    }\n",
       "</style>\n",
       "<table border=\"1\" class=\"dataframe\">\n",
       "  <thead>\n",
       "    <tr style=\"text-align: right;\">\n",
       "      <th></th>\n",
       "      <th>subject</th>\n",
       "      <th>X-Folder</th>\n",
       "      <th>body</th>\n",
       "    </tr>\n",
       "  </thead>\n",
       "  <tbody>\n",
       "    <tr>\n",
       "      <th>4778</th>\n",
       "      <td>Dell Order Confirmation</td>\n",
       "      <td>personal</td>\n",
       "      <td>Dear JENNIFER S MEDCALF,\\n\\nThank you for your...</td>\n",
       "    </tr>\n",
       "    <tr>\n",
       "      <th>4779</th>\n",
       "      <td>Brown bag thank you</td>\n",
       "      <td>personal</td>\n",
       "      <td>Dear Jennifer,\\n\\nThank you for hosting a brow...</td>\n",
       "    </tr>\n",
       "    <tr>\n",
       "      <th>4780</th>\n",
       "      <td>Dell online order</td>\n",
       "      <td>personal</td>\n",
       "      <td>&gt;\\n&gt;\\n&gt; DELL &amp; ENRON ClickAtHome ORDER CONFIRM...</td>\n",
       "    </tr>\n",
       "    <tr>\n",
       "      <th>4781</th>\n",
       "      <td>UPDATE - Attendees for brown bags (12/13-12/14)</td>\n",
       "      <td>personal</td>\n",
       "      <td>I just noticed I missed Jim, who was, of cours...</td>\n",
       "    </tr>\n",
       "    <tr>\n",
       "      <th>4782</th>\n",
       "      <td>Confirmation for Order #3253472</td>\n",
       "      <td>personal</td>\n",
       "      <td>Hope you are doing well!\\n\\n------------------...</td>\n",
       "    </tr>\n",
       "    <tr>\n",
       "      <th>...</th>\n",
       "      <td>...</td>\n",
       "      <td>...</td>\n",
       "      <td>...</td>\n",
       "    </tr>\n",
       "    <tr>\n",
       "      <th>482360</th>\n",
       "      <td>Singles Debate</td>\n",
       "      <td>personal</td>\n",
       "      <td>Hey check these out dude. The Smashing Pumkins...</td>\n",
       "    </tr>\n",
       "    <tr>\n",
       "      <th>482361</th>\n",
       "      <td>yummy frappachino</td>\n",
       "      <td>personal</td>\n",
       "      <td>Hey let's go get coffee again that was really ...</td>\n",
       "    </tr>\n",
       "    <tr>\n",
       "      <th>482362</th>\n",
       "      <td>Re: No Java?</td>\n",
       "      <td>personal</td>\n",
       "      <td>You are cracking me up. Basically you are the ...</td>\n",
       "    </tr>\n",
       "    <tr>\n",
       "      <th>482363</th>\n",
       "      <td>Re: No Java?</td>\n",
       "      <td>personal</td>\n",
       "      <td>So what's the situation? You swamped? Under pr...</td>\n",
       "    </tr>\n",
       "    <tr>\n",
       "      <th>482364</th>\n",
       "      <td>No Java?</td>\n",
       "      <td>personal</td>\n",
       "      <td>Bill,\\n\\nHow's your day going? You seem busy a...</td>\n",
       "    </tr>\n",
       "  </tbody>\n",
       "</table>\n",
       "<p>8387 rows × 3 columns</p>\n",
       "</div>\n",
       "    <div class=\"colab-df-buttons\">\n",
       "\n",
       "  <div class=\"colab-df-container\">\n",
       "    <button class=\"colab-df-convert\" onclick=\"convertToInteractive('df-305d230b-3859-4ac6-8af6-20d193ceb5d0')\"\n",
       "            title=\"Convert this dataframe to an interactive table.\"\n",
       "            style=\"display:none;\">\n",
       "\n",
       "  <svg xmlns=\"http://www.w3.org/2000/svg\" height=\"24px\" viewBox=\"0 -960 960 960\">\n",
       "    <path d=\"M120-120v-720h720v720H120Zm60-500h600v-160H180v160Zm220 220h160v-160H400v160Zm0 220h160v-160H400v160ZM180-400h160v-160H180v160Zm440 0h160v-160H620v160ZM180-180h160v-160H180v160Zm440 0h160v-160H620v160Z\"/>\n",
       "  </svg>\n",
       "    </button>\n",
       "\n",
       "  <style>\n",
       "    .colab-df-container {\n",
       "      display:flex;\n",
       "      gap: 12px;\n",
       "    }\n",
       "\n",
       "    .colab-df-convert {\n",
       "      background-color: #E8F0FE;\n",
       "      border: none;\n",
       "      border-radius: 50%;\n",
       "      cursor: pointer;\n",
       "      display: none;\n",
       "      fill: #1967D2;\n",
       "      height: 32px;\n",
       "      padding: 0 0 0 0;\n",
       "      width: 32px;\n",
       "    }\n",
       "\n",
       "    .colab-df-convert:hover {\n",
       "      background-color: #E2EBFA;\n",
       "      box-shadow: 0px 1px 2px rgba(60, 64, 67, 0.3), 0px 1px 3px 1px rgba(60, 64, 67, 0.15);\n",
       "      fill: #174EA6;\n",
       "    }\n",
       "\n",
       "    .colab-df-buttons div {\n",
       "      margin-bottom: 4px;\n",
       "    }\n",
       "\n",
       "    [theme=dark] .colab-df-convert {\n",
       "      background-color: #3B4455;\n",
       "      fill: #D2E3FC;\n",
       "    }\n",
       "\n",
       "    [theme=dark] .colab-df-convert:hover {\n",
       "      background-color: #434B5C;\n",
       "      box-shadow: 0px 1px 3px 1px rgba(0, 0, 0, 0.15);\n",
       "      filter: drop-shadow(0px 1px 2px rgba(0, 0, 0, 0.3));\n",
       "      fill: #FFFFFF;\n",
       "    }\n",
       "  </style>\n",
       "\n",
       "    <script>\n",
       "      const buttonEl =\n",
       "        document.querySelector('#df-305d230b-3859-4ac6-8af6-20d193ceb5d0 button.colab-df-convert');\n",
       "      buttonEl.style.display =\n",
       "        google.colab.kernel.accessAllowed ? 'block' : 'none';\n",
       "\n",
       "      async function convertToInteractive(key) {\n",
       "        const element = document.querySelector('#df-305d230b-3859-4ac6-8af6-20d193ceb5d0');\n",
       "        const dataTable =\n",
       "          await google.colab.kernel.invokeFunction('convertToInteractive',\n",
       "                                                    [key], {});\n",
       "        if (!dataTable) return;\n",
       "\n",
       "        const docLinkHtml = 'Like what you see? Visit the ' +\n",
       "          '<a target=\"_blank\" href=https://colab.research.google.com/notebooks/data_table.ipynb>data table notebook</a>'\n",
       "          + ' to learn more about interactive tables.';\n",
       "        element.innerHTML = '';\n",
       "        dataTable['output_type'] = 'display_data';\n",
       "        await google.colab.output.renderOutput(dataTable, element);\n",
       "        const docLink = document.createElement('div');\n",
       "        docLink.innerHTML = docLinkHtml;\n",
       "        element.appendChild(docLink);\n",
       "      }\n",
       "    </script>\n",
       "  </div>\n",
       "\n",
       "\n",
       "<div id=\"df-1d96cc0a-ab20-4dc5-8c8e-43a8003140a0\">\n",
       "  <button class=\"colab-df-quickchart\" onclick=\"quickchart('df-1d96cc0a-ab20-4dc5-8c8e-43a8003140a0')\"\n",
       "            title=\"Suggest charts\"\n",
       "            style=\"display:none;\">\n",
       "\n",
       "<svg xmlns=\"http://www.w3.org/2000/svg\" height=\"24px\"viewBox=\"0 0 24 24\"\n",
       "     width=\"24px\">\n",
       "    <g>\n",
       "        <path d=\"M19 3H5c-1.1 0-2 .9-2 2v14c0 1.1.9 2 2 2h14c1.1 0 2-.9 2-2V5c0-1.1-.9-2-2-2zM9 17H7v-7h2v7zm4 0h-2V7h2v10zm4 0h-2v-4h2v4z\"/>\n",
       "    </g>\n",
       "</svg>\n",
       "  </button>\n",
       "\n",
       "<style>\n",
       "  .colab-df-quickchart {\n",
       "      --bg-color: #E8F0FE;\n",
       "      --fill-color: #1967D2;\n",
       "      --hover-bg-color: #E2EBFA;\n",
       "      --hover-fill-color: #174EA6;\n",
       "      --disabled-fill-color: #AAA;\n",
       "      --disabled-bg-color: #DDD;\n",
       "  }\n",
       "\n",
       "  [theme=dark] .colab-df-quickchart {\n",
       "      --bg-color: #3B4455;\n",
       "      --fill-color: #D2E3FC;\n",
       "      --hover-bg-color: #434B5C;\n",
       "      --hover-fill-color: #FFFFFF;\n",
       "      --disabled-bg-color: #3B4455;\n",
       "      --disabled-fill-color: #666;\n",
       "  }\n",
       "\n",
       "  .colab-df-quickchart {\n",
       "    background-color: var(--bg-color);\n",
       "    border: none;\n",
       "    border-radius: 50%;\n",
       "    cursor: pointer;\n",
       "    display: none;\n",
       "    fill: var(--fill-color);\n",
       "    height: 32px;\n",
       "    padding: 0;\n",
       "    width: 32px;\n",
       "  }\n",
       "\n",
       "  .colab-df-quickchart:hover {\n",
       "    background-color: var(--hover-bg-color);\n",
       "    box-shadow: 0 1px 2px rgba(60, 64, 67, 0.3), 0 1px 3px 1px rgba(60, 64, 67, 0.15);\n",
       "    fill: var(--button-hover-fill-color);\n",
       "  }\n",
       "\n",
       "  .colab-df-quickchart-complete:disabled,\n",
       "  .colab-df-quickchart-complete:disabled:hover {\n",
       "    background-color: var(--disabled-bg-color);\n",
       "    fill: var(--disabled-fill-color);\n",
       "    box-shadow: none;\n",
       "  }\n",
       "\n",
       "  .colab-df-spinner {\n",
       "    border: 2px solid var(--fill-color);\n",
       "    border-color: transparent;\n",
       "    border-bottom-color: var(--fill-color);\n",
       "    animation:\n",
       "      spin 1s steps(1) infinite;\n",
       "  }\n",
       "\n",
       "  @keyframes spin {\n",
       "    0% {\n",
       "      border-color: transparent;\n",
       "      border-bottom-color: var(--fill-color);\n",
       "      border-left-color: var(--fill-color);\n",
       "    }\n",
       "    20% {\n",
       "      border-color: transparent;\n",
       "      border-left-color: var(--fill-color);\n",
       "      border-top-color: var(--fill-color);\n",
       "    }\n",
       "    30% {\n",
       "      border-color: transparent;\n",
       "      border-left-color: var(--fill-color);\n",
       "      border-top-color: var(--fill-color);\n",
       "      border-right-color: var(--fill-color);\n",
       "    }\n",
       "    40% {\n",
       "      border-color: transparent;\n",
       "      border-right-color: var(--fill-color);\n",
       "      border-top-color: var(--fill-color);\n",
       "    }\n",
       "    60% {\n",
       "      border-color: transparent;\n",
       "      border-right-color: var(--fill-color);\n",
       "    }\n",
       "    80% {\n",
       "      border-color: transparent;\n",
       "      border-right-color: var(--fill-color);\n",
       "      border-bottom-color: var(--fill-color);\n",
       "    }\n",
       "    90% {\n",
       "      border-color: transparent;\n",
       "      border-bottom-color: var(--fill-color);\n",
       "    }\n",
       "  }\n",
       "</style>\n",
       "\n",
       "  <script>\n",
       "    async function quickchart(key) {\n",
       "      const quickchartButtonEl =\n",
       "        document.querySelector('#' + key + ' button');\n",
       "      quickchartButtonEl.disabled = true;  // To prevent multiple clicks.\n",
       "      quickchartButtonEl.classList.add('colab-df-spinner');\n",
       "      try {\n",
       "        const charts = await google.colab.kernel.invokeFunction(\n",
       "            'suggestCharts', [key], {});\n",
       "      } catch (error) {\n",
       "        console.error('Error during call to suggestCharts:', error);\n",
       "      }\n",
       "      quickchartButtonEl.classList.remove('colab-df-spinner');\n",
       "      quickchartButtonEl.classList.add('colab-df-quickchart-complete');\n",
       "    }\n",
       "    (() => {\n",
       "      let quickchartButtonEl =\n",
       "        document.querySelector('#df-1d96cc0a-ab20-4dc5-8c8e-43a8003140a0 button');\n",
       "      quickchartButtonEl.style.display =\n",
       "        google.colab.kernel.accessAllowed ? 'block' : 'none';\n",
       "    })();\n",
       "  </script>\n",
       "</div>\n",
       "    </div>\n",
       "  </div>\n"
      ],
      "application/vnd.google.colaboratory.intrinsic+json": {
       "type": "dataframe",
       "variable_name": "df",
       "summary": "{\n  \"name\": \"df\",\n  \"rows\": 8387,\n  \"fields\": [\n    {\n      \"column\": \"subject\",\n      \"properties\": {\n        \"dtype\": \"string\",\n        \"num_unique_values\": 6588,\n        \"samples\": [\n          \"Re: Video Conference Scheduling\",\n          \"Request Submitted: Access Request for jeremy.waggenspack@enron.com\",\n          \"Re: Revised Nomination - June, 2000\"\n        ],\n        \"semantic_type\": \"\",\n        \"description\": \"\"\n      }\n    },\n    {\n      \"column\": \"X-Folder\",\n      \"properties\": {\n        \"dtype\": \"category\",\n        \"num_unique_values\": 11,\n        \"samples\": [\n          \"logistics\",\n          \"personal\",\n          \"universities\"\n        ],\n        \"semantic_type\": \"\",\n        \"description\": \"\"\n      }\n    },\n    {\n      \"column\": \"body\",\n      \"properties\": {\n        \"dtype\": \"string\",\n        \"num_unique_values\": 8150,\n        \"samples\": [\n          \"Look what I found at jobsearch.monster.com.  I thought this might help you\\nwith your job searching.\\n\\nhttp://jobsearch.monster.com/getjob.asp?JobID=11822864\\nComments:\\nKnow anyone looking for this?\\n----------------------------------------------------------------------\",\n          \"FYI - (No reply necessary)\\n\\nI have a new pager number (It does NOT require a Pin #). Please note the new\\nnumber and make changes to contacts sheets if necessary\\n\\nOld: 800-759-7243 Pin#2377872\\n\\nNew: 877-502-9986\\n\\nThanks\\nTrey\\n\",\n          \"\\nA very nice note and a very nice gesture.  By the way, none of my anger is =\\ndirected toward you or anybody in our group.  You've always handled the goo=\\nd times with dignity and compassion, and you're handling the bad times equa=\\nlly well.  If only there were more people with your integrity and drive for=\\n personal excellence at the top of this organization....\\n\\n\\n -----Original Message-----\\nFrom: =09Dernehl, Ginger   On Behalf Of Shapiro, Richard\\nSent:=09Wednesday, October 31, 2001 8:03 AM\\nTo:=09Alamo, Joseph; Allegretti, Daniel; Allen, Joe; Alvarez, Ramon; Ausenh=\\nus, Kara; Barnes, Lynnette; Bellas, Kirsten; Binns, Darran; Bolton, Scott; =\\nBoston, Roy; Buerger, Rubena; Burns, Stephen; Canovas, Guillermo; Cantrell,=\\n Rebecca W.; Comnes, Alan; Connor, Joe; Cooney, Carolyn; Dasovich, Jeff; De=\\ncker, Larry; Dernehl, Ginger; Dressler, Jean; Floris, Vinio; Frank, Robert;=\\n Fromer, Howard; Fulton, Donna; Gottfredson, Bryan; Guerrero, Janel; Hamilt=\\non, Allison; Hardy Jr, John; Hartfield, Rita; Hawkins, Bernadette; Hemstock=\\n, Robert; Hetrick, Nancy; Hoatson, Tom; Hueter, Barbara A.; Hunter, Bevin; =\\nHuson, Margaret; Ibrahim, Amr; Kaufman, Paul; Kean, Steven J.; Keene, Patri=\\nck; Kingerski, Harry; Kishigami, Kikumi; Knight, Laurie; Landwehr, Susan M.=\\n; Lassere, Donald; Lawner, Leslie; Lawrence, Linda L.; Leibman, Lara; Leona=\\nrdo, Sam; Levy, Alberto; Lindberg, Susan; Linnell, Elizabeth; Long, Chris; =\\nMara, Susan; Maurer, Luiz; McVicker, Maureen; Migden, Janine; Miller, Terri=\\n; Montovano, Steve; Moore, Bill; Nersesian, Carin; Neustaedter, Robert; Nic=\\nolay, Christi L.; Nord, Sue; Noske, Linda J.; Novosel, Sarah; O'connell, Ea=\\nrlene; Ogenyi, Gloria; Palmer, Germain; Perez, Carmen; Perez, Gus; Perrino,=\\n Dave; Petrochko, Mona L.; Pharms, Melinda; Reyna, Margo; Rishe, Frank; Riz=\\nzo, Helen; Roan, Michael; Robertson, Linda; Robinson, Marchris; Rodriquez, =\\nAndy; Ryall, Jean; Shapiro, Richard; Shelk, John; Shortridge, Pat; Staines,=\\n Dan; Steffes, James D.; Stephens, Sharonda; Stransky, Joan; Stroup, Kerry;=\\n Stubbings, Randy; Sullivan, Kathleen; Sullivan, Lora; Thome, Jennifer; Tib=\\neri, Fino; Twiggs, Thane; Walton, Steve; Warner, Geriann; Yeung, Charles; Y=\\noho, Lisa\\nSubject:=09Halloween\\nImportance:=09High\\n\\n\\n\\n              I'd encourage everyone in the group to leave early today, if =\\nyou so desire,  in order to more fully enjoy celebrating Halloween with fam=\\nilies and friends. Thanks also  for your continued support and dedication d=\\nuring these difficult times - It is noticed and much appreciated.  Enjoy Ha=\\nlloween!\"\n        ],\n        \"semantic_type\": \"\",\n        \"description\": \"\"\n      }\n    }\n  ]\n}"
      }
     },
     "metadata": {},
     "execution_count": 13
    }
   ]
  },
  {
   "cell_type": "code",
   "source": [
    "df['text'] = df['subject'] + \" \" + df['body']"
   ],
   "metadata": {
    "id": "gfD_IFp-j2-1"
   },
   "execution_count": 14,
   "outputs": []
  },
  {
   "cell_type": "code",
   "source": [
    "# drop the columns 'subject' and 'body'\n",
    "df.drop(['subject','body'], axis=1, inplace=True)"
   ],
   "metadata": {
    "id": "c5JcOdntj5Lc"
   },
   "execution_count": 15,
   "outputs": []
  },
  {
   "cell_type": "code",
   "source": [
    "def preprocess(x):\n",
    "    # lowercasing all the words\n",
    "    x = x.lower()\n",
    "\n",
    "    # remove extra new lines\n",
    "    x = re.sub(r'\\n+', ' ', x)\n",
    "\n",
    "    # removing (replacing with empty spaces actually) all the punctuations\n",
    "    x = re.sub(\"[\"+string.punctuation+\"]\", \" \", x)\n",
    "\n",
    "    # remove extra white spaces\n",
    "    x = re.sub(r'\\s+', ' ', x)\n",
    "\n",
    "    return x"
   ],
   "metadata": {
    "id": "q7bI2Sypj-XY"
   },
   "execution_count": 16,
   "outputs": []
  },
  {
   "cell_type": "code",
   "source": [
    "start = time.time()\n",
    "df.loc[:,'text'] = df.loc[:, 'text'].map(preprocess)\n",
    "\n",
    "# remove stopwords\n",
    "df.loc[:, 'text'] = df.loc[:, 'text'].apply(lambda x: ' '.join([word for word in x.split() if word not in stop]))\n",
    "end = time.time()\n",
    "print(\"Execution time (sec): \",(end - start))"
   ],
   "metadata": {
    "colab": {
     "base_uri": "https://localhost:8080/"
    },
    "id": "F4CFZGFKkBRi",
    "outputId": "9400f8bd-df35-411f-e82b-f316c37f675d"
   },
   "execution_count": 17,
   "outputs": [
    {
     "output_type": "stream",
     "name": "stdout",
     "text": [
      "Execution time (sec):  9.011458158493042\n"
     ]
    }
   ]
  },
  {
   "cell_type": "code",
   "source": [
    "def label_encoder(data):\n",
    "    class_le = LabelEncoder()\n",
    "    # apply label encoder on the 'X-Folder' column\n",
    "    y = class_le.fit_transform(data['X-Folder'])\n",
    "    return y"
   ],
   "metadata": {
    "id": "E6Fh1FZ643K7"
   },
   "execution_count": 18,
   "outputs": []
  },
  {
   "cell_type": "code",
   "source": [
    "y = label_encoder(df)\n",
    "input_data = df['text']"
   ],
   "metadata": {
    "id": "JYJM5jVyme_y"
   },
   "execution_count": 19,
   "outputs": []
  },
  {
   "cell_type": "code",
   "source": [
    "start = time.time()\n",
    "folders_dict = dict(df['X-Folder'].value_counts().sort_values()[50:70])\n",
    "data = df[df['X-Folder'].isin(folders_dict.keys())]\n",
    "end = time.time()\n",
    "print(\"Execution time (sec): \",(end - start))"
   ],
   "metadata": {
    "id": "aXfL_hzNkD2U",
    "colab": {
     "base_uri": "https://localhost:8080/"
    },
    "outputId": "efc10045-8fdf-424d-8202-7171c2765b31"
   },
   "execution_count": 20,
   "outputs": [
    {
     "output_type": "stream",
     "name": "stdout",
     "text": [
      "Execution time (sec):  0.002518892288208008\n"
     ]
    }
   ]
  },
  {
   "cell_type": "code",
   "source": [
    "email_count = dict(df['X-Folder'].value_counts())\n",
    "email_count_df = pd.DataFrame(data=email_count.items(), columns=['folder_name', 'count'])\n",
    "email_count_df"
   ],
   "metadata": {
    "colab": {
     "base_uri": "https://localhost:8080/",
     "height": 394
    },
    "id": "jK9dZF4eutw6",
    "outputId": "9155a672-0c41-4c37-f8d2-a1d223a52f80"
   },
   "execution_count": 21,
   "outputs": [
    {
     "output_type": "execute_result",
     "data": {
      "text/plain": [
       "     folder_name  count\n",
       "0       personal   2485\n",
       "1      logistics   1170\n",
       "2     california   1014\n",
       "3     management    799\n",
       "4        resumes    599\n",
       "5       projects    459\n",
       "6      corporate    420\n",
       "7             hr    389\n",
       "8   universities    359\n",
       "9             it    358\n",
       "10      wellhead    335"
      ],
      "text/html": [
       "\n",
       "  <div id=\"df-94d10a74-387b-436d-a316-3aa4cce785cb\" class=\"colab-df-container\">\n",
       "    <div>\n",
       "<style scoped>\n",
       "    .dataframe tbody tr th:only-of-type {\n",
       "        vertical-align: middle;\n",
       "    }\n",
       "\n",
       "    .dataframe tbody tr th {\n",
       "        vertical-align: top;\n",
       "    }\n",
       "\n",
       "    .dataframe thead th {\n",
       "        text-align: right;\n",
       "    }\n",
       "</style>\n",
       "<table border=\"1\" class=\"dataframe\">\n",
       "  <thead>\n",
       "    <tr style=\"text-align: right;\">\n",
       "      <th></th>\n",
       "      <th>folder_name</th>\n",
       "      <th>count</th>\n",
       "    </tr>\n",
       "  </thead>\n",
       "  <tbody>\n",
       "    <tr>\n",
       "      <th>0</th>\n",
       "      <td>personal</td>\n",
       "      <td>2485</td>\n",
       "    </tr>\n",
       "    <tr>\n",
       "      <th>1</th>\n",
       "      <td>logistics</td>\n",
       "      <td>1170</td>\n",
       "    </tr>\n",
       "    <tr>\n",
       "      <th>2</th>\n",
       "      <td>california</td>\n",
       "      <td>1014</td>\n",
       "    </tr>\n",
       "    <tr>\n",
       "      <th>3</th>\n",
       "      <td>management</td>\n",
       "      <td>799</td>\n",
       "    </tr>\n",
       "    <tr>\n",
       "      <th>4</th>\n",
       "      <td>resumes</td>\n",
       "      <td>599</td>\n",
       "    </tr>\n",
       "    <tr>\n",
       "      <th>5</th>\n",
       "      <td>projects</td>\n",
       "      <td>459</td>\n",
       "    </tr>\n",
       "    <tr>\n",
       "      <th>6</th>\n",
       "      <td>corporate</td>\n",
       "      <td>420</td>\n",
       "    </tr>\n",
       "    <tr>\n",
       "      <th>7</th>\n",
       "      <td>hr</td>\n",
       "      <td>389</td>\n",
       "    </tr>\n",
       "    <tr>\n",
       "      <th>8</th>\n",
       "      <td>universities</td>\n",
       "      <td>359</td>\n",
       "    </tr>\n",
       "    <tr>\n",
       "      <th>9</th>\n",
       "      <td>it</td>\n",
       "      <td>358</td>\n",
       "    </tr>\n",
       "    <tr>\n",
       "      <th>10</th>\n",
       "      <td>wellhead</td>\n",
       "      <td>335</td>\n",
       "    </tr>\n",
       "  </tbody>\n",
       "</table>\n",
       "</div>\n",
       "    <div class=\"colab-df-buttons\">\n",
       "\n",
       "  <div class=\"colab-df-container\">\n",
       "    <button class=\"colab-df-convert\" onclick=\"convertToInteractive('df-94d10a74-387b-436d-a316-3aa4cce785cb')\"\n",
       "            title=\"Convert this dataframe to an interactive table.\"\n",
       "            style=\"display:none;\">\n",
       "\n",
       "  <svg xmlns=\"http://www.w3.org/2000/svg\" height=\"24px\" viewBox=\"0 -960 960 960\">\n",
       "    <path d=\"M120-120v-720h720v720H120Zm60-500h600v-160H180v160Zm220 220h160v-160H400v160Zm0 220h160v-160H400v160ZM180-400h160v-160H180v160Zm440 0h160v-160H620v160ZM180-180h160v-160H180v160Zm440 0h160v-160H620v160Z\"/>\n",
       "  </svg>\n",
       "    </button>\n",
       "\n",
       "  <style>\n",
       "    .colab-df-container {\n",
       "      display:flex;\n",
       "      gap: 12px;\n",
       "    }\n",
       "\n",
       "    .colab-df-convert {\n",
       "      background-color: #E8F0FE;\n",
       "      border: none;\n",
       "      border-radius: 50%;\n",
       "      cursor: pointer;\n",
       "      display: none;\n",
       "      fill: #1967D2;\n",
       "      height: 32px;\n",
       "      padding: 0 0 0 0;\n",
       "      width: 32px;\n",
       "    }\n",
       "\n",
       "    .colab-df-convert:hover {\n",
       "      background-color: #E2EBFA;\n",
       "      box-shadow: 0px 1px 2px rgba(60, 64, 67, 0.3), 0px 1px 3px 1px rgba(60, 64, 67, 0.15);\n",
       "      fill: #174EA6;\n",
       "    }\n",
       "\n",
       "    .colab-df-buttons div {\n",
       "      margin-bottom: 4px;\n",
       "    }\n",
       "\n",
       "    [theme=dark] .colab-df-convert {\n",
       "      background-color: #3B4455;\n",
       "      fill: #D2E3FC;\n",
       "    }\n",
       "\n",
       "    [theme=dark] .colab-df-convert:hover {\n",
       "      background-color: #434B5C;\n",
       "      box-shadow: 0px 1px 3px 1px rgba(0, 0, 0, 0.15);\n",
       "      filter: drop-shadow(0px 1px 2px rgba(0, 0, 0, 0.3));\n",
       "      fill: #FFFFFF;\n",
       "    }\n",
       "  </style>\n",
       "\n",
       "    <script>\n",
       "      const buttonEl =\n",
       "        document.querySelector('#df-94d10a74-387b-436d-a316-3aa4cce785cb button.colab-df-convert');\n",
       "      buttonEl.style.display =\n",
       "        google.colab.kernel.accessAllowed ? 'block' : 'none';\n",
       "\n",
       "      async function convertToInteractive(key) {\n",
       "        const element = document.querySelector('#df-94d10a74-387b-436d-a316-3aa4cce785cb');\n",
       "        const dataTable =\n",
       "          await google.colab.kernel.invokeFunction('convertToInteractive',\n",
       "                                                    [key], {});\n",
       "        if (!dataTable) return;\n",
       "\n",
       "        const docLinkHtml = 'Like what you see? Visit the ' +\n",
       "          '<a target=\"_blank\" href=https://colab.research.google.com/notebooks/data_table.ipynb>data table notebook</a>'\n",
       "          + ' to learn more about interactive tables.';\n",
       "        element.innerHTML = '';\n",
       "        dataTable['output_type'] = 'display_data';\n",
       "        await google.colab.output.renderOutput(dataTable, element);\n",
       "        const docLink = document.createElement('div');\n",
       "        docLink.innerHTML = docLinkHtml;\n",
       "        element.appendChild(docLink);\n",
       "      }\n",
       "    </script>\n",
       "  </div>\n",
       "\n",
       "\n",
       "<div id=\"df-3a169bad-1671-4b27-85c9-582a8d5f5706\">\n",
       "  <button class=\"colab-df-quickchart\" onclick=\"quickchart('df-3a169bad-1671-4b27-85c9-582a8d5f5706')\"\n",
       "            title=\"Suggest charts\"\n",
       "            style=\"display:none;\">\n",
       "\n",
       "<svg xmlns=\"http://www.w3.org/2000/svg\" height=\"24px\"viewBox=\"0 0 24 24\"\n",
       "     width=\"24px\">\n",
       "    <g>\n",
       "        <path d=\"M19 3H5c-1.1 0-2 .9-2 2v14c0 1.1.9 2 2 2h14c1.1 0 2-.9 2-2V5c0-1.1-.9-2-2-2zM9 17H7v-7h2v7zm4 0h-2V7h2v10zm4 0h-2v-4h2v4z\"/>\n",
       "    </g>\n",
       "</svg>\n",
       "  </button>\n",
       "\n",
       "<style>\n",
       "  .colab-df-quickchart {\n",
       "      --bg-color: #E8F0FE;\n",
       "      --fill-color: #1967D2;\n",
       "      --hover-bg-color: #E2EBFA;\n",
       "      --hover-fill-color: #174EA6;\n",
       "      --disabled-fill-color: #AAA;\n",
       "      --disabled-bg-color: #DDD;\n",
       "  }\n",
       "\n",
       "  [theme=dark] .colab-df-quickchart {\n",
       "      --bg-color: #3B4455;\n",
       "      --fill-color: #D2E3FC;\n",
       "      --hover-bg-color: #434B5C;\n",
       "      --hover-fill-color: #FFFFFF;\n",
       "      --disabled-bg-color: #3B4455;\n",
       "      --disabled-fill-color: #666;\n",
       "  }\n",
       "\n",
       "  .colab-df-quickchart {\n",
       "    background-color: var(--bg-color);\n",
       "    border: none;\n",
       "    border-radius: 50%;\n",
       "    cursor: pointer;\n",
       "    display: none;\n",
       "    fill: var(--fill-color);\n",
       "    height: 32px;\n",
       "    padding: 0;\n",
       "    width: 32px;\n",
       "  }\n",
       "\n",
       "  .colab-df-quickchart:hover {\n",
       "    background-color: var(--hover-bg-color);\n",
       "    box-shadow: 0 1px 2px rgba(60, 64, 67, 0.3), 0 1px 3px 1px rgba(60, 64, 67, 0.15);\n",
       "    fill: var(--button-hover-fill-color);\n",
       "  }\n",
       "\n",
       "  .colab-df-quickchart-complete:disabled,\n",
       "  .colab-df-quickchart-complete:disabled:hover {\n",
       "    background-color: var(--disabled-bg-color);\n",
       "    fill: var(--disabled-fill-color);\n",
       "    box-shadow: none;\n",
       "  }\n",
       "\n",
       "  .colab-df-spinner {\n",
       "    border: 2px solid var(--fill-color);\n",
       "    border-color: transparent;\n",
       "    border-bottom-color: var(--fill-color);\n",
       "    animation:\n",
       "      spin 1s steps(1) infinite;\n",
       "  }\n",
       "\n",
       "  @keyframes spin {\n",
       "    0% {\n",
       "      border-color: transparent;\n",
       "      border-bottom-color: var(--fill-color);\n",
       "      border-left-color: var(--fill-color);\n",
       "    }\n",
       "    20% {\n",
       "      border-color: transparent;\n",
       "      border-left-color: var(--fill-color);\n",
       "      border-top-color: var(--fill-color);\n",
       "    }\n",
       "    30% {\n",
       "      border-color: transparent;\n",
       "      border-left-color: var(--fill-color);\n",
       "      border-top-color: var(--fill-color);\n",
       "      border-right-color: var(--fill-color);\n",
       "    }\n",
       "    40% {\n",
       "      border-color: transparent;\n",
       "      border-right-color: var(--fill-color);\n",
       "      border-top-color: var(--fill-color);\n",
       "    }\n",
       "    60% {\n",
       "      border-color: transparent;\n",
       "      border-right-color: var(--fill-color);\n",
       "    }\n",
       "    80% {\n",
       "      border-color: transparent;\n",
       "      border-right-color: var(--fill-color);\n",
       "      border-bottom-color: var(--fill-color);\n",
       "    }\n",
       "    90% {\n",
       "      border-color: transparent;\n",
       "      border-bottom-color: var(--fill-color);\n",
       "    }\n",
       "  }\n",
       "</style>\n",
       "\n",
       "  <script>\n",
       "    async function quickchart(key) {\n",
       "      const quickchartButtonEl =\n",
       "        document.querySelector('#' + key + ' button');\n",
       "      quickchartButtonEl.disabled = true;  // To prevent multiple clicks.\n",
       "      quickchartButtonEl.classList.add('colab-df-spinner');\n",
       "      try {\n",
       "        const charts = await google.colab.kernel.invokeFunction(\n",
       "            'suggestCharts', [key], {});\n",
       "      } catch (error) {\n",
       "        console.error('Error during call to suggestCharts:', error);\n",
       "      }\n",
       "      quickchartButtonEl.classList.remove('colab-df-spinner');\n",
       "      quickchartButtonEl.classList.add('colab-df-quickchart-complete');\n",
       "    }\n",
       "    (() => {\n",
       "      let quickchartButtonEl =\n",
       "        document.querySelector('#df-3a169bad-1671-4b27-85c9-582a8d5f5706 button');\n",
       "      quickchartButtonEl.style.display =\n",
       "        google.colab.kernel.accessAllowed ? 'block' : 'none';\n",
       "    })();\n",
       "  </script>\n",
       "</div>\n",
       "    </div>\n",
       "  </div>\n"
      ],
      "application/vnd.google.colaboratory.intrinsic+json": {
       "type": "dataframe",
       "variable_name": "email_count_df",
       "summary": "{\n  \"name\": \"email_count_df\",\n  \"rows\": 11,\n  \"fields\": [\n    {\n      \"column\": \"folder_name\",\n      \"properties\": {\n        \"dtype\": \"string\",\n        \"num_unique_values\": 11,\n        \"samples\": [\n          \"projects\",\n          \"personal\",\n          \"it\"\n        ],\n        \"semantic_type\": \"\",\n        \"description\": \"\"\n      }\n    },\n    {\n      \"column\": \"count\",\n      \"properties\": {\n        \"dtype\": \"number\",\n        \"std\": 638,\n        \"min\": 335,\n        \"max\": 2485,\n        \"num_unique_values\": 11,\n        \"samples\": [\n          459,\n          2485,\n          358\n        ],\n        \"semantic_type\": \"\",\n        \"description\": \"\"\n      }\n    }\n  ]\n}"
      }
     },
     "metadata": {},
     "execution_count": 21
    }
   ]
  },
  {
   "cell_type": "code",
   "source": [
    "plt.figure(figsize=(10,6))\n",
    "sns.barplot(x='count', y='folder_name', data=email_count_df, palette=\"Blues_d\")\n",
    "plt.title(\"Top 20 folders\")\n",
    "plt.xlabel(\"Count\")\n",
    "plt.ylabel(\"Folder_Name\")\n",
    "plt.show()"
   ],
   "metadata": {
    "colab": {
     "base_uri": "https://localhost:8080/",
     "height": 508
    },
    "id": "cgEN6iLJsraO",
    "outputId": "88136f6f-b92d-48e8-da0d-a06595d50ed6"
   },
   "execution_count": 22,
   "outputs": [
    {
     "output_type": "stream",
     "name": "stderr",
     "text": [
      "<ipython-input-22-e357c0456c17>:2: FutureWarning: \n",
      "\n",
      "Passing `palette` without assigning `hue` is deprecated and will be removed in v0.14.0. Assign the `y` variable to `hue` and set `legend=False` for the same effect.\n",
      "\n",
      "  sns.barplot(x='count', y='folder_name', data=email_count_df, palette=\"Blues_d\")\n"
     ]
    },
    {
     "output_type": "display_data",
     "data": {
      "text/plain": [
       "<Figure size 1000x600 with 1 Axes>"
      ],
      "image/png": "[encoded data removed]"
     },
     "metadata": {}
    }
   ]
  },
  {
   "cell_type": "code",
   "source": [
    "df.head()"
   ],
   "metadata": {
    "colab": {
     "base_uri": "https://localhost:8080/",
     "height": 206
    },
    "id": "-fMmkM2zK_fX",
    "outputId": "816f7136-3ac1-4854-dffd-a157562652fd"
   },
   "execution_count": 23,
   "outputs": [
    {
     "output_type": "execute_result",
     "data": {
      "text/plain": [
       "      X-Folder                                               text\n",
       "4778  personal  dell order confirmation dear jennifer medcalf ...\n",
       "4779  personal  brown bag thank dear jennifer thank hosting br...\n",
       "4780  personal  dell online order dell enron clickathome order...\n",
       "4781  personal  update attendees brown bags 12 13 12 14 notice...\n",
       "4782  personal  confirmation order 3253472 hope well forwarded..."
      ],
      "text/html": [
       "\n",
       "  <div id=\"df-443c4cdb-1b3d-4d86-bba9-20a44518c3d9\" class=\"colab-df-container\">\n",
       "    <div>\n",
       "<style scoped>\n",
       "    .dataframe tbody tr th:only-of-type {\n",
       "        vertical-align: middle;\n",
       "    }\n",
       "\n",
       "    .dataframe tbody tr th {\n",
       "        vertical-align: top;\n",
       "    }\n",
       "\n",
       "    .dataframe thead th {\n",
       "        text-align: right;\n",
       "    }\n",
       "</style>\n",
       "<table border=\"1\" class=\"dataframe\">\n",
       "  <thead>\n",
       "    <tr style=\"text-align: right;\">\n",
       "      <th></th>\n",
       "      <th>X-Folder</th>\n",
       "      <th>text</th>\n",
       "    </tr>\n",
       "  </thead>\n",
       "  <tbody>\n",
       "    <tr>\n",
       "      <th>4778</th>\n",
       "      <td>personal</td>\n",
       "      <td>dell order confirmation dear jennifer medcalf ...</td>\n",
       "    </tr>\n",
       "    <tr>\n",
       "      <th>4779</th>\n",
       "      <td>personal</td>\n",
       "      <td>brown bag thank dear jennifer thank hosting br...</td>\n",
       "    </tr>\n",
       "    <tr>\n",
       "      <th>4780</th>\n",
       "      <td>personal</td>\n",
       "      <td>dell online order dell enron clickathome order...</td>\n",
       "    </tr>\n",
       "    <tr>\n",
       "      <th>4781</th>\n",
       "      <td>personal</td>\n",
       "      <td>update attendees brown bags 12 13 12 14 notice...</td>\n",
       "    </tr>\n",
       "    <tr>\n",
       "      <th>4782</th>\n",
       "      <td>personal</td>\n",
       "      <td>confirmation order 3253472 hope well forwarded...</td>\n",
       "    </tr>\n",
       "  </tbody>\n",
       "</table>\n",
       "</div>\n",
       "    <div class=\"colab-df-buttons\">\n",
       "\n",
       "  <div class=\"colab-df-container\">\n",
       "    <button class=\"colab-df-convert\" onclick=\"convertToInteractive('df-443c4cdb-1b3d-4d86-bba9-20a44518c3d9')\"\n",
       "            title=\"Convert this dataframe to an interactive table.\"\n",
       "            style=\"display:none;\">\n",
       "\n",
       "  <svg xmlns=\"http://www.w3.org/2000/svg\" height=\"24px\" viewBox=\"0 -960 960 960\">\n",
       "    <path d=\"M120-120v-720h720v720H120Zm60-500h600v-160H180v160Zm220 220h160v-160H400v160Zm0 220h160v-160H400v160ZM180-400h160v-160H180v160Zm440 0h160v-160H620v160ZM180-180h160v-160H180v160Zm440 0h160v-160H620v160Z\"/>\n",
       "  </svg>\n",
       "    </button>\n",
       "\n",
       "  <style>\n",
       "    .colab-df-container {\n",
       "      display:flex;\n",
       "      gap: 12px;\n",
       "    }\n",
       "\n",
       "    .colab-df-convert {\n",
       "      background-color: #E8F0FE;\n",
       "      border: none;\n",
       "      border-radius: 50%;\n",
       "      cursor: pointer;\n",
       "      display: none;\n",
       "      fill: #1967D2;\n",
       "      height: 32px;\n",
       "      padding: 0 0 0 0;\n",
       "      width: 32px;\n",
       "    }\n",
       "\n",
       "    .colab-df-convert:hover {\n",
       "      background-color: #E2EBFA;\n",
       "      box-shadow: 0px 1px 2px rgba(60, 64, 67, 0.3), 0px 1px 3px 1px rgba(60, 64, 67, 0.15);\n",
       "      fill: #174EA6;\n",
       "    }\n",
       "\n",
       "    .colab-df-buttons div {\n",
       "      margin-bottom: 4px;\n",
       "    }\n",
       "\n",
       "    [theme=dark] .colab-df-convert {\n",
       "      background-color: #3B4455;\n",
       "      fill: #D2E3FC;\n",
       "    }\n",
       "\n",
       "    [theme=dark] .colab-df-convert:hover {\n",
       "      background-color: #434B5C;\n",
       "      box-shadow: 0px 1px 3px 1px rgba(0, 0, 0, 0.15);\n",
       "      filter: drop-shadow(0px 1px 2px rgba(0, 0, 0, 0.3));\n",
       "      fill: #FFFFFF;\n",
       "    }\n",
       "  </style>\n",
       "\n",
       "    <script>\n",
       "      const buttonEl =\n",
       "        document.querySelector('#df-443c4cdb-1b3d-4d86-bba9-20a44518c3d9 button.colab-df-convert');\n",
       "      buttonEl.style.display =\n",
       "        google.colab.kernel.accessAllowed ? 'block' : 'none';\n",
       "\n",
       "      async function convertToInteractive(key) {\n",
       "        const element = document.querySelector('#df-443c4cdb-1b3d-4d86-bba9-20a44518c3d9');\n",
       "        const dataTable =\n",
       "          await google.colab.kernel.invokeFunction('convertToInteractive',\n",
       "                                                    [key], {});\n",
       "        if (!dataTable) return;\n",
       "\n",
       "        const docLinkHtml = 'Like what you see? Visit the ' +\n",
       "          '<a target=\"_blank\" href=https://colab.research.google.com/notebooks/data_table.ipynb>data table notebook</a>'\n",
       "          + ' to learn more about interactive tables.';\n",
       "        element.innerHTML = '';\n",
       "        dataTable['output_type'] = 'display_data';\n",
       "        await google.colab.output.renderOutput(dataTable, element);\n",
       "        const docLink = document.createElement('div');\n",
       "        docLink.innerHTML = docLinkHtml;\n",
       "        element.appendChild(docLink);\n",
       "      }\n",
       "    </script>\n",
       "  </div>\n",
       "\n",
       "\n",
       "<div id=\"df-a20864ca-6e26-47e1-98a6-38a811512c67\">\n",
       "  <button class=\"colab-df-quickchart\" onclick=\"quickchart('df-a20864ca-6e26-47e1-98a6-38a811512c67')\"\n",
       "            title=\"Suggest charts\"\n",
       "            style=\"display:none;\">\n",
       "\n",
       "<svg xmlns=\"http://www.w3.org/2000/svg\" height=\"24px\"viewBox=\"0 0 24 24\"\n",
       "     width=\"24px\">\n",
       "    <g>\n",
       "        <path d=\"M19 3H5c-1.1 0-2 .9-2 2v14c0 1.1.9 2 2 2h14c1.1 0 2-.9 2-2V5c0-1.1-.9-2-2-2zM9 17H7v-7h2v7zm4 0h-2V7h2v10zm4 0h-2v-4h2v4z\"/>\n",
       "    </g>\n",
       "</svg>\n",
       "  </button>\n",
       "\n",
       "<style>\n",
       "  .colab-df-quickchart {\n",
       "      --bg-color: #E8F0FE;\n",
       "      --fill-color: #1967D2;\n",
       "      --hover-bg-color: #E2EBFA;\n",
       "      --hover-fill-color: #174EA6;\n",
       "      --disabled-fill-color: #AAA;\n",
       "      --disabled-bg-color: #DDD;\n",
       "  }\n",
       "\n",
       "  [theme=dark] .colab-df-quickchart {\n",
       "      --bg-color: #3B4455;\n",
       "      --fill-color: #D2E3FC;\n",
       "      --hover-bg-color: #434B5C;\n",
       "      --hover-fill-color: #FFFFFF;\n",
       "      --disabled-bg-color: #3B4455;\n",
       "      --disabled-fill-color: #666;\n",
       "  }\n",
       "\n",
       "  .colab-df-quickchart {\n",
       "    background-color: var(--bg-color);\n",
       "    border: none;\n",
       "    border-radius: 50%;\n",
       "    cursor: pointer;\n",
       "    display: none;\n",
       "    fill: var(--fill-color);\n",
       "    height: 32px;\n",
       "    padding: 0;\n",
       "    width: 32px;\n",
       "  }\n",
       "\n",
       "  .colab-df-quickchart:hover {\n",
       "    background-color: var(--hover-bg-color);\n",
       "    box-shadow: 0 1px 2px rgba(60, 64, 67, 0.3), 0 1px 3px 1px rgba(60, 64, 67, 0.15);\n",
       "    fill: var(--button-hover-fill-color);\n",
       "  }\n",
       "\n",
       "  .colab-df-quickchart-complete:disabled,\n",
       "  .colab-df-quickchart-complete:disabled:hover {\n",
       "    background-color: var(--disabled-bg-color);\n",
       "    fill: var(--disabled-fill-color);\n",
       "    box-shadow: none;\n",
       "  }\n",
       "\n",
       "  .colab-df-spinner {\n",
       "    border: 2px solid var(--fill-color);\n",
       "    border-color: transparent;\n",
       "    border-bottom-color: var(--fill-color);\n",
       "    animation:\n",
       "      spin 1s steps(1) infinite;\n",
       "  }\n",
       "\n",
       "  @keyframes spin {\n",
       "    0% {\n",
       "      border-color: transparent;\n",
       "      border-bottom-color: var(--fill-color);\n",
       "      border-left-color: var(--fill-color);\n",
       "    }\n",
       "    20% {\n",
       "      border-color: transparent;\n",
       "      border-left-color: var(--fill-color);\n",
       "      border-top-color: var(--fill-color);\n",
       "    }\n",
       "    30% {\n",
       "      border-color: transparent;\n",
       "      border-left-color: var(--fill-color);\n",
       "      border-top-color: var(--fill-color);\n",
       "      border-right-color: var(--fill-color);\n",
       "    }\n",
       "    40% {\n",
       "      border-color: transparent;\n",
       "      border-right-color: var(--fill-color);\n",
       "      border-top-color: var(--fill-color);\n",
       "    }\n",
       "    60% {\n",
       "      border-color: transparent;\n",
       "      border-right-color: var(--fill-color);\n",
       "    }\n",
       "    80% {\n",
       "      border-color: transparent;\n",
       "      border-right-color: var(--fill-color);\n",
       "      border-bottom-color: var(--fill-color);\n",
       "    }\n",
       "    90% {\n",
       "      border-color: transparent;\n",
       "      border-bottom-color: var(--fill-color);\n",
       "    }\n",
       "  }\n",
       "</style>\n",
       "\n",
       "  <script>\n",
       "    async function quickchart(key) {\n",
       "      const quickchartButtonEl =\n",
       "        document.querySelector('#' + key + ' button');\n",
       "      quickchartButtonEl.disabled = true;  // To prevent multiple clicks.\n",
       "      quickchartButtonEl.classList.add('colab-df-spinner');\n",
       "      try {\n",
       "        const charts = await google.colab.kernel.invokeFunction(\n",
       "            'suggestCharts', [key], {});\n",
       "      } catch (error) {\n",
       "        console.error('Error during call to suggestCharts:', error);\n",
       "      }\n",
       "      quickchartButtonEl.classList.remove('colab-df-spinner');\n",
       "      quickchartButtonEl.classList.add('colab-df-quickchart-complete');\n",
       "    }\n",
       "    (() => {\n",
       "      let quickchartButtonEl =\n",
       "        document.querySelector('#df-a20864ca-6e26-47e1-98a6-38a811512c67 button');\n",
       "      quickchartButtonEl.style.display =\n",
       "        google.colab.kernel.accessAllowed ? 'block' : 'none';\n",
       "    })();\n",
       "  </script>\n",
       "</div>\n",
       "    </div>\n",
       "  </div>\n"
      ],
      "application/vnd.google.colaboratory.intrinsic+json": {
       "type": "dataframe",
       "variable_name": "df",
       "summary": "{\n  \"name\": \"df\",\n  \"rows\": 8387,\n  \"fields\": [\n    {\n      \"column\": \"X-Folder\",\n      \"properties\": {\n        \"dtype\": \"category\",\n        \"num_unique_values\": 11,\n        \"samples\": [\n          \"logistics\",\n          \"personal\",\n          \"universities\"\n        ],\n        \"semantic_type\": \"\",\n        \"description\": \"\"\n      }\n    },\n    {\n      \"column\": \"text\",\n      \"properties\": {\n        \"dtype\": \"string\",\n        \"num_unique_values\": 7905,\n        \"samples\": [\n          \"dba administrator cecil spoken charlene sounds helpful give call tomorrow morning iron exactly want access enpower data base left name expecting call best alex forwarded alex huang corp enron 05 01 2001 05 31 pm vince j kaminski ect 05 01 2001 05 13 pm michelle cisneros hou ect ect cc alex huang corp enron enron vince j kaminski hou ect ect subject dba administrator michelle name db administrator enpower charlene fricker 5 3487 alex contact regarding access curve think problem many layers gary hickerson level responsibility hope handle without using valuable time vince\",\n          \"meter 1591 lamay gas lift daren chance check know busy least get head start may aimee forwarded aimee lannou hou ect 04 25 2000 12 10 pm aimee lannou 04 24 2000 01 03 pm daren j farmer hou ect ect cc pat clynes corp enron enron subject meter 1591 lamay gaslift daren meter 1591 never flowed entire nom meter nominated nom 1 000 day 429 000 total mmbtus since 1 28 99 flowed 11 692 correct say meter needs lower nom please let know look lower nom may pat seems think may affecting p l april estimates actuals zero 4 1 4 2 please let know makes sense aimee forwarded aimee lannou hou ect 04 24 2000 12 50 pm enron north america corp pat clynes enron 04 24 2000 12 43 pm aimee lannou hou ect ect cc daren j farmer hou ect ect subject meter 1591 lamay gaslift aimee please check meter 1591 lamay gas lift appear much flow bav showing nom volume could adversely affecting risk numbers pat\",\n          \"union colorado river station 7000 total 5031 2100 2100 7000 16231 forwarded ami chokshi corp enron 04 19 2000 04 47 pm enron north america corp ami chokshi 04 19 2000 03 54 pm daren j farmer hou ect ect cc subject union tville 5031 tville 02 may total 2100 2100 5031 9231 forwarded ami chokshi corp enron 04 19 2000 03 55 pm enron north america corp ami chokshi 04 19 2000 01 58 pm daren j farmer hou ect ect cc subject southern union may 2100 83 st 2100 port arthur estimates volumes april ville colorado rs either spot april janet know next month yet 5000 total safe assumption\"\n        ],\n        \"semantic_type\": \"\",\n        \"description\": \"\"\n      }\n    }\n  ]\n}"
      }
     },
     "metadata": {},
     "execution_count": 23
    }
   ]
  },
  {
   "cell_type": "code",
   "source": [
    "df.to_csv(\"preprocessed_data.csv\", index=False)"
   ],
   "metadata": {
    "id": "bMdwZzc6JXj1"
   },
   "execution_count": 24,
   "outputs": []
  },
  {
   "cell_type": "markdown",
   "source": [
    "# Learning"
   ],
   "metadata": {
    "id": "Ne1s6JWAKvMh"
   }
  },
  {
   "cell_type": "code",
   "source": [
    "data = pd.read_csv(\"preprocessed_data.csv\")"
   ],
   "metadata": {
    "id": "ajwbeL1aDg_a"
   },
   "execution_count": 46,
   "outputs": []
  },
  {
   "cell_type": "code",
   "source": [
    "data.head()"
   ],
   "metadata": {
    "colab": {
     "base_uri": "https://localhost:8080/",
     "height": 206
    },
    "id": "hRME9znrE-4z",
    "outputId": "06121965-edda-4b5a-a3b1-74d16f4a6152"
   },
   "execution_count": 47,
   "outputs": [
    {
     "output_type": "execute_result",
     "data": {
      "text/plain": [
       "   X-Folder                                               text\n",
       "0  personal  dell order confirmation dear jennifer medcalf ...\n",
       "1  personal  brown bag thank dear jennifer thank hosting br...\n",
       "2  personal  dell online order dell enron clickathome order...\n",
       "3  personal  update attendees brown bags 12 13 12 14 notice...\n",
       "4  personal  confirmation order 3253472 hope well forwarded..."
      ],
      "text/html": [
       "\n",
       "  <div id=\"df-c8d1591d-bf79-4788-9bba-48652728b609\" class=\"colab-df-container\">\n",
       "    <div>\n",
       "<style scoped>\n",
       "    .dataframe tbody tr th:only-of-type {\n",
       "        vertical-align: middle;\n",
       "    }\n",
       "\n",
       "    .dataframe tbody tr th {\n",
       "        vertical-align: top;\n",
       "    }\n",
       "\n",
       "    .dataframe thead th {\n",
       "        text-align: right;\n",
       "    }\n",
       "</style>\n",
       "<table border=\"1\" class=\"dataframe\">\n",
       "  <thead>\n",
       "    <tr style=\"text-align: right;\">\n",
       "      <th></th>\n",
       "      <th>X-Folder</th>\n",
       "      <th>text</th>\n",
       "    </tr>\n",
       "  </thead>\n",
       "  <tbody>\n",
       "    <tr>\n",
       "      <th>0</th>\n",
       "      <td>personal</td>\n",
       "      <td>dell order confirmation dear jennifer medcalf ...</td>\n",
       "    </tr>\n",
       "    <tr>\n",
       "      <th>1</th>\n",
       "      <td>personal</td>\n",
       "      <td>brown bag thank dear jennifer thank hosting br...</td>\n",
       "    </tr>\n",
       "    <tr>\n",
       "      <th>2</th>\n",
       "      <td>personal</td>\n",
       "      <td>dell online order dell enron clickathome order...</td>\n",
       "    </tr>\n",
       "    <tr>\n",
       "      <th>3</th>\n",
       "      <td>personal</td>\n",
       "      <td>update attendees brown bags 12 13 12 14 notice...</td>\n",
       "    </tr>\n",
       "    <tr>\n",
       "      <th>4</th>\n",
       "      <td>personal</td>\n",
       "      <td>confirmation order 3253472 hope well forwarded...</td>\n",
       "    </tr>\n",
       "  </tbody>\n",
       "</table>\n",
       "</div>\n",
       "    <div class=\"colab-df-buttons\">\n",
       "\n",
       "  <div class=\"colab-df-container\">\n",
       "    <button class=\"colab-df-convert\" onclick=\"convertToInteractive('df-c8d1591d-bf79-4788-9bba-48652728b609')\"\n",
       "            title=\"Convert this dataframe to an interactive table.\"\n",
       "            style=\"display:none;\">\n",
       "\n",
       "  <svg xmlns=\"http://www.w3.org/2000/svg\" height=\"24px\" viewBox=\"0 -960 960 960\">\n",
       "    <path d=\"M120-120v-720h720v720H120Zm60-500h600v-160H180v160Zm220 220h160v-160H400v160Zm0 220h160v-160H400v160ZM180-400h160v-160H180v160Zm440 0h160v-160H620v160ZM180-180h160v-160H180v160Zm440 0h160v-160H620v160Z\"/>\n",
       "  </svg>\n",
       "    </button>\n",
       "\n",
       "  <style>\n",
       "    .colab-df-container {\n",
       "      display:flex;\n",
       "      gap: 12px;\n",
       "    }\n",
       "\n",
       "    .colab-df-convert {\n",
       "      background-color: #E8F0FE;\n",
       "      border: none;\n",
       "      border-radius: 50%;\n",
       "      cursor: pointer;\n",
       "      display: none;\n",
       "      fill: #1967D2;\n",
       "      height: 32px;\n",
       "      padding: 0 0 0 0;\n",
       "      width: 32px;\n",
       "    }\n",
       "\n",
       "    .colab-df-convert:hover {\n",
       "      background-color: #E2EBFA;\n",
       "      box-shadow: 0px 1px 2px rgba(60, 64, 67, 0.3), 0px 1px 3px 1px rgba(60, 64, 67, 0.15);\n",
       "      fill: #174EA6;\n",
       "    }\n",
       "\n",
       "    .colab-df-buttons div {\n",
       "      margin-bottom: 4px;\n",
       "    }\n",
       "\n",
       "    [theme=dark] .colab-df-convert {\n",
       "      background-color: #3B4455;\n",
       "      fill: #D2E3FC;\n",
       "    }\n",
       "\n",
       "    [theme=dark] .colab-df-convert:hover {\n",
       "      background-color: #434B5C;\n",
       "      box-shadow: 0px 1px 3px 1px rgba(0, 0, 0, 0.15);\n",
       "      filter: drop-shadow(0px 1px 2px rgba(0, 0, 0, 0.3));\n",
       "      fill: #FFFFFF;\n",
       "    }\n",
       "  </style>\n",
       "\n",
       "    <script>\n",
       "      const buttonEl =\n",
       "        document.querySelector('#df-c8d1591d-bf79-4788-9bba-48652728b609 button.colab-df-convert');\n",
       "      buttonEl.style.display =\n",
       "        google.colab.kernel.accessAllowed ? 'block' : 'none';\n",
       "\n",
       "      async function convertToInteractive(key) {\n",
       "        const element = document.querySelector('#df-c8d1591d-bf79-4788-9bba-48652728b609');\n",
       "        const dataTable =\n",
       "          await google.colab.kernel.invokeFunction('convertToInteractive',\n",
       "                                                    [key], {});\n",
       "        if (!dataTable) return;\n",
       "\n",
       "        const docLinkHtml = 'Like what you see? Visit the ' +\n",
       "          '<a target=\"_blank\" href=https://colab.research.google.com/notebooks/data_table.ipynb>data table notebook</a>'\n",
       "          + ' to learn more about interactive tables.';\n",
       "        element.innerHTML = '';\n",
       "        dataTable['output_type'] = 'display_data';\n",
       "        await google.colab.output.renderOutput(dataTable, element);\n",
       "        const docLink = document.createElement('div');\n",
       "        docLink.innerHTML = docLinkHtml;\n",
       "        element.appendChild(docLink);\n",
       "      }\n",
       "    </script>\n",
       "  </div>\n",
       "\n",
       "\n",
       "<div id=\"df-8e56085e-37c6-4d40-a0f6-7a6923aa3e02\">\n",
       "  <button class=\"colab-df-quickchart\" onclick=\"quickchart('df-8e56085e-37c6-4d40-a0f6-7a6923aa3e02')\"\n",
       "            title=\"Suggest charts\"\n",
       "            style=\"display:none;\">\n",
       "\n",
       "<svg xmlns=\"http://www.w3.org/2000/svg\" height=\"24px\"viewBox=\"0 0 24 24\"\n",
       "     width=\"24px\">\n",
       "    <g>\n",
       "        <path d=\"M19 3H5c-1.1 0-2 .9-2 2v14c0 1.1.9 2 2 2h14c1.1 0 2-.9 2-2V5c0-1.1-.9-2-2-2zM9 17H7v-7h2v7zm4 0h-2V7h2v10zm4 0h-2v-4h2v4z\"/>\n",
       "    </g>\n",
       "</svg>\n",
       "  </button>\n",
       "\n",
       "<style>\n",
       "  .colab-df-quickchart {\n",
       "      --bg-color: #E8F0FE;\n",
       "      --fill-color: #1967D2;\n",
       "      --hover-bg-color: #E2EBFA;\n",
       "      --hover-fill-color: #174EA6;\n",
       "      --disabled-fill-color: #AAA;\n",
       "      --disabled-bg-color: #DDD;\n",
       "  }\n",
       "\n",
       "  [theme=dark] .colab-df-quickchart {\n",
       "      --bg-color: #3B4455;\n",
       "      --fill-color: #D2E3FC;\n",
       "      --hover-bg-color: #434B5C;\n",
       "      --hover-fill-color: #FFFFFF;\n",
       "      --disabled-bg-color: #3B4455;\n",
       "      --disabled-fill-color: #666;\n",
       "  }\n",
       "\n",
       "  .colab-df-quickchart {\n",
       "    background-color: var(--bg-color);\n",
       "    border: none;\n",
       "    border-radius: 50%;\n",
       "    cursor: pointer;\n",
       "    display: none;\n",
       "    fill: var(--fill-color);\n",
       "    height: 32px;\n",
       "    padding: 0;\n",
       "    width: 32px;\n",
       "  }\n",
       "\n",
       "  .colab-df-quickchart:hover {\n",
       "    background-color: var(--hover-bg-color);\n",
       "    box-shadow: 0 1px 2px rgba(60, 64, 67, 0.3), 0 1px 3px 1px rgba(60, 64, 67, 0.15);\n",
       "    fill: var(--button-hover-fill-color);\n",
       "  }\n",
       "\n",
       "  .colab-df-quickchart-complete:disabled,\n",
       "  .colab-df-quickchart-complete:disabled:hover {\n",
       "    background-color: var(--disabled-bg-color);\n",
       "    fill: var(--disabled-fill-color);\n",
       "    box-shadow: none;\n",
       "  }\n",
       "\n",
       "  .colab-df-spinner {\n",
       "    border: 2px solid var(--fill-color);\n",
       "    border-color: transparent;\n",
       "    border-bottom-color: var(--fill-color);\n",
       "    animation:\n",
       "      spin 1s steps(1) infinite;\n",
       "  }\n",
       "\n",
       "  @keyframes spin {\n",
       "    0% {\n",
       "      border-color: transparent;\n",
       "      border-bottom-color: var(--fill-color);\n",
       "      border-left-color: var(--fill-color);\n",
       "    }\n",
       "    20% {\n",
       "      border-color: transparent;\n",
       "      border-left-color: var(--fill-color);\n",
       "      border-top-color: var(--fill-color);\n",
       "    }\n",
       "    30% {\n",
       "      border-color: transparent;\n",
       "      border-left-color: var(--fill-color);\n",
       "      border-top-color: var(--fill-color);\n",
       "      border-right-color: var(--fill-color);\n",
       "    }\n",
       "    40% {\n",
       "      border-color: transparent;\n",
       "      border-right-color: var(--fill-color);\n",
       "      border-top-color: var(--fill-color);\n",
       "    }\n",
       "    60% {\n",
       "      border-color: transparent;\n",
       "      border-right-color: var(--fill-color);\n",
       "    }\n",
       "    80% {\n",
       "      border-color: transparent;\n",
       "      border-right-color: var(--fill-color);\n",
       "      border-bottom-color: var(--fill-color);\n",
       "    }\n",
       "    90% {\n",
       "      border-color: transparent;\n",
       "      border-bottom-color: var(--fill-color);\n",
       "    }\n",
       "  }\n",
       "</style>\n",
       "\n",
       "  <script>\n",
       "    async function quickchart(key) {\n",
       "      const quickchartButtonEl =\n",
       "        document.querySelector('#' + key + ' button');\n",
       "      quickchartButtonEl.disabled = true;  // To prevent multiple clicks.\n",
       "      quickchartButtonEl.classList.add('colab-df-spinner');\n",
       "      try {\n",
       "        const charts = await google.colab.kernel.invokeFunction(\n",
       "            'suggestCharts', [key], {});\n",
       "      } catch (error) {\n",
       "        console.error('Error during call to suggestCharts:', error);\n",
       "      }\n",
       "      quickchartButtonEl.classList.remove('colab-df-spinner');\n",
       "      quickchartButtonEl.classList.add('colab-df-quickchart-complete');\n",
       "    }\n",
       "    (() => {\n",
       "      let quickchartButtonEl =\n",
       "        document.querySelector('#df-8e56085e-37c6-4d40-a0f6-7a6923aa3e02 button');\n",
       "      quickchartButtonEl.style.display =\n",
       "        google.colab.kernel.accessAllowed ? 'block' : 'none';\n",
       "    })();\n",
       "  </script>\n",
       "</div>\n",
       "    </div>\n",
       "  </div>\n"
      ],
      "application/vnd.google.colaboratory.intrinsic+json": {
       "type": "dataframe",
       "variable_name": "data",
       "summary": "{\n  \"name\": \"data\",\n  \"rows\": 8387,\n  \"fields\": [\n    {\n      \"column\": \"X-Folder\",\n      \"properties\": {\n        \"dtype\": \"category\",\n        \"num_unique_values\": 11,\n        \"samples\": [\n          \"logistics\",\n          \"personal\",\n          \"universities\"\n        ],\n        \"semantic_type\": \"\",\n        \"description\": \"\"\n      }\n    },\n    {\n      \"column\": \"text\",\n      \"properties\": {\n        \"dtype\": \"string\",\n        \"num_unique_values\": 7905,\n        \"samples\": [\n          \"dba administrator cecil spoken charlene sounds helpful give call tomorrow morning iron exactly want access enpower data base left name expecting call best alex forwarded alex huang corp enron 05 01 2001 05 31 pm vince j kaminski ect 05 01 2001 05 13 pm michelle cisneros hou ect ect cc alex huang corp enron enron vince j kaminski hou ect ect subject dba administrator michelle name db administrator enpower charlene fricker 5 3487 alex contact regarding access curve think problem many layers gary hickerson level responsibility hope handle without using valuable time vince\",\n          \"meter 1591 lamay gas lift daren chance check know busy least get head start may aimee forwarded aimee lannou hou ect 04 25 2000 12 10 pm aimee lannou 04 24 2000 01 03 pm daren j farmer hou ect ect cc pat clynes corp enron enron subject meter 1591 lamay gaslift daren meter 1591 never flowed entire nom meter nominated nom 1 000 day 429 000 total mmbtus since 1 28 99 flowed 11 692 correct say meter needs lower nom please let know look lower nom may pat seems think may affecting p l april estimates actuals zero 4 1 4 2 please let know makes sense aimee forwarded aimee lannou hou ect 04 24 2000 12 50 pm enron north america corp pat clynes enron 04 24 2000 12 43 pm aimee lannou hou ect ect cc daren j farmer hou ect ect subject meter 1591 lamay gaslift aimee please check meter 1591 lamay gas lift appear much flow bav showing nom volume could adversely affecting risk numbers pat\",\n          \"union colorado river station 7000 total 5031 2100 2100 7000 16231 forwarded ami chokshi corp enron 04 19 2000 04 47 pm enron north america corp ami chokshi 04 19 2000 03 54 pm daren j farmer hou ect ect cc subject union tville 5031 tville 02 may total 2100 2100 5031 9231 forwarded ami chokshi corp enron 04 19 2000 03 55 pm enron north america corp ami chokshi 04 19 2000 01 58 pm daren j farmer hou ect ect cc subject southern union may 2100 83 st 2100 port arthur estimates volumes april ville colorado rs either spot april janet know next month yet 5000 total safe assumption\"\n        ],\n        \"semantic_type\": \"\",\n        \"description\": \"\"\n      }\n    }\n  ]\n}"
      }
     },
     "metadata": {},
     "execution_count": 47
    }
   ]
  },
  {
   "cell_type": "code",
   "source": [
    "# shape of the data\n",
    "data.shape"
   ],
   "metadata": {
    "colab": {
     "base_uri": "https://localhost:8080/"
    },
    "id": "Hj9wzdAsFjAG",
    "outputId": "f19b3860-9881-4b15-fa5f-8a3ccfb61729"
   },
   "execution_count": 48,
   "outputs": [
    {
     "output_type": "execute_result",
     "data": {
      "text/plain": [
       "(8387, 2)"
      ]
     },
     "metadata": {},
     "execution_count": 48
    }
   ]
  },
  {
   "cell_type": "code",
   "source": [
    "# count number of instances in each folder\n",
    "folders_num = len(data['X-Folder'].unique())"
   ],
   "metadata": {
    "id": "7sJV-tnqFxfE"
   },
   "execution_count": 53,
   "outputs": []
  },
  {
   "cell_type": "code",
   "source": [
    "def label_encoder(data):\n",
    "    class_le = LabelEncoder()\n",
    "    # apply label encoder on the 'X-Folder' column\n",
    "    y = class_le.fit_transform(data['X-Folder'])\n",
    "    return y"
   ],
   "metadata": {
    "id": "t6axd96yFmAh"
   },
   "execution_count": 49,
   "outputs": []
  },
  {
   "cell_type": "code",
   "source": [
    "y = label_encoder(data)\n",
    "input_data = data['text']"
   ],
   "metadata": {
    "id": "zt9nfgByFn_Z"
   },
   "execution_count": 50,
   "outputs": []
  },
  {
   "cell_type": "code",
   "source": [
    "X_train, X_test, y_train, y_test = train_test_split(input_data, y, test_size=0.1)"
   ],
   "metadata": {
    "id": "g4sgP5e6FozN"
   },
   "execution_count": 51,
   "outputs": []
  },
  {
   "cell_type": "code",
   "source": [
    "# one-hot encode the output labels\n",
    "Y_train = to_categorical(y_train, folders_num)\n",
    "Y_test = to_categorical(y_test, folders_num)"
   ],
   "metadata": {
    "id": "HZ1ejbQpFs2M"
   },
   "execution_count": 54,
   "outputs": []
  },
  {
   "cell_type": "code",
   "source": [
    "# prepare tokenizer\n",
    "t = Tokenizer()\n",
    "\n",
    "# fit the tokenizer on the docs\n",
    "t.fit_on_texts(input_data)\n",
    "vocab_size = len(t.word_index) + 1\n",
    "\n",
    "# integer encode the documents\n",
    "X_train_encoded_docs = t.texts_to_sequences(X_train)\n",
    "X_test_encoded_docs = t.texts_to_sequences(X_test)"
   ],
   "metadata": {
    "id": "CqzWR96lGDJh"
   },
   "execution_count": 55,
   "outputs": []
  },
  {
   "cell_type": "code",
   "source": [
    "max_length = 150\n",
    "X_train_padded_docs = pad_sequences(X_train_encoded_docs, maxlen=max_length, padding='post')\n",
    "X_test_padded_docs = pad_sequences(X_test_encoded_docs, maxlen=max_length, padding='post')\n",
    "\n",
    "print(X_train_padded_docs[0])"
   ],
   "metadata": {
    "colab": {
     "base_uri": "https://localhost:8080/"
    },
    "id": "xzNbY6x9GGbV",
    "outputId": "3ecb629b-fc99-4623-b611-e623e625431c"
   },
   "execution_count": 56,
   "outputs": [
    {
     "output_type": "stream",
     "name": "stdout",
     "text": [
      "[  760   176 16011  2364  1827    85   112   317  2517  1645 10039   109\n",
      "   105     6   517    20   133   342   226    85   213    20   497   146\n",
      "  1249   165   755  2195   898   732 16673  9829   953    85   147   167\n",
      " 33857   645   493   341  3828   121   331  8350    85    32  6705  4106\n",
      "  3411  2441 17229   314   733    66   322  1212   317  4700  5150    85\n",
      " 10401   418    72  7038    85 16519   986   405   105     6   965    32\n",
      "  1509   124  2806    48    32  1509   483  5995 33858   694  2364   105\n",
      "     6  2806  1963   407  2463   169  1645   342 12367   169   418    72\n",
      "  9978  1873  1068    59 14269  1229  1297  4122  1815   232  2654  1941\n",
      "  2806    37  1381   120   322   501  4344  2902  4700   347   464    15\n",
      "   132    85  6593   138    25    20   257   579  4700   202  2902  6933\n",
      "  1262    10   515   472 12309  1873  1068  4700  7104   730    99  1620\n",
      "  2028   417  1604  1943 13410  4010]\n"
     ]
    }
   ]
  },
  {
   "cell_type": "code",
   "source": [
    "# create a weight matrix for words in training docs\n",
    "embedding_matrix = np.zeros((vocab_size, 300))\n",
    "\n",
    "for word, i in t.word_index.items():\n",
    "\n",
    "    try:\n",
    "        embedding_vector = google_embeddings[word]\n",
    "\n",
    "        if embedding_vector is not None:\n",
    "            embedding_matrix[i] = embedding_vector\n",
    "    except:\n",
    "        pass"
   ],
   "metadata": {
    "id": "ztzp9qFlGINc"
   },
   "execution_count": 57,
   "outputs": []
  },
  {
   "cell_type": "code",
   "source": [
    "# define the model\n",
    "model = Sequential()\n",
    "e = Embedding(vocab_size, 300, weights=[embedding_matrix], input_length=max_length, trainable=False)\n",
    "model.add(e)\n",
    "model.add(LSTM(100, dropout=0.2))\n",
    "model.add(Flatten())\n",
    "model.add(Dense(folders_num, activation='softmax'))\n",
    "\n",
    "\n",
    "# compile the model\n",
    "model.compile(optimizer='adam', loss='categorical_crossentropy', metrics=['accuracy'])\n",
    "\n",
    "# summarize the model\n",
    "model.summary()"
   ],
   "metadata": {
    "colab": {
     "base_uri": "https://localhost:8080/"
    },
    "id": "CsTnHm64GMWz",
    "outputId": "1135d0ae-af18-4472-b09a-22d9b61a6239"
   },
   "execution_count": 60,
   "outputs": [
    {
     "output_type": "stream",
     "name": "stdout",
     "text": [
      "Model: \"sequential\"\n",
      "_________________________________________________________________\n",
      " Layer (type)                Output Shape              Param #   \n",
      "=================================================================\n",
      " embedding (Embedding)       (None, 150, 300)          17445600  \n",
      "                                                                 \n",
      " lstm (LSTM)                 (None, 100)               160400    \n",
      "                                                                 \n",
      " flatten (Flatten)           (None, 100)               0         \n",
      "                                                                 \n",
      " dense (Dense)               (None, 11)                1111      \n",
      "                                                                 \n",
      "=================================================================\n",
      "Total params: 17607111 (67.17 MB)\n",
      "Trainable params: 161511 (630.90 KB)\n",
      "Non-trainable params: 17445600 (66.55 MB)\n",
      "_________________________________________________________________\n"
     ]
    }
   ]
  },
  {
   "cell_type": "code",
   "source": [
    "# train the model\n",
    "clear_session()\n",
    "history = model.fit(X_train_padded_docs, Y_train, epochs=60, verbose=1, validation_split=0.1)"
   ],
   "metadata": {
    "colab": {
     "base_uri": "https://localhost:8080/"
    },
    "id": "0BXmR255GOtO",
    "outputId": "3e193c11-70d3-4912-94c4-85e0eca0726d"
   },
   "execution_count": null,
   "outputs": [
    {
     "output_type": "stream",
     "name": "stdout",
     "text": [
      "Epoch 1/60\n",
      "213/213 [==============================] - 52s 230ms/step - loss: 2.1055 - accuracy: 0.3270 - val_loss: 1.9859 - val_accuracy: 0.3576\n",
      "Epoch 2/60\n",
      "149/213 [===================>..........] - ETA: 14s - loss: 2.0208 - accuracy: 0.3442"
     ]
    }
   ]
  }
 ]
}
