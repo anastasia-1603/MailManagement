{
 "cells": [
  {
   "cell_type": "code",
   "execution_count": 2,
   "id": "initial_id",
   "metadata": {
    "collapsed": true,
    "ExecuteTime": {
     "end_time": "2024-05-18T08:32:25.598103100Z",
     "start_time": "2024-05-18T08:32:23.297023100Z"
    }
   },
   "outputs": [],
   "source": [
    "from email.header import decode_header\n",
    "import re\n",
    "from imap_tools import MailBox\n",
    "from imap_tools import AND\n",
    "import pandas as pd\n",
    "import dateparser\n",
    "from dateparser.search import search_dates"
   ]
  },
  {
   "cell_type": "code",
   "execution_count": 161,
   "outputs": [],
   "source": [
    "password = \"7PP4ZDXqnv\"\n",
    "username = \"lazutkina@cs.vsu.ru\"\n",
    "host = \"info.vsu.ru\"\n",
    "\n",
    "mailbox = MailBox(host)\n",
    "mailbox.login(username=username, password=password, initial_folder='INBOX') \n",
    "mails = mailbox.fetch()"
   ],
   "metadata": {
    "collapsed": false,
    "ExecuteTime": {
     "end_time": "2024-05-17T19:36:00.180026500Z",
     "start_time": "2024-05-17T19:35:59.656681Z"
    }
   },
   "id": "b74e82a09b626b2c"
  },
  {
   "cell_type": "code",
   "execution_count": 162,
   "outputs": [],
   "source": [
    "def mails_to_df(mails):\n",
    "    columns = ['id', 'subject', 'from', 'text', 'date', 'attachment_filename', 'attachment_content_type', 'headers']\n",
    "    mails_list = []\n",
    "    for msg in mails:\n",
    "        attachment_filename = \",\".join(str(att.filename) for att in msg.attachments)\n",
    "        attachment_content_type = \",\".join(str(att.content_type) for att in msg.attachments)\n",
    "        \n",
    "        mails_list.append([msg.uid, msg.subject, msg.from_, msg.text, msg.date_str, attachment_filename, attachment_content_type, msg.headers])\n",
    "\n",
    "    df = pd.DataFrame(data=mails_list)\n",
    "    df.columns = columns\n",
    "    return df"
   ],
   "metadata": {
    "collapsed": false,
    "ExecuteTime": {
     "end_time": "2024-05-17T19:36:11.749252Z",
     "start_time": "2024-05-17T19:36:11.730434400Z"
    }
   },
   "id": "b1a92f870a178236"
  },
  {
   "cell_type": "markdown",
   "source": [
    "## Preprocessing"
   ],
   "metadata": {
    "collapsed": false
   },
   "id": "f401eb1c4216bb22"
  },
  {
   "cell_type": "code",
   "execution_count": 163,
   "outputs": [
    {
     "data": {
      "text/plain": "        id                           subject             from  \\\n0       70           FW: Вестник САИТ 1-2018  cs-it@cs.vsu.ru   \n1       71               FW: Проверка статьи  cs-it@cs.vsu.ru   \n2       72            FW: e-mail Баевой Н.Б.  cs-it@cs.vsu.ru   \n3       73                   FW: от Матвеева  cs-it@cs.vsu.ru   \n4       74                      FW: рецензия  cs-it@cs.vsu.ru   \n...    ...                               ...              ...   \n1132  1213     FWD:Re: Заседание редколлегии  cs-it@cs.vsu.ru   \n1133  1214          FWD:Re[2]: сверка статьи  cs-it@cs.vsu.ru   \n1134  1215  FWD:Re: статья на рецензирование  cs-it@cs.vsu.ru   \n1135  1216                              FWD:  cs-it@cs.vsu.ru   \n1136  1217     FWD:Re: Статья Хацкевича В.Л.  cs-it@cs.vsu.ru   \n\n                                                   text  \\\n0     \\r\\n\\r\\n-----Original Message-----\\r\\nFrom: Па...   \n1      \\r\\n \\r\\nFrom: Михаил Горчаков <gorchakovmiha...   \n2      \\r\\n \\r\\nFrom: Аснина Н.Г. <andrey050569@yand...   \n3      \\r\\n \\r\\nFrom: Матвеев Михаил <mgmatveev@yand...   \n4     \\r\\n\\r\\n-----Original Message-----\\r\\nFrom: Al...   \n...                                                 ...   \n1132  Вероника, привет!\\r\\nСреда - единственный день...   \n1133  Вероника Викторовна, на сайте уже появился 2 н...   \n1134  Уважаемая Вероника Викторовна,\\r\\nпредставленн...   \n1135  Уважаемые Коллеги!\\n\\nПрошу Вас рассмотреть мо...   \n1136  Уважаемая редколлегия!\\n\\nМной 27 июня 2018 го...   \n\n                                 date         attachment_filename  \\\n0     Thu, 16 May 2024 11:53:29 +0300                               \n1     Thu, 16 May 2024 11:53:32 +0300   Исправления_Горчаков.docx   \n2     Thu, 16 May 2024 11:53:29 +0300                               \n3     Thu, 16 May 2024 11:53:30 +0300               Рецензия.docx   \n4     Thu, 16 May 2024 11:53:30 +0300        рецензия_Шмырин.docx   \n...                               ...                         ...   \n1132  Thu, 16 May 2024 12:06:45 +0300                               \n1133  Thu, 16 May 2024 12:06:45 +0300                               \n1134  Thu, 16 May 2024 12:06:45 +0300                               \n1135  Thu, 16 May 2024 12:06:45 +0300  4прост. фрактал 22342+.doc   \n1136  Thu, 16 May 2024 12:06:45 +0300                               \n\n                                attachment_content_type  \\\n0                                                         \n1     application/vnd.openxmlformats-officedocument....   \n2                                                         \n3     application/vnd.openxmlformats-officedocument....   \n4     application/vnd.openxmlformats-officedocument....   \n...                                                 ...   \n1132                                                      \n1133                                                      \n1134                                                      \n1135                                 application/msword   \n1136                                                      \n\n                                                headers  \n0     {'dkim-signature': ('v=1; a=rsa-sha256; q=dns/...  \n1     {'dkim-signature': ('v=1; a=rsa-sha256; q=dns/...  \n2     {'dkim-signature': ('v=1; a=rsa-sha256; q=dns/...  \n3     {'dkim-signature': ('v=1; a=rsa-sha256; q=dns/...  \n4     {'dkim-signature': ('v=1; a=rsa-sha256; q=dns/...  \n...                                                 ...  \n1132  {'dkim-signature': ('v=1; a=rsa-sha256; q=dns/...  \n1133  {'dkim-signature': ('v=1; a=rsa-sha256; q=dns/...  \n1134  {'dkim-signature': ('v=1; a=rsa-sha256; q=dns/...  \n1135  {'dkim-signature': ('v=1; a=rsa-sha256; q=dns/...  \n1136  {'dkim-signature': ('v=1; a=rsa-sha256; q=dns/...  \n\n[1137 rows x 8 columns]",
      "text/html": "<div>\n<style scoped>\n    .dataframe tbody tr th:only-of-type {\n        vertical-align: middle;\n    }\n\n    .dataframe tbody tr th {\n        vertical-align: top;\n    }\n\n    .dataframe thead th {\n        text-align: right;\n    }\n</style>\n<table border=\"1\" class=\"dataframe\">\n  <thead>\n    <tr style=\"text-align: right;\">\n      <th></th>\n      <th>id</th>\n      <th>subject</th>\n      <th>from</th>\n      <th>text</th>\n      <th>date</th>\n      <th>attachment_filename</th>\n      <th>attachment_content_type</th>\n      <th>headers</th>\n    </tr>\n  </thead>\n  <tbody>\n    <tr>\n      <th>0</th>\n      <td>70</td>\n      <td>FW: Вестник САИТ 1-2018</td>\n      <td>cs-it@cs.vsu.ru</td>\n      <td>\\r\\n\\r\\n-----Original Message-----\\r\\nFrom: Па...</td>\n      <td>Thu, 16 May 2024 11:53:29 +0300</td>\n      <td></td>\n      <td></td>\n      <td>{'dkim-signature': ('v=1; a=rsa-sha256; q=dns/...</td>\n    </tr>\n    <tr>\n      <th>1</th>\n      <td>71</td>\n      <td>FW: Проверка статьи</td>\n      <td>cs-it@cs.vsu.ru</td>\n      <td>\\r\\n \\r\\nFrom: Михаил Горчаков &lt;gorchakovmiha...</td>\n      <td>Thu, 16 May 2024 11:53:32 +0300</td>\n      <td>Исправления_Горчаков.docx</td>\n      <td>application/vnd.openxmlformats-officedocument....</td>\n      <td>{'dkim-signature': ('v=1; a=rsa-sha256; q=dns/...</td>\n    </tr>\n    <tr>\n      <th>2</th>\n      <td>72</td>\n      <td>FW: e-mail Баевой Н.Б.</td>\n      <td>cs-it@cs.vsu.ru</td>\n      <td>\\r\\n \\r\\nFrom: Аснина Н.Г. &lt;andrey050569@yand...</td>\n      <td>Thu, 16 May 2024 11:53:29 +0300</td>\n      <td></td>\n      <td></td>\n      <td>{'dkim-signature': ('v=1; a=rsa-sha256; q=dns/...</td>\n    </tr>\n    <tr>\n      <th>3</th>\n      <td>73</td>\n      <td>FW: от Матвеева</td>\n      <td>cs-it@cs.vsu.ru</td>\n      <td>\\r\\n \\r\\nFrom: Матвеев Михаил &lt;mgmatveev@yand...</td>\n      <td>Thu, 16 May 2024 11:53:30 +0300</td>\n      <td>Рецензия.docx</td>\n      <td>application/vnd.openxmlformats-officedocument....</td>\n      <td>{'dkim-signature': ('v=1; a=rsa-sha256; q=dns/...</td>\n    </tr>\n    <tr>\n      <th>4</th>\n      <td>74</td>\n      <td>FW: рецензия</td>\n      <td>cs-it@cs.vsu.ru</td>\n      <td>\\r\\n\\r\\n-----Original Message-----\\r\\nFrom: Al...</td>\n      <td>Thu, 16 May 2024 11:53:30 +0300</td>\n      <td>рецензия_Шмырин.docx</td>\n      <td>application/vnd.openxmlformats-officedocument....</td>\n      <td>{'dkim-signature': ('v=1; a=rsa-sha256; q=dns/...</td>\n    </tr>\n    <tr>\n      <th>...</th>\n      <td>...</td>\n      <td>...</td>\n      <td>...</td>\n      <td>...</td>\n      <td>...</td>\n      <td>...</td>\n      <td>...</td>\n      <td>...</td>\n    </tr>\n    <tr>\n      <th>1132</th>\n      <td>1213</td>\n      <td>FWD:Re: Заседание редколлегии</td>\n      <td>cs-it@cs.vsu.ru</td>\n      <td>Вероника, привет!\\r\\nСреда - единственный день...</td>\n      <td>Thu, 16 May 2024 12:06:45 +0300</td>\n      <td></td>\n      <td></td>\n      <td>{'dkim-signature': ('v=1; a=rsa-sha256; q=dns/...</td>\n    </tr>\n    <tr>\n      <th>1133</th>\n      <td>1214</td>\n      <td>FWD:Re[2]: сверка статьи</td>\n      <td>cs-it@cs.vsu.ru</td>\n      <td>Вероника Викторовна, на сайте уже появился 2 н...</td>\n      <td>Thu, 16 May 2024 12:06:45 +0300</td>\n      <td></td>\n      <td></td>\n      <td>{'dkim-signature': ('v=1; a=rsa-sha256; q=dns/...</td>\n    </tr>\n    <tr>\n      <th>1134</th>\n      <td>1215</td>\n      <td>FWD:Re: статья на рецензирование</td>\n      <td>cs-it@cs.vsu.ru</td>\n      <td>Уважаемая Вероника Викторовна,\\r\\nпредставленн...</td>\n      <td>Thu, 16 May 2024 12:06:45 +0300</td>\n      <td></td>\n      <td></td>\n      <td>{'dkim-signature': ('v=1; a=rsa-sha256; q=dns/...</td>\n    </tr>\n    <tr>\n      <th>1135</th>\n      <td>1216</td>\n      <td>FWD:</td>\n      <td>cs-it@cs.vsu.ru</td>\n      <td>Уважаемые Коллеги!\\n\\nПрошу Вас рассмотреть мо...</td>\n      <td>Thu, 16 May 2024 12:06:45 +0300</td>\n      <td>4прост. фрактал 22342+.doc</td>\n      <td>application/msword</td>\n      <td>{'dkim-signature': ('v=1; a=rsa-sha256; q=dns/...</td>\n    </tr>\n    <tr>\n      <th>1136</th>\n      <td>1217</td>\n      <td>FWD:Re: Статья Хацкевича В.Л.</td>\n      <td>cs-it@cs.vsu.ru</td>\n      <td>Уважаемая редколлегия!\\n\\nМной 27 июня 2018 го...</td>\n      <td>Thu, 16 May 2024 12:06:45 +0300</td>\n      <td></td>\n      <td></td>\n      <td>{'dkim-signature': ('v=1; a=rsa-sha256; q=dns/...</td>\n    </tr>\n  </tbody>\n</table>\n<p>1137 rows × 8 columns</p>\n</div>"
     },
     "execution_count": 163,
     "metadata": {},
     "output_type": "execute_result"
    }
   ],
   "source": [
    "source_df = mails_to_df(mails)\n",
    "source_df"
   ],
   "metadata": {
    "collapsed": false,
    "ExecuteTime": {
     "end_time": "2024-05-17T19:38:29.051280300Z",
     "start_time": "2024-05-17T19:36:26.958524600Z"
    }
   },
   "id": "4f4c2c7a71289c38"
  },
  {
   "cell_type": "code",
   "execution_count": 164,
   "outputs": [],
   "source": [
    "source_df.to_csv(\"files/1_source_mails.csv\", index=False)"
   ],
   "metadata": {
    "collapsed": false,
    "ExecuteTime": {
     "end_time": "2024-05-17T20:00:25.035060600Z",
     "start_time": "2024-05-17T20:00:24.893123900Z"
    }
   },
   "id": "cc95ed82c3318a05"
  },
  {
   "cell_type": "code",
   "execution_count": 165,
   "outputs": [],
   "source": [
    "df = source_df.copy()"
   ],
   "metadata": {
    "collapsed": false,
    "ExecuteTime": {
     "end_time": "2024-05-17T20:04:58.404227900Z",
     "start_time": "2024-05-17T20:04:58.395057500Z"
    }
   },
   "id": "69f5973701fd251e"
  },
  {
   "cell_type": "code",
   "execution_count": 169,
   "outputs": [],
   "source": [
    "def preprocess_date(df):\n",
    "    for index, row in df.iterrows():\n",
    "        headers = row['headers']\n",
    "        text = row['text']\n",
    "        date = row['date']\n",
    "        if 'x-original-date' in headers:\n",
    "            date = headers['x-original-date'][0]\n",
    "            \n",
    "        if 'Sent:' in text:\n",
    "            date = re.search(r'Sent: (.*?)\\n', text).group(1)\n",
    "            \n",
    "        dp = dateparser.parse(date)\n",
    "        if dp is not None:\n",
    "            date = dp.strftime(\"%d.%m.%Y %H:%M:%S\")\n",
    "        else:\n",
    "            date = search_dates(date)[0][1].strftime(\"%d.%m.%Y %H:%M:%S\")\n",
    "            \n",
    "        df.at[index, 'date'] = date\n",
    "    return df"
   ],
   "metadata": {
    "collapsed": false,
    "ExecuteTime": {
     "end_time": "2024-05-17T20:17:35.907543400Z",
     "start_time": "2024-05-17T20:17:35.886315400Z"
    }
   },
   "id": "bf6ae057e77d3739"
  },
  {
   "cell_type": "code",
   "execution_count": 170,
   "outputs": [
    {
     "data": {
      "text/plain": "   id                  subject             from  \\\n0  70  FW: Вестник САИТ 1-2018  cs-it@cs.vsu.ru   \n1  71      FW: Проверка статьи  cs-it@cs.vsu.ru   \n2  72   FW: e-mail Баевой Н.Б.  cs-it@cs.vsu.ru   \n3  73          FW: от Матвеева  cs-it@cs.vsu.ru   \n4  74             FW: рецензия  cs-it@cs.vsu.ru   \n\n                                                text                 date  \\\n0  \\r\\n\\r\\n-----Original Message-----\\r\\nFrom: Па...  10.06.2018 10:01:00   \n1   \\r\\n \\r\\nFrom: Михаил Горчаков <gorchakovmiha...  03.06.2018 23:57:00   \n2   \\r\\n \\r\\nFrom: Аснина Н.Г. <andrey050569@yand...  11.06.2018 11:38:00   \n3   \\r\\n \\r\\nFrom: Матвеев Михаил <mgmatveev@yand...  08.06.2018 08:49:00   \n4  \\r\\n\\r\\n-----Original Message-----\\r\\nFrom: Al...  07.06.2018 00:57:00   \n\n         attachment_filename  \\\n0                              \n1  Исправления_Горчаков.docx   \n2                              \n3              Рецензия.docx   \n4       рецензия_Шмырин.docx   \n\n                             attachment_content_type  \\\n0                                                      \n1  application/vnd.openxmlformats-officedocument....   \n2                                                      \n3  application/vnd.openxmlformats-officedocument....   \n4  application/vnd.openxmlformats-officedocument....   \n\n                                             headers  \n0  {'dkim-signature': ('v=1; a=rsa-sha256; q=dns/...  \n1  {'dkim-signature': ('v=1; a=rsa-sha256; q=dns/...  \n2  {'dkim-signature': ('v=1; a=rsa-sha256; q=dns/...  \n3  {'dkim-signature': ('v=1; a=rsa-sha256; q=dns/...  \n4  {'dkim-signature': ('v=1; a=rsa-sha256; q=dns/...  ",
      "text/html": "<div>\n<style scoped>\n    .dataframe tbody tr th:only-of-type {\n        vertical-align: middle;\n    }\n\n    .dataframe tbody tr th {\n        vertical-align: top;\n    }\n\n    .dataframe thead th {\n        text-align: right;\n    }\n</style>\n<table border=\"1\" class=\"dataframe\">\n  <thead>\n    <tr style=\"text-align: right;\">\n      <th></th>\n      <th>id</th>\n      <th>subject</th>\n      <th>from</th>\n      <th>text</th>\n      <th>date</th>\n      <th>attachment_filename</th>\n      <th>attachment_content_type</th>\n      <th>headers</th>\n    </tr>\n  </thead>\n  <tbody>\n    <tr>\n      <th>0</th>\n      <td>70</td>\n      <td>FW: Вестник САИТ 1-2018</td>\n      <td>cs-it@cs.vsu.ru</td>\n      <td>\\r\\n\\r\\n-----Original Message-----\\r\\nFrom: Па...</td>\n      <td>10.06.2018 10:01:00</td>\n      <td></td>\n      <td></td>\n      <td>{'dkim-signature': ('v=1; a=rsa-sha256; q=dns/...</td>\n    </tr>\n    <tr>\n      <th>1</th>\n      <td>71</td>\n      <td>FW: Проверка статьи</td>\n      <td>cs-it@cs.vsu.ru</td>\n      <td>\\r\\n \\r\\nFrom: Михаил Горчаков &lt;gorchakovmiha...</td>\n      <td>03.06.2018 23:57:00</td>\n      <td>Исправления_Горчаков.docx</td>\n      <td>application/vnd.openxmlformats-officedocument....</td>\n      <td>{'dkim-signature': ('v=1; a=rsa-sha256; q=dns/...</td>\n    </tr>\n    <tr>\n      <th>2</th>\n      <td>72</td>\n      <td>FW: e-mail Баевой Н.Б.</td>\n      <td>cs-it@cs.vsu.ru</td>\n      <td>\\r\\n \\r\\nFrom: Аснина Н.Г. &lt;andrey050569@yand...</td>\n      <td>11.06.2018 11:38:00</td>\n      <td></td>\n      <td></td>\n      <td>{'dkim-signature': ('v=1; a=rsa-sha256; q=dns/...</td>\n    </tr>\n    <tr>\n      <th>3</th>\n      <td>73</td>\n      <td>FW: от Матвеева</td>\n      <td>cs-it@cs.vsu.ru</td>\n      <td>\\r\\n \\r\\nFrom: Матвеев Михаил &lt;mgmatveev@yand...</td>\n      <td>08.06.2018 08:49:00</td>\n      <td>Рецензия.docx</td>\n      <td>application/vnd.openxmlformats-officedocument....</td>\n      <td>{'dkim-signature': ('v=1; a=rsa-sha256; q=dns/...</td>\n    </tr>\n    <tr>\n      <th>4</th>\n      <td>74</td>\n      <td>FW: рецензия</td>\n      <td>cs-it@cs.vsu.ru</td>\n      <td>\\r\\n\\r\\n-----Original Message-----\\r\\nFrom: Al...</td>\n      <td>07.06.2018 00:57:00</td>\n      <td>рецензия_Шмырин.docx</td>\n      <td>application/vnd.openxmlformats-officedocument....</td>\n      <td>{'dkim-signature': ('v=1; a=rsa-sha256; q=dns/...</td>\n    </tr>\n  </tbody>\n</table>\n</div>"
     },
     "execution_count": 170,
     "metadata": {},
     "output_type": "execute_result"
    }
   ],
   "source": [
    "df = preprocess_date(df)\n",
    "df.head()"
   ],
   "metadata": {
    "collapsed": false,
    "ExecuteTime": {
     "end_time": "2024-05-17T20:17:42.433643800Z",
     "start_time": "2024-05-17T20:17:37.847714200Z"
    }
   },
   "id": "f175357307764c10"
  },
  {
   "cell_type": "code",
   "execution_count": 173,
   "outputs": [],
   "source": [
    "fixed_dates_df = df.copy()"
   ],
   "metadata": {
    "collapsed": false,
    "ExecuteTime": {
     "end_time": "2024-05-17T20:23:24.569952700Z",
     "start_time": "2024-05-17T20:23:24.556706800Z"
    }
   },
   "id": "bd2a38df926ee963"
  },
  {
   "cell_type": "code",
   "execution_count": 188,
   "outputs": [
    {
     "data": {
      "text/plain": "   id                  subject             from  \\\n0  70  FW: Вестник САИТ 1-2018  cs-it@cs.vsu.ru   \n1  71      FW: Проверка статьи  cs-it@cs.vsu.ru   \n2  72   FW: e-mail Баевой Н.Б.  cs-it@cs.vsu.ru   \n3  73          FW: от Матвеева  cs-it@cs.vsu.ru   \n4  74             FW: рецензия  cs-it@cs.vsu.ru   \n\n                                                text                 date  \\\n0  \\r\\n\\r\\n-----Original Message-----\\r\\nFrom: Па...  10.06.2018 10:01:00   \n1   \\r\\n \\r\\nFrom: Михаил Горчаков <gorchakovmiha...  03.06.2018 23:57:00   \n2   \\r\\n \\r\\nFrom: Аснина Н.Г. <andrey050569@yand...  11.06.2018 11:38:00   \n3   \\r\\n \\r\\nFrom: Матвеев Михаил <mgmatveev@yand...  08.06.2018 08:49:00   \n4  \\r\\n\\r\\n-----Original Message-----\\r\\nFrom: Al...  07.06.2018 00:57:00   \n\n         attachment_filename  \\\n0                              \n1  Исправления_Горчаков.docx   \n2                              \n3              Рецензия.docx   \n4       рецензия_Шмырин.docx   \n\n                             attachment_content_type  \\\n0                                                      \n1  application/vnd.openxmlformats-officedocument....   \n2                                                      \n3  application/vnd.openxmlformats-officedocument....   \n4  application/vnd.openxmlformats-officedocument....   \n\n                                             headers  \n0  {'dkim-signature': ('v=1; a=rsa-sha256; q=dns/...  \n1  {'dkim-signature': ('v=1; a=rsa-sha256; q=dns/...  \n2  {'dkim-signature': ('v=1; a=rsa-sha256; q=dns/...  \n3  {'dkim-signature': ('v=1; a=rsa-sha256; q=dns/...  \n4  {'dkim-signature': ('v=1; a=rsa-sha256; q=dns/...  ",
      "text/html": "<div>\n<style scoped>\n    .dataframe tbody tr th:only-of-type {\n        vertical-align: middle;\n    }\n\n    .dataframe tbody tr th {\n        vertical-align: top;\n    }\n\n    .dataframe thead th {\n        text-align: right;\n    }\n</style>\n<table border=\"1\" class=\"dataframe\">\n  <thead>\n    <tr style=\"text-align: right;\">\n      <th></th>\n      <th>id</th>\n      <th>subject</th>\n      <th>from</th>\n      <th>text</th>\n      <th>date</th>\n      <th>attachment_filename</th>\n      <th>attachment_content_type</th>\n      <th>headers</th>\n    </tr>\n  </thead>\n  <tbody>\n    <tr>\n      <th>0</th>\n      <td>70</td>\n      <td>FW: Вестник САИТ 1-2018</td>\n      <td>cs-it@cs.vsu.ru</td>\n      <td>\\r\\n\\r\\n-----Original Message-----\\r\\nFrom: Па...</td>\n      <td>10.06.2018 10:01:00</td>\n      <td></td>\n      <td></td>\n      <td>{'dkim-signature': ('v=1; a=rsa-sha256; q=dns/...</td>\n    </tr>\n    <tr>\n      <th>1</th>\n      <td>71</td>\n      <td>FW: Проверка статьи</td>\n      <td>cs-it@cs.vsu.ru</td>\n      <td>\\r\\n \\r\\nFrom: Михаил Горчаков &lt;gorchakovmiha...</td>\n      <td>03.06.2018 23:57:00</td>\n      <td>Исправления_Горчаков.docx</td>\n      <td>application/vnd.openxmlformats-officedocument....</td>\n      <td>{'dkim-signature': ('v=1; a=rsa-sha256; q=dns/...</td>\n    </tr>\n    <tr>\n      <th>2</th>\n      <td>72</td>\n      <td>FW: e-mail Баевой Н.Б.</td>\n      <td>cs-it@cs.vsu.ru</td>\n      <td>\\r\\n \\r\\nFrom: Аснина Н.Г. &lt;andrey050569@yand...</td>\n      <td>11.06.2018 11:38:00</td>\n      <td></td>\n      <td></td>\n      <td>{'dkim-signature': ('v=1; a=rsa-sha256; q=dns/...</td>\n    </tr>\n    <tr>\n      <th>3</th>\n      <td>73</td>\n      <td>FW: от Матвеева</td>\n      <td>cs-it@cs.vsu.ru</td>\n      <td>\\r\\n \\r\\nFrom: Матвеев Михаил &lt;mgmatveev@yand...</td>\n      <td>08.06.2018 08:49:00</td>\n      <td>Рецензия.docx</td>\n      <td>application/vnd.openxmlformats-officedocument....</td>\n      <td>{'dkim-signature': ('v=1; a=rsa-sha256; q=dns/...</td>\n    </tr>\n    <tr>\n      <th>4</th>\n      <td>74</td>\n      <td>FW: рецензия</td>\n      <td>cs-it@cs.vsu.ru</td>\n      <td>\\r\\n\\r\\n-----Original Message-----\\r\\nFrom: Al...</td>\n      <td>07.06.2018 00:57:00</td>\n      <td>рецензия_Шмырин.docx</td>\n      <td>application/vnd.openxmlformats-officedocument....</td>\n      <td>{'dkim-signature': ('v=1; a=rsa-sha256; q=dns/...</td>\n    </tr>\n  </tbody>\n</table>\n</div>"
     },
     "execution_count": 188,
     "metadata": {},
     "output_type": "execute_result"
    }
   ],
   "source": [
    "df = fixed_dates_df.copy()\n",
    "df.head()"
   ],
   "metadata": {
    "collapsed": false,
    "ExecuteTime": {
     "end_time": "2024-05-17T20:50:07.854994700Z",
     "start_time": "2024-05-17T20:50:07.812725Z"
    }
   },
   "id": "64c1d697d3150ef0"
  },
  {
   "cell_type": "code",
   "execution_count": 189,
   "outputs": [],
   "source": [
    "def preprocess_from(df):\n",
    "    for index, row in df.iterrows():\n",
    "        headers = row['headers']\n",
    "        text = row['text']\n",
    "        x_from = row['from']\n",
    "        if 'x-original-from' in headers:\n",
    "            x_from = headers['x-original-from'][0]\n",
    "        elif 'From:' in text:\n",
    "            x_from = re.search(r'From: (.*?)\\n', text).group(1)\n",
    "            \n",
    "        if len(decode_header(x_from)) == 2:\n",
    "            encoding = decode_header(x_from)[0][1]\n",
    "            name = decode_header(x_from)[0][0]\n",
    "            if encoding is not None:\n",
    "                name = name.decode(encoding)\n",
    "            \n",
    "            address = decode_header(x_from)[1][0].decode()\n",
    "            x_from = name + ' ' + address\n",
    "            \n",
    "        df.at[index, 'from'] = x_from\n",
    "    return df"
   ],
   "metadata": {
    "collapsed": false,
    "ExecuteTime": {
     "end_time": "2024-05-17T20:50:14.396161500Z",
     "start_time": "2024-05-17T20:50:14.384986100Z"
    }
   },
   "id": "324547955ec4d319"
  },
  {
   "cell_type": "code",
   "execution_count": 190,
   "outputs": [
    {
     "data": {
      "text/plain": "        id                           subject  \\\n0       70           FW: Вестник САИТ 1-2018   \n1       71               FW: Проверка статьи   \n2       72            FW: e-mail Баевой Н.Б.   \n3       73                   FW: от Матвеева   \n4       74                      FW: рецензия   \n...    ...                               ...   \n1132  1213     FWD:Re: Заседание редколлегии   \n1133  1214          FWD:Re[2]: сверка статьи   \n1134  1215  FWD:Re: статья на рецензирование   \n1135  1216                              FWD:   \n1136  1217     FWD:Re: Статья Хацкевича В.Л.   \n\n                                                   from  \\\n0     Павловский Максим Викторович <pmv-160570@yande...   \n1          Михаил Горчаков <gorchakovmihail@mail.ru> \\r   \n2               Аснина Н.Г. <andrey050569@yandex.ru> \\r   \n3               Матвеев Михаил <mgmatveev@yandex.ru> \\r   \n4           Alexander Krylovetsky <aakryl@sc.vsu.ru> \\r   \n...                                                 ...   \n1132          Irina Voronina <irina.voronina@gmail.com>   \n1133          сергеев александр  <sergeev00765@mail.ru>   \n1134             \"Sergey A. Zapryagaev\" <zsa@cs.vsu.ru>   \n1135     Александр Щербаков  <a.scherbakov58@yahoo.com>   \n1136       Владимир Львович Хацкевич  <vlkhats@mail.ru>   \n\n                                                   text                 date  \\\n0     \\r\\n\\r\\n-----Original Message-----\\r\\nFrom: Па...  10.06.2018 10:01:00   \n1      \\r\\n \\r\\nFrom: Михаил Горчаков <gorchakovmiha...  03.06.2018 23:57:00   \n2      \\r\\n \\r\\nFrom: Аснина Н.Г. <andrey050569@yand...  11.06.2018 11:38:00   \n3      \\r\\n \\r\\nFrom: Матвеев Михаил <mgmatveev@yand...  08.06.2018 08:49:00   \n4     \\r\\n\\r\\n-----Original Message-----\\r\\nFrom: Al...  07.06.2018 00:57:00   \n...                                                 ...                  ...   \n1132  Вероника, привет!\\r\\nСреда - единственный день...  04.09.2018 16:11:03   \n1133  Вероника Викторовна, на сайте уже появился 2 н...  05.09.2018 09:01:06   \n1134  Уважаемая Вероника Викторовна,\\r\\nпредставленн...  06.09.2018 15:35:28   \n1135  Уважаемые Коллеги!\\n\\nПрошу Вас рассмотреть мо...  14.04.2018 00:00:00   \n1136  Уважаемая редколлегия!\\n\\nМной 27 июня 2018 го...  06.09.2018 16:36:38   \n\n             attachment_filename  \\\n0                                  \n1      Исправления_Горчаков.docx   \n2                                  \n3                  Рецензия.docx   \n4           рецензия_Шмырин.docx   \n...                          ...   \n1132                               \n1133                               \n1134                               \n1135  4прост. фрактал 22342+.doc   \n1136                               \n\n                                attachment_content_type  \\\n0                                                         \n1     application/vnd.openxmlformats-officedocument....   \n2                                                         \n3     application/vnd.openxmlformats-officedocument....   \n4     application/vnd.openxmlformats-officedocument....   \n...                                                 ...   \n1132                                                      \n1133                                                      \n1134                                                      \n1135                                 application/msword   \n1136                                                      \n\n                                                headers  \n0     {'dkim-signature': ('v=1; a=rsa-sha256; q=dns/...  \n1     {'dkim-signature': ('v=1; a=rsa-sha256; q=dns/...  \n2     {'dkim-signature': ('v=1; a=rsa-sha256; q=dns/...  \n3     {'dkim-signature': ('v=1; a=rsa-sha256; q=dns/...  \n4     {'dkim-signature': ('v=1; a=rsa-sha256; q=dns/...  \n...                                                 ...  \n1132  {'dkim-signature': ('v=1; a=rsa-sha256; q=dns/...  \n1133  {'dkim-signature': ('v=1; a=rsa-sha256; q=dns/...  \n1134  {'dkim-signature': ('v=1; a=rsa-sha256; q=dns/...  \n1135  {'dkim-signature': ('v=1; a=rsa-sha256; q=dns/...  \n1136  {'dkim-signature': ('v=1; a=rsa-sha256; q=dns/...  \n\n[1137 rows x 8 columns]",
      "text/html": "<div>\n<style scoped>\n    .dataframe tbody tr th:only-of-type {\n        vertical-align: middle;\n    }\n\n    .dataframe tbody tr th {\n        vertical-align: top;\n    }\n\n    .dataframe thead th {\n        text-align: right;\n    }\n</style>\n<table border=\"1\" class=\"dataframe\">\n  <thead>\n    <tr style=\"text-align: right;\">\n      <th></th>\n      <th>id</th>\n      <th>subject</th>\n      <th>from</th>\n      <th>text</th>\n      <th>date</th>\n      <th>attachment_filename</th>\n      <th>attachment_content_type</th>\n      <th>headers</th>\n    </tr>\n  </thead>\n  <tbody>\n    <tr>\n      <th>0</th>\n      <td>70</td>\n      <td>FW: Вестник САИТ 1-2018</td>\n      <td>Павловский Максим Викторович &lt;pmv-160570@yande...</td>\n      <td>\\r\\n\\r\\n-----Original Message-----\\r\\nFrom: Па...</td>\n      <td>10.06.2018 10:01:00</td>\n      <td></td>\n      <td></td>\n      <td>{'dkim-signature': ('v=1; a=rsa-sha256; q=dns/...</td>\n    </tr>\n    <tr>\n      <th>1</th>\n      <td>71</td>\n      <td>FW: Проверка статьи</td>\n      <td>Михаил Горчаков &lt;gorchakovmihail@mail.ru&gt; \\r</td>\n      <td>\\r\\n \\r\\nFrom: Михаил Горчаков &lt;gorchakovmiha...</td>\n      <td>03.06.2018 23:57:00</td>\n      <td>Исправления_Горчаков.docx</td>\n      <td>application/vnd.openxmlformats-officedocument....</td>\n      <td>{'dkim-signature': ('v=1; a=rsa-sha256; q=dns/...</td>\n    </tr>\n    <tr>\n      <th>2</th>\n      <td>72</td>\n      <td>FW: e-mail Баевой Н.Б.</td>\n      <td>Аснина Н.Г. &lt;andrey050569@yandex.ru&gt; \\r</td>\n      <td>\\r\\n \\r\\nFrom: Аснина Н.Г. &lt;andrey050569@yand...</td>\n      <td>11.06.2018 11:38:00</td>\n      <td></td>\n      <td></td>\n      <td>{'dkim-signature': ('v=1; a=rsa-sha256; q=dns/...</td>\n    </tr>\n    <tr>\n      <th>3</th>\n      <td>73</td>\n      <td>FW: от Матвеева</td>\n      <td>Матвеев Михаил &lt;mgmatveev@yandex.ru&gt; \\r</td>\n      <td>\\r\\n \\r\\nFrom: Матвеев Михаил &lt;mgmatveev@yand...</td>\n      <td>08.06.2018 08:49:00</td>\n      <td>Рецензия.docx</td>\n      <td>application/vnd.openxmlformats-officedocument....</td>\n      <td>{'dkim-signature': ('v=1; a=rsa-sha256; q=dns/...</td>\n    </tr>\n    <tr>\n      <th>4</th>\n      <td>74</td>\n      <td>FW: рецензия</td>\n      <td>Alexander Krylovetsky &lt;aakryl@sc.vsu.ru&gt; \\r</td>\n      <td>\\r\\n\\r\\n-----Original Message-----\\r\\nFrom: Al...</td>\n      <td>07.06.2018 00:57:00</td>\n      <td>рецензия_Шмырин.docx</td>\n      <td>application/vnd.openxmlformats-officedocument....</td>\n      <td>{'dkim-signature': ('v=1; a=rsa-sha256; q=dns/...</td>\n    </tr>\n    <tr>\n      <th>...</th>\n      <td>...</td>\n      <td>...</td>\n      <td>...</td>\n      <td>...</td>\n      <td>...</td>\n      <td>...</td>\n      <td>...</td>\n      <td>...</td>\n    </tr>\n    <tr>\n      <th>1132</th>\n      <td>1213</td>\n      <td>FWD:Re: Заседание редколлегии</td>\n      <td>Irina Voronina &lt;irina.voronina@gmail.com&gt;</td>\n      <td>Вероника, привет!\\r\\nСреда - единственный день...</td>\n      <td>04.09.2018 16:11:03</td>\n      <td></td>\n      <td></td>\n      <td>{'dkim-signature': ('v=1; a=rsa-sha256; q=dns/...</td>\n    </tr>\n    <tr>\n      <th>1133</th>\n      <td>1214</td>\n      <td>FWD:Re[2]: сверка статьи</td>\n      <td>сергеев александр  &lt;sergeev00765@mail.ru&gt;</td>\n      <td>Вероника Викторовна, на сайте уже появился 2 н...</td>\n      <td>05.09.2018 09:01:06</td>\n      <td></td>\n      <td></td>\n      <td>{'dkim-signature': ('v=1; a=rsa-sha256; q=dns/...</td>\n    </tr>\n    <tr>\n      <th>1134</th>\n      <td>1215</td>\n      <td>FWD:Re: статья на рецензирование</td>\n      <td>\"Sergey A. Zapryagaev\" &lt;zsa@cs.vsu.ru&gt;</td>\n      <td>Уважаемая Вероника Викторовна,\\r\\nпредставленн...</td>\n      <td>06.09.2018 15:35:28</td>\n      <td></td>\n      <td></td>\n      <td>{'dkim-signature': ('v=1; a=rsa-sha256; q=dns/...</td>\n    </tr>\n    <tr>\n      <th>1135</th>\n      <td>1216</td>\n      <td>FWD:</td>\n      <td>Александр Щербаков  &lt;a.scherbakov58@yahoo.com&gt;</td>\n      <td>Уважаемые Коллеги!\\n\\nПрошу Вас рассмотреть мо...</td>\n      <td>14.04.2018 00:00:00</td>\n      <td>4прост. фрактал 22342+.doc</td>\n      <td>application/msword</td>\n      <td>{'dkim-signature': ('v=1; a=rsa-sha256; q=dns/...</td>\n    </tr>\n    <tr>\n      <th>1136</th>\n      <td>1217</td>\n      <td>FWD:Re: Статья Хацкевича В.Л.</td>\n      <td>Владимир Львович Хацкевич  &lt;vlkhats@mail.ru&gt;</td>\n      <td>Уважаемая редколлегия!\\n\\nМной 27 июня 2018 го...</td>\n      <td>06.09.2018 16:36:38</td>\n      <td></td>\n      <td></td>\n      <td>{'dkim-signature': ('v=1; a=rsa-sha256; q=dns/...</td>\n    </tr>\n  </tbody>\n</table>\n<p>1137 rows × 8 columns</p>\n</div>"
     },
     "execution_count": 190,
     "metadata": {},
     "output_type": "execute_result"
    }
   ],
   "source": [
    "preprocess_from(df)"
   ],
   "metadata": {
    "collapsed": false,
    "ExecuteTime": {
     "end_time": "2024-05-17T20:50:17.612637800Z",
     "start_time": "2024-05-17T20:50:17.457008600Z"
    }
   },
   "id": "60c1c11d5de1c1c3"
  },
  {
   "cell_type": "code",
   "execution_count": 191,
   "outputs": [],
   "source": [
    "fixed_from_df = df.copy()"
   ],
   "metadata": {
    "collapsed": false,
    "ExecuteTime": {
     "end_time": "2024-05-17T20:51:41.413358600Z",
     "start_time": "2024-05-17T20:51:41.395274300Z"
    }
   },
   "id": "d85e8f0495999e39"
  },
  {
   "cell_type": "code",
   "execution_count": 192,
   "outputs": [
    {
     "data": {
      "text/plain": "   id                  subject  \\\n0  70  FW: Вестник САИТ 1-2018   \n1  71      FW: Проверка статьи   \n2  72   FW: e-mail Баевой Н.Б.   \n3  73          FW: от Матвеева   \n4  74             FW: рецензия   \n\n                                                from  \\\n0  Павловский Максим Викторович <pmv-160570@yande...   \n1       Михаил Горчаков <gorchakovmihail@mail.ru> \\r   \n2            Аснина Н.Г. <andrey050569@yandex.ru> \\r   \n3            Матвеев Михаил <mgmatveev@yandex.ru> \\r   \n4        Alexander Krylovetsky <aakryl@sc.vsu.ru> \\r   \n\n                                                text                date  \\\n0  \\r\\n\\r\\n-----Original Message-----\\r\\nFrom: Па... 2018-06-10 10:01:00   \n1   \\r\\n \\r\\nFrom: Михаил Горчаков <gorchakovmiha... 2018-06-03 23:57:00   \n2   \\r\\n \\r\\nFrom: Аснина Н.Г. <andrey050569@yand... 2018-06-11 11:38:00   \n3   \\r\\n \\r\\nFrom: Матвеев Михаил <mgmatveev@yand... 2018-06-08 08:49:00   \n4  \\r\\n\\r\\n-----Original Message-----\\r\\nFrom: Al... 2018-06-07 00:57:00   \n\n         attachment_filename  \\\n0                              \n1  Исправления_Горчаков.docx   \n2                              \n3              Рецензия.docx   \n4       рецензия_Шмырин.docx   \n\n                             attachment_content_type  \\\n0                                                      \n1  application/vnd.openxmlformats-officedocument....   \n2                                                      \n3  application/vnd.openxmlformats-officedocument....   \n4  application/vnd.openxmlformats-officedocument....   \n\n                                             headers  \n0  {'dkim-signature': ('v=1; a=rsa-sha256; q=dns/...  \n1  {'dkim-signature': ('v=1; a=rsa-sha256; q=dns/...  \n2  {'dkim-signature': ('v=1; a=rsa-sha256; q=dns/...  \n3  {'dkim-signature': ('v=1; a=rsa-sha256; q=dns/...  \n4  {'dkim-signature': ('v=1; a=rsa-sha256; q=dns/...  ",
      "text/html": "<div>\n<style scoped>\n    .dataframe tbody tr th:only-of-type {\n        vertical-align: middle;\n    }\n\n    .dataframe tbody tr th {\n        vertical-align: top;\n    }\n\n    .dataframe thead th {\n        text-align: right;\n    }\n</style>\n<table border=\"1\" class=\"dataframe\">\n  <thead>\n    <tr style=\"text-align: right;\">\n      <th></th>\n      <th>id</th>\n      <th>subject</th>\n      <th>from</th>\n      <th>text</th>\n      <th>date</th>\n      <th>attachment_filename</th>\n      <th>attachment_content_type</th>\n      <th>headers</th>\n    </tr>\n  </thead>\n  <tbody>\n    <tr>\n      <th>0</th>\n      <td>70</td>\n      <td>FW: Вестник САИТ 1-2018</td>\n      <td>Павловский Максим Викторович &lt;pmv-160570@yande...</td>\n      <td>\\r\\n\\r\\n-----Original Message-----\\r\\nFrom: Па...</td>\n      <td>2018-06-10 10:01:00</td>\n      <td></td>\n      <td></td>\n      <td>{'dkim-signature': ('v=1; a=rsa-sha256; q=dns/...</td>\n    </tr>\n    <tr>\n      <th>1</th>\n      <td>71</td>\n      <td>FW: Проверка статьи</td>\n      <td>Михаил Горчаков &lt;gorchakovmihail@mail.ru&gt; \\r</td>\n      <td>\\r\\n \\r\\nFrom: Михаил Горчаков &lt;gorchakovmiha...</td>\n      <td>2018-06-03 23:57:00</td>\n      <td>Исправления_Горчаков.docx</td>\n      <td>application/vnd.openxmlformats-officedocument....</td>\n      <td>{'dkim-signature': ('v=1; a=rsa-sha256; q=dns/...</td>\n    </tr>\n    <tr>\n      <th>2</th>\n      <td>72</td>\n      <td>FW: e-mail Баевой Н.Б.</td>\n      <td>Аснина Н.Г. &lt;andrey050569@yandex.ru&gt; \\r</td>\n      <td>\\r\\n \\r\\nFrom: Аснина Н.Г. &lt;andrey050569@yand...</td>\n      <td>2018-06-11 11:38:00</td>\n      <td></td>\n      <td></td>\n      <td>{'dkim-signature': ('v=1; a=rsa-sha256; q=dns/...</td>\n    </tr>\n    <tr>\n      <th>3</th>\n      <td>73</td>\n      <td>FW: от Матвеева</td>\n      <td>Матвеев Михаил &lt;mgmatveev@yandex.ru&gt; \\r</td>\n      <td>\\r\\n \\r\\nFrom: Матвеев Михаил &lt;mgmatveev@yand...</td>\n      <td>2018-06-08 08:49:00</td>\n      <td>Рецензия.docx</td>\n      <td>application/vnd.openxmlformats-officedocument....</td>\n      <td>{'dkim-signature': ('v=1; a=rsa-sha256; q=dns/...</td>\n    </tr>\n    <tr>\n      <th>4</th>\n      <td>74</td>\n      <td>FW: рецензия</td>\n      <td>Alexander Krylovetsky &lt;aakryl@sc.vsu.ru&gt; \\r</td>\n      <td>\\r\\n\\r\\n-----Original Message-----\\r\\nFrom: Al...</td>\n      <td>2018-06-07 00:57:00</td>\n      <td>рецензия_Шмырин.docx</td>\n      <td>application/vnd.openxmlformats-officedocument....</td>\n      <td>{'dkim-signature': ('v=1; a=rsa-sha256; q=dns/...</td>\n    </tr>\n  </tbody>\n</table>\n</div>"
     },
     "execution_count": 192,
     "metadata": {},
     "output_type": "execute_result"
    }
   ],
   "source": [
    "df['date'] = pd.to_datetime(df['date'], format=\"%d.%m.%Y %H:%M:%S\")\n",
    "df.head()"
   ],
   "metadata": {
    "collapsed": false,
    "ExecuteTime": {
     "end_time": "2024-05-17T20:53:41.616251100Z",
     "start_time": "2024-05-17T20:53:41.571322500Z"
    }
   },
   "id": "7b877e9c05bbf79b"
  },
  {
   "cell_type": "code",
   "execution_count": 195,
   "outputs": [],
   "source": [
    "def preprocess_subject(subjects: list[str]):\n",
    "    column = []\n",
    "    for s in subjects:\n",
    "        if s:\n",
    "            s = s.removeprefix(\"FWD:\").removeprefix(\"Fwd:\")\n",
    "            column.append(s)\n",
    "        else:\n",
    "            column.append('Нет темы')\n",
    "    return column\n"
   ],
   "metadata": {
    "collapsed": false,
    "ExecuteTime": {
     "end_time": "2024-05-17T20:54:57.729213200Z",
     "start_time": "2024-05-17T20:54:57.717958900Z"
    }
   },
   "id": "8515932c8b49dee6"
  },
  {
   "cell_type": "code",
   "execution_count": 196,
   "outputs": [
    {
     "data": {
      "text/plain": "       id                                      subject  \\\n11     82                           Повторная отправка   \n12     83                  Re: Шаблон рецензии (новый)   \n19     90             RE: статья Вестник САИТ Рецензия   \n27     98                RE: статья для рецензирования   \n21     92                       RE: рецензия на статью   \n..    ...                                          ...   \n987  1065                       Re: статья на рецензию   \n990  1068                                       статья   \n991  1069  Re: Королев= ответы на замечания рецензента   \n988  1066                   Re: Конденсированные среды   \n582   658               Привет, ты получил сообщение.    \n\n                                                  from  \\\n11   Павловский Максим Викторович  <pmv-160570@yand...   \n12                   Юрий Нечаев  <nechaev_ub@mail.ru>   \n19                       Толстобров А.П.  <tap@vsu.ru>   \n27             Вялых Сергей Ариевич <vyalyh@govvrn.ru>   \n21                       Толстобров А.П.  <tap@vsu.ru>   \n..                                                 ...   \n987               Алексей Буховец  <abuhovets@mail.ru>   \n990              hein minzaw <heinminnzaw13@gmail.com>   \n991            Сергей Медведев  <s_n_medvedev@mail.ru>   \n988  CONDENSED MATTER AND INTERPHASES <kcmf@main.vs...   \n582                       Sasa <smrd@semribearing.com>   \n\n                                                  text                date  \\\n11   Добрый вечер!\\r\\nОтсылаю материалы рецензии на... 2016-01-14 20:47:03   \n12                                     Спасибо.Нечаев. 2018-02-04 19:56:26   \n19   Добрый день!\\r\\nПосылаю рецензию\\r\\n\\r\\nС уваж... 2018-02-09 17:36:00   \n27   Доброе время суток, Вероника Викторовна!\\r\\n\\r... 2018-02-09 17:54:00   \n21   Добрый день!\\r\\nПосылаю рецензию\\r\\n\\r\\nС уваж... 2018-02-11 22:37:00   \n..                                                 ...                 ...   \n987  Высылаю рецензию на материал А.М. Сагдатуллина... 2019-11-14 09:40:50   \n990  Здравствуйте !\\r\\nМою отправлен нучную статью ... 2019-11-14 14:40:59   \n991  Здравствуйте.\\nСчитаю, что статья может быть о... 2019-11-15 00:03:13   \n988  Добрый день, Виктория Викторовна!\\r\\n\\r\\nЮрист... 2019-11-15 09:43:16   \n582  Привет друг,\\n\\n\\nЭто Sasa из Тяньцзиня Semri ... 2024-05-16 00:00:00   \n\n                                   attachment_filename  \\\n11                               Рецензия Гаршиной.doc   \n12                                                       \n19   Рецензия Толстоброва на статью А.С. Платонова....   \n27      рецензия_на_Проблема защита_пользователей.docx   \n21   Рецензия Толстоброва на статью Черненькая-Маге...   \n..                                                 ...   \n987                Рецензии Сагдатуллина А_М_САИТ.docx   \n990                    Рис1.docx,Рис2.docx,Статья .doc   \n991  Ответ после повторного рецензирования.pdf,Реце...   \n988                                                      \n582                                          邮件照片3.jpg   \n\n                               attachment_content_type  \\\n11                                  application/msword   \n12                                                       \n19   application/vnd.openxmlformats-officedocument....   \n27   application/vnd.openxmlformats-officedocument....   \n21   application/vnd.openxmlformats-officedocument....   \n..                                                 ...   \n987  application/vnd.openxmlformats-officedocument....   \n990  application/vnd.openxmlformats-officedocument....   \n991  application/pdf,application/vnd.openxmlformats...   \n988                                                      \n582                                         image/jpeg   \n\n                                               headers  \n11   {'dkim-signature': ('v=1; a=rsa-sha256; q=dns/...  \n12   {'dkim-signature': ('v=1; a=rsa-sha256; q=dns/...  \n19   {'dkim-signature': ('v=1; a=rsa-sha256; q=dns/...  \n27   {'dkim-signature': ('v=1; a=rsa-sha256; q=dns/...  \n21   {'dkim-signature': ('v=1; a=rsa-sha256; q=dns/...  \n..                                                 ...  \n987  {'dkim-signature': ('v=1; a=rsa-sha256; q=dns/...  \n990  {'dkim-signature': ('v=1; a=rsa-sha256; q=dns/...  \n991  {'dkim-signature': ('v=1; a=rsa-sha256; q=dns/...  \n988  {'dkim-signature': ('v=1; a=rsa-sha256; q=dns/...  \n582  {'dkim-signature': ('v=1; a=rsa-sha256; q=dns/...  \n\n[1137 rows x 8 columns]",
      "text/html": "<div>\n<style scoped>\n    .dataframe tbody tr th:only-of-type {\n        vertical-align: middle;\n    }\n\n    .dataframe tbody tr th {\n        vertical-align: top;\n    }\n\n    .dataframe thead th {\n        text-align: right;\n    }\n</style>\n<table border=\"1\" class=\"dataframe\">\n  <thead>\n    <tr style=\"text-align: right;\">\n      <th></th>\n      <th>id</th>\n      <th>subject</th>\n      <th>from</th>\n      <th>text</th>\n      <th>date</th>\n      <th>attachment_filename</th>\n      <th>attachment_content_type</th>\n      <th>headers</th>\n    </tr>\n  </thead>\n  <tbody>\n    <tr>\n      <th>11</th>\n      <td>82</td>\n      <td>Повторная отправка</td>\n      <td>Павловский Максим Викторович  &lt;pmv-160570@yand...</td>\n      <td>Добрый вечер!\\r\\nОтсылаю материалы рецензии на...</td>\n      <td>2016-01-14 20:47:03</td>\n      <td>Рецензия Гаршиной.doc</td>\n      <td>application/msword</td>\n      <td>{'dkim-signature': ('v=1; a=rsa-sha256; q=dns/...</td>\n    </tr>\n    <tr>\n      <th>12</th>\n      <td>83</td>\n      <td>Re: Шаблон рецензии (новый)</td>\n      <td>Юрий Нечаев  &lt;nechaev_ub@mail.ru&gt;</td>\n      <td>Спасибо.Нечаев.</td>\n      <td>2018-02-04 19:56:26</td>\n      <td></td>\n      <td></td>\n      <td>{'dkim-signature': ('v=1; a=rsa-sha256; q=dns/...</td>\n    </tr>\n    <tr>\n      <th>19</th>\n      <td>90</td>\n      <td>RE: статья Вестник САИТ Рецензия</td>\n      <td>Толстобров А.П.  &lt;tap@vsu.ru&gt;</td>\n      <td>Добрый день!\\r\\nПосылаю рецензию\\r\\n\\r\\nС уваж...</td>\n      <td>2018-02-09 17:36:00</td>\n      <td>Рецензия Толстоброва на статью А.С. Платонова....</td>\n      <td>application/vnd.openxmlformats-officedocument....</td>\n      <td>{'dkim-signature': ('v=1; a=rsa-sha256; q=dns/...</td>\n    </tr>\n    <tr>\n      <th>27</th>\n      <td>98</td>\n      <td>RE: статья для рецензирования</td>\n      <td>Вялых Сергей Ариевич &lt;vyalyh@govvrn.ru&gt;</td>\n      <td>Доброе время суток, Вероника Викторовна!\\r\\n\\r...</td>\n      <td>2018-02-09 17:54:00</td>\n      <td>рецензия_на_Проблема защита_пользователей.docx</td>\n      <td>application/vnd.openxmlformats-officedocument....</td>\n      <td>{'dkim-signature': ('v=1; a=rsa-sha256; q=dns/...</td>\n    </tr>\n    <tr>\n      <th>21</th>\n      <td>92</td>\n      <td>RE: рецензия на статью</td>\n      <td>Толстобров А.П.  &lt;tap@vsu.ru&gt;</td>\n      <td>Добрый день!\\r\\nПосылаю рецензию\\r\\n\\r\\nС уваж...</td>\n      <td>2018-02-11 22:37:00</td>\n      <td>Рецензия Толстоброва на статью Черненькая-Маге...</td>\n      <td>application/vnd.openxmlformats-officedocument....</td>\n      <td>{'dkim-signature': ('v=1; a=rsa-sha256; q=dns/...</td>\n    </tr>\n    <tr>\n      <th>...</th>\n      <td>...</td>\n      <td>...</td>\n      <td>...</td>\n      <td>...</td>\n      <td>...</td>\n      <td>...</td>\n      <td>...</td>\n      <td>...</td>\n    </tr>\n    <tr>\n      <th>987</th>\n      <td>1065</td>\n      <td>Re: статья на рецензию</td>\n      <td>Алексей Буховец  &lt;abuhovets@mail.ru&gt;</td>\n      <td>Высылаю рецензию на материал А.М. Сагдатуллина...</td>\n      <td>2019-11-14 09:40:50</td>\n      <td>Рецензии Сагдатуллина А_М_САИТ.docx</td>\n      <td>application/vnd.openxmlformats-officedocument....</td>\n      <td>{'dkim-signature': ('v=1; a=rsa-sha256; q=dns/...</td>\n    </tr>\n    <tr>\n      <th>990</th>\n      <td>1068</td>\n      <td>статья</td>\n      <td>hein minzaw &lt;heinminnzaw13@gmail.com&gt;</td>\n      <td>Здравствуйте !\\r\\nМою отправлен нучную статью ...</td>\n      <td>2019-11-14 14:40:59</td>\n      <td>Рис1.docx,Рис2.docx,Статья .doc</td>\n      <td>application/vnd.openxmlformats-officedocument....</td>\n      <td>{'dkim-signature': ('v=1; a=rsa-sha256; q=dns/...</td>\n    </tr>\n    <tr>\n      <th>991</th>\n      <td>1069</td>\n      <td>Re: Королев= ответы на замечания рецензента</td>\n      <td>Сергей Медведев  &lt;s_n_medvedev@mail.ru&gt;</td>\n      <td>Здравствуйте.\\nСчитаю, что статья может быть о...</td>\n      <td>2019-11-15 00:03:13</td>\n      <td>Ответ после повторного рецензирования.pdf,Реце...</td>\n      <td>application/pdf,application/vnd.openxmlformats...</td>\n      <td>{'dkim-signature': ('v=1; a=rsa-sha256; q=dns/...</td>\n    </tr>\n    <tr>\n      <th>988</th>\n      <td>1066</td>\n      <td>Re: Конденсированные среды</td>\n      <td>CONDENSED MATTER AND INTERPHASES &lt;kcmf@main.vs...</td>\n      <td>Добрый день, Виктория Викторовна!\\r\\n\\r\\nЮрист...</td>\n      <td>2019-11-15 09:43:16</td>\n      <td></td>\n      <td></td>\n      <td>{'dkim-signature': ('v=1; a=rsa-sha256; q=dns/...</td>\n    </tr>\n    <tr>\n      <th>582</th>\n      <td>658</td>\n      <td>Привет, ты получил сообщение.</td>\n      <td>Sasa &lt;smrd@semribearing.com&gt;</td>\n      <td>Привет друг,\\n\\n\\nЭто Sasa из Тяньцзиня Semri ...</td>\n      <td>2024-05-16 00:00:00</td>\n      <td>邮件照片3.jpg</td>\n      <td>image/jpeg</td>\n      <td>{'dkim-signature': ('v=1; a=rsa-sha256; q=dns/...</td>\n    </tr>\n  </tbody>\n</table>\n<p>1137 rows × 8 columns</p>\n</div>"
     },
     "execution_count": 196,
     "metadata": {},
     "output_type": "execute_result"
    }
   ],
   "source": [
    "df['subject'] = preprocess_subject(df['subject'])\n",
    "df"
   ],
   "metadata": {
    "collapsed": false,
    "ExecuteTime": {
     "end_time": "2024-05-17T20:55:02.557813Z",
     "start_time": "2024-05-17T20:55:02.493835500Z"
    }
   },
   "id": "6abef8d4821e3493"
  },
  {
   "cell_type": "code",
   "execution_count": null,
   "outputs": [],
   "source": [
    "df.to_csv('files/2_fixed_values.csv', index=False)"
   ],
   "metadata": {
    "collapsed": false
   },
   "id": "fc8f916a6b3b36f9"
  },
  {
   "cell_type": "code",
   "execution_count": 193,
   "outputs": [
    {
     "data": {
      "text/plain": "    id                               subject  \\\n11  82                FWD:Повторная отправка   \n12  83       FWD:Re: Шаблон рецензии (новый)   \n19  90  FWD:RE: статья Вестник САИТ Рецензия   \n27  98     FWD:RE: статья для рецензирования   \n21  92            FWD:RE: рецензия на статью   \n\n                                                 from  \\\n11  Павловский Максим Викторович  <pmv-160570@yand...   \n12                  Юрий Нечаев  <nechaev_ub@mail.ru>   \n19                      Толстобров А.П.  <tap@vsu.ru>   \n27            Вялых Сергей Ариевич <vyalyh@govvrn.ru>   \n21                      Толстобров А.П.  <tap@vsu.ru>   \n\n                                                 text                date  \\\n11  Добрый вечер!\\r\\nОтсылаю материалы рецензии на... 2016-01-14 20:47:03   \n12                                    Спасибо.Нечаев. 2018-02-04 19:56:26   \n19  Добрый день!\\r\\nПосылаю рецензию\\r\\n\\r\\nС уваж... 2018-02-09 17:36:00   \n27  Доброе время суток, Вероника Викторовна!\\r\\n\\r... 2018-02-09 17:54:00   \n21  Добрый день!\\r\\nПосылаю рецензию\\r\\n\\r\\nС уваж... 2018-02-11 22:37:00   \n\n                                  attachment_filename  \\\n11                              Рецензия Гаршиной.doc   \n12                                                      \n19  Рецензия Толстоброва на статью А.С. Платонова....   \n27     рецензия_на_Проблема защита_пользователей.docx   \n21  Рецензия Толстоброва на статью Черненькая-Маге...   \n\n                              attachment_content_type  \\\n11                                 application/msword   \n12                                                      \n19  application/vnd.openxmlformats-officedocument....   \n27  application/vnd.openxmlformats-officedocument....   \n21  application/vnd.openxmlformats-officedocument....   \n\n                                              headers  \n11  {'dkim-signature': ('v=1; a=rsa-sha256; q=dns/...  \n12  {'dkim-signature': ('v=1; a=rsa-sha256; q=dns/...  \n19  {'dkim-signature': ('v=1; a=rsa-sha256; q=dns/...  \n27  {'dkim-signature': ('v=1; a=rsa-sha256; q=dns/...  \n21  {'dkim-signature': ('v=1; a=rsa-sha256; q=dns/...  ",
      "text/html": "<div>\n<style scoped>\n    .dataframe tbody tr th:only-of-type {\n        vertical-align: middle;\n    }\n\n    .dataframe tbody tr th {\n        vertical-align: top;\n    }\n\n    .dataframe thead th {\n        text-align: right;\n    }\n</style>\n<table border=\"1\" class=\"dataframe\">\n  <thead>\n    <tr style=\"text-align: right;\">\n      <th></th>\n      <th>id</th>\n      <th>subject</th>\n      <th>from</th>\n      <th>text</th>\n      <th>date</th>\n      <th>attachment_filename</th>\n      <th>attachment_content_type</th>\n      <th>headers</th>\n    </tr>\n  </thead>\n  <tbody>\n    <tr>\n      <th>11</th>\n      <td>82</td>\n      <td>FWD:Повторная отправка</td>\n      <td>Павловский Максим Викторович  &lt;pmv-160570@yand...</td>\n      <td>Добрый вечер!\\r\\nОтсылаю материалы рецензии на...</td>\n      <td>2016-01-14 20:47:03</td>\n      <td>Рецензия Гаршиной.doc</td>\n      <td>application/msword</td>\n      <td>{'dkim-signature': ('v=1; a=rsa-sha256; q=dns/...</td>\n    </tr>\n    <tr>\n      <th>12</th>\n      <td>83</td>\n      <td>FWD:Re: Шаблон рецензии (новый)</td>\n      <td>Юрий Нечаев  &lt;nechaev_ub@mail.ru&gt;</td>\n      <td>Спасибо.Нечаев.</td>\n      <td>2018-02-04 19:56:26</td>\n      <td></td>\n      <td></td>\n      <td>{'dkim-signature': ('v=1; a=rsa-sha256; q=dns/...</td>\n    </tr>\n    <tr>\n      <th>19</th>\n      <td>90</td>\n      <td>FWD:RE: статья Вестник САИТ Рецензия</td>\n      <td>Толстобров А.П.  &lt;tap@vsu.ru&gt;</td>\n      <td>Добрый день!\\r\\nПосылаю рецензию\\r\\n\\r\\nС уваж...</td>\n      <td>2018-02-09 17:36:00</td>\n      <td>Рецензия Толстоброва на статью А.С. Платонова....</td>\n      <td>application/vnd.openxmlformats-officedocument....</td>\n      <td>{'dkim-signature': ('v=1; a=rsa-sha256; q=dns/...</td>\n    </tr>\n    <tr>\n      <th>27</th>\n      <td>98</td>\n      <td>FWD:RE: статья для рецензирования</td>\n      <td>Вялых Сергей Ариевич &lt;vyalyh@govvrn.ru&gt;</td>\n      <td>Доброе время суток, Вероника Викторовна!\\r\\n\\r...</td>\n      <td>2018-02-09 17:54:00</td>\n      <td>рецензия_на_Проблема защита_пользователей.docx</td>\n      <td>application/vnd.openxmlformats-officedocument....</td>\n      <td>{'dkim-signature': ('v=1; a=rsa-sha256; q=dns/...</td>\n    </tr>\n    <tr>\n      <th>21</th>\n      <td>92</td>\n      <td>FWD:RE: рецензия на статью</td>\n      <td>Толстобров А.П.  &lt;tap@vsu.ru&gt;</td>\n      <td>Добрый день!\\r\\nПосылаю рецензию\\r\\n\\r\\nС уваж...</td>\n      <td>2018-02-11 22:37:00</td>\n      <td>Рецензия Толстоброва на статью Черненькая-Маге...</td>\n      <td>application/vnd.openxmlformats-officedocument....</td>\n      <td>{'dkim-signature': ('v=1; a=rsa-sha256; q=dns/...</td>\n    </tr>\n  </tbody>\n</table>\n</div>"
     },
     "execution_count": 193,
     "metadata": {},
     "output_type": "execute_result"
    }
   ],
   "source": [
    "df = df.sort_values(by='date')\n",
    "df.head()"
   ],
   "metadata": {
    "collapsed": false,
    "ExecuteTime": {
     "start_time": "2024-05-17T20:54:07.160998Z"
    }
   },
   "id": "a460d0692c943c82"
  },
  {
   "cell_type": "code",
   "execution_count": 194,
   "outputs": [],
   "source": [
    "df.to_csv('files/3_sorted_df.csv', index=False)"
   ],
   "metadata": {
    "collapsed": false,
    "ExecuteTime": {
     "start_time": "2024-05-17T20:54:26.571840300Z"
    }
   },
   "id": "b7c7c57bc097e521"
  },
  {
   "cell_type": "code",
   "execution_count": 197,
   "outputs": [],
   "source": [
    "fixed_subject_df = df.copy()"
   ],
   "metadata": {
    "collapsed": false,
    "ExecuteTime": {
     "end_time": "2024-05-17T20:55:58.676032800Z",
     "start_time": "2024-05-17T20:55:58.668359500Z"
    }
   },
   "id": "14e12010bcbf2448"
  },
  {
   "cell_type": "code",
   "execution_count": 200,
   "outputs": [
    {
     "data": {
      "text/plain": "(1137, 8)"
     },
     "execution_count": 200,
     "metadata": {},
     "output_type": "execute_result"
    }
   ],
   "source": [
    "df.shape"
   ],
   "metadata": {
    "collapsed": false,
    "ExecuteTime": {
     "end_time": "2024-05-17T21:01:29.734638200Z",
     "start_time": "2024-05-17T21:01:29.687330100Z"
    }
   },
   "id": "41df31fbbe7866a"
  },
  {
   "cell_type": "code",
   "execution_count": 214,
   "outputs": [],
   "source": [
    "df = df.drop_duplicates('text')"
   ],
   "metadata": {
    "collapsed": false,
    "ExecuteTime": {
     "end_time": "2024-05-17T21:15:08.975412200Z",
     "start_time": "2024-05-17T21:15:08.932820Z"
    }
   },
   "id": "f421116e5456bd84"
  },
  {
   "cell_type": "code",
   "execution_count": 215,
   "outputs": [
    {
     "data": {
      "text/plain": "(825, 8)"
     },
     "execution_count": 215,
     "metadata": {},
     "output_type": "execute_result"
    }
   ],
   "source": [
    "df.shape"
   ],
   "metadata": {
    "collapsed": false,
    "ExecuteTime": {
     "end_time": "2024-05-17T21:15:11.102538600Z",
     "start_time": "2024-05-17T21:15:11.075814Z"
    }
   },
   "id": "1098cfe4f1736825"
  },
  {
   "cell_type": "code",
   "execution_count": 216,
   "outputs": [],
   "source": [
    "df.to_csv('files/4_drop_duplicates_df.csv', index=False)"
   ],
   "metadata": {
    "collapsed": false,
    "ExecuteTime": {
     "end_time": "2024-05-17T21:15:41.071146300Z",
     "start_time": "2024-05-17T21:15:40.910824Z"
    }
   },
   "id": "fd827d883596c4c8"
  },
  {
   "cell_type": "markdown",
   "source": [
    "## Clean text"
   ],
   "metadata": {
    "collapsed": false
   },
   "id": "d66729c7dd100bc"
  },
  {
   "cell_type": "code",
   "execution_count": 222,
   "outputs": [],
   "source": [
    "import string\n",
    "\n",
    "def preprocess_text(texts):\n",
    "    column = []\n",
    "    for t in texts:\n",
    "        t = re.sub(r'\\n+', ' ', t)\n",
    "        t = re.sub(r'\\r+', ' ', t)\n",
    "        t = re.sub(r'\\t+', ' ', t)\n",
    "        # t = re.sub(\"[\" + string.punctuation + \"]\", \" \", t)\n",
    "        t = re.sub(r'-{2,}', '', t)\n",
    "        t = re.sub(r'\\s+', ' ', t)\n",
    "        column.append(t)\n",
    "    return column"
   ],
   "metadata": {
    "collapsed": false,
    "ExecuteTime": {
     "end_time": "2024-05-17T21:19:06.422007800Z",
     "start_time": "2024-05-17T21:19:06.401816800Z"
    }
   },
   "id": "bb737a95408e69c4"
  },
  {
   "cell_type": "code",
   "execution_count": 223,
   "outputs": [
    {
     "data": {
      "text/plain": "    id                           subject  \\\n11  82                Повторная отправка   \n12  83       Re: Шаблон рецензии (новый)   \n19  90  RE: статья Вестник САИТ Рецензия   \n27  98     RE: статья для рецензирования   \n21  92            RE: рецензия на статью   \n\n                                                 from  \\\n11  Павловский Максим Викторович  <pmv-160570@yand...   \n12                  Юрий Нечаев  <nechaev_ub@mail.ru>   \n19                      Толстобров А.П.  <tap@vsu.ru>   \n27            Вялых Сергей Ариевич <vyalyh@govvrn.ru>   \n21                      Толстобров А.П.  <tap@vsu.ru>   \n\n                                                 text                date  \\\n11  Добрый вечер Отсылаю материалы рецензии на раб... 2016-01-14 20:47:03   \n12                                    Спасибо Нечаев  2018-02-04 19:56:26   \n19  Добрый день Посылаю рецензию С уважением Толст... 2018-02-09 17:36:00   \n27  Доброе время суток Вероника Викторовна Высылаю... 2018-02-09 17:54:00   \n21  Добрый день Посылаю рецензию С уважением Толст... 2018-02-11 22:37:00   \n\n                                  attachment_filename  \\\n11                              Рецензия Гаршиной.doc   \n12                                                      \n19  Рецензия Толстоброва на статью А.С. Платонова....   \n27     рецензия_на_Проблема защита_пользователей.docx   \n21  Рецензия Толстоброва на статью Черненькая-Маге...   \n\n                              attachment_content_type  \\\n11                                 application/msword   \n12                                                      \n19  application/vnd.openxmlformats-officedocument....   \n27  application/vnd.openxmlformats-officedocument....   \n21  application/vnd.openxmlformats-officedocument....   \n\n                                              headers  \n11  {'dkim-signature': ('v=1; a=rsa-sha256; q=dns/...  \n12  {'dkim-signature': ('v=1; a=rsa-sha256; q=dns/...  \n19  {'dkim-signature': ('v=1; a=rsa-sha256; q=dns/...  \n27  {'dkim-signature': ('v=1; a=rsa-sha256; q=dns/...  \n21  {'dkim-signature': ('v=1; a=rsa-sha256; q=dns/...  ",
      "text/html": "<div>\n<style scoped>\n    .dataframe tbody tr th:only-of-type {\n        vertical-align: middle;\n    }\n\n    .dataframe tbody tr th {\n        vertical-align: top;\n    }\n\n    .dataframe thead th {\n        text-align: right;\n    }\n</style>\n<table border=\"1\" class=\"dataframe\">\n  <thead>\n    <tr style=\"text-align: right;\">\n      <th></th>\n      <th>id</th>\n      <th>subject</th>\n      <th>from</th>\n      <th>text</th>\n      <th>date</th>\n      <th>attachment_filename</th>\n      <th>attachment_content_type</th>\n      <th>headers</th>\n    </tr>\n  </thead>\n  <tbody>\n    <tr>\n      <th>11</th>\n      <td>82</td>\n      <td>Повторная отправка</td>\n      <td>Павловский Максим Викторович  &lt;pmv-160570@yand...</td>\n      <td>Добрый вечер Отсылаю материалы рецензии на раб...</td>\n      <td>2016-01-14 20:47:03</td>\n      <td>Рецензия Гаршиной.doc</td>\n      <td>application/msword</td>\n      <td>{'dkim-signature': ('v=1; a=rsa-sha256; q=dns/...</td>\n    </tr>\n    <tr>\n      <th>12</th>\n      <td>83</td>\n      <td>Re: Шаблон рецензии (новый)</td>\n      <td>Юрий Нечаев  &lt;nechaev_ub@mail.ru&gt;</td>\n      <td>Спасибо Нечаев</td>\n      <td>2018-02-04 19:56:26</td>\n      <td></td>\n      <td></td>\n      <td>{'dkim-signature': ('v=1; a=rsa-sha256; q=dns/...</td>\n    </tr>\n    <tr>\n      <th>19</th>\n      <td>90</td>\n      <td>RE: статья Вестник САИТ Рецензия</td>\n      <td>Толстобров А.П.  &lt;tap@vsu.ru&gt;</td>\n      <td>Добрый день Посылаю рецензию С уважением Толст...</td>\n      <td>2018-02-09 17:36:00</td>\n      <td>Рецензия Толстоброва на статью А.С. Платонова....</td>\n      <td>application/vnd.openxmlformats-officedocument....</td>\n      <td>{'dkim-signature': ('v=1; a=rsa-sha256; q=dns/...</td>\n    </tr>\n    <tr>\n      <th>27</th>\n      <td>98</td>\n      <td>RE: статья для рецензирования</td>\n      <td>Вялых Сергей Ариевич &lt;vyalyh@govvrn.ru&gt;</td>\n      <td>Доброе время суток Вероника Викторовна Высылаю...</td>\n      <td>2018-02-09 17:54:00</td>\n      <td>рецензия_на_Проблема защита_пользователей.docx</td>\n      <td>application/vnd.openxmlformats-officedocument....</td>\n      <td>{'dkim-signature': ('v=1; a=rsa-sha256; q=dns/...</td>\n    </tr>\n    <tr>\n      <th>21</th>\n      <td>92</td>\n      <td>RE: рецензия на статью</td>\n      <td>Толстобров А.П.  &lt;tap@vsu.ru&gt;</td>\n      <td>Добрый день Посылаю рецензию С уважением Толст...</td>\n      <td>2018-02-11 22:37:00</td>\n      <td>Рецензия Толстоброва на статью Черненькая-Маге...</td>\n      <td>application/vnd.openxmlformats-officedocument....</td>\n      <td>{'dkim-signature': ('v=1; a=rsa-sha256; q=dns/...</td>\n    </tr>\n  </tbody>\n</table>\n</div>"
     },
     "execution_count": 223,
     "metadata": {},
     "output_type": "execute_result"
    }
   ],
   "source": [
    "df['text'] = preprocess_text(df['text'])\n",
    "df.head()"
   ],
   "metadata": {
    "collapsed": false,
    "ExecuteTime": {
     "end_time": "2024-05-17T21:19:09.722021400Z",
     "start_time": "2024-05-17T21:19:09.530992500Z"
    }
   },
   "id": "e27245d339e19ac6"
  },
  {
   "cell_type": "code",
   "execution_count": 225,
   "outputs": [
    {
     "data": {
      "text/plain": "'Здравствуйте Пожалуйста рассмотрите возможность публикации моей статьи в Вашем журнале С уважением Леонид Эрштейн'"
     },
     "execution_count": 225,
     "metadata": {},
     "output_type": "execute_result"
    }
   ],
   "source": [
    "df['text'].iloc[100]"
   ],
   "metadata": {
    "collapsed": false,
    "ExecuteTime": {
     "end_time": "2024-05-17T21:19:54.380712600Z",
     "start_time": "2024-05-17T21:19:54.340745100Z"
    }
   },
   "id": "aa5cead082428ebb"
  },
  {
   "cell_type": "code",
   "execution_count": 226,
   "outputs": [],
   "source": [
    "df['text'].to_csv('files/5_texts.csv')"
   ],
   "metadata": {
    "collapsed": false,
    "ExecuteTime": {
     "end_time": "2024-05-17T21:20:44.851568400Z",
     "start_time": "2024-05-17T21:20:44.800628700Z"
    }
   },
   "id": "bbf2806dfda4221a"
  },
  {
   "cell_type": "code",
   "execution_count": 227,
   "outputs": [
    {
     "data": {
      "text/plain": "11     Добрый вечер Отсылаю материалы рецензии на раб...\n12                                       Спасибо Нечаев \n19     Добрый день Посылаю рецензию С уважением Толст...\n27     Доброе время суток Вероника Викторовна Высылаю...\n21     Добрый день Посылаю рецензию С уважением Толст...\n                             ...                        \n987    Высылаю рецензию на материал А М Сагдатуллина ...\n990    Здравствуйте Мою отправлен нучную статью с наз...\n991    Здравствуйте Считаю что статья может быть опуб...\n988    Добрый день Виктория Викторовна Юристы очень с...\n582    Привет друг Это Sasa из Тяньцзиня Semri Bearin...\nName: text, Length: 825, dtype: object"
     },
     "execution_count": 227,
     "metadata": {},
     "output_type": "execute_result"
    }
   ],
   "source": [
    "df['text']"
   ],
   "metadata": {
    "collapsed": false,
    "ExecuteTime": {
     "end_time": "2024-05-17T21:20:55.678379300Z",
     "start_time": "2024-05-17T21:20:55.583344300Z"
    }
   },
   "id": "cbae3dc31fc65f0f"
  },
  {
   "cell_type": "markdown",
   "source": [
    "## предобработка текста для кластеризации"
   ],
   "metadata": {
    "collapsed": false
   },
   "id": "a4623fe542dd140a"
  },
  {
   "cell_type": "code",
   "execution_count": 264,
   "outputs": [],
   "source": [
    "texts_df = df[['id', 'text', 'subject']]"
   ],
   "metadata": {
    "collapsed": false,
    "ExecuteTime": {
     "end_time": "2024-05-17T23:21:39.717082100Z",
     "start_time": "2024-05-17T23:21:39.703131300Z"
    }
   },
   "id": "a2cdd64b7d8b1858"
  },
  {
   "cell_type": "code",
   "execution_count": 265,
   "outputs": [],
   "source": [
    "def clean_text(texts):\n",
    "    column = []\n",
    "    for s in texts:\n",
    "        s = s.lower()\n",
    "        s = s.removeprefix('re')\n",
    "        s = s.replace('fwd', '')\n",
    "        s = s.replace('fw', '')\n",
    "        s = re.sub(r'[0-9]+', '', s)\n",
    "        s = re.sub(\"[\" + string.punctuation + \"]\", \" \", s)\n",
    "        s = re.sub(r'\\s+', ' ', s)\n",
    "        column.append(s)\n",
    "    return column"
   ],
   "metadata": {
    "collapsed": false,
    "ExecuteTime": {
     "end_time": "2024-05-17T23:21:42.566448Z",
     "start_time": "2024-05-17T23:21:42.559314800Z"
    }
   },
   "id": "ef04bb186b5e8281"
  },
  {
   "cell_type": "code",
   "execution_count": 266,
   "outputs": [
    {
     "name": "stderr",
     "output_type": "stream",
     "text": [
      "C:\\Users\\08642\\AppData\\Local\\Temp\\ipykernel_22400\\3963136588.py:1: SettingWithCopyWarning: \n",
      "A value is trying to be set on a copy of a slice from a DataFrame.\n",
      "Try using .loc[row_indexer,col_indexer] = value instead\n",
      "\n",
      "See the caveats in the documentation: https://pandas.pydata.org/pandas-docs/stable/user_guide/indexing.html#returning-a-view-versus-a-copy\n",
      "  texts_df['text'] = clean_text(texts_df['text'])\n"
     ]
    },
    {
     "data": {
      "text/plain": "11    добрый вечер отсылаю материалы рецензии на раб...\n12                                      спасибо нечаев \n19    добрый день посылаю рецензию с уважением толст...\n27    доброе время суток вероника викторовна высылаю...\n21    добрый день посылаю рецензию с уважением толст...\nName: text, dtype: object"
     },
     "execution_count": 266,
     "metadata": {},
     "output_type": "execute_result"
    }
   ],
   "source": [
    "texts_df['text'] = clean_text(texts_df['text'])\n",
    "texts_df['text'].head()"
   ],
   "metadata": {
    "collapsed": false,
    "ExecuteTime": {
     "end_time": "2024-05-17T23:21:45.345200700Z",
     "start_time": "2024-05-17T23:21:45.266728900Z"
    }
   },
   "id": "89f30c4fbc0573a8"
  },
  {
   "cell_type": "code",
   "execution_count": 267,
   "outputs": [
    {
     "name": "stderr",
     "output_type": "stream",
     "text": [
      "C:\\Users\\08642\\AppData\\Local\\Temp\\ipykernel_22400\\3295035228.py:1: SettingWithCopyWarning: \n",
      "A value is trying to be set on a copy of a slice from a DataFrame.\n",
      "Try using .loc[row_indexer,col_indexer] = value instead\n",
      "\n",
      "See the caveats in the documentation: https://pandas.pydata.org/pandas-docs/stable/user_guide/indexing.html#returning-a-view-versus-a-copy\n",
      "  texts_df['subject'] = clean_text(texts_df['subject'])\n"
     ]
    }
   ],
   "source": [
    "texts_df['subject'] = clean_text(texts_df['subject'])"
   ],
   "metadata": {
    "collapsed": false,
    "ExecuteTime": {
     "end_time": "2024-05-17T23:21:58.389229400Z",
     "start_time": "2024-05-17T23:21:58.366485200Z"
    }
   },
   "id": "70969d5a24ad6db0"
  },
  {
   "cell_type": "code",
   "execution_count": 268,
   "outputs": [
    {
     "name": "stderr",
     "output_type": "stream",
     "text": [
      "C:\\Users\\08642\\AppData\\Local\\Temp\\ipykernel_22400\\1287844357.py:1: SettingWithCopyWarning: \n",
      "A value is trying to be set on a copy of a slice from a DataFrame.\n",
      "Try using .loc[row_indexer,col_indexer] = value instead\n",
      "\n",
      "See the caveats in the documentation: https://pandas.pydata.org/pandas-docs/stable/user_guide/indexing.html#returning-a-view-versus-a-copy\n",
      "  texts_df['category'] = ''\n"
     ]
    }
   ],
   "source": [
    "texts_df['category'] = ''"
   ],
   "metadata": {
    "collapsed": false,
    "ExecuteTime": {
     "end_time": "2024-05-17T23:24:41.202718700Z",
     "start_time": "2024-05-17T23:24:41.177876200Z"
    }
   },
   "id": "77bfbc1996781403"
  },
  {
   "cell_type": "code",
   "execution_count": 269,
   "outputs": [
    {
     "data": {
      "text/plain": "    id                                               text  \\\n11  82  добрый вечер отсылаю материалы рецензии на раб...   \n12  83                                    спасибо нечаев    \n19  90  добрый день посылаю рецензию с уважением толст...   \n27  98  доброе время суток вероника викторовна высылаю...   \n21  92  добрый день посылаю рецензию с уважением толст...   \n\n                          subject category  \n11             повторная отправка           \n12         шаблон рецензии новый            \n19   статья вестник саит рецензия           \n27      статья для рецензирования           \n21             рецензия на статью           ",
      "text/html": "<div>\n<style scoped>\n    .dataframe tbody tr th:only-of-type {\n        vertical-align: middle;\n    }\n\n    .dataframe tbody tr th {\n        vertical-align: top;\n    }\n\n    .dataframe thead th {\n        text-align: right;\n    }\n</style>\n<table border=\"1\" class=\"dataframe\">\n  <thead>\n    <tr style=\"text-align: right;\">\n      <th></th>\n      <th>id</th>\n      <th>text</th>\n      <th>subject</th>\n      <th>category</th>\n    </tr>\n  </thead>\n  <tbody>\n    <tr>\n      <th>11</th>\n      <td>82</td>\n      <td>добрый вечер отсылаю материалы рецензии на раб...</td>\n      <td>повторная отправка</td>\n      <td></td>\n    </tr>\n    <tr>\n      <th>12</th>\n      <td>83</td>\n      <td>спасибо нечаев</td>\n      <td>шаблон рецензии новый</td>\n      <td></td>\n    </tr>\n    <tr>\n      <th>19</th>\n      <td>90</td>\n      <td>добрый день посылаю рецензию с уважением толст...</td>\n      <td>статья вестник саит рецензия</td>\n      <td></td>\n    </tr>\n    <tr>\n      <th>27</th>\n      <td>98</td>\n      <td>доброе время суток вероника викторовна высылаю...</td>\n      <td>статья для рецензирования</td>\n      <td></td>\n    </tr>\n    <tr>\n      <th>21</th>\n      <td>92</td>\n      <td>добрый день посылаю рецензию с уважением толст...</td>\n      <td>рецензия на статью</td>\n      <td></td>\n    </tr>\n  </tbody>\n</table>\n</div>"
     },
     "execution_count": 269,
     "metadata": {},
     "output_type": "execute_result"
    }
   ],
   "source": [
    "texts_df.head()"
   ],
   "metadata": {
    "collapsed": false,
    "ExecuteTime": {
     "end_time": "2024-05-17T23:25:11.188794Z",
     "start_time": "2024-05-17T23:25:11.145827Z"
    }
   },
   "id": "115309b9be02793a"
  },
  {
   "cell_type": "code",
   "execution_count": 270,
   "outputs": [],
   "source": [
    "texts_df.to_csv(\"files/texts_to_categorization.csv\", index=False)"
   ],
   "metadata": {
    "collapsed": false,
    "ExecuteTime": {
     "end_time": "2024-05-17T23:34:35.036070700Z",
     "start_time": "2024-05-17T23:34:34.994206200Z"
    }
   },
   "id": "78b2fda93a287a3"
  },
  {
   "cell_type": "markdown",
   "source": [
    "### Разметка"
   ],
   "metadata": {
    "collapsed": false
   },
   "id": "977a8bcd47dbf620"
  },
  {
   "cell_type": "code",
   "execution_count": null,
   "outputs": [],
   "source": [
    "categories = ['submitting an article', 'checking an article', 'revision', 'ready for review', 'reviewing', 'rejected', 'publication']\n",
    "categories_rus = ['подача статьи', 'проверка статьи', 'доработка', 'готово к рецензированию', 'рецензирование', 'отклонена', 'публикация']"
   ],
   "metadata": {
    "collapsed": false
   },
   "id": "6b69c8b015aa38ba"
  },
  {
   "cell_type": "code",
   "execution_count": null,
   "outputs": [],
   "source": [
    "submitting_keywords = 'статья в вестник вгу, статья для, статья для публикации, статья на публикацию, публикация статьи, статья, публикация, статья вак'\n",
    "ready_for_review_keywords = 'статья для рецензирования, статья экспертное заключение'"
   ],
   "metadata": {
    "collapsed": false
   },
   "id": "5d5db8c01ade4391"
  },
  {
   "cell_type": "code",
   "execution_count": null,
   "outputs": [],
   "source": [
    "# def fill_category(dataframe: pd.DataFrame):\n",
    "#     col = []\n",
    "#     for i, row in dataframe.iterrows():\n",
    "        "
   ],
   "metadata": {
    "collapsed": false
   },
   "id": "71c75c493a09d057"
  },
  {
   "cell_type": "code",
   "execution_count": 228,
   "outputs": [
    {
     "data": {
      "text/plain": "       id                                      subject  \\\n0      82                           Повторная отправка   \n1      83                  Re: Шаблон рецензии (новый)   \n2      90             RE: статья Вестник САИТ Рецензия   \n3      98                RE: статья для рецензирования   \n4      92                       RE: рецензия на статью   \n..    ...                                          ...   \n820  1065                       Re: статья на рецензию   \n821  1068                                       статья   \n822  1069  Re: Королев= ответы на замечания рецензента   \n823  1066                   Re: Конденсированные среды   \n824   658               Привет, ты получил сообщение.    \n\n                                                  from  \\\n0    Павловский Максим Викторович  <pmv-160570@yand...   \n1                    Юрий Нечаев  <nechaev_ub@mail.ru>   \n2                        Толстобров А.П.  <tap@vsu.ru>   \n3              Вялых Сергей Ариевич <vyalyh@govvrn.ru>   \n4                        Толстобров А.П.  <tap@vsu.ru>   \n..                                                 ...   \n820               Алексей Буховец  <abuhovets@mail.ru>   \n821              hein minzaw <heinminnzaw13@gmail.com>   \n822            Сергей Медведев  <s_n_medvedev@mail.ru>   \n823  CONDENSED MATTER AND INTERPHASES <kcmf@main.vs...   \n824                       Sasa <smrd@semribearing.com>   \n\n                                                  text                 date  \\\n0    Добрый вечер!\\r\\nОтсылаю материалы рецензии на...  2016-01-14 20:47:03   \n1                                      Спасибо.Нечаев.  2018-02-04 19:56:26   \n2    Добрый день!\\r\\nПосылаю рецензию\\r\\n\\r\\nС уваж...  2018-02-09 17:36:00   \n3    Доброе время суток, Вероника Викторовна!\\r\\n\\r...  2018-02-09 17:54:00   \n4    Добрый день!\\r\\nПосылаю рецензию\\r\\n\\r\\nС уваж...  2018-02-11 22:37:00   \n..                                                 ...                  ...   \n820  Высылаю рецензию на материал А.М. Сагдатуллина...  2019-11-14 09:40:50   \n821  Здравствуйте !\\r\\nМою отправлен нучную статью ...  2019-11-14 14:40:59   \n822  Здравствуйте.\\nСчитаю, что статья может быть о...  2019-11-15 00:03:13   \n823  Добрый день, Виктория Викторовна!\\r\\n\\r\\nЮрист...  2019-11-15 09:43:16   \n824  Привет друг,\\n\\n\\nЭто Sasa из Тяньцзиня Semri ...  2024-05-16 00:00:00   \n\n                                   attachment_filename  \\\n0                                Рецензия Гаршиной.doc   \n1                                                  NaN   \n2    Рецензия Толстоброва на статью А.С. Платонова....   \n3       рецензия_на_Проблема защита_пользователей.docx   \n4    Рецензия Толстоброва на статью Черненькая-Маге...   \n..                                                 ...   \n820                Рецензии Сагдатуллина А_М_САИТ.docx   \n821                    Рис1.docx,Рис2.docx,Статья .doc   \n822  Ответ после повторного рецензирования.pdf,Реце...   \n823                                                NaN   \n824                                          邮件照片3.jpg   \n\n                               attachment_content_type  \\\n0                                   application/msword   \n1                                                  NaN   \n2    application/vnd.openxmlformats-officedocument....   \n3    application/vnd.openxmlformats-officedocument....   \n4    application/vnd.openxmlformats-officedocument....   \n..                                                 ...   \n820  application/vnd.openxmlformats-officedocument....   \n821  application/vnd.openxmlformats-officedocument....   \n822  application/pdf,application/vnd.openxmlformats...   \n823                                                NaN   \n824                                         image/jpeg   \n\n                                               headers  \n0    {'dkim-signature': ('v=1; a=rsa-sha256; q=dns/...  \n1    {'dkim-signature': ('v=1; a=rsa-sha256; q=dns/...  \n2    {'dkim-signature': ('v=1; a=rsa-sha256; q=dns/...  \n3    {'dkim-signature': ('v=1; a=rsa-sha256; q=dns/...  \n4    {'dkim-signature': ('v=1; a=rsa-sha256; q=dns/...  \n..                                                 ...  \n820  {'dkim-signature': ('v=1; a=rsa-sha256; q=dns/...  \n821  {'dkim-signature': ('v=1; a=rsa-sha256; q=dns/...  \n822  {'dkim-signature': ('v=1; a=rsa-sha256; q=dns/...  \n823  {'dkim-signature': ('v=1; a=rsa-sha256; q=dns/...  \n824  {'dkim-signature': ('v=1; a=rsa-sha256; q=dns/...  \n\n[825 rows x 8 columns]",
      "text/html": "<div>\n<style scoped>\n    .dataframe tbody tr th:only-of-type {\n        vertical-align: middle;\n    }\n\n    .dataframe tbody tr th {\n        vertical-align: top;\n    }\n\n    .dataframe thead th {\n        text-align: right;\n    }\n</style>\n<table border=\"1\" class=\"dataframe\">\n  <thead>\n    <tr style=\"text-align: right;\">\n      <th></th>\n      <th>id</th>\n      <th>subject</th>\n      <th>from</th>\n      <th>text</th>\n      <th>date</th>\n      <th>attachment_filename</th>\n      <th>attachment_content_type</th>\n      <th>headers</th>\n    </tr>\n  </thead>\n  <tbody>\n    <tr>\n      <th>0</th>\n      <td>82</td>\n      <td>Повторная отправка</td>\n      <td>Павловский Максим Викторович  &lt;pmv-160570@yand...</td>\n      <td>Добрый вечер!\\r\\nОтсылаю материалы рецензии на...</td>\n      <td>2016-01-14 20:47:03</td>\n      <td>Рецензия Гаршиной.doc</td>\n      <td>application/msword</td>\n      <td>{'dkim-signature': ('v=1; a=rsa-sha256; q=dns/...</td>\n    </tr>\n    <tr>\n      <th>1</th>\n      <td>83</td>\n      <td>Re: Шаблон рецензии (новый)</td>\n      <td>Юрий Нечаев  &lt;nechaev_ub@mail.ru&gt;</td>\n      <td>Спасибо.Нечаев.</td>\n      <td>2018-02-04 19:56:26</td>\n      <td>NaN</td>\n      <td>NaN</td>\n      <td>{'dkim-signature': ('v=1; a=rsa-sha256; q=dns/...</td>\n    </tr>\n    <tr>\n      <th>2</th>\n      <td>90</td>\n      <td>RE: статья Вестник САИТ Рецензия</td>\n      <td>Толстобров А.П.  &lt;tap@vsu.ru&gt;</td>\n      <td>Добрый день!\\r\\nПосылаю рецензию\\r\\n\\r\\nС уваж...</td>\n      <td>2018-02-09 17:36:00</td>\n      <td>Рецензия Толстоброва на статью А.С. Платонова....</td>\n      <td>application/vnd.openxmlformats-officedocument....</td>\n      <td>{'dkim-signature': ('v=1; a=rsa-sha256; q=dns/...</td>\n    </tr>\n    <tr>\n      <th>3</th>\n      <td>98</td>\n      <td>RE: статья для рецензирования</td>\n      <td>Вялых Сергей Ариевич &lt;vyalyh@govvrn.ru&gt;</td>\n      <td>Доброе время суток, Вероника Викторовна!\\r\\n\\r...</td>\n      <td>2018-02-09 17:54:00</td>\n      <td>рецензия_на_Проблема защита_пользователей.docx</td>\n      <td>application/vnd.openxmlformats-officedocument....</td>\n      <td>{'dkim-signature': ('v=1; a=rsa-sha256; q=dns/...</td>\n    </tr>\n    <tr>\n      <th>4</th>\n      <td>92</td>\n      <td>RE: рецензия на статью</td>\n      <td>Толстобров А.П.  &lt;tap@vsu.ru&gt;</td>\n      <td>Добрый день!\\r\\nПосылаю рецензию\\r\\n\\r\\nС уваж...</td>\n      <td>2018-02-11 22:37:00</td>\n      <td>Рецензия Толстоброва на статью Черненькая-Маге...</td>\n      <td>application/vnd.openxmlformats-officedocument....</td>\n      <td>{'dkim-signature': ('v=1; a=rsa-sha256; q=dns/...</td>\n    </tr>\n    <tr>\n      <th>...</th>\n      <td>...</td>\n      <td>...</td>\n      <td>...</td>\n      <td>...</td>\n      <td>...</td>\n      <td>...</td>\n      <td>...</td>\n      <td>...</td>\n    </tr>\n    <tr>\n      <th>820</th>\n      <td>1065</td>\n      <td>Re: статья на рецензию</td>\n      <td>Алексей Буховец  &lt;abuhovets@mail.ru&gt;</td>\n      <td>Высылаю рецензию на материал А.М. Сагдатуллина...</td>\n      <td>2019-11-14 09:40:50</td>\n      <td>Рецензии Сагдатуллина А_М_САИТ.docx</td>\n      <td>application/vnd.openxmlformats-officedocument....</td>\n      <td>{'dkim-signature': ('v=1; a=rsa-sha256; q=dns/...</td>\n    </tr>\n    <tr>\n      <th>821</th>\n      <td>1068</td>\n      <td>статья</td>\n      <td>hein minzaw &lt;heinminnzaw13@gmail.com&gt;</td>\n      <td>Здравствуйте !\\r\\nМою отправлен нучную статью ...</td>\n      <td>2019-11-14 14:40:59</td>\n      <td>Рис1.docx,Рис2.docx,Статья .doc</td>\n      <td>application/vnd.openxmlformats-officedocument....</td>\n      <td>{'dkim-signature': ('v=1; a=rsa-sha256; q=dns/...</td>\n    </tr>\n    <tr>\n      <th>822</th>\n      <td>1069</td>\n      <td>Re: Королев= ответы на замечания рецензента</td>\n      <td>Сергей Медведев  &lt;s_n_medvedev@mail.ru&gt;</td>\n      <td>Здравствуйте.\\nСчитаю, что статья может быть о...</td>\n      <td>2019-11-15 00:03:13</td>\n      <td>Ответ после повторного рецензирования.pdf,Реце...</td>\n      <td>application/pdf,application/vnd.openxmlformats...</td>\n      <td>{'dkim-signature': ('v=1; a=rsa-sha256; q=dns/...</td>\n    </tr>\n    <tr>\n      <th>823</th>\n      <td>1066</td>\n      <td>Re: Конденсированные среды</td>\n      <td>CONDENSED MATTER AND INTERPHASES &lt;kcmf@main.vs...</td>\n      <td>Добрый день, Виктория Викторовна!\\r\\n\\r\\nЮрист...</td>\n      <td>2019-11-15 09:43:16</td>\n      <td>NaN</td>\n      <td>NaN</td>\n      <td>{'dkim-signature': ('v=1; a=rsa-sha256; q=dns/...</td>\n    </tr>\n    <tr>\n      <th>824</th>\n      <td>658</td>\n      <td>Привет, ты получил сообщение.</td>\n      <td>Sasa &lt;smrd@semribearing.com&gt;</td>\n      <td>Привет друг,\\n\\n\\nЭто Sasa из Тяньцзиня Semri ...</td>\n      <td>2024-05-16 00:00:00</td>\n      <td>邮件照片3.jpg</td>\n      <td>image/jpeg</td>\n      <td>{'dkim-signature': ('v=1; a=rsa-sha256; q=dns/...</td>\n    </tr>\n  </tbody>\n</table>\n<p>825 rows × 8 columns</p>\n</div>"
     },
     "execution_count": 228,
     "metadata": {},
     "output_type": "execute_result"
    }
   ],
   "source": [
    "new_df = pd.read_csv('files/drop_duplicates_df.csv')\n",
    "new_df"
   ],
   "metadata": {
    "collapsed": false,
    "ExecuteTime": {
     "start_time": "2024-05-17T21:24:57.497640800Z"
    }
   },
   "id": "32113f4a936a0a95"
  },
  {
   "cell_type": "code",
   "execution_count": 229,
   "outputs": [],
   "source": [
    "df['subject'].to_csv('files/subjects.csv', index=False)"
   ],
   "metadata": {
    "collapsed": false,
    "ExecuteTime": {
     "start_time": "2024-05-17T21:39:18.678497100Z"
    }
   },
   "id": "51e3fcc7b97aeaae"
  },
  {
   "cell_type": "code",
   "execution_count": 242,
   "outputs": [
    {
     "data": {
      "text/plain": "       id                                      subject\n11     82                           Повторная отправка\n12     83                  Re: Шаблон рецензии (новый)\n19     90             RE: статья Вестник САИТ Рецензия\n27     98                RE: статья для рецензирования\n21     92                       RE: рецензия на статью\n..    ...                                          ...\n987  1065                       Re: статья на рецензию\n990  1068                                       статья\n991  1069  Re: Королев= ответы на замечания рецензента\n988  1066                   Re: Конденсированные среды\n582   658               Привет, ты получил сообщение. \n\n[825 rows x 2 columns]",
      "text/html": "<div>\n<style scoped>\n    .dataframe tbody tr th:only-of-type {\n        vertical-align: middle;\n    }\n\n    .dataframe tbody tr th {\n        vertical-align: top;\n    }\n\n    .dataframe thead th {\n        text-align: right;\n    }\n</style>\n<table border=\"1\" class=\"dataframe\">\n  <thead>\n    <tr style=\"text-align: right;\">\n      <th></th>\n      <th>id</th>\n      <th>subject</th>\n    </tr>\n  </thead>\n  <tbody>\n    <tr>\n      <th>11</th>\n      <td>82</td>\n      <td>Повторная отправка</td>\n    </tr>\n    <tr>\n      <th>12</th>\n      <td>83</td>\n      <td>Re: Шаблон рецензии (новый)</td>\n    </tr>\n    <tr>\n      <th>19</th>\n      <td>90</td>\n      <td>RE: статья Вестник САИТ Рецензия</td>\n    </tr>\n    <tr>\n      <th>27</th>\n      <td>98</td>\n      <td>RE: статья для рецензирования</td>\n    </tr>\n    <tr>\n      <th>21</th>\n      <td>92</td>\n      <td>RE: рецензия на статью</td>\n    </tr>\n    <tr>\n      <th>...</th>\n      <td>...</td>\n      <td>...</td>\n    </tr>\n    <tr>\n      <th>987</th>\n      <td>1065</td>\n      <td>Re: статья на рецензию</td>\n    </tr>\n    <tr>\n      <th>990</th>\n      <td>1068</td>\n      <td>статья</td>\n    </tr>\n    <tr>\n      <th>991</th>\n      <td>1069</td>\n      <td>Re: Королев= ответы на замечания рецензента</td>\n    </tr>\n    <tr>\n      <th>988</th>\n      <td>1066</td>\n      <td>Re: Конденсированные среды</td>\n    </tr>\n    <tr>\n      <th>582</th>\n      <td>658</td>\n      <td>Привет, ты получил сообщение.</td>\n    </tr>\n  </tbody>\n</table>\n<p>825 rows × 2 columns</p>\n</div>"
     },
     "execution_count": 242,
     "metadata": {},
     "output_type": "execute_result"
    }
   ],
   "source": [
    "subjects = df[['id', 'subject']]\n",
    "subjects"
   ],
   "metadata": {
    "collapsed": false,
    "ExecuteTime": {
     "end_time": "2024-05-17T21:54:57.225073400Z",
     "start_time": "2024-05-17T21:54:57.142152800Z"
    }
   },
   "id": "4b43fceaa27db25d"
  },
  {
   "cell_type": "code",
   "execution_count": 243,
   "outputs": [
    {
     "name": "stderr",
     "output_type": "stream",
     "text": [
      "C:\\Users\\08642\\AppData\\Local\\Temp\\ipykernel_22400\\4018698362.py:1: SettingWithCopyWarning: \n",
      "A value is trying to be set on a copy of a slice from a DataFrame.\n",
      "Try using .loc[row_indexer,col_indexer] = value instead\n",
      "\n",
      "See the caveats in the documentation: https://pandas.pydata.org/pandas-docs/stable/user_guide/indexing.html#returning-a-view-versus-a-copy\n",
      "  subjects['subject'] = clean_subject(subjects['subject'])\n"
     ]
    }
   ],
   "source": [
    "subjects['subject'] = clean_text(subjects['subject'])"
   ],
   "metadata": {
    "collapsed": false,
    "ExecuteTime": {
     "end_time": "2024-05-17T21:55:38.705482300Z",
     "start_time": "2024-05-17T21:55:38.644113500Z"
    }
   },
   "id": "c805ca111f9b59d3"
  },
  {
   "cell_type": "code",
   "execution_count": 246,
   "outputs": [
    {
     "data": {
      "text/plain": "        id                                            subject\n11      82                                 повторная отправка\n12      83                             шаблон рецензии новый \n19      90                       статья вестник саит рецензия\n27      98                          статья для рецензирования\n21      92                                 рецензия на статью\n...    ...                                                ...\n1000  1079  сведения об авторах doc статья кротов docx экс...\n986   1064                               статья колегова о а \n987   1065                                 статья на рецензию\n991   1069             королев ответы на замечания рецензента\n582    658                       привет ты получил сообщение \n\n[405 rows x 2 columns]",
      "text/html": "<div>\n<style scoped>\n    .dataframe tbody tr th:only-of-type {\n        vertical-align: middle;\n    }\n\n    .dataframe tbody tr th {\n        vertical-align: top;\n    }\n\n    .dataframe thead th {\n        text-align: right;\n    }\n</style>\n<table border=\"1\" class=\"dataframe\">\n  <thead>\n    <tr style=\"text-align: right;\">\n      <th></th>\n      <th>id</th>\n      <th>subject</th>\n    </tr>\n  </thead>\n  <tbody>\n    <tr>\n      <th>11</th>\n      <td>82</td>\n      <td>повторная отправка</td>\n    </tr>\n    <tr>\n      <th>12</th>\n      <td>83</td>\n      <td>шаблон рецензии новый</td>\n    </tr>\n    <tr>\n      <th>19</th>\n      <td>90</td>\n      <td>статья вестник саит рецензия</td>\n    </tr>\n    <tr>\n      <th>27</th>\n      <td>98</td>\n      <td>статья для рецензирования</td>\n    </tr>\n    <tr>\n      <th>21</th>\n      <td>92</td>\n      <td>рецензия на статью</td>\n    </tr>\n    <tr>\n      <th>...</th>\n      <td>...</td>\n      <td>...</td>\n    </tr>\n    <tr>\n      <th>1000</th>\n      <td>1079</td>\n      <td>сведения об авторах doc статья кротов docx экс...</td>\n    </tr>\n    <tr>\n      <th>986</th>\n      <td>1064</td>\n      <td>статья колегова о а</td>\n    </tr>\n    <tr>\n      <th>987</th>\n      <td>1065</td>\n      <td>статья на рецензию</td>\n    </tr>\n    <tr>\n      <th>991</th>\n      <td>1069</td>\n      <td>королев ответы на замечания рецензента</td>\n    </tr>\n    <tr>\n      <th>582</th>\n      <td>658</td>\n      <td>привет ты получил сообщение</td>\n    </tr>\n  </tbody>\n</table>\n<p>405 rows × 2 columns</p>\n</div>"
     },
     "execution_count": 246,
     "metadata": {},
     "output_type": "execute_result"
    }
   ],
   "source": [
    "uniq_sbj = subjects.drop_duplicates(subset='subject')\n",
    "uniq_sbj"
   ],
   "metadata": {
    "collapsed": false,
    "ExecuteTime": {
     "end_time": "2024-05-17T21:58:50.886620300Z",
     "start_time": "2024-05-17T21:58:50.841583900Z"
    }
   },
   "id": "6895f838787ed16a"
  },
  {
   "cell_type": "code",
   "execution_count": 247,
   "outputs": [],
   "source": [
    "uniq_sbj.to_csv('files/unique_subjects.csv', index=False)"
   ],
   "metadata": {
    "collapsed": false,
    "ExecuteTime": {
     "end_time": "2024-05-17T22:02:12.168849700Z",
     "start_time": "2024-05-17T22:02:12.105046300Z"
    }
   },
   "id": "fb97a81e7ac0a11e"
  },
  {
   "cell_type": "code",
   "execution_count": null,
   "outputs": [],
   "source": [],
   "metadata": {
    "collapsed": false
   },
   "id": "b0171c4e43fb7fdd"
  },
  {
   "cell_type": "markdown",
   "source": [
    "## navec embeddings"
   ],
   "metadata": {
    "collapsed": false
   },
   "id": "7963cce0e2b7c379"
  },
  {
   "cell_type": "code",
   "execution_count": 249,
   "outputs": [
    {
     "name": "stderr",
     "output_type": "stream",
     "text": [
      "F:\\Projects\\Python\\techAI\\MailManagementApp\\lib\\site-packages\\torchtext\\vocab\\__init__.py:4: UserWarning: \n",
      "/!\\ IMPORTANT WARNING ABOUT TORCHTEXT STATUS /!\\ \n",
      "Torchtext is deprecated and the last released version will be 0.18 (this one). You can silence this warning by calling the following at the beginnign of your scripts: `import torchtext; torchtext.disable_torchtext_deprecation_warning()`\n",
      "  warnings.warn(torchtext._TORCHTEXT_DEPRECATION_MSG)\n",
      "F:\\Projects\\Python\\techAI\\MailManagementApp\\lib\\site-packages\\torchtext\\utils.py:4: UserWarning: \n",
      "/!\\ IMPORTANT WARNING ABOUT TORCHTEXT STATUS /!\\ \n",
      "Torchtext is deprecated and the last released version will be 0.18 (this one). You can silence this warning by calling the following at the beginnign of your scripts: `import torchtext; torchtext.disable_torchtext_deprecation_warning()`\n",
      "  warnings.warn(torchtext._TORCHTEXT_DEPRECATION_MSG)\n"
     ]
    },
    {
     "ename": "ModuleNotFoundError",
     "evalue": "No module named 'torchmetrics'",
     "output_type": "error",
     "traceback": [
      "\u001B[1;31m---------------------------------------------------------------------------\u001B[0m",
      "\u001B[1;31mModuleNotFoundError\u001B[0m                       Traceback (most recent call last)",
      "Cell \u001B[1;32mIn[249], line 14\u001B[0m\n\u001B[0;32m     10\u001B[0m \u001B[38;5;28;01mimport\u001B[39;00m \u001B[38;5;21;01mtorch\u001B[39;00m\n\u001B[0;32m     11\u001B[0m \u001B[38;5;28;01mfrom\u001B[39;00m \u001B[38;5;21;01mtorch\u001B[39;00m \u001B[38;5;28;01mimport\u001B[39;00m nn\n\u001B[1;32m---> 14\u001B[0m \u001B[38;5;28;01mimport\u001B[39;00m \u001B[38;5;21;01mtorchmetrics\u001B[39;00m\n\u001B[0;32m     15\u001B[0m \u001B[38;5;28;01mimport\u001B[39;00m \u001B[38;5;21;01mlightning\u001B[39;00m\u001B[38;5;21;01m.\u001B[39;00m\u001B[38;5;21;01mpytorch\u001B[39;00m \u001B[38;5;28;01mas\u001B[39;00m \u001B[38;5;21;01mpl\u001B[39;00m\n\u001B[0;32m     16\u001B[0m \u001B[38;5;28;01mfrom\u001B[39;00m \u001B[38;5;21;01mlightning\u001B[39;00m\u001B[38;5;21;01m.\u001B[39;00m\u001B[38;5;21;01mpytorch\u001B[39;00m\u001B[38;5;21;01m.\u001B[39;00m\u001B[38;5;21;01mcallbacks\u001B[39;00m\u001B[38;5;21;01m.\u001B[39;00m\u001B[38;5;21;01mearly_stopping\u001B[39;00m \u001B[38;5;28;01mimport\u001B[39;00m EarlyStopping\n",
      "\u001B[1;31mModuleNotFoundError\u001B[0m: No module named 'torchmetrics'"
     ]
    }
   ],
   "source": [
    "import pandas as pd\n",
    "import numpy as np\n",
    "import torchtext\n",
    "import torch\n",
    "from torchtext.vocab import build_vocab_from_iterator\n",
    "from collections import Counter\n",
    "import natasha\n",
    "from natasha import Segmenter, Doc\n",
    "from torch.utils.data import TensorDataset, random_split, DataLoader\n",
    "import torch\n",
    "from torch import nn\n",
    "\n",
    "\n",
    "import torchmetrics\n",
    "import lightning.pytorch as pl\n",
    "from lightning.pytorch.callbacks.early_stopping import EarlyStopping\n",
    "from lightning.pytorch.callbacks import ModelCheckpoint\n",
    "from pytorch_lightning.callbacks import ModelSummary\n",
    "from lightning.pytorch.tuner import Tuner\n",
    "from torch.optim.lr_scheduler import ReduceLROnPlateau\n",
    "from lightning.pytorch.callbacks import Callback\n",
    "import matplotlib.pyplot as plt\n",
    "\n",
    "from navec import Navec\n",
    "from slovnet.model.emb import NavecEmbedding"
   ],
   "metadata": {
    "collapsed": false,
    "ExecuteTime": {
     "end_time": "2024-05-17T22:45:14.927498200Z",
     "start_time": "2024-05-17T22:45:06.862140200Z"
    }
   },
   "id": "fa89e76bf1c5198b"
  },
  {
   "cell_type": "code",
   "execution_count": 252,
   "outputs": [],
   "source": [
    "path = '../navec_hudlit_v1_12B_500K_300d_100q.tar'\n",
    "navec = Navec.load(path)"
   ],
   "metadata": {
    "collapsed": false,
    "ExecuteTime": {
     "end_time": "2024-05-17T22:46:49.691406200Z",
     "start_time": "2024-05-17T22:46:48.725784100Z"
    }
   },
   "id": "f1b311d178b4ebec"
  },
  {
   "cell_type": "code",
   "execution_count": null,
   "outputs": [],
   "source": [],
   "metadata": {
    "collapsed": false
   },
   "id": "e28927e776ab957f"
  },
  {
   "cell_type": "markdown",
   "source": [
    "## Ярги парсер"
   ],
   "metadata": {
    "collapsed": false
   },
   "id": "81216fc417bb948a"
  },
  {
   "cell_type": "code",
   "execution_count": 76,
   "outputs": [
    {
     "data": {
      "text/plain": "   id                           subject  \\\n0  82                Повторная отправка   \n1  83       Re: Шаблон рецензии (новый)   \n2  90  RE: статья Вестник САИТ Рецензия   \n3  98     RE: статья для рецензирования   \n4  92            RE: рецензия на статью   \n\n                                                from  \\\n0  Павловский Максим Викторович  <pmv-160570@yand...   \n1                  Юрий Нечаев  <nechaev_ub@mail.ru>   \n2                      Толстобров А.П.  <tap@vsu.ru>   \n3            Вялых Сергей Ариевич <vyalyh@govvrn.ru>   \n4                      Толстобров А.П.  <tap@vsu.ru>   \n\n                                                text                 date  \\\n0  Добрый вечер!\\r\\nОтсылаю материалы рецензии на...  2016-01-14 20:47:03   \n1                                    Спасибо.Нечаев.  2018-02-04 19:56:26   \n2  Добрый день!\\r\\nПосылаю рецензию\\r\\n\\r\\nС уваж...  2018-02-09 17:36:00   \n3  Доброе время суток, Вероника Викторовна!\\r\\n\\r...  2018-02-09 17:54:00   \n4  Добрый день!\\r\\nПосылаю рецензию\\r\\n\\r\\nС уваж...  2018-02-11 22:37:00   \n\n                                 attachment_filename  \\\n0                              Рецензия Гаршиной.doc   \n1                                                NaN   \n2  Рецензия Толстоброва на статью А.С. Платонова....   \n3     рецензия_на_Проблема защита_пользователей.docx   \n4  Рецензия Толстоброва на статью Черненькая-Маге...   \n\n                             attachment_content_type  \\\n0                                 application/msword   \n1                                                NaN   \n2  application/vnd.openxmlformats-officedocument....   \n3  application/vnd.openxmlformats-officedocument....   \n4  application/vnd.openxmlformats-officedocument....   \n\n                                             headers  \n0  {'dkim-signature': ('v=1; a=rsa-sha256; q=dns/...  \n1  {'dkim-signature': ('v=1; a=rsa-sha256; q=dns/...  \n2  {'dkim-signature': ('v=1; a=rsa-sha256; q=dns/...  \n3  {'dkim-signature': ('v=1; a=rsa-sha256; q=dns/...  \n4  {'dkim-signature': ('v=1; a=rsa-sha256; q=dns/...  ",
      "text/html": "<div>\n<style scoped>\n    .dataframe tbody tr th:only-of-type {\n        vertical-align: middle;\n    }\n\n    .dataframe tbody tr th {\n        vertical-align: top;\n    }\n\n    .dataframe thead th {\n        text-align: right;\n    }\n</style>\n<table border=\"1\" class=\"dataframe\">\n  <thead>\n    <tr style=\"text-align: right;\">\n      <th></th>\n      <th>id</th>\n      <th>subject</th>\n      <th>from</th>\n      <th>text</th>\n      <th>date</th>\n      <th>attachment_filename</th>\n      <th>attachment_content_type</th>\n      <th>headers</th>\n    </tr>\n  </thead>\n  <tbody>\n    <tr>\n      <th>0</th>\n      <td>82</td>\n      <td>Повторная отправка</td>\n      <td>Павловский Максим Викторович  &lt;pmv-160570@yand...</td>\n      <td>Добрый вечер!\\r\\nОтсылаю материалы рецензии на...</td>\n      <td>2016-01-14 20:47:03</td>\n      <td>Рецензия Гаршиной.doc</td>\n      <td>application/msword</td>\n      <td>{'dkim-signature': ('v=1; a=rsa-sha256; q=dns/...</td>\n    </tr>\n    <tr>\n      <th>1</th>\n      <td>83</td>\n      <td>Re: Шаблон рецензии (новый)</td>\n      <td>Юрий Нечаев  &lt;nechaev_ub@mail.ru&gt;</td>\n      <td>Спасибо.Нечаев.</td>\n      <td>2018-02-04 19:56:26</td>\n      <td>NaN</td>\n      <td>NaN</td>\n      <td>{'dkim-signature': ('v=1; a=rsa-sha256; q=dns/...</td>\n    </tr>\n    <tr>\n      <th>2</th>\n      <td>90</td>\n      <td>RE: статья Вестник САИТ Рецензия</td>\n      <td>Толстобров А.П.  &lt;tap@vsu.ru&gt;</td>\n      <td>Добрый день!\\r\\nПосылаю рецензию\\r\\n\\r\\nС уваж...</td>\n      <td>2018-02-09 17:36:00</td>\n      <td>Рецензия Толстоброва на статью А.С. Платонова....</td>\n      <td>application/vnd.openxmlformats-officedocument....</td>\n      <td>{'dkim-signature': ('v=1; a=rsa-sha256; q=dns/...</td>\n    </tr>\n    <tr>\n      <th>3</th>\n      <td>98</td>\n      <td>RE: статья для рецензирования</td>\n      <td>Вялых Сергей Ариевич &lt;vyalyh@govvrn.ru&gt;</td>\n      <td>Доброе время суток, Вероника Викторовна!\\r\\n\\r...</td>\n      <td>2018-02-09 17:54:00</td>\n      <td>рецензия_на_Проблема защита_пользователей.docx</td>\n      <td>application/vnd.openxmlformats-officedocument....</td>\n      <td>{'dkim-signature': ('v=1; a=rsa-sha256; q=dns/...</td>\n    </tr>\n    <tr>\n      <th>4</th>\n      <td>92</td>\n      <td>RE: рецензия на статью</td>\n      <td>Толстобров А.П.  &lt;tap@vsu.ru&gt;</td>\n      <td>Добрый день!\\r\\nПосылаю рецензию\\r\\n\\r\\nС уваж...</td>\n      <td>2018-02-11 22:37:00</td>\n      <td>Рецензия Толстоброва на статью Черненькая-Маге...</td>\n      <td>application/vnd.openxmlformats-officedocument....</td>\n      <td>{'dkim-signature': ('v=1; a=rsa-sha256; q=dns/...</td>\n    </tr>\n  </tbody>\n</table>\n</div>"
     },
     "execution_count": 76,
     "metadata": {},
     "output_type": "execute_result"
    }
   ],
   "source": [
    "test_df = pd.read_csv('files/drop_duplicates_df.csv')\n",
    "test_df.head() "
   ],
   "metadata": {
    "collapsed": false,
    "ExecuteTime": {
     "end_time": "2024-05-18T16:26:17.815369900Z",
     "start_time": "2024-05-18T16:26:17.742503900Z"
    }
   },
   "id": "380d971875099b2d"
  },
  {
   "cell_type": "code",
   "execution_count": 36,
   "outputs": [
    {
     "data": {
      "text/plain": "'Здравствуйте!\\r\\n\\r\\nПишет Вам аспирант математического факультета ВГУ Литвинов Дмитрий!\\r\\nЯ собираюсь отправить свою статью в журнал \"Вестник ВГУ. Серия: Системный анализ и информационные технологии\". В связи с этим у меня есть несколько вопросов:\\r\\n\\r\\n\\r\\n1)Принимаете ли Вы статьи аспирантов?\\r\\n2)Какие документы и прочие материалы я должен предоставить вместе со статьей в редакцию?\\r\\n3)Можно ли предоставить электронную версию статьи в формате tex?\\r\\n4)Как долго происходит процесс рецензирования в журнале?\\r\\n\\r\\nЗаранее спасибо!\\r\\n'"
     },
     "execution_count": 36,
     "metadata": {},
     "output_type": "execute_result"
    }
   ],
   "source": [
    "text = test_df.iloc[20]['text']\n",
    "text"
   ],
   "metadata": {
    "collapsed": false,
    "ExecuteTime": {
     "end_time": "2024-05-18T14:42:47.432660200Z",
     "start_time": "2024-05-18T14:42:47.419344400Z"
    }
   },
   "id": "186a98726a91d7b5"
  },
  {
   "cell_type": "code",
   "execution_count": 32,
   "outputs": [],
   "source": [
    "from yargy.tokenizer import MorphTokenizer\n",
    "from yargy.predicates import gram, dictionary, type as tp\n",
    "from yargy import Parser, rule, and_, not_, or_\n",
    "from yargy.predicates import gram,  eq, normalized\n",
    "from yargy.pipelines import morph_pipeline\n",
    "from yargy.interpretation import fact\n",
    "from yargy.tokenizer import RULES\n",
    "from ipymarkup import show_span_box_markup as show_markup"
   ],
   "metadata": {
    "collapsed": false,
    "ExecuteTime": {
     "end_time": "2024-05-18T14:14:18.309784400Z",
     "start_time": "2024-05-18T14:14:18.284510300Z"
    }
   },
   "id": "1d02bf61ac1236c8"
  },
  {
   "cell_type": "code",
   "execution_count": 48,
   "outputs": [
    {
     "data": {
      "text/plain": "[MorphToken(\n     value='поинтересуюсь',\n     span=[0, 13),\n     type='RU',\n     forms=[Form('поинтересоваться', Grams(1per,VERB,futr,indc,intr,perf,sing))]\n )]"
     },
     "execution_count": 48,
     "metadata": {},
     "output_type": "execute_result"
    }
   ],
   "source": [
    "TOKENIZER = MorphTokenizer()\n",
    "list(TOKENIZER('поинтересуюсь'))"
   ],
   "metadata": {
    "collapsed": false,
    "ExecuteTime": {
     "end_time": "2024-05-18T15:48:20.846371600Z",
     "start_time": "2024-05-18T15:48:20.731826800Z"
    }
   },
   "id": "32a12c73bb36c780"
  },
  {
   "cell_type": "code",
   "execution_count": 82,
   "outputs": [
    {
     "data": {
      "text/plain": "       id                                      subject  \\\n0      82                           Повторная отправка   \n1      83                  Re: Шаблон рецензии (новый)   \n2      90             RE: статья Вестник САИТ Рецензия   \n3      98                RE: статья для рецензирования   \n4      92                       RE: рецензия на статью   \n..    ...                                          ...   \n820  1065                       Re: статья на рецензию   \n821  1068                                       статья   \n822  1069  Re: Королев= ответы на замечания рецензента   \n823  1066                   Re: Конденсированные среды   \n824   658               Привет, ты получил сообщение.    \n\n                                   attachment_filename  \n0                                Рецензия Гаршиной.doc  \n1                                                  NaN  \n2    Рецензия Толстоброва на статью А.С. Платонова....  \n3       рецензия_на_Проблема защита_пользователей.docx  \n4    Рецензия Толстоброва на статью Черненькая-Маге...  \n..                                                 ...  \n820                Рецензии Сагдатуллина А_М_САИТ.docx  \n821                    Рис1.docx,Рис2.docx,Статья .doc  \n822  Ответ после повторного рецензирования.pdf,Реце...  \n823                                                NaN  \n824                                          邮件照片3.jpg  \n\n[825 rows x 3 columns]",
      "text/html": "<div>\n<style scoped>\n    .dataframe tbody tr th:only-of-type {\n        vertical-align: middle;\n    }\n\n    .dataframe tbody tr th {\n        vertical-align: top;\n    }\n\n    .dataframe thead th {\n        text-align: right;\n    }\n</style>\n<table border=\"1\" class=\"dataframe\">\n  <thead>\n    <tr style=\"text-align: right;\">\n      <th></th>\n      <th>id</th>\n      <th>subject</th>\n      <th>attachment_filename</th>\n    </tr>\n  </thead>\n  <tbody>\n    <tr>\n      <th>0</th>\n      <td>82</td>\n      <td>Повторная отправка</td>\n      <td>Рецензия Гаршиной.doc</td>\n    </tr>\n    <tr>\n      <th>1</th>\n      <td>83</td>\n      <td>Re: Шаблон рецензии (новый)</td>\n      <td>NaN</td>\n    </tr>\n    <tr>\n      <th>2</th>\n      <td>90</td>\n      <td>RE: статья Вестник САИТ Рецензия</td>\n      <td>Рецензия Толстоброва на статью А.С. Платонова....</td>\n    </tr>\n    <tr>\n      <th>3</th>\n      <td>98</td>\n      <td>RE: статья для рецензирования</td>\n      <td>рецензия_на_Проблема защита_пользователей.docx</td>\n    </tr>\n    <tr>\n      <th>4</th>\n      <td>92</td>\n      <td>RE: рецензия на статью</td>\n      <td>Рецензия Толстоброва на статью Черненькая-Маге...</td>\n    </tr>\n    <tr>\n      <th>...</th>\n      <td>...</td>\n      <td>...</td>\n      <td>...</td>\n    </tr>\n    <tr>\n      <th>820</th>\n      <td>1065</td>\n      <td>Re: статья на рецензию</td>\n      <td>Рецензии Сагдатуллина А_М_САИТ.docx</td>\n    </tr>\n    <tr>\n      <th>821</th>\n      <td>1068</td>\n      <td>статья</td>\n      <td>Рис1.docx,Рис2.docx,Статья .doc</td>\n    </tr>\n    <tr>\n      <th>822</th>\n      <td>1069</td>\n      <td>Re: Королев= ответы на замечания рецензента</td>\n      <td>Ответ после повторного рецензирования.pdf,Реце...</td>\n    </tr>\n    <tr>\n      <th>823</th>\n      <td>1066</td>\n      <td>Re: Конденсированные среды</td>\n      <td>NaN</td>\n    </tr>\n    <tr>\n      <th>824</th>\n      <td>658</td>\n      <td>Привет, ты получил сообщение.</td>\n      <td>邮件照片3.jpg</td>\n    </tr>\n  </tbody>\n</table>\n<p>825 rows × 3 columns</p>\n</div>"
     },
     "execution_count": 82,
     "metadata": {},
     "output_type": "execute_result"
    }
   ],
   "source": [
    "subjects = test_df[['id', 'subject', 'attachment_filename']]\n",
    "subjects"
   ],
   "metadata": {
    "collapsed": false,
    "ExecuteTime": {
     "end_time": "2024-05-18T16:33:00.637973200Z",
     "start_time": "2024-05-18T16:33:00.604700200Z"
    }
   },
   "id": "44a61b7d69447"
  },
  {
   "cell_type": "code",
   "execution_count": 83,
   "outputs": [
    {
     "name": "stderr",
     "output_type": "stream",
     "text": [
      "C:\\Users\\08642\\AppData\\Local\\Temp\\ipykernel_10472\\2351832943.py:1: SettingWithCopyWarning: \n",
      "A value is trying to be set on a copy of a slice from a DataFrame.\n",
      "Try using .loc[row_indexer,col_indexer] = value instead\n",
      "\n",
      "See the caveats in the documentation: https://pandas.pydata.org/pandas-docs/stable/user_guide/indexing.html#returning-a-view-versus-a-copy\n",
      "  subjects['category'] = ''\n"
     ]
    }
   ],
   "source": [
    "subjects['category'] = ''\n"
   ],
   "metadata": {
    "collapsed": false,
    "ExecuteTime": {
     "end_time": "2024-05-18T16:33:14.052556500Z",
     "start_time": "2024-05-18T16:33:14.012671400Z"
    }
   },
   "id": "2cbd9b37ca62531d"
  },
  {
   "cell_type": "code",
   "execution_count": 117,
   "outputs": [],
   "source": [
    "Category = fact('Category', ['name'])\n",
    "article = morph_pipeline(\n",
    "    ['опубликовать','публикация','опубликования','разместить',\n",
    "        'материалы','размещение','печатать','напечатать','принять']\n",
    ").interpretation(Category.name.const('подача'))\n",
    "\n",
    "review = morph_pipeline(\n",
    "    ['рецензия на статью','рецензия','отрецензировать',\n",
    "        'рецензирование','рецензент']\n",
    ").interpretation(Category.name.const('рецензия'))\n",
    "\n",
    "question = morph_pipeline(\n",
    "    ['вопрос','подсказать','сказать','?','узнать',\n",
    "        'интересоваться','поинтересоваться', 'интересует','повод']\n",
    ").interpretation(Category.name.const('вопрос'))\n",
    "\n",
    "ARTICLE = rule(\n",
    "    or_(article, review, question)).interpretation(Category)\n",
    "parser = Parser(ARTICLE)\n",
    "# matches = list(parser.findall(text))\n",
    "# spans = [_.span for _ in matches]\n",
    "# show_markup(text, spans)\n",
    "# for match in parser.findall(text):\n",
    "#     print (match.fact)"
   ],
   "metadata": {
    "collapsed": false,
    "ExecuteTime": {
     "end_time": "2024-05-18T16:55:11.580865500Z",
     "start_time": "2024-05-18T16:55:11.444060400Z"
    }
   },
   "id": "351c4e239e39a556"
  },
  {
   "cell_type": "code",
   "execution_count": 118,
   "outputs": [],
   "source": [
    "for index, row in subjects.iterrows():\n",
    "    tx = row['subject']\n",
    "    if (tx is not None) or (tx != 'NaN') or (str(tx) != 'nan'):\n",
    "        for match in parser.findall(str(tx)):\n",
    "                category = match.fact\n",
    "                if category is not None:\n",
    "                    subjects.at[index, 'category'] = str(category.name)\n",
    "                else:\n",
    "                    subjects.at[index, 'category'] = 'Nan'\n",
    "    else:\n",
    "        subjects.at[index, 'category'] = 'Nan'\n"
   ],
   "metadata": {
    "collapsed": false,
    "ExecuteTime": {
     "end_time": "2024-05-18T16:55:14.396660100Z",
     "start_time": "2024-05-18T16:55:13.428178300Z"
    }
   },
   "id": "b386aa1e6a0f9557"
  },
  {
   "cell_type": "code",
   "execution_count": 119,
   "outputs": [
    {
     "data": {
      "text/plain": "     id                               subject attachment_filename category\n62  143  Вопрос по публикации в вашем журнале                 NaN   подача",
      "text/html": "<div>\n<style scoped>\n    .dataframe tbody tr th:only-of-type {\n        vertical-align: middle;\n    }\n\n    .dataframe tbody tr th {\n        vertical-align: top;\n    }\n\n    .dataframe thead th {\n        text-align: right;\n    }\n</style>\n<table border=\"1\" class=\"dataframe\">\n  <thead>\n    <tr style=\"text-align: right;\">\n      <th></th>\n      <th>id</th>\n      <th>subject</th>\n      <th>attachment_filename</th>\n      <th>category</th>\n    </tr>\n  </thead>\n  <tbody>\n    <tr>\n      <th>62</th>\n      <td>143</td>\n      <td>Вопрос по публикации в вашем журнале</td>\n      <td>NaN</td>\n      <td>подача</td>\n    </tr>\n  </tbody>\n</table>\n</div>"
     },
     "execution_count": 119,
     "metadata": {},
     "output_type": "execute_result"
    }
   ],
   "source": [
    "subjects[subjects['id'] == 143]"
   ],
   "metadata": {
    "collapsed": false,
    "ExecuteTime": {
     "end_time": "2024-05-18T16:55:55.538488Z",
     "start_time": "2024-05-18T16:55:55.508879Z"
    }
   },
   "id": "3c4a15675c7c3188"
  },
  {
   "cell_type": "code",
   "execution_count": 115,
   "outputs": [
    {
     "data": {
      "text/plain": "       id                                            subject  \\\n5      80                                  Re: сверка статьи   \n6      79                                  Re: сверка статьи   \n7      81                                  Re: сверка статьи   \n8     123                               статья_Шубина_Васева   \n9      99                              Статьи в №1 2018 года   \n..    ...                                                ...   \n809  1053                          Re: Запрос на публикацию.   \n817  1078  Статья Кротов.docx, экспертное заключение 11-2...   \n818  1079  Сведения об авторах.doc, Статья Кротов.docx, э...   \n819  1064                        Re[2]: Статья Колегова О.А.   \n821  1068                                             статья   \n\n                                   attachment_filename category  \n5                                                  NaN   подача  \n6                                                  NaN   подача  \n7                                                  NaN   подача  \n8    Авторы_свед.docx,Рисунки_Шубина_Васева.rar,Ста...   подача  \n9    Статья 1  ( Нечаев и соавторы)   Текст.doc,Ста...   подача  \n..                                                 ...      ...  \n809                                                NaN   подача  \n817  Статья Кротов.docx,экспертное заключение 11-2....   подача  \n818  Сведения об авторах.doc,Статья Кротов.docx,экс...   подача  \n819                                                NaN   подача  \n821                    Рис1.docx,Рис2.docx,Статья .doc   подача  \n\n[464 rows x 4 columns]",
      "text/html": "<div>\n<style scoped>\n    .dataframe tbody tr th:only-of-type {\n        vertical-align: middle;\n    }\n\n    .dataframe tbody tr th {\n        vertical-align: top;\n    }\n\n    .dataframe thead th {\n        text-align: right;\n    }\n</style>\n<table border=\"1\" class=\"dataframe\">\n  <thead>\n    <tr style=\"text-align: right;\">\n      <th></th>\n      <th>id</th>\n      <th>subject</th>\n      <th>attachment_filename</th>\n      <th>category</th>\n    </tr>\n  </thead>\n  <tbody>\n    <tr>\n      <th>5</th>\n      <td>80</td>\n      <td>Re: сверка статьи</td>\n      <td>NaN</td>\n      <td>подача</td>\n    </tr>\n    <tr>\n      <th>6</th>\n      <td>79</td>\n      <td>Re: сверка статьи</td>\n      <td>NaN</td>\n      <td>подача</td>\n    </tr>\n    <tr>\n      <th>7</th>\n      <td>81</td>\n      <td>Re: сверка статьи</td>\n      <td>NaN</td>\n      <td>подача</td>\n    </tr>\n    <tr>\n      <th>8</th>\n      <td>123</td>\n      <td>статья_Шубина_Васева</td>\n      <td>Авторы_свед.docx,Рисунки_Шубина_Васева.rar,Ста...</td>\n      <td>подача</td>\n    </tr>\n    <tr>\n      <th>9</th>\n      <td>99</td>\n      <td>Статьи в №1 2018 года</td>\n      <td>Статья 1  ( Нечаев и соавторы)   Текст.doc,Ста...</td>\n      <td>подача</td>\n    </tr>\n    <tr>\n      <th>...</th>\n      <td>...</td>\n      <td>...</td>\n      <td>...</td>\n      <td>...</td>\n    </tr>\n    <tr>\n      <th>809</th>\n      <td>1053</td>\n      <td>Re: Запрос на публикацию.</td>\n      <td>NaN</td>\n      <td>подача</td>\n    </tr>\n    <tr>\n      <th>817</th>\n      <td>1078</td>\n      <td>Статья Кротов.docx, экспертное заключение 11-2...</td>\n      <td>Статья Кротов.docx,экспертное заключение 11-2....</td>\n      <td>подача</td>\n    </tr>\n    <tr>\n      <th>818</th>\n      <td>1079</td>\n      <td>Сведения об авторах.doc, Статья Кротов.docx, э...</td>\n      <td>Сведения об авторах.doc,Статья Кротов.docx,экс...</td>\n      <td>подача</td>\n    </tr>\n    <tr>\n      <th>819</th>\n      <td>1064</td>\n      <td>Re[2]: Статья Колегова О.А.</td>\n      <td>NaN</td>\n      <td>подача</td>\n    </tr>\n    <tr>\n      <th>821</th>\n      <td>1068</td>\n      <td>статья</td>\n      <td>Рис1.docx,Рис2.docx,Статья .doc</td>\n      <td>подача</td>\n    </tr>\n  </tbody>\n</table>\n<p>464 rows × 4 columns</p>\n</div>"
     },
     "execution_count": 115,
     "metadata": {},
     "output_type": "execute_result"
    }
   ],
   "source": [
    "submitting = subjects.loc[subjects['category'].isin(['подача'])]\n",
    "submitting"
   ],
   "metadata": {
    "collapsed": false,
    "ExecuteTime": {
     "end_time": "2024-05-18T16:53:05.722120700Z",
     "start_time": "2024-05-18T16:53:05.680544200Z"
    }
   },
   "id": "e00b827c4a31efeb"
  },
  {
   "cell_type": "code",
   "execution_count": 116,
   "outputs": [],
   "source": [
    "submitting.to_csv('files/submitting.csv', index=False)"
   ],
   "metadata": {
    "collapsed": false,
    "ExecuteTime": {
     "end_time": "2024-05-18T16:54:13.618685400Z",
     "start_time": "2024-05-18T16:54:13.585806200Z"
    }
   },
   "id": "41f843bf56c8c9bc"
  },
  {
   "cell_type": "code",
   "execution_count": 17,
   "outputs": [
    {
     "ename": "AttributeError",
     "evalue": "'Tokenizer' object has no attribute 'activate'",
     "output_type": "error",
     "traceback": [
      "\u001B[1;31m---------------------------------------------------------------------------\u001B[0m",
      "\u001B[1;31mAttributeError\u001B[0m                            Traceback (most recent call last)",
      "Cell \u001B[1;32mIn[17], line 8\u001B[0m\n\u001B[0;32m      6\u001B[0m tokenizer \u001B[38;5;241m=\u001B[39m Tokenizer()\u001B[38;5;241m.\u001B[39mremove_types(\u001B[38;5;124m'\u001B[39m\u001B[38;5;124mEOL\u001B[39m\u001B[38;5;124m'\u001B[39m)\u001B[38;5;241m.\u001B[39madd_rules(EMAIL_RULE, PHONE_RULE)\n\u001B[0;32m      7\u001B[0m \u001B[38;5;66;03m# list(tokenizer(text))\u001B[39;00m\n\u001B[1;32m----> 8\u001B[0m parser \u001B[38;5;241m=\u001B[39m \u001B[43mParser\u001B[49m\u001B[43m(\u001B[49m\u001B[43mtokenizer\u001B[49m\u001B[43m)\u001B[49m\n\u001B[0;32m      9\u001B[0m tokens \u001B[38;5;241m=\u001B[39m tokenizer(text)\n\u001B[0;32m     10\u001B[0m parser\u001B[38;5;241m.\u001B[39mmatch(tokens);\n",
      "File \u001B[1;32mF:\\Projects\\Python\\techAI\\MailManagementApp\\lib\\site-packages\\yargy\\parser.py:253\u001B[0m, in \u001B[0;36mParser.__init__\u001B[1;34m(self, rule, tokenizer, tagger)\u001B[0m\n\u001B[0;32m    250\u001B[0m \u001B[38;5;28mself\u001B[39m\u001B[38;5;241m.\u001B[39mtagger \u001B[38;5;241m=\u001B[39m tagger\n\u001B[0;32m    252\u001B[0m context \u001B[38;5;241m=\u001B[39m Context(tokenizer, tagger)\n\u001B[1;32m--> 253\u001B[0m rule \u001B[38;5;241m=\u001B[39m \u001B[43mrule\u001B[49m\u001B[38;5;241;43m.\u001B[39;49m\u001B[43mactivate\u001B[49m(context)\n\u001B[0;32m    254\u001B[0m rule \u001B[38;5;241m=\u001B[39m rule\u001B[38;5;241m.\u001B[39mnormalized\n\u001B[0;32m    255\u001B[0m \u001B[38;5;28mself\u001B[39m\u001B[38;5;241m.\u001B[39mrule \u001B[38;5;241m=\u001B[39m rule\u001B[38;5;241m.\u001B[39mas_bnf\u001B[38;5;241m.\u001B[39mstart\n",
      "\u001B[1;31mAttributeError\u001B[0m: 'Tokenizer' object has no attribute 'activate'"
     ]
    }
   ],
   "source": [
    "from yargy import Parser, rule\n",
    "from yargy.predicates import gram, dictionary\n",
    "from yargy.tokenizer import EMAIL_RULE, PHONE_RULE\n",
    "from yargy.tokenizer import Tokenizer\n",
    "\n",
    "tokenizer = Tokenizer().remove_types('EOL').add_rules(EMAIL_RULE, PHONE_RULE)\n",
    "# list(tokenizer(text))\n",
    "parser = Parser(tokenizer)\n",
    "tokens = tokenizer(text)\n",
    "parser.match(tokens);"
   ],
   "metadata": {
    "collapsed": false,
    "ExecuteTime": {
     "end_time": "2024-05-18T09:19:11.738326800Z",
     "start_time": "2024-05-18T09:19:11.625143700Z"
    }
   },
   "id": "5beb586e290c42b1"
  },
  {
   "cell_type": "markdown",
   "source": [
    "Разделение сообщения"
   ],
   "metadata": {
    "collapsed": false
   },
   "id": "764df0508e3870bb"
  },
  {
   "cell_type": "code",
   "execution_count": 41,
   "outputs": [
    {
     "data": {
      "text/plain": "Series([], Name: text, dtype: object)"
     },
     "execution_count": 41,
     "metadata": {},
     "output_type": "execute_result"
    }
   ],
   "source": [
    "text = test_df.loc[test_df['id']=='115']['text']\n",
    "text"
   ],
   "metadata": {
    "collapsed": false,
    "ExecuteTime": {
     "end_time": "2024-05-18T15:25:58.698328400Z",
     "start_time": "2024-05-18T15:25:58.672020600Z"
    }
   },
   "id": "6d640ca517b30bd4"
  },
  {
   "cell_type": "code",
   "execution_count": null,
   "outputs": [],
   "source": [
    "delimiters = ['-----Original Message-----\\n', '-------- Пересылаемое сообщение --------\\n', 'пишет:\\n', ]"
   ],
   "metadata": {
    "collapsed": false
   },
   "id": "e57eaafff98a0fae"
  }
 ],
 "metadata": {
  "kernelspec": {
   "display_name": "Python 3",
   "language": "python",
   "name": "python3"
  },
  "language_info": {
   "codemirror_mode": {
    "name": "ipython",
    "version": 2
   },
   "file_extension": ".py",
   "mimetype": "text/x-python",
   "name": "python",
   "nbconvert_exporter": "python",
   "pygments_lexer": "ipython2",
   "version": "2.7.6"
  }
 },
 "nbformat": 4,
 "nbformat_minor": 5
}
