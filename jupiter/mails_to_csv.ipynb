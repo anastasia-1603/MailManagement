{
 "cells": [
  {
   "cell_type": "code",
   "execution_count": 14,
   "id": "initial_id",
   "metadata": {
    "collapsed": true,
    "ExecuteTime": {
     "end_time": "2024-06-03T18:33:42.680811600Z",
     "start_time": "2024-06-03T18:33:42.667752800Z"
    }
   },
   "outputs": [],
   "source": [
    "from email.header import decode_header\n",
    "import re\n",
    "from imap_tools import MailBox\n",
    "from imap_tools import AND\n",
    "import pandas as pd\n",
    "import dateparser\n",
    "from dateparser.search import search_dates"
   ]
  },
  {
   "cell_type": "code",
   "execution_count": 31,
   "outputs": [
    {
     "data": {
      "text/plain": "<imap_tools.mailbox.MailBox at 0x1bd39b82e20>"
     },
     "execution_count": 31,
     "metadata": {},
     "output_type": "execute_result"
    }
   ],
   "source": [
    "from imap_tools import MailboxLoginError\n",
    "\n",
    "password = \"7PP4ZDXqnv\"\n",
    "username = \"lazutkina@cs.vsu.ru\"\n",
    "host = \"info.vsu.ru\"\n",
    "\n",
    "mailbox = MailBox(host)\n",
    "mailbox.login(username=username, password=password, initial_folder='INBOX')\n",
    "# try:\n",
    "#     res = mailbox.login(username=username, password=password, initial_folder='INBOX')\n",
    "#     print(res.login_result[0])\n",
    "# except MailboxLoginError as e: \n",
    "#     print(e.command_result)\n",
    "# except Exception as e:\n",
    "#     print(e.command_result)\n"
   ],
   "metadata": {
    "collapsed": false,
    "ExecuteTime": {
     "end_time": "2024-06-03T19:04:38.558598300Z",
     "start_time": "2024-06-03T19:04:38.048022900Z"
    }
   },
   "id": "b74e82a09b626b2c"
  },
  {
   "cell_type": "markdown",
   "source": [],
   "metadata": {
    "collapsed": false
   },
   "id": "9f81325e394a0017"
  },
  {
   "cell_type": "code",
   "execution_count": 35,
   "outputs": [],
   "source": [
    "mails = mailbox.fetch(limit=1, reverse=True, mark_seen=False,)"
   ],
   "metadata": {
    "collapsed": false,
    "ExecuteTime": {
     "end_time": "2024-06-03T19:04:57.917312500Z",
     "start_time": "2024-06-03T19:04:57.892695400Z"
    }
   },
   "id": "a75ebe25f9046ad6"
  },
  {
   "cell_type": "code",
   "execution_count": 37,
   "outputs": [],
   "source": [
    "for msg in mails:\n",
    "    print(msg.uid, \"\\n\", msg.subject, \"\\n\",  msg.text)\n",
    "    "
   ],
   "metadata": {
    "collapsed": false,
    "ExecuteTime": {
     "end_time": "2024-06-03T19:05:04.638568500Z",
     "start_time": "2024-06-03T19:05:04.630454900Z"
    }
   },
   "id": "640144161d542872"
  },
  {
   "cell_type": "code",
   "execution_count": 4,
   "outputs": [
    {
     "ename": "AttributeError",
     "evalue": "'MailBox' object has no attribute 'select'",
     "output_type": "error",
     "traceback": [
      "\u001B[1;31m---------------------------------------------------------------------------\u001B[0m",
      "\u001B[1;31mAttributeError\u001B[0m                            Traceback (most recent call last)",
      "Cell \u001B[1;32mIn[4], line 1\u001B[0m\n\u001B[1;32m----> 1\u001B[0m \u001B[43mmailbox\u001B[49m\u001B[38;5;241;43m.\u001B[39;49m\u001B[43mselect\u001B[49m(\u001B[38;5;124m\"\u001B[39m\u001B[38;5;124minbox\u001B[39m\u001B[38;5;124m\"\u001B[39m)\n\u001B[0;32m      2\u001B[0m result, data \u001B[38;5;241m=\u001B[39m mailbox\u001B[38;5;241m.\u001B[39msearch(\u001B[38;5;28;01mNone\u001B[39;00m, \u001B[38;5;124m\"\u001B[39m\u001B[38;5;124mALL\u001B[39m\u001B[38;5;124m\"\u001B[39m)\n\u001B[0;32m      3\u001B[0m id_list \u001B[38;5;241m=\u001B[39m data[\u001B[38;5;241m0\u001B[39m]\u001B[38;5;241m.\u001B[39msplit()\n",
      "\u001B[1;31mAttributeError\u001B[0m: 'MailBox' object has no attribute 'select'"
     ]
    }
   ],
   "source": [
    "mailbox.select(\"inbox\")\n",
    "result, data = mailbox.search(None, \"ALL\")\n",
    "id_list = data[0].split()\n",
    "latest_email_id = id_list[-1]"
   ],
   "metadata": {
    "collapsed": false,
    "ExecuteTime": {
     "end_time": "2024-06-03T18:04:42.682369800Z",
     "start_time": "2024-06-03T18:04:42.167540800Z"
    }
   },
   "id": "f3eb4af240584423"
  },
  {
   "cell_type": "code",
   "execution_count": 20,
   "outputs": [],
   "source": [
    "def get_folders_list(imap):\n",
    "    folders = []\n",
    "    for i in imap.folder.list('INBOX'):\n",
    "        k = i.name.split('/')\n",
    "        folders.append(k[1])\n",
    "    return folders"
   ],
   "metadata": {
    "collapsed": false,
    "ExecuteTime": {
     "end_time": "2024-05-27T22:59:01.901283800Z",
     "start_time": "2024-05-27T22:59:01.856098Z"
    }
   },
   "id": "a4d67da5d2398b3f"
  },
  {
   "cell_type": "code",
   "execution_count": 21,
   "outputs": [
    {
     "data": {
      "text/plain": "['Заявки', 'К пересылке', 'Старые', 'тест']"
     },
     "execution_count": 21,
     "metadata": {},
     "output_type": "execute_result"
    }
   ],
   "source": [
    "get_folders_list(mailbox)"
   ],
   "metadata": {
    "collapsed": false,
    "ExecuteTime": {
     "end_time": "2024-05-27T22:59:02.997633700Z",
     "start_time": "2024-05-27T22:59:02.954214600Z"
    }
   },
   "id": "7a66bd3cb8df3ad3"
  },
  {
   "cell_type": "code",
   "execution_count": 15,
   "outputs": [],
   "source": [
    "def mails_to_df(mails):\n",
    "    columns = ['id', 'subject', 'from', 'text', 'date', 'attachment_filename', 'attachment_content_type', 'headers']\n",
    "    mails_list = []\n",
    "    for msg in mails:\n",
    "        attachment_filename = \",\".join(str(att.filename) for att in msg.attachments)\n",
    "        attachment_content_type = \",\".join(str(att.content_type) for att in msg.attachments)\n",
    "        \n",
    "        mails_list.append([msg.uid, msg.subject, msg.from_, msg.text, msg.date_str, attachment_filename, attachment_content_type, msg.headers])\n",
    "\n",
    "    df = pd.DataFrame(data=mails_list)\n",
    "    df.columns = columns\n",
    "    return df"
   ],
   "metadata": {
    "collapsed": false,
    "ExecuteTime": {
     "end_time": "2024-05-25T12:11:31.538769700Z",
     "start_time": "2024-05-25T12:11:31.381921500Z"
    }
   },
   "id": "b1a92f870a178236"
  },
  {
   "cell_type": "markdown",
   "source": [
    "## Подстановка правильных данных"
   ],
   "metadata": {
    "collapsed": false
   },
   "id": "f401eb1c4216bb22"
  },
  {
   "cell_type": "code",
   "execution_count": 16,
   "outputs": [
    {
     "data": {
      "text/plain": "        id                           subject             from  \\\n0       70           FW: Вестник САИТ 1-2018  cs-it@cs.vsu.ru   \n1       71               FW: Проверка статьи  cs-it@cs.vsu.ru   \n2       72            FW: e-mail Баевой Н.Б.  cs-it@cs.vsu.ru   \n3       73                   FW: от Матвеева  cs-it@cs.vsu.ru   \n4       74                      FW: рецензия  cs-it@cs.vsu.ru   \n...    ...                               ...              ...   \n1132  1213     FWD:Re: Заседание редколлегии  cs-it@cs.vsu.ru   \n1133  1214          FWD:Re[2]: сверка статьи  cs-it@cs.vsu.ru   \n1134  1215  FWD:Re: статья на рецензирование  cs-it@cs.vsu.ru   \n1135  1216                              FWD:  cs-it@cs.vsu.ru   \n1136  1217     FWD:Re: Статья Хацкевича В.Л.  cs-it@cs.vsu.ru   \n\n                                                   text  \\\n0     \\r\\n\\r\\n-----Original Message-----\\r\\nFrom: Па...   \n1      \\r\\n \\r\\nFrom: Михаил Горчаков <gorchakovmiha...   \n2      \\r\\n \\r\\nFrom: Аснина Н.Г. <andrey050569@yand...   \n3      \\r\\n \\r\\nFrom: Матвеев Михаил <mgmatveev@yand...   \n4     \\r\\n\\r\\n-----Original Message-----\\r\\nFrom: Al...   \n...                                                 ...   \n1132  Вероника, привет!\\r\\nСреда - единственный день...   \n1133  Вероника Викторовна, на сайте уже появился 2 н...   \n1134  Уважаемая Вероника Викторовна,\\r\\nпредставленн...   \n1135  Уважаемые Коллеги!\\n\\nПрошу Вас рассмотреть мо...   \n1136  Уважаемая редколлегия!\\n\\nМной 27 июня 2018 го...   \n\n                                 date         attachment_filename  \\\n0     Thu, 16 May 2024 11:53:29 +0300                               \n1     Thu, 16 May 2024 11:53:32 +0300   Исправления_Горчаков.docx   \n2     Thu, 16 May 2024 11:53:29 +0300                               \n3     Thu, 16 May 2024 11:53:30 +0300               Рецензия.docx   \n4     Thu, 16 May 2024 11:53:30 +0300        рецензия_Шмырин.docx   \n...                               ...                         ...   \n1132  Thu, 16 May 2024 12:06:45 +0300                               \n1133  Thu, 16 May 2024 12:06:45 +0300                               \n1134  Thu, 16 May 2024 12:06:45 +0300                               \n1135  Thu, 16 May 2024 12:06:45 +0300  4прост. фрактал 22342+.doc   \n1136  Thu, 16 May 2024 12:06:45 +0300                               \n\n                                attachment_content_type  \\\n0                                                         \n1     application/vnd.openxmlformats-officedocument....   \n2                                                         \n3     application/vnd.openxmlformats-officedocument....   \n4     application/vnd.openxmlformats-officedocument....   \n...                                                 ...   \n1132                                                      \n1133                                                      \n1134                                                      \n1135                                 application/msword   \n1136                                                      \n\n                                                headers  \n0     {'dkim-signature': ('v=1; a=rsa-sha256; q=dns/...  \n1     {'dkim-signature': ('v=1; a=rsa-sha256; q=dns/...  \n2     {'dkim-signature': ('v=1; a=rsa-sha256; q=dns/...  \n3     {'dkim-signature': ('v=1; a=rsa-sha256; q=dns/...  \n4     {'dkim-signature': ('v=1; a=rsa-sha256; q=dns/...  \n...                                                 ...  \n1132  {'dkim-signature': ('v=1; a=rsa-sha256; q=dns/...  \n1133  {'dkim-signature': ('v=1; a=rsa-sha256; q=dns/...  \n1134  {'dkim-signature': ('v=1; a=rsa-sha256; q=dns/...  \n1135  {'dkim-signature': ('v=1; a=rsa-sha256; q=dns/...  \n1136  {'dkim-signature': ('v=1; a=rsa-sha256; q=dns/...  \n\n[1137 rows x 8 columns]",
      "text/html": "<div>\n<style scoped>\n    .dataframe tbody tr th:only-of-type {\n        vertical-align: middle;\n    }\n\n    .dataframe tbody tr th {\n        vertical-align: top;\n    }\n\n    .dataframe thead th {\n        text-align: right;\n    }\n</style>\n<table border=\"1\" class=\"dataframe\">\n  <thead>\n    <tr style=\"text-align: right;\">\n      <th></th>\n      <th>id</th>\n      <th>subject</th>\n      <th>from</th>\n      <th>text</th>\n      <th>date</th>\n      <th>attachment_filename</th>\n      <th>attachment_content_type</th>\n      <th>headers</th>\n    </tr>\n  </thead>\n  <tbody>\n    <tr>\n      <th>0</th>\n      <td>70</td>\n      <td>FW: Вестник САИТ 1-2018</td>\n      <td>cs-it@cs.vsu.ru</td>\n      <td>\\r\\n\\r\\n-----Original Message-----\\r\\nFrom: Па...</td>\n      <td>Thu, 16 May 2024 11:53:29 +0300</td>\n      <td></td>\n      <td></td>\n      <td>{'dkim-signature': ('v=1; a=rsa-sha256; q=dns/...</td>\n    </tr>\n    <tr>\n      <th>1</th>\n      <td>71</td>\n      <td>FW: Проверка статьи</td>\n      <td>cs-it@cs.vsu.ru</td>\n      <td>\\r\\n \\r\\nFrom: Михаил Горчаков &lt;gorchakovmiha...</td>\n      <td>Thu, 16 May 2024 11:53:32 +0300</td>\n      <td>Исправления_Горчаков.docx</td>\n      <td>application/vnd.openxmlformats-officedocument....</td>\n      <td>{'dkim-signature': ('v=1; a=rsa-sha256; q=dns/...</td>\n    </tr>\n    <tr>\n      <th>2</th>\n      <td>72</td>\n      <td>FW: e-mail Баевой Н.Б.</td>\n      <td>cs-it@cs.vsu.ru</td>\n      <td>\\r\\n \\r\\nFrom: Аснина Н.Г. &lt;andrey050569@yand...</td>\n      <td>Thu, 16 May 2024 11:53:29 +0300</td>\n      <td></td>\n      <td></td>\n      <td>{'dkim-signature': ('v=1; a=rsa-sha256; q=dns/...</td>\n    </tr>\n    <tr>\n      <th>3</th>\n      <td>73</td>\n      <td>FW: от Матвеева</td>\n      <td>cs-it@cs.vsu.ru</td>\n      <td>\\r\\n \\r\\nFrom: Матвеев Михаил &lt;mgmatveev@yand...</td>\n      <td>Thu, 16 May 2024 11:53:30 +0300</td>\n      <td>Рецензия.docx</td>\n      <td>application/vnd.openxmlformats-officedocument....</td>\n      <td>{'dkim-signature': ('v=1; a=rsa-sha256; q=dns/...</td>\n    </tr>\n    <tr>\n      <th>4</th>\n      <td>74</td>\n      <td>FW: рецензия</td>\n      <td>cs-it@cs.vsu.ru</td>\n      <td>\\r\\n\\r\\n-----Original Message-----\\r\\nFrom: Al...</td>\n      <td>Thu, 16 May 2024 11:53:30 +0300</td>\n      <td>рецензия_Шмырин.docx</td>\n      <td>application/vnd.openxmlformats-officedocument....</td>\n      <td>{'dkim-signature': ('v=1; a=rsa-sha256; q=dns/...</td>\n    </tr>\n    <tr>\n      <th>...</th>\n      <td>...</td>\n      <td>...</td>\n      <td>...</td>\n      <td>...</td>\n      <td>...</td>\n      <td>...</td>\n      <td>...</td>\n      <td>...</td>\n    </tr>\n    <tr>\n      <th>1132</th>\n      <td>1213</td>\n      <td>FWD:Re: Заседание редколлегии</td>\n      <td>cs-it@cs.vsu.ru</td>\n      <td>Вероника, привет!\\r\\nСреда - единственный день...</td>\n      <td>Thu, 16 May 2024 12:06:45 +0300</td>\n      <td></td>\n      <td></td>\n      <td>{'dkim-signature': ('v=1; a=rsa-sha256; q=dns/...</td>\n    </tr>\n    <tr>\n      <th>1133</th>\n      <td>1214</td>\n      <td>FWD:Re[2]: сверка статьи</td>\n      <td>cs-it@cs.vsu.ru</td>\n      <td>Вероника Викторовна, на сайте уже появился 2 н...</td>\n      <td>Thu, 16 May 2024 12:06:45 +0300</td>\n      <td></td>\n      <td></td>\n      <td>{'dkim-signature': ('v=1; a=rsa-sha256; q=dns/...</td>\n    </tr>\n    <tr>\n      <th>1134</th>\n      <td>1215</td>\n      <td>FWD:Re: статья на рецензирование</td>\n      <td>cs-it@cs.vsu.ru</td>\n      <td>Уважаемая Вероника Викторовна,\\r\\nпредставленн...</td>\n      <td>Thu, 16 May 2024 12:06:45 +0300</td>\n      <td></td>\n      <td></td>\n      <td>{'dkim-signature': ('v=1; a=rsa-sha256; q=dns/...</td>\n    </tr>\n    <tr>\n      <th>1135</th>\n      <td>1216</td>\n      <td>FWD:</td>\n      <td>cs-it@cs.vsu.ru</td>\n      <td>Уважаемые Коллеги!\\n\\nПрошу Вас рассмотреть мо...</td>\n      <td>Thu, 16 May 2024 12:06:45 +0300</td>\n      <td>4прост. фрактал 22342+.doc</td>\n      <td>application/msword</td>\n      <td>{'dkim-signature': ('v=1; a=rsa-sha256; q=dns/...</td>\n    </tr>\n    <tr>\n      <th>1136</th>\n      <td>1217</td>\n      <td>FWD:Re: Статья Хацкевича В.Л.</td>\n      <td>cs-it@cs.vsu.ru</td>\n      <td>Уважаемая редколлегия!\\n\\nМной 27 июня 2018 го...</td>\n      <td>Thu, 16 May 2024 12:06:45 +0300</td>\n      <td></td>\n      <td></td>\n      <td>{'dkim-signature': ('v=1; a=rsa-sha256; q=dns/...</td>\n    </tr>\n  </tbody>\n</table>\n<p>1137 rows × 8 columns</p>\n</div>"
     },
     "execution_count": 16,
     "metadata": {},
     "output_type": "execute_result"
    }
   ],
   "source": [
    "source_df = mails_to_df(mails)\n",
    "source_df"
   ],
   "metadata": {
    "collapsed": false,
    "ExecuteTime": {
     "end_time": "2024-05-25T12:13:37.465535800Z",
     "start_time": "2024-05-25T12:11:31.394173400Z"
    }
   },
   "id": "4f4c2c7a71289c38"
  },
  {
   "cell_type": "code",
   "execution_count": 17,
   "outputs": [],
   "source": [
    "source_df.to_csv(\"files/1_source_mails.csv\", index=False)"
   ],
   "metadata": {
    "collapsed": false,
    "ExecuteTime": {
     "end_time": "2024-05-25T12:13:37.670663200Z",
     "start_time": "2024-05-25T12:13:37.466541100Z"
    }
   },
   "id": "cc95ed82c3318a05"
  },
  {
   "cell_type": "code",
   "execution_count": 18,
   "outputs": [],
   "source": [
    "df = source_df.copy()"
   ],
   "metadata": {
    "collapsed": false,
    "ExecuteTime": {
     "end_time": "2024-05-25T12:13:37.696701Z",
     "start_time": "2024-05-25T12:13:37.670663200Z"
    }
   },
   "id": "69f5973701fd251e"
  },
  {
   "cell_type": "code",
   "execution_count": 19,
   "outputs": [],
   "source": [
    "def preprocess_date(df):\n",
    "    for index, row in df.iterrows():\n",
    "        headers = row['headers']\n",
    "        text = row['text']\n",
    "        date = row['date']\n",
    "        if 'x-original-date' in headers:\n",
    "            date = headers['x-original-date'][0]\n",
    "            \n",
    "        if 'Sent:' in text:\n",
    "            date = re.search(r'Sent: (.*?)\\n', text).group(1)\n",
    "            \n",
    "        dp = dateparser.parse(date)\n",
    "        if dp is not None:\n",
    "            date = dp.strftime(\"%d.%m.%Y %H:%M:%S\")\n",
    "        else:\n",
    "            date = search_dates(date)[0][1].strftime(\"%d.%m.%Y %H:%M:%S\")\n",
    "            \n",
    "        df.at[index, 'date'] = date\n",
    "    return df"
   ],
   "metadata": {
    "collapsed": false,
    "ExecuteTime": {
     "end_time": "2024-05-25T12:13:37.728204500Z",
     "start_time": "2024-05-25T12:13:37.685801200Z"
    }
   },
   "id": "bf6ae057e77d3739"
  },
  {
   "cell_type": "code",
   "execution_count": 20,
   "outputs": [
    {
     "data": {
      "text/plain": "   id                  subject             from  \\\n0  70  FW: Вестник САИТ 1-2018  cs-it@cs.vsu.ru   \n1  71      FW: Проверка статьи  cs-it@cs.vsu.ru   \n2  72   FW: e-mail Баевой Н.Б.  cs-it@cs.vsu.ru   \n3  73          FW: от Матвеева  cs-it@cs.vsu.ru   \n4  74             FW: рецензия  cs-it@cs.vsu.ru   \n\n                                                text                 date  \\\n0  \\r\\n\\r\\n-----Original Message-----\\r\\nFrom: Па...  10.06.2018 10:01:00   \n1   \\r\\n \\r\\nFrom: Михаил Горчаков <gorchakovmiha...  03.06.2018 23:57:00   \n2   \\r\\n \\r\\nFrom: Аснина Н.Г. <andrey050569@yand...  11.06.2018 11:38:00   \n3   \\r\\n \\r\\nFrom: Матвеев Михаил <mgmatveev@yand...  08.06.2018 08:49:00   \n4  \\r\\n\\r\\n-----Original Message-----\\r\\nFrom: Al...  07.06.2018 00:57:00   \n\n         attachment_filename  \\\n0                              \n1  Исправления_Горчаков.docx   \n2                              \n3              Рецензия.docx   \n4       рецензия_Шмырин.docx   \n\n                             attachment_content_type  \\\n0                                                      \n1  application/vnd.openxmlformats-officedocument....   \n2                                                      \n3  application/vnd.openxmlformats-officedocument....   \n4  application/vnd.openxmlformats-officedocument....   \n\n                                             headers  \n0  {'dkim-signature': ('v=1; a=rsa-sha256; q=dns/...  \n1  {'dkim-signature': ('v=1; a=rsa-sha256; q=dns/...  \n2  {'dkim-signature': ('v=1; a=rsa-sha256; q=dns/...  \n3  {'dkim-signature': ('v=1; a=rsa-sha256; q=dns/...  \n4  {'dkim-signature': ('v=1; a=rsa-sha256; q=dns/...  ",
      "text/html": "<div>\n<style scoped>\n    .dataframe tbody tr th:only-of-type {\n        vertical-align: middle;\n    }\n\n    .dataframe tbody tr th {\n        vertical-align: top;\n    }\n\n    .dataframe thead th {\n        text-align: right;\n    }\n</style>\n<table border=\"1\" class=\"dataframe\">\n  <thead>\n    <tr style=\"text-align: right;\">\n      <th></th>\n      <th>id</th>\n      <th>subject</th>\n      <th>from</th>\n      <th>text</th>\n      <th>date</th>\n      <th>attachment_filename</th>\n      <th>attachment_content_type</th>\n      <th>headers</th>\n    </tr>\n  </thead>\n  <tbody>\n    <tr>\n      <th>0</th>\n      <td>70</td>\n      <td>FW: Вестник САИТ 1-2018</td>\n      <td>cs-it@cs.vsu.ru</td>\n      <td>\\r\\n\\r\\n-----Original Message-----\\r\\nFrom: Па...</td>\n      <td>10.06.2018 10:01:00</td>\n      <td></td>\n      <td></td>\n      <td>{'dkim-signature': ('v=1; a=rsa-sha256; q=dns/...</td>\n    </tr>\n    <tr>\n      <th>1</th>\n      <td>71</td>\n      <td>FW: Проверка статьи</td>\n      <td>cs-it@cs.vsu.ru</td>\n      <td>\\r\\n \\r\\nFrom: Михаил Горчаков &lt;gorchakovmiha...</td>\n      <td>03.06.2018 23:57:00</td>\n      <td>Исправления_Горчаков.docx</td>\n      <td>application/vnd.openxmlformats-officedocument....</td>\n      <td>{'dkim-signature': ('v=1; a=rsa-sha256; q=dns/...</td>\n    </tr>\n    <tr>\n      <th>2</th>\n      <td>72</td>\n      <td>FW: e-mail Баевой Н.Б.</td>\n      <td>cs-it@cs.vsu.ru</td>\n      <td>\\r\\n \\r\\nFrom: Аснина Н.Г. &lt;andrey050569@yand...</td>\n      <td>11.06.2018 11:38:00</td>\n      <td></td>\n      <td></td>\n      <td>{'dkim-signature': ('v=1; a=rsa-sha256; q=dns/...</td>\n    </tr>\n    <tr>\n      <th>3</th>\n      <td>73</td>\n      <td>FW: от Матвеева</td>\n      <td>cs-it@cs.vsu.ru</td>\n      <td>\\r\\n \\r\\nFrom: Матвеев Михаил &lt;mgmatveev@yand...</td>\n      <td>08.06.2018 08:49:00</td>\n      <td>Рецензия.docx</td>\n      <td>application/vnd.openxmlformats-officedocument....</td>\n      <td>{'dkim-signature': ('v=1; a=rsa-sha256; q=dns/...</td>\n    </tr>\n    <tr>\n      <th>4</th>\n      <td>74</td>\n      <td>FW: рецензия</td>\n      <td>cs-it@cs.vsu.ru</td>\n      <td>\\r\\n\\r\\n-----Original Message-----\\r\\nFrom: Al...</td>\n      <td>07.06.2018 00:57:00</td>\n      <td>рецензия_Шмырин.docx</td>\n      <td>application/vnd.openxmlformats-officedocument....</td>\n      <td>{'dkim-signature': ('v=1; a=rsa-sha256; q=dns/...</td>\n    </tr>\n  </tbody>\n</table>\n</div>"
     },
     "execution_count": 20,
     "metadata": {},
     "output_type": "execute_result"
    }
   ],
   "source": [
    "df = preprocess_date(df)\n",
    "df.head()"
   ],
   "metadata": {
    "collapsed": false,
    "ExecuteTime": {
     "end_time": "2024-05-25T12:13:46.853480100Z",
     "start_time": "2024-05-25T12:13:37.699877600Z"
    }
   },
   "id": "f175357307764c10"
  },
  {
   "cell_type": "code",
   "execution_count": 21,
   "outputs": [],
   "source": [
    "fixed_dates_df = df.copy()"
   ],
   "metadata": {
    "collapsed": false,
    "ExecuteTime": {
     "end_time": "2024-05-25T12:13:46.866249700Z",
     "start_time": "2024-05-25T12:13:46.848460200Z"
    }
   },
   "id": "bd2a38df926ee963"
  },
  {
   "cell_type": "code",
   "execution_count": 22,
   "outputs": [
    {
     "data": {
      "text/plain": "   id                  subject             from  \\\n0  70  FW: Вестник САИТ 1-2018  cs-it@cs.vsu.ru   \n1  71      FW: Проверка статьи  cs-it@cs.vsu.ru   \n2  72   FW: e-mail Баевой Н.Б.  cs-it@cs.vsu.ru   \n3  73          FW: от Матвеева  cs-it@cs.vsu.ru   \n4  74             FW: рецензия  cs-it@cs.vsu.ru   \n\n                                                text                 date  \\\n0  \\r\\n\\r\\n-----Original Message-----\\r\\nFrom: Па...  10.06.2018 10:01:00   \n1   \\r\\n \\r\\nFrom: Михаил Горчаков <gorchakovmiha...  03.06.2018 23:57:00   \n2   \\r\\n \\r\\nFrom: Аснина Н.Г. <andrey050569@yand...  11.06.2018 11:38:00   \n3   \\r\\n \\r\\nFrom: Матвеев Михаил <mgmatveev@yand...  08.06.2018 08:49:00   \n4  \\r\\n\\r\\n-----Original Message-----\\r\\nFrom: Al...  07.06.2018 00:57:00   \n\n         attachment_filename  \\\n0                              \n1  Исправления_Горчаков.docx   \n2                              \n3              Рецензия.docx   \n4       рецензия_Шмырин.docx   \n\n                             attachment_content_type  \\\n0                                                      \n1  application/vnd.openxmlformats-officedocument....   \n2                                                      \n3  application/vnd.openxmlformats-officedocument....   \n4  application/vnd.openxmlformats-officedocument....   \n\n                                             headers  \n0  {'dkim-signature': ('v=1; a=rsa-sha256; q=dns/...  \n1  {'dkim-signature': ('v=1; a=rsa-sha256; q=dns/...  \n2  {'dkim-signature': ('v=1; a=rsa-sha256; q=dns/...  \n3  {'dkim-signature': ('v=1; a=rsa-sha256; q=dns/...  \n4  {'dkim-signature': ('v=1; a=rsa-sha256; q=dns/...  ",
      "text/html": "<div>\n<style scoped>\n    .dataframe tbody tr th:only-of-type {\n        vertical-align: middle;\n    }\n\n    .dataframe tbody tr th {\n        vertical-align: top;\n    }\n\n    .dataframe thead th {\n        text-align: right;\n    }\n</style>\n<table border=\"1\" class=\"dataframe\">\n  <thead>\n    <tr style=\"text-align: right;\">\n      <th></th>\n      <th>id</th>\n      <th>subject</th>\n      <th>from</th>\n      <th>text</th>\n      <th>date</th>\n      <th>attachment_filename</th>\n      <th>attachment_content_type</th>\n      <th>headers</th>\n    </tr>\n  </thead>\n  <tbody>\n    <tr>\n      <th>0</th>\n      <td>70</td>\n      <td>FW: Вестник САИТ 1-2018</td>\n      <td>cs-it@cs.vsu.ru</td>\n      <td>\\r\\n\\r\\n-----Original Message-----\\r\\nFrom: Па...</td>\n      <td>10.06.2018 10:01:00</td>\n      <td></td>\n      <td></td>\n      <td>{'dkim-signature': ('v=1; a=rsa-sha256; q=dns/...</td>\n    </tr>\n    <tr>\n      <th>1</th>\n      <td>71</td>\n      <td>FW: Проверка статьи</td>\n      <td>cs-it@cs.vsu.ru</td>\n      <td>\\r\\n \\r\\nFrom: Михаил Горчаков &lt;gorchakovmiha...</td>\n      <td>03.06.2018 23:57:00</td>\n      <td>Исправления_Горчаков.docx</td>\n      <td>application/vnd.openxmlformats-officedocument....</td>\n      <td>{'dkim-signature': ('v=1; a=rsa-sha256; q=dns/...</td>\n    </tr>\n    <tr>\n      <th>2</th>\n      <td>72</td>\n      <td>FW: e-mail Баевой Н.Б.</td>\n      <td>cs-it@cs.vsu.ru</td>\n      <td>\\r\\n \\r\\nFrom: Аснина Н.Г. &lt;andrey050569@yand...</td>\n      <td>11.06.2018 11:38:00</td>\n      <td></td>\n      <td></td>\n      <td>{'dkim-signature': ('v=1; a=rsa-sha256; q=dns/...</td>\n    </tr>\n    <tr>\n      <th>3</th>\n      <td>73</td>\n      <td>FW: от Матвеева</td>\n      <td>cs-it@cs.vsu.ru</td>\n      <td>\\r\\n \\r\\nFrom: Матвеев Михаил &lt;mgmatveev@yand...</td>\n      <td>08.06.2018 08:49:00</td>\n      <td>Рецензия.docx</td>\n      <td>application/vnd.openxmlformats-officedocument....</td>\n      <td>{'dkim-signature': ('v=1; a=rsa-sha256; q=dns/...</td>\n    </tr>\n    <tr>\n      <th>4</th>\n      <td>74</td>\n      <td>FW: рецензия</td>\n      <td>cs-it@cs.vsu.ru</td>\n      <td>\\r\\n\\r\\n-----Original Message-----\\r\\nFrom: Al...</td>\n      <td>07.06.2018 00:57:00</td>\n      <td>рецензия_Шмырин.docx</td>\n      <td>application/vnd.openxmlformats-officedocument....</td>\n      <td>{'dkim-signature': ('v=1; a=rsa-sha256; q=dns/...</td>\n    </tr>\n  </tbody>\n</table>\n</div>"
     },
     "execution_count": 22,
     "metadata": {},
     "output_type": "execute_result"
    }
   ],
   "source": [
    "df = fixed_dates_df.copy()\n",
    "df.head()"
   ],
   "metadata": {
    "collapsed": false,
    "ExecuteTime": {
     "end_time": "2024-05-25T12:13:46.937736Z",
     "start_time": "2024-05-25T12:13:46.866249700Z"
    }
   },
   "id": "64c1d697d3150ef0"
  },
  {
   "cell_type": "code",
   "execution_count": 23,
   "outputs": [],
   "source": [
    "def preprocess_from(df):\n",
    "    for index, row in df.iterrows():\n",
    "        headers = row['headers']\n",
    "        text = row['text']\n",
    "        x_from = row['from']\n",
    "        if 'x-original-from' in headers:\n",
    "            x_from = headers['x-original-from'][0]\n",
    "        elif 'From:' in text:\n",
    "            x_from = re.search(r'From: (.*?)\\n', text).group(1)\n",
    "            \n",
    "        if len(decode_header(x_from)) == 2:\n",
    "            encoding = decode_header(x_from)[0][1]\n",
    "            name = decode_header(x_from)[0][0]\n",
    "            if encoding is not None:\n",
    "                name = name.decode(encoding)\n",
    "            \n",
    "            address = decode_header(x_from)[1][0].decode()\n",
    "            x_from = name + ' ' + address\n",
    "            \n",
    "        df.at[index, 'from'] = x_from\n",
    "    return df"
   ],
   "metadata": {
    "collapsed": false,
    "ExecuteTime": {
     "end_time": "2024-05-25T12:13:46.938915900Z",
     "start_time": "2024-05-25T12:13:46.897768700Z"
    }
   },
   "id": "324547955ec4d319"
  },
  {
   "cell_type": "code",
   "execution_count": 24,
   "outputs": [
    {
     "data": {
      "text/plain": "        id                           subject  \\\n0       70           FW: Вестник САИТ 1-2018   \n1       71               FW: Проверка статьи   \n2       72            FW: e-mail Баевой Н.Б.   \n3       73                   FW: от Матвеева   \n4       74                      FW: рецензия   \n...    ...                               ...   \n1132  1213     FWD:Re: Заседание редколлегии   \n1133  1214          FWD:Re[2]: сверка статьи   \n1134  1215  FWD:Re: статья на рецензирование   \n1135  1216                              FWD:   \n1136  1217     FWD:Re: Статья Хацкевича В.Л.   \n\n                                                   from  \\\n0     Павловский Максим Викторович <pmv-160570@yande...   \n1          Михаил Горчаков <gorchakovmihail@mail.ru> \\r   \n2               Аснина Н.Г. <andrey050569@yandex.ru> \\r   \n3               Матвеев Михаил <mgmatveev@yandex.ru> \\r   \n4           Alexander Krylovetsky <aakryl@sc.vsu.ru> \\r   \n...                                                 ...   \n1132          Irina Voronina <irina.voronina@gmail.com>   \n1133          сергеев александр  <sergeev00765@mail.ru>   \n1134             \"Sergey A. Zapryagaev\" <zsa@cs.vsu.ru>   \n1135     Александр Щербаков  <a.scherbakov58@yahoo.com>   \n1136       Владимир Львович Хацкевич  <vlkhats@mail.ru>   \n\n                                                   text                 date  \\\n0     \\r\\n\\r\\n-----Original Message-----\\r\\nFrom: Па...  10.06.2018 10:01:00   \n1      \\r\\n \\r\\nFrom: Михаил Горчаков <gorchakovmiha...  03.06.2018 23:57:00   \n2      \\r\\n \\r\\nFrom: Аснина Н.Г. <andrey050569@yand...  11.06.2018 11:38:00   \n3      \\r\\n \\r\\nFrom: Матвеев Михаил <mgmatveev@yand...  08.06.2018 08:49:00   \n4     \\r\\n\\r\\n-----Original Message-----\\r\\nFrom: Al...  07.06.2018 00:57:00   \n...                                                 ...                  ...   \n1132  Вероника, привет!\\r\\nСреда - единственный день...  04.09.2018 16:11:03   \n1133  Вероника Викторовна, на сайте уже появился 2 н...  05.09.2018 09:01:06   \n1134  Уважаемая Вероника Викторовна,\\r\\nпредставленн...  06.09.2018 15:35:28   \n1135  Уважаемые Коллеги!\\n\\nПрошу Вас рассмотреть мо...  21.04.2018 00:00:00   \n1136  Уважаемая редколлегия!\\n\\nМной 27 июня 2018 го...  06.09.2018 16:36:38   \n\n             attachment_filename  \\\n0                                  \n1      Исправления_Горчаков.docx   \n2                                  \n3                  Рецензия.docx   \n4           рецензия_Шмырин.docx   \n...                          ...   \n1132                               \n1133                               \n1134                               \n1135  4прост. фрактал 22342+.doc   \n1136                               \n\n                                attachment_content_type  \\\n0                                                         \n1     application/vnd.openxmlformats-officedocument....   \n2                                                         \n3     application/vnd.openxmlformats-officedocument....   \n4     application/vnd.openxmlformats-officedocument....   \n...                                                 ...   \n1132                                                      \n1133                                                      \n1134                                                      \n1135                                 application/msword   \n1136                                                      \n\n                                                headers  \n0     {'dkim-signature': ('v=1; a=rsa-sha256; q=dns/...  \n1     {'dkim-signature': ('v=1; a=rsa-sha256; q=dns/...  \n2     {'dkim-signature': ('v=1; a=rsa-sha256; q=dns/...  \n3     {'dkim-signature': ('v=1; a=rsa-sha256; q=dns/...  \n4     {'dkim-signature': ('v=1; a=rsa-sha256; q=dns/...  \n...                                                 ...  \n1132  {'dkim-signature': ('v=1; a=rsa-sha256; q=dns/...  \n1133  {'dkim-signature': ('v=1; a=rsa-sha256; q=dns/...  \n1134  {'dkim-signature': ('v=1; a=rsa-sha256; q=dns/...  \n1135  {'dkim-signature': ('v=1; a=rsa-sha256; q=dns/...  \n1136  {'dkim-signature': ('v=1; a=rsa-sha256; q=dns/...  \n\n[1137 rows x 8 columns]",
      "text/html": "<div>\n<style scoped>\n    .dataframe tbody tr th:only-of-type {\n        vertical-align: middle;\n    }\n\n    .dataframe tbody tr th {\n        vertical-align: top;\n    }\n\n    .dataframe thead th {\n        text-align: right;\n    }\n</style>\n<table border=\"1\" class=\"dataframe\">\n  <thead>\n    <tr style=\"text-align: right;\">\n      <th></th>\n      <th>id</th>\n      <th>subject</th>\n      <th>from</th>\n      <th>text</th>\n      <th>date</th>\n      <th>attachment_filename</th>\n      <th>attachment_content_type</th>\n      <th>headers</th>\n    </tr>\n  </thead>\n  <tbody>\n    <tr>\n      <th>0</th>\n      <td>70</td>\n      <td>FW: Вестник САИТ 1-2018</td>\n      <td>Павловский Максим Викторович &lt;pmv-160570@yande...</td>\n      <td>\\r\\n\\r\\n-----Original Message-----\\r\\nFrom: Па...</td>\n      <td>10.06.2018 10:01:00</td>\n      <td></td>\n      <td></td>\n      <td>{'dkim-signature': ('v=1; a=rsa-sha256; q=dns/...</td>\n    </tr>\n    <tr>\n      <th>1</th>\n      <td>71</td>\n      <td>FW: Проверка статьи</td>\n      <td>Михаил Горчаков &lt;gorchakovmihail@mail.ru&gt; \\r</td>\n      <td>\\r\\n \\r\\nFrom: Михаил Горчаков &lt;gorchakovmiha...</td>\n      <td>03.06.2018 23:57:00</td>\n      <td>Исправления_Горчаков.docx</td>\n      <td>application/vnd.openxmlformats-officedocument....</td>\n      <td>{'dkim-signature': ('v=1; a=rsa-sha256; q=dns/...</td>\n    </tr>\n    <tr>\n      <th>2</th>\n      <td>72</td>\n      <td>FW: e-mail Баевой Н.Б.</td>\n      <td>Аснина Н.Г. &lt;andrey050569@yandex.ru&gt; \\r</td>\n      <td>\\r\\n \\r\\nFrom: Аснина Н.Г. &lt;andrey050569@yand...</td>\n      <td>11.06.2018 11:38:00</td>\n      <td></td>\n      <td></td>\n      <td>{'dkim-signature': ('v=1; a=rsa-sha256; q=dns/...</td>\n    </tr>\n    <tr>\n      <th>3</th>\n      <td>73</td>\n      <td>FW: от Матвеева</td>\n      <td>Матвеев Михаил &lt;mgmatveev@yandex.ru&gt; \\r</td>\n      <td>\\r\\n \\r\\nFrom: Матвеев Михаил &lt;mgmatveev@yand...</td>\n      <td>08.06.2018 08:49:00</td>\n      <td>Рецензия.docx</td>\n      <td>application/vnd.openxmlformats-officedocument....</td>\n      <td>{'dkim-signature': ('v=1; a=rsa-sha256; q=dns/...</td>\n    </tr>\n    <tr>\n      <th>4</th>\n      <td>74</td>\n      <td>FW: рецензия</td>\n      <td>Alexander Krylovetsky &lt;aakryl@sc.vsu.ru&gt; \\r</td>\n      <td>\\r\\n\\r\\n-----Original Message-----\\r\\nFrom: Al...</td>\n      <td>07.06.2018 00:57:00</td>\n      <td>рецензия_Шмырин.docx</td>\n      <td>application/vnd.openxmlformats-officedocument....</td>\n      <td>{'dkim-signature': ('v=1; a=rsa-sha256; q=dns/...</td>\n    </tr>\n    <tr>\n      <th>...</th>\n      <td>...</td>\n      <td>...</td>\n      <td>...</td>\n      <td>...</td>\n      <td>...</td>\n      <td>...</td>\n      <td>...</td>\n      <td>...</td>\n    </tr>\n    <tr>\n      <th>1132</th>\n      <td>1213</td>\n      <td>FWD:Re: Заседание редколлегии</td>\n      <td>Irina Voronina &lt;irina.voronina@gmail.com&gt;</td>\n      <td>Вероника, привет!\\r\\nСреда - единственный день...</td>\n      <td>04.09.2018 16:11:03</td>\n      <td></td>\n      <td></td>\n      <td>{'dkim-signature': ('v=1; a=rsa-sha256; q=dns/...</td>\n    </tr>\n    <tr>\n      <th>1133</th>\n      <td>1214</td>\n      <td>FWD:Re[2]: сверка статьи</td>\n      <td>сергеев александр  &lt;sergeev00765@mail.ru&gt;</td>\n      <td>Вероника Викторовна, на сайте уже появился 2 н...</td>\n      <td>05.09.2018 09:01:06</td>\n      <td></td>\n      <td></td>\n      <td>{'dkim-signature': ('v=1; a=rsa-sha256; q=dns/...</td>\n    </tr>\n    <tr>\n      <th>1134</th>\n      <td>1215</td>\n      <td>FWD:Re: статья на рецензирование</td>\n      <td>\"Sergey A. Zapryagaev\" &lt;zsa@cs.vsu.ru&gt;</td>\n      <td>Уважаемая Вероника Викторовна,\\r\\nпредставленн...</td>\n      <td>06.09.2018 15:35:28</td>\n      <td></td>\n      <td></td>\n      <td>{'dkim-signature': ('v=1; a=rsa-sha256; q=dns/...</td>\n    </tr>\n    <tr>\n      <th>1135</th>\n      <td>1216</td>\n      <td>FWD:</td>\n      <td>Александр Щербаков  &lt;a.scherbakov58@yahoo.com&gt;</td>\n      <td>Уважаемые Коллеги!\\n\\nПрошу Вас рассмотреть мо...</td>\n      <td>21.04.2018 00:00:00</td>\n      <td>4прост. фрактал 22342+.doc</td>\n      <td>application/msword</td>\n      <td>{'dkim-signature': ('v=1; a=rsa-sha256; q=dns/...</td>\n    </tr>\n    <tr>\n      <th>1136</th>\n      <td>1217</td>\n      <td>FWD:Re: Статья Хацкевича В.Л.</td>\n      <td>Владимир Львович Хацкевич  &lt;vlkhats@mail.ru&gt;</td>\n      <td>Уважаемая редколлегия!\\n\\nМной 27 июня 2018 го...</td>\n      <td>06.09.2018 16:36:38</td>\n      <td></td>\n      <td></td>\n      <td>{'dkim-signature': ('v=1; a=rsa-sha256; q=dns/...</td>\n    </tr>\n  </tbody>\n</table>\n<p>1137 rows × 8 columns</p>\n</div>"
     },
     "execution_count": 24,
     "metadata": {},
     "output_type": "execute_result"
    }
   ],
   "source": [
    "preprocess_from(df)"
   ],
   "metadata": {
    "collapsed": false,
    "ExecuteTime": {
     "end_time": "2024-05-25T12:13:47.148766600Z",
     "start_time": "2024-05-25T12:13:46.910179900Z"
    }
   },
   "id": "60c1c11d5de1c1c3"
  },
  {
   "cell_type": "code",
   "execution_count": 25,
   "outputs": [],
   "source": [
    "fixed_from_df = df.copy()"
   ],
   "metadata": {
    "collapsed": false,
    "ExecuteTime": {
     "end_time": "2024-05-25T12:13:47.184957400Z",
     "start_time": "2024-05-25T12:13:47.080463700Z"
    }
   },
   "id": "d85e8f0495999e39"
  },
  {
   "cell_type": "code",
   "execution_count": 26,
   "outputs": [
    {
     "data": {
      "text/plain": "   id                  subject  \\\n0  70  FW: Вестник САИТ 1-2018   \n1  71      FW: Проверка статьи   \n2  72   FW: e-mail Баевой Н.Б.   \n3  73          FW: от Матвеева   \n4  74             FW: рецензия   \n\n                                                from  \\\n0  Павловский Максим Викторович <pmv-160570@yande...   \n1       Михаил Горчаков <gorchakovmihail@mail.ru> \\r   \n2            Аснина Н.Г. <andrey050569@yandex.ru> \\r   \n3            Матвеев Михаил <mgmatveev@yandex.ru> \\r   \n4        Alexander Krylovetsky <aakryl@sc.vsu.ru> \\r   \n\n                                                text                date  \\\n0  \\r\\n\\r\\n-----Original Message-----\\r\\nFrom: Па... 2018-06-10 10:01:00   \n1   \\r\\n \\r\\nFrom: Михаил Горчаков <gorchakovmiha... 2018-06-03 23:57:00   \n2   \\r\\n \\r\\nFrom: Аснина Н.Г. <andrey050569@yand... 2018-06-11 11:38:00   \n3   \\r\\n \\r\\nFrom: Матвеев Михаил <mgmatveev@yand... 2018-06-08 08:49:00   \n4  \\r\\n\\r\\n-----Original Message-----\\r\\nFrom: Al... 2018-06-07 00:57:00   \n\n         attachment_filename  \\\n0                              \n1  Исправления_Горчаков.docx   \n2                              \n3              Рецензия.docx   \n4       рецензия_Шмырин.docx   \n\n                             attachment_content_type  \\\n0                                                      \n1  application/vnd.openxmlformats-officedocument....   \n2                                                      \n3  application/vnd.openxmlformats-officedocument....   \n4  application/vnd.openxmlformats-officedocument....   \n\n                                             headers  \n0  {'dkim-signature': ('v=1; a=rsa-sha256; q=dns/...  \n1  {'dkim-signature': ('v=1; a=rsa-sha256; q=dns/...  \n2  {'dkim-signature': ('v=1; a=rsa-sha256; q=dns/...  \n3  {'dkim-signature': ('v=1; a=rsa-sha256; q=dns/...  \n4  {'dkim-signature': ('v=1; a=rsa-sha256; q=dns/...  ",
      "text/html": "<div>\n<style scoped>\n    .dataframe tbody tr th:only-of-type {\n        vertical-align: middle;\n    }\n\n    .dataframe tbody tr th {\n        vertical-align: top;\n    }\n\n    .dataframe thead th {\n        text-align: right;\n    }\n</style>\n<table border=\"1\" class=\"dataframe\">\n  <thead>\n    <tr style=\"text-align: right;\">\n      <th></th>\n      <th>id</th>\n      <th>subject</th>\n      <th>from</th>\n      <th>text</th>\n      <th>date</th>\n      <th>attachment_filename</th>\n      <th>attachment_content_type</th>\n      <th>headers</th>\n    </tr>\n  </thead>\n  <tbody>\n    <tr>\n      <th>0</th>\n      <td>70</td>\n      <td>FW: Вестник САИТ 1-2018</td>\n      <td>Павловский Максим Викторович &lt;pmv-160570@yande...</td>\n      <td>\\r\\n\\r\\n-----Original Message-----\\r\\nFrom: Па...</td>\n      <td>2018-06-10 10:01:00</td>\n      <td></td>\n      <td></td>\n      <td>{'dkim-signature': ('v=1; a=rsa-sha256; q=dns/...</td>\n    </tr>\n    <tr>\n      <th>1</th>\n      <td>71</td>\n      <td>FW: Проверка статьи</td>\n      <td>Михаил Горчаков &lt;gorchakovmihail@mail.ru&gt; \\r</td>\n      <td>\\r\\n \\r\\nFrom: Михаил Горчаков &lt;gorchakovmiha...</td>\n      <td>2018-06-03 23:57:00</td>\n      <td>Исправления_Горчаков.docx</td>\n      <td>application/vnd.openxmlformats-officedocument....</td>\n      <td>{'dkim-signature': ('v=1; a=rsa-sha256; q=dns/...</td>\n    </tr>\n    <tr>\n      <th>2</th>\n      <td>72</td>\n      <td>FW: e-mail Баевой Н.Б.</td>\n      <td>Аснина Н.Г. &lt;andrey050569@yandex.ru&gt; \\r</td>\n      <td>\\r\\n \\r\\nFrom: Аснина Н.Г. &lt;andrey050569@yand...</td>\n      <td>2018-06-11 11:38:00</td>\n      <td></td>\n      <td></td>\n      <td>{'dkim-signature': ('v=1; a=rsa-sha256; q=dns/...</td>\n    </tr>\n    <tr>\n      <th>3</th>\n      <td>73</td>\n      <td>FW: от Матвеева</td>\n      <td>Матвеев Михаил &lt;mgmatveev@yandex.ru&gt; \\r</td>\n      <td>\\r\\n \\r\\nFrom: Матвеев Михаил &lt;mgmatveev@yand...</td>\n      <td>2018-06-08 08:49:00</td>\n      <td>Рецензия.docx</td>\n      <td>application/vnd.openxmlformats-officedocument....</td>\n      <td>{'dkim-signature': ('v=1; a=rsa-sha256; q=dns/...</td>\n    </tr>\n    <tr>\n      <th>4</th>\n      <td>74</td>\n      <td>FW: рецензия</td>\n      <td>Alexander Krylovetsky &lt;aakryl@sc.vsu.ru&gt; \\r</td>\n      <td>\\r\\n\\r\\n-----Original Message-----\\r\\nFrom: Al...</td>\n      <td>2018-06-07 00:57:00</td>\n      <td>рецензия_Шмырин.docx</td>\n      <td>application/vnd.openxmlformats-officedocument....</td>\n      <td>{'dkim-signature': ('v=1; a=rsa-sha256; q=dns/...</td>\n    </tr>\n  </tbody>\n</table>\n</div>"
     },
     "execution_count": 26,
     "metadata": {},
     "output_type": "execute_result"
    }
   ],
   "source": [
    "df['date'] = pd.to_datetime(df['date'], format=\"%d.%m.%Y %H:%M:%S\")\n",
    "df.head()"
   ],
   "metadata": {
    "collapsed": false,
    "ExecuteTime": {
     "end_time": "2024-05-25T12:13:47.220457800Z",
     "start_time": "2024-05-25T12:13:47.096211600Z"
    }
   },
   "id": "7b877e9c05bbf79b"
  },
  {
   "cell_type": "code",
   "execution_count": 27,
   "outputs": [],
   "source": [
    "def preprocess_subject(subjects: list[str]):\n",
    "    column = []\n",
    "    for s in subjects:\n",
    "        if s:\n",
    "            s = s.removeprefix(\"FWD:\").removeprefix(\"Fwd:\")\n",
    "            column.append(s)\n",
    "        else:\n",
    "            column.append('Нет темы')\n",
    "    return column\n"
   ],
   "metadata": {
    "collapsed": false,
    "ExecuteTime": {
     "end_time": "2024-05-25T12:13:47.266762900Z",
     "start_time": "2024-05-25T12:13:47.144956900Z"
    }
   },
   "id": "8515932c8b49dee6"
  },
  {
   "cell_type": "code",
   "execution_count": 28,
   "outputs": [
    {
     "data": {
      "text/plain": "        id                       subject  \\\n0       70       FW: Вестник САИТ 1-2018   \n1       71           FW: Проверка статьи   \n2       72        FW: e-mail Баевой Н.Б.   \n3       73               FW: от Матвеева   \n4       74                  FW: рецензия   \n...    ...                           ...   \n1132  1213     Re: Заседание редколлегии   \n1133  1214          Re[2]: сверка статьи   \n1134  1215  Re: статья на рецензирование   \n1135  1216                                 \n1136  1217     Re: Статья Хацкевича В.Л.   \n\n                                                   from  \\\n0     Павловский Максим Викторович <pmv-160570@yande...   \n1          Михаил Горчаков <gorchakovmihail@mail.ru> \\r   \n2               Аснина Н.Г. <andrey050569@yandex.ru> \\r   \n3               Матвеев Михаил <mgmatveev@yandex.ru> \\r   \n4           Alexander Krylovetsky <aakryl@sc.vsu.ru> \\r   \n...                                                 ...   \n1132          Irina Voronina <irina.voronina@gmail.com>   \n1133          сергеев александр  <sergeev00765@mail.ru>   \n1134             \"Sergey A. Zapryagaev\" <zsa@cs.vsu.ru>   \n1135     Александр Щербаков  <a.scherbakov58@yahoo.com>   \n1136       Владимир Львович Хацкевич  <vlkhats@mail.ru>   \n\n                                                   text                date  \\\n0     \\r\\n\\r\\n-----Original Message-----\\r\\nFrom: Па... 2018-06-10 10:01:00   \n1      \\r\\n \\r\\nFrom: Михаил Горчаков <gorchakovmiha... 2018-06-03 23:57:00   \n2      \\r\\n \\r\\nFrom: Аснина Н.Г. <andrey050569@yand... 2018-06-11 11:38:00   \n3      \\r\\n \\r\\nFrom: Матвеев Михаил <mgmatveev@yand... 2018-06-08 08:49:00   \n4     \\r\\n\\r\\n-----Original Message-----\\r\\nFrom: Al... 2018-06-07 00:57:00   \n...                                                 ...                 ...   \n1132  Вероника, привет!\\r\\nСреда - единственный день... 2018-09-04 16:11:03   \n1133  Вероника Викторовна, на сайте уже появился 2 н... 2018-09-05 09:01:06   \n1134  Уважаемая Вероника Викторовна,\\r\\nпредставленн... 2018-09-06 15:35:28   \n1135  Уважаемые Коллеги!\\n\\nПрошу Вас рассмотреть мо... 2018-04-21 00:00:00   \n1136  Уважаемая редколлегия!\\n\\nМной 27 июня 2018 го... 2018-09-06 16:36:38   \n\n             attachment_filename  \\\n0                                  \n1      Исправления_Горчаков.docx   \n2                                  \n3                  Рецензия.docx   \n4           рецензия_Шмырин.docx   \n...                          ...   \n1132                               \n1133                               \n1134                               \n1135  4прост. фрактал 22342+.doc   \n1136                               \n\n                                attachment_content_type  \\\n0                                                         \n1     application/vnd.openxmlformats-officedocument....   \n2                                                         \n3     application/vnd.openxmlformats-officedocument....   \n4     application/vnd.openxmlformats-officedocument....   \n...                                                 ...   \n1132                                                      \n1133                                                      \n1134                                                      \n1135                                 application/msword   \n1136                                                      \n\n                                                headers  \n0     {'dkim-signature': ('v=1; a=rsa-sha256; q=dns/...  \n1     {'dkim-signature': ('v=1; a=rsa-sha256; q=dns/...  \n2     {'dkim-signature': ('v=1; a=rsa-sha256; q=dns/...  \n3     {'dkim-signature': ('v=1; a=rsa-sha256; q=dns/...  \n4     {'dkim-signature': ('v=1; a=rsa-sha256; q=dns/...  \n...                                                 ...  \n1132  {'dkim-signature': ('v=1; a=rsa-sha256; q=dns/...  \n1133  {'dkim-signature': ('v=1; a=rsa-sha256; q=dns/...  \n1134  {'dkim-signature': ('v=1; a=rsa-sha256; q=dns/...  \n1135  {'dkim-signature': ('v=1; a=rsa-sha256; q=dns/...  \n1136  {'dkim-signature': ('v=1; a=rsa-sha256; q=dns/...  \n\n[1137 rows x 8 columns]",
      "text/html": "<div>\n<style scoped>\n    .dataframe tbody tr th:only-of-type {\n        vertical-align: middle;\n    }\n\n    .dataframe tbody tr th {\n        vertical-align: top;\n    }\n\n    .dataframe thead th {\n        text-align: right;\n    }\n</style>\n<table border=\"1\" class=\"dataframe\">\n  <thead>\n    <tr style=\"text-align: right;\">\n      <th></th>\n      <th>id</th>\n      <th>subject</th>\n      <th>from</th>\n      <th>text</th>\n      <th>date</th>\n      <th>attachment_filename</th>\n      <th>attachment_content_type</th>\n      <th>headers</th>\n    </tr>\n  </thead>\n  <tbody>\n    <tr>\n      <th>0</th>\n      <td>70</td>\n      <td>FW: Вестник САИТ 1-2018</td>\n      <td>Павловский Максим Викторович &lt;pmv-160570@yande...</td>\n      <td>\\r\\n\\r\\n-----Original Message-----\\r\\nFrom: Па...</td>\n      <td>2018-06-10 10:01:00</td>\n      <td></td>\n      <td></td>\n      <td>{'dkim-signature': ('v=1; a=rsa-sha256; q=dns/...</td>\n    </tr>\n    <tr>\n      <th>1</th>\n      <td>71</td>\n      <td>FW: Проверка статьи</td>\n      <td>Михаил Горчаков &lt;gorchakovmihail@mail.ru&gt; \\r</td>\n      <td>\\r\\n \\r\\nFrom: Михаил Горчаков &lt;gorchakovmiha...</td>\n      <td>2018-06-03 23:57:00</td>\n      <td>Исправления_Горчаков.docx</td>\n      <td>application/vnd.openxmlformats-officedocument....</td>\n      <td>{'dkim-signature': ('v=1; a=rsa-sha256; q=dns/...</td>\n    </tr>\n    <tr>\n      <th>2</th>\n      <td>72</td>\n      <td>FW: e-mail Баевой Н.Б.</td>\n      <td>Аснина Н.Г. &lt;andrey050569@yandex.ru&gt; \\r</td>\n      <td>\\r\\n \\r\\nFrom: Аснина Н.Г. &lt;andrey050569@yand...</td>\n      <td>2018-06-11 11:38:00</td>\n      <td></td>\n      <td></td>\n      <td>{'dkim-signature': ('v=1; a=rsa-sha256; q=dns/...</td>\n    </tr>\n    <tr>\n      <th>3</th>\n      <td>73</td>\n      <td>FW: от Матвеева</td>\n      <td>Матвеев Михаил &lt;mgmatveev@yandex.ru&gt; \\r</td>\n      <td>\\r\\n \\r\\nFrom: Матвеев Михаил &lt;mgmatveev@yand...</td>\n      <td>2018-06-08 08:49:00</td>\n      <td>Рецензия.docx</td>\n      <td>application/vnd.openxmlformats-officedocument....</td>\n      <td>{'dkim-signature': ('v=1; a=rsa-sha256; q=dns/...</td>\n    </tr>\n    <tr>\n      <th>4</th>\n      <td>74</td>\n      <td>FW: рецензия</td>\n      <td>Alexander Krylovetsky &lt;aakryl@sc.vsu.ru&gt; \\r</td>\n      <td>\\r\\n\\r\\n-----Original Message-----\\r\\nFrom: Al...</td>\n      <td>2018-06-07 00:57:00</td>\n      <td>рецензия_Шмырин.docx</td>\n      <td>application/vnd.openxmlformats-officedocument....</td>\n      <td>{'dkim-signature': ('v=1; a=rsa-sha256; q=dns/...</td>\n    </tr>\n    <tr>\n      <th>...</th>\n      <td>...</td>\n      <td>...</td>\n      <td>...</td>\n      <td>...</td>\n      <td>...</td>\n      <td>...</td>\n      <td>...</td>\n      <td>...</td>\n    </tr>\n    <tr>\n      <th>1132</th>\n      <td>1213</td>\n      <td>Re: Заседание редколлегии</td>\n      <td>Irina Voronina &lt;irina.voronina@gmail.com&gt;</td>\n      <td>Вероника, привет!\\r\\nСреда - единственный день...</td>\n      <td>2018-09-04 16:11:03</td>\n      <td></td>\n      <td></td>\n      <td>{'dkim-signature': ('v=1; a=rsa-sha256; q=dns/...</td>\n    </tr>\n    <tr>\n      <th>1133</th>\n      <td>1214</td>\n      <td>Re[2]: сверка статьи</td>\n      <td>сергеев александр  &lt;sergeev00765@mail.ru&gt;</td>\n      <td>Вероника Викторовна, на сайте уже появился 2 н...</td>\n      <td>2018-09-05 09:01:06</td>\n      <td></td>\n      <td></td>\n      <td>{'dkim-signature': ('v=1; a=rsa-sha256; q=dns/...</td>\n    </tr>\n    <tr>\n      <th>1134</th>\n      <td>1215</td>\n      <td>Re: статья на рецензирование</td>\n      <td>\"Sergey A. Zapryagaev\" &lt;zsa@cs.vsu.ru&gt;</td>\n      <td>Уважаемая Вероника Викторовна,\\r\\nпредставленн...</td>\n      <td>2018-09-06 15:35:28</td>\n      <td></td>\n      <td></td>\n      <td>{'dkim-signature': ('v=1; a=rsa-sha256; q=dns/...</td>\n    </tr>\n    <tr>\n      <th>1135</th>\n      <td>1216</td>\n      <td></td>\n      <td>Александр Щербаков  &lt;a.scherbakov58@yahoo.com&gt;</td>\n      <td>Уважаемые Коллеги!\\n\\nПрошу Вас рассмотреть мо...</td>\n      <td>2018-04-21 00:00:00</td>\n      <td>4прост. фрактал 22342+.doc</td>\n      <td>application/msword</td>\n      <td>{'dkim-signature': ('v=1; a=rsa-sha256; q=dns/...</td>\n    </tr>\n    <tr>\n      <th>1136</th>\n      <td>1217</td>\n      <td>Re: Статья Хацкевича В.Л.</td>\n      <td>Владимир Львович Хацкевич  &lt;vlkhats@mail.ru&gt;</td>\n      <td>Уважаемая редколлегия!\\n\\nМной 27 июня 2018 го...</td>\n      <td>2018-09-06 16:36:38</td>\n      <td></td>\n      <td></td>\n      <td>{'dkim-signature': ('v=1; a=rsa-sha256; q=dns/...</td>\n    </tr>\n  </tbody>\n</table>\n<p>1137 rows × 8 columns</p>\n</div>"
     },
     "execution_count": 28,
     "metadata": {},
     "output_type": "execute_result"
    }
   ],
   "source": [
    "df['subject'] = preprocess_subject(df['subject'])\n",
    "df"
   ],
   "metadata": {
    "collapsed": false,
    "ExecuteTime": {
     "end_time": "2024-05-25T12:13:47.325889300Z",
     "start_time": "2024-05-25T12:13:47.158176800Z"
    }
   },
   "id": "6abef8d4821e3493"
  },
  {
   "cell_type": "code",
   "execution_count": 29,
   "outputs": [],
   "source": [
    "# Подставлены правильные данные, но текст \"грязный\"\n",
    "df.to_csv('files/2_fixed_values.csv', index=False)"
   ],
   "metadata": {
    "collapsed": false,
    "ExecuteTime": {
     "end_time": "2024-05-25T12:13:47.574595500Z",
     "start_time": "2024-05-25T12:13:47.235847800Z"
    }
   },
   "id": "fc8f916a6b3b36f9"
  },
  {
   "cell_type": "code",
   "execution_count": 30,
   "outputs": [
    {
     "data": {
      "text/plain": "    id                           subject  \\\n11  82                Повторная отправка   \n12  83       Re: Шаблон рецензии (новый)   \n19  90  RE: статья Вестник САИТ Рецензия   \n27  98     RE: статья для рецензирования   \n21  92            RE: рецензия на статью   \n\n                                                 from  \\\n11  Павловский Максим Викторович  <pmv-160570@yand...   \n12                  Юрий Нечаев  <nechaev_ub@mail.ru>   \n19                      Толстобров А.П.  <tap@vsu.ru>   \n27            Вялых Сергей Ариевич <vyalyh@govvrn.ru>   \n21                      Толстобров А.П.  <tap@vsu.ru>   \n\n                                                 text                date  \\\n11  Добрый вечер!\\r\\nОтсылаю материалы рецензии на... 2016-01-14 20:47:03   \n12                                    Спасибо.Нечаев. 2018-02-04 19:56:26   \n19  Добрый день!\\r\\nПосылаю рецензию\\r\\n\\r\\nС уваж... 2018-02-09 17:36:00   \n27  Доброе время суток, Вероника Викторовна!\\r\\n\\r... 2018-02-09 17:54:00   \n21  Добрый день!\\r\\nПосылаю рецензию\\r\\n\\r\\nС уваж... 2018-02-11 22:37:00   \n\n                                  attachment_filename  \\\n11                              Рецензия Гаршиной.doc   \n12                                                      \n19  Рецензия Толстоброва на статью А.С. Платонова....   \n27     рецензия_на_Проблема защита_пользователей.docx   \n21  Рецензия Толстоброва на статью Черненькая-Маге...   \n\n                              attachment_content_type  \\\n11                                 application/msword   \n12                                                      \n19  application/vnd.openxmlformats-officedocument....   \n27  application/vnd.openxmlformats-officedocument....   \n21  application/vnd.openxmlformats-officedocument....   \n\n                                              headers  \n11  {'dkim-signature': ('v=1; a=rsa-sha256; q=dns/...  \n12  {'dkim-signature': ('v=1; a=rsa-sha256; q=dns/...  \n19  {'dkim-signature': ('v=1; a=rsa-sha256; q=dns/...  \n27  {'dkim-signature': ('v=1; a=rsa-sha256; q=dns/...  \n21  {'dkim-signature': ('v=1; a=rsa-sha256; q=dns/...  ",
      "text/html": "<div>\n<style scoped>\n    .dataframe tbody tr th:only-of-type {\n        vertical-align: middle;\n    }\n\n    .dataframe tbody tr th {\n        vertical-align: top;\n    }\n\n    .dataframe thead th {\n        text-align: right;\n    }\n</style>\n<table border=\"1\" class=\"dataframe\">\n  <thead>\n    <tr style=\"text-align: right;\">\n      <th></th>\n      <th>id</th>\n      <th>subject</th>\n      <th>from</th>\n      <th>text</th>\n      <th>date</th>\n      <th>attachment_filename</th>\n      <th>attachment_content_type</th>\n      <th>headers</th>\n    </tr>\n  </thead>\n  <tbody>\n    <tr>\n      <th>11</th>\n      <td>82</td>\n      <td>Повторная отправка</td>\n      <td>Павловский Максим Викторович  &lt;pmv-160570@yand...</td>\n      <td>Добрый вечер!\\r\\nОтсылаю материалы рецензии на...</td>\n      <td>2016-01-14 20:47:03</td>\n      <td>Рецензия Гаршиной.doc</td>\n      <td>application/msword</td>\n      <td>{'dkim-signature': ('v=1; a=rsa-sha256; q=dns/...</td>\n    </tr>\n    <tr>\n      <th>12</th>\n      <td>83</td>\n      <td>Re: Шаблон рецензии (новый)</td>\n      <td>Юрий Нечаев  &lt;nechaev_ub@mail.ru&gt;</td>\n      <td>Спасибо.Нечаев.</td>\n      <td>2018-02-04 19:56:26</td>\n      <td></td>\n      <td></td>\n      <td>{'dkim-signature': ('v=1; a=rsa-sha256; q=dns/...</td>\n    </tr>\n    <tr>\n      <th>19</th>\n      <td>90</td>\n      <td>RE: статья Вестник САИТ Рецензия</td>\n      <td>Толстобров А.П.  &lt;tap@vsu.ru&gt;</td>\n      <td>Добрый день!\\r\\nПосылаю рецензию\\r\\n\\r\\nС уваж...</td>\n      <td>2018-02-09 17:36:00</td>\n      <td>Рецензия Толстоброва на статью А.С. Платонова....</td>\n      <td>application/vnd.openxmlformats-officedocument....</td>\n      <td>{'dkim-signature': ('v=1; a=rsa-sha256; q=dns/...</td>\n    </tr>\n    <tr>\n      <th>27</th>\n      <td>98</td>\n      <td>RE: статья для рецензирования</td>\n      <td>Вялых Сергей Ариевич &lt;vyalyh@govvrn.ru&gt;</td>\n      <td>Доброе время суток, Вероника Викторовна!\\r\\n\\r...</td>\n      <td>2018-02-09 17:54:00</td>\n      <td>рецензия_на_Проблема защита_пользователей.docx</td>\n      <td>application/vnd.openxmlformats-officedocument....</td>\n      <td>{'dkim-signature': ('v=1; a=rsa-sha256; q=dns/...</td>\n    </tr>\n    <tr>\n      <th>21</th>\n      <td>92</td>\n      <td>RE: рецензия на статью</td>\n      <td>Толстобров А.П.  &lt;tap@vsu.ru&gt;</td>\n      <td>Добрый день!\\r\\nПосылаю рецензию\\r\\n\\r\\nС уваж...</td>\n      <td>2018-02-11 22:37:00</td>\n      <td>Рецензия Толстоброва на статью Черненькая-Маге...</td>\n      <td>application/vnd.openxmlformats-officedocument....</td>\n      <td>{'dkim-signature': ('v=1; a=rsa-sha256; q=dns/...</td>\n    </tr>\n  </tbody>\n</table>\n</div>"
     },
     "execution_count": 30,
     "metadata": {},
     "output_type": "execute_result"
    }
   ],
   "source": [
    "df = df.sort_values(by='date')\n",
    "df.head()"
   ],
   "metadata": {
    "collapsed": false,
    "ExecuteTime": {
     "end_time": "2024-05-25T12:13:47.602436900Z",
     "start_time": "2024-05-25T12:13:47.409608600Z"
    }
   },
   "id": "a460d0692c943c82"
  },
  {
   "cell_type": "code",
   "execution_count": 31,
   "outputs": [],
   "source": [
    "# Данные отсортированы по дате, текст все еще грязный\n",
    "df.to_csv('files/3_sorted_df.csv', index=False)"
   ],
   "metadata": {
    "collapsed": false,
    "ExecuteTime": {
     "end_time": "2024-05-25T12:13:47.720247600Z",
     "start_time": "2024-05-25T12:13:47.456261Z"
    }
   },
   "id": "b7c7c57bc097e521"
  },
  {
   "cell_type": "code",
   "execution_count": 32,
   "outputs": [],
   "source": [
    "df = pd.read_csv('files/3_sorted_df.csv')"
   ],
   "metadata": {
    "collapsed": false,
    "ExecuteTime": {
     "end_time": "2024-05-25T12:13:47.850028900Z",
     "start_time": "2024-05-25T12:13:47.655879500Z"
    }
   },
   "id": "33356850da8b3b61"
  },
  {
   "cell_type": "code",
   "execution_count": 33,
   "outputs": [
    {
     "data": {
      "text/plain": "(1137, 8)"
     },
     "execution_count": 33,
     "metadata": {},
     "output_type": "execute_result"
    }
   ],
   "source": [
    "df.shape"
   ],
   "metadata": {
    "collapsed": false,
    "ExecuteTime": {
     "end_time": "2024-05-25T12:13:47.850532900Z",
     "start_time": "2024-05-25T12:13:47.766467700Z"
    }
   },
   "id": "41df31fbbe7866a"
  },
  {
   "cell_type": "code",
   "execution_count": 34,
   "outputs": [],
   "source": [
    "df = df.drop_duplicates('text')"
   ],
   "metadata": {
    "collapsed": false,
    "ExecuteTime": {
     "end_time": "2024-05-25T12:13:47.851037200Z",
     "start_time": "2024-05-25T12:13:47.780407200Z"
    }
   },
   "id": "f421116e5456bd84"
  },
  {
   "cell_type": "code",
   "execution_count": 35,
   "outputs": [
    {
     "data": {
      "text/plain": "(825, 8)"
     },
     "execution_count": 35,
     "metadata": {},
     "output_type": "execute_result"
    }
   ],
   "source": [
    "df.shape"
   ],
   "metadata": {
    "collapsed": false,
    "ExecuteTime": {
     "end_time": "2024-05-25T12:13:47.851037200Z",
     "start_time": "2024-05-25T12:13:47.796724200Z"
    }
   },
   "id": "1098cfe4f1736825"
  },
  {
   "cell_type": "code",
   "execution_count": 36,
   "outputs": [],
   "source": [
    "# Данные отсортированы по дате и удалены дубликаты, текст грязный\n",
    "df.to_csv('files/4_drop_duplicates_df.csv', index=False)"
   ],
   "metadata": {
    "collapsed": false,
    "ExecuteTime": {
     "end_time": "2024-05-25T12:13:48.012080700Z",
     "start_time": "2024-05-25T12:13:47.814335100Z"
    }
   },
   "id": "fd827d883596c4c8"
  },
  {
   "cell_type": "markdown",
   "source": [
    "### Разметка"
   ],
   "metadata": {
    "collapsed": false
   },
   "id": "977a8bcd47dbf620"
  },
  {
   "cell_type": "code",
   "execution_count": null,
   "outputs": [],
   "source": [
    "categories = ['submitting an article', 'checking an article', 'revision', 'ready for review', 'reviewing', 'rejected', 'publication']\n",
    "categories_rus = ['подача статьи', 'проверка статьи', 'доработка', 'готово к рецензированию', 'рецензирование', 'отклонена', 'публикация']"
   ],
   "metadata": {
    "collapsed": false
   },
   "id": "6b69c8b015aa38ba"
  },
  {
   "cell_type": "code",
   "execution_count": null,
   "outputs": [],
   "source": [
    "submitting_keywords = 'статья в вестник вгу, статья для, статья для публикации, статья на публикацию, публикация статьи, статья, публикация, статья вак'\n",
    "ready_for_review_keywords = 'статья для рецензирования, статья экспертное заключение'"
   ],
   "metadata": {
    "collapsed": false
   },
   "id": "5d5db8c01ade4391"
  },
  {
   "cell_type": "code",
   "execution_count": null,
   "outputs": [],
   "source": [
    "# def fill_category(dataframe: pd.DataFrame):\n",
    "#     col = []\n",
    "#     for i, row in dataframe.iterrows():\n",
    "        "
   ],
   "metadata": {
    "collapsed": false
   },
   "id": "71c75c493a09d057"
  },
  {
   "cell_type": "code",
   "execution_count": 228,
   "outputs": [
    {
     "data": {
      "text/plain": "       id                                      subject  \\\n0      82                           Повторная отправка   \n1      83                  Re: Шаблон рецензии (новый)   \n2      90             RE: статья Вестник САИТ Рецензия   \n3      98                RE: статья для рецензирования   \n4      92                       RE: рецензия на статью   \n..    ...                                          ...   \n820  1065                       Re: статья на рецензию   \n821  1068                                       статья   \n822  1069  Re: Королев= ответы на замечания рецензента   \n823  1066                   Re: Конденсированные среды   \n824   658               Привет, ты получил сообщение.    \n\n                                                  from  \\\n0    Павловский Максим Викторович  <pmv-160570@yand...   \n1                    Юрий Нечаев  <nechaev_ub@mail.ru>   \n2                        Толстобров А.П.  <tap@vsu.ru>   \n3              Вялых Сергей Ариевич <vyalyh@govvrn.ru>   \n4                        Толстобров А.П.  <tap@vsu.ru>   \n..                                                 ...   \n820               Алексей Буховец  <abuhovets@mail.ru>   \n821              hein minzaw <heinminnzaw13@gmail.com>   \n822            Сергей Медведев  <s_n_medvedev@mail.ru>   \n823  CONDENSED MATTER AND INTERPHASES <kcmf@main.vs...   \n824                       Sasa <smrd@semribearing.com>   \n\n                                                  text                 date  \\\n0    Добрый вечер!\\r\\nОтсылаю материалы рецензии на...  2016-01-14 20:47:03   \n1                                      Спасибо.Нечаев.  2018-02-04 19:56:26   \n2    Добрый день!\\r\\nПосылаю рецензию\\r\\n\\r\\nС уваж...  2018-02-09 17:36:00   \n3    Доброе время суток, Вероника Викторовна!\\r\\n\\r...  2018-02-09 17:54:00   \n4    Добрый день!\\r\\nПосылаю рецензию\\r\\n\\r\\nС уваж...  2018-02-11 22:37:00   \n..                                                 ...                  ...   \n820  Высылаю рецензию на материал А.М. Сагдатуллина...  2019-11-14 09:40:50   \n821  Здравствуйте !\\r\\nМою отправлен нучную статью ...  2019-11-14 14:40:59   \n822  Здравствуйте.\\nСчитаю, что статья может быть о...  2019-11-15 00:03:13   \n823  Добрый день, Виктория Викторовна!\\r\\n\\r\\nЮрист...  2019-11-15 09:43:16   \n824  Привет друг,\\n\\n\\nЭто Sasa из Тяньцзиня Semri ...  2024-05-16 00:00:00   \n\n                                   attachment_filename  \\\n0                                Рецензия Гаршиной.doc   \n1                                                  NaN   \n2    Рецензия Толстоброва на статью А.С. Платонова....   \n3       рецензия_на_Проблема защита_пользователей.docx   \n4    Рецензия Толстоброва на статью Черненькая-Маге...   \n..                                                 ...   \n820                Рецензии Сагдатуллина А_М_САИТ.docx   \n821                    Рис1.docx,Рис2.docx,Статья .doc   \n822  Ответ после повторного рецензирования.pdf,Реце...   \n823                                                NaN   \n824                                          邮件照片3.jpg   \n\n                               attachment_content_type  \\\n0                                   application/msword   \n1                                                  NaN   \n2    application/vnd.openxmlformats-officedocument....   \n3    application/vnd.openxmlformats-officedocument....   \n4    application/vnd.openxmlformats-officedocument....   \n..                                                 ...   \n820  application/vnd.openxmlformats-officedocument....   \n821  application/vnd.openxmlformats-officedocument....   \n822  application/pdf,application/vnd.openxmlformats...   \n823                                                NaN   \n824                                         image/jpeg   \n\n                                               headers  \n0    {'dkim-signature': ('v=1; a=rsa-sha256; q=dns/...  \n1    {'dkim-signature': ('v=1; a=rsa-sha256; q=dns/...  \n2    {'dkim-signature': ('v=1; a=rsa-sha256; q=dns/...  \n3    {'dkim-signature': ('v=1; a=rsa-sha256; q=dns/...  \n4    {'dkim-signature': ('v=1; a=rsa-sha256; q=dns/...  \n..                                                 ...  \n820  {'dkim-signature': ('v=1; a=rsa-sha256; q=dns/...  \n821  {'dkim-signature': ('v=1; a=rsa-sha256; q=dns/...  \n822  {'dkim-signature': ('v=1; a=rsa-sha256; q=dns/...  \n823  {'dkim-signature': ('v=1; a=rsa-sha256; q=dns/...  \n824  {'dkim-signature': ('v=1; a=rsa-sha256; q=dns/...  \n\n[825 rows x 8 columns]",
      "text/html": "<div>\n<style scoped>\n    .dataframe tbody tr th:only-of-type {\n        vertical-align: middle;\n    }\n\n    .dataframe tbody tr th {\n        vertical-align: top;\n    }\n\n    .dataframe thead th {\n        text-align: right;\n    }\n</style>\n<table border=\"1\" class=\"dataframe\">\n  <thead>\n    <tr style=\"text-align: right;\">\n      <th></th>\n      <th>id</th>\n      <th>subject</th>\n      <th>from</th>\n      <th>text</th>\n      <th>date</th>\n      <th>attachment_filename</th>\n      <th>attachment_content_type</th>\n      <th>headers</th>\n    </tr>\n  </thead>\n  <tbody>\n    <tr>\n      <th>0</th>\n      <td>82</td>\n      <td>Повторная отправка</td>\n      <td>Павловский Максим Викторович  &lt;pmv-160570@yand...</td>\n      <td>Добрый вечер!\\r\\nОтсылаю материалы рецензии на...</td>\n      <td>2016-01-14 20:47:03</td>\n      <td>Рецензия Гаршиной.doc</td>\n      <td>application/msword</td>\n      <td>{'dkim-signature': ('v=1; a=rsa-sha256; q=dns/...</td>\n    </tr>\n    <tr>\n      <th>1</th>\n      <td>83</td>\n      <td>Re: Шаблон рецензии (новый)</td>\n      <td>Юрий Нечаев  &lt;nechaev_ub@mail.ru&gt;</td>\n      <td>Спасибо.Нечаев.</td>\n      <td>2018-02-04 19:56:26</td>\n      <td>NaN</td>\n      <td>NaN</td>\n      <td>{'dkim-signature': ('v=1; a=rsa-sha256; q=dns/...</td>\n    </tr>\n    <tr>\n      <th>2</th>\n      <td>90</td>\n      <td>RE: статья Вестник САИТ Рецензия</td>\n      <td>Толстобров А.П.  &lt;tap@vsu.ru&gt;</td>\n      <td>Добрый день!\\r\\nПосылаю рецензию\\r\\n\\r\\nС уваж...</td>\n      <td>2018-02-09 17:36:00</td>\n      <td>Рецензия Толстоброва на статью А.С. Платонова....</td>\n      <td>application/vnd.openxmlformats-officedocument....</td>\n      <td>{'dkim-signature': ('v=1; a=rsa-sha256; q=dns/...</td>\n    </tr>\n    <tr>\n      <th>3</th>\n      <td>98</td>\n      <td>RE: статья для рецензирования</td>\n      <td>Вялых Сергей Ариевич &lt;vyalyh@govvrn.ru&gt;</td>\n      <td>Доброе время суток, Вероника Викторовна!\\r\\n\\r...</td>\n      <td>2018-02-09 17:54:00</td>\n      <td>рецензия_на_Проблема защита_пользователей.docx</td>\n      <td>application/vnd.openxmlformats-officedocument....</td>\n      <td>{'dkim-signature': ('v=1; a=rsa-sha256; q=dns/...</td>\n    </tr>\n    <tr>\n      <th>4</th>\n      <td>92</td>\n      <td>RE: рецензия на статью</td>\n      <td>Толстобров А.П.  &lt;tap@vsu.ru&gt;</td>\n      <td>Добрый день!\\r\\nПосылаю рецензию\\r\\n\\r\\nС уваж...</td>\n      <td>2018-02-11 22:37:00</td>\n      <td>Рецензия Толстоброва на статью Черненькая-Маге...</td>\n      <td>application/vnd.openxmlformats-officedocument....</td>\n      <td>{'dkim-signature': ('v=1; a=rsa-sha256; q=dns/...</td>\n    </tr>\n    <tr>\n      <th>...</th>\n      <td>...</td>\n      <td>...</td>\n      <td>...</td>\n      <td>...</td>\n      <td>...</td>\n      <td>...</td>\n      <td>...</td>\n      <td>...</td>\n    </tr>\n    <tr>\n      <th>820</th>\n      <td>1065</td>\n      <td>Re: статья на рецензию</td>\n      <td>Алексей Буховец  &lt;abuhovets@mail.ru&gt;</td>\n      <td>Высылаю рецензию на материал А.М. Сагдатуллина...</td>\n      <td>2019-11-14 09:40:50</td>\n      <td>Рецензии Сагдатуллина А_М_САИТ.docx</td>\n      <td>application/vnd.openxmlformats-officedocument....</td>\n      <td>{'dkim-signature': ('v=1; a=rsa-sha256; q=dns/...</td>\n    </tr>\n    <tr>\n      <th>821</th>\n      <td>1068</td>\n      <td>статья</td>\n      <td>hein minzaw &lt;heinminnzaw13@gmail.com&gt;</td>\n      <td>Здравствуйте !\\r\\nМою отправлен нучную статью ...</td>\n      <td>2019-11-14 14:40:59</td>\n      <td>Рис1.docx,Рис2.docx,Статья .doc</td>\n      <td>application/vnd.openxmlformats-officedocument....</td>\n      <td>{'dkim-signature': ('v=1; a=rsa-sha256; q=dns/...</td>\n    </tr>\n    <tr>\n      <th>822</th>\n      <td>1069</td>\n      <td>Re: Королев= ответы на замечания рецензента</td>\n      <td>Сергей Медведев  &lt;s_n_medvedev@mail.ru&gt;</td>\n      <td>Здравствуйте.\\nСчитаю, что статья может быть о...</td>\n      <td>2019-11-15 00:03:13</td>\n      <td>Ответ после повторного рецензирования.pdf,Реце...</td>\n      <td>application/pdf,application/vnd.openxmlformats...</td>\n      <td>{'dkim-signature': ('v=1; a=rsa-sha256; q=dns/...</td>\n    </tr>\n    <tr>\n      <th>823</th>\n      <td>1066</td>\n      <td>Re: Конденсированные среды</td>\n      <td>CONDENSED MATTER AND INTERPHASES &lt;kcmf@main.vs...</td>\n      <td>Добрый день, Виктория Викторовна!\\r\\n\\r\\nЮрист...</td>\n      <td>2019-11-15 09:43:16</td>\n      <td>NaN</td>\n      <td>NaN</td>\n      <td>{'dkim-signature': ('v=1; a=rsa-sha256; q=dns/...</td>\n    </tr>\n    <tr>\n      <th>824</th>\n      <td>658</td>\n      <td>Привет, ты получил сообщение.</td>\n      <td>Sasa &lt;smrd@semribearing.com&gt;</td>\n      <td>Привет друг,\\n\\n\\nЭто Sasa из Тяньцзиня Semri ...</td>\n      <td>2024-05-16 00:00:00</td>\n      <td>邮件照片3.jpg</td>\n      <td>image/jpeg</td>\n      <td>{'dkim-signature': ('v=1; a=rsa-sha256; q=dns/...</td>\n    </tr>\n  </tbody>\n</table>\n<p>825 rows × 8 columns</p>\n</div>"
     },
     "execution_count": 228,
     "metadata": {},
     "output_type": "execute_result"
    }
   ],
   "source": [
    "new_df = pd.read_csv('files/drop_duplicates_df.csv')\n",
    "new_df"
   ],
   "metadata": {
    "collapsed": false,
    "ExecuteTime": {
     "start_time": "2024-05-17T21:24:57.497640800Z"
    }
   },
   "id": "32113f4a936a0a95"
  },
  {
   "cell_type": "code",
   "execution_count": 229,
   "outputs": [],
   "source": [
    "df['subject'].to_csv('files/subjects.csv', index=False)"
   ],
   "metadata": {
    "collapsed": false,
    "ExecuteTime": {
     "start_time": "2024-05-17T21:39:18.678497100Z"
    }
   },
   "id": "51e3fcc7b97aeaae"
  },
  {
   "cell_type": "code",
   "execution_count": 242,
   "outputs": [
    {
     "data": {
      "text/plain": "       id                                      subject\n11     82                           Повторная отправка\n12     83                  Re: Шаблон рецензии (новый)\n19     90             RE: статья Вестник САИТ Рецензия\n27     98                RE: статья для рецензирования\n21     92                       RE: рецензия на статью\n..    ...                                          ...\n987  1065                       Re: статья на рецензию\n990  1068                                       статья\n991  1069  Re: Королев= ответы на замечания рецензента\n988  1066                   Re: Конденсированные среды\n582   658               Привет, ты получил сообщение. \n\n[825 rows x 2 columns]",
      "text/html": "<div>\n<style scoped>\n    .dataframe tbody tr th:only-of-type {\n        vertical-align: middle;\n    }\n\n    .dataframe tbody tr th {\n        vertical-align: top;\n    }\n\n    .dataframe thead th {\n        text-align: right;\n    }\n</style>\n<table border=\"1\" class=\"dataframe\">\n  <thead>\n    <tr style=\"text-align: right;\">\n      <th></th>\n      <th>id</th>\n      <th>subject</th>\n    </tr>\n  </thead>\n  <tbody>\n    <tr>\n      <th>11</th>\n      <td>82</td>\n      <td>Повторная отправка</td>\n    </tr>\n    <tr>\n      <th>12</th>\n      <td>83</td>\n      <td>Re: Шаблон рецензии (новый)</td>\n    </tr>\n    <tr>\n      <th>19</th>\n      <td>90</td>\n      <td>RE: статья Вестник САИТ Рецензия</td>\n    </tr>\n    <tr>\n      <th>27</th>\n      <td>98</td>\n      <td>RE: статья для рецензирования</td>\n    </tr>\n    <tr>\n      <th>21</th>\n      <td>92</td>\n      <td>RE: рецензия на статью</td>\n    </tr>\n    <tr>\n      <th>...</th>\n      <td>...</td>\n      <td>...</td>\n    </tr>\n    <tr>\n      <th>987</th>\n      <td>1065</td>\n      <td>Re: статья на рецензию</td>\n    </tr>\n    <tr>\n      <th>990</th>\n      <td>1068</td>\n      <td>статья</td>\n    </tr>\n    <tr>\n      <th>991</th>\n      <td>1069</td>\n      <td>Re: Королев= ответы на замечания рецензента</td>\n    </tr>\n    <tr>\n      <th>988</th>\n      <td>1066</td>\n      <td>Re: Конденсированные среды</td>\n    </tr>\n    <tr>\n      <th>582</th>\n      <td>658</td>\n      <td>Привет, ты получил сообщение.</td>\n    </tr>\n  </tbody>\n</table>\n<p>825 rows × 2 columns</p>\n</div>"
     },
     "execution_count": 242,
     "metadata": {},
     "output_type": "execute_result"
    }
   ],
   "source": [
    "subjects = df[['id', 'subject']]\n",
    "subjects"
   ],
   "metadata": {
    "collapsed": false,
    "ExecuteTime": {
     "end_time": "2024-05-17T21:54:57.225073400Z",
     "start_time": "2024-05-17T21:54:57.142152800Z"
    }
   },
   "id": "4b43fceaa27db25d"
  },
  {
   "cell_type": "code",
   "execution_count": 243,
   "outputs": [
    {
     "name": "stderr",
     "output_type": "stream",
     "text": [
      "C:\\Users\\08642\\AppData\\Local\\Temp\\ipykernel_22400\\4018698362.py:1: SettingWithCopyWarning: \n",
      "A value is trying to be set on a copy of a slice from a DataFrame.\n",
      "Try using .loc[row_indexer,col_indexer] = value instead\n",
      "\n",
      "See the caveats in the documentation: https://pandas.pydata.org/pandas-docs/stable/user_guide/indexing.html#returning-a-view-versus-a-copy\n",
      "  subjects['subject'] = clean_subject(subjects['subject'])\n"
     ]
    }
   ],
   "source": [
    "subjects['subject'] = clean_text(subjects['subject'])"
   ],
   "metadata": {
    "collapsed": false,
    "ExecuteTime": {
     "end_time": "2024-05-17T21:55:38.705482300Z",
     "start_time": "2024-05-17T21:55:38.644113500Z"
    }
   },
   "id": "c805ca111f9b59d3"
  },
  {
   "cell_type": "code",
   "execution_count": 246,
   "outputs": [
    {
     "data": {
      "text/plain": "        id                                            subject\n11      82                                 повторная отправка\n12      83                             шаблон рецензии новый \n19      90                       статья вестник саит рецензия\n27      98                          статья для рецензирования\n21      92                                 рецензия на статью\n...    ...                                                ...\n1000  1079  сведения об авторах doc статья кротов docx экс...\n986   1064                               статья колегова о а \n987   1065                                 статья на рецензию\n991   1069             королев ответы на замечания рецензента\n582    658                       привет ты получил сообщение \n\n[405 rows x 2 columns]",
      "text/html": "<div>\n<style scoped>\n    .dataframe tbody tr th:only-of-type {\n        vertical-align: middle;\n    }\n\n    .dataframe tbody tr th {\n        vertical-align: top;\n    }\n\n    .dataframe thead th {\n        text-align: right;\n    }\n</style>\n<table border=\"1\" class=\"dataframe\">\n  <thead>\n    <tr style=\"text-align: right;\">\n      <th></th>\n      <th>id</th>\n      <th>subject</th>\n    </tr>\n  </thead>\n  <tbody>\n    <tr>\n      <th>11</th>\n      <td>82</td>\n      <td>повторная отправка</td>\n    </tr>\n    <tr>\n      <th>12</th>\n      <td>83</td>\n      <td>шаблон рецензии новый</td>\n    </tr>\n    <tr>\n      <th>19</th>\n      <td>90</td>\n      <td>статья вестник саит рецензия</td>\n    </tr>\n    <tr>\n      <th>27</th>\n      <td>98</td>\n      <td>статья для рецензирования</td>\n    </tr>\n    <tr>\n      <th>21</th>\n      <td>92</td>\n      <td>рецензия на статью</td>\n    </tr>\n    <tr>\n      <th>...</th>\n      <td>...</td>\n      <td>...</td>\n    </tr>\n    <tr>\n      <th>1000</th>\n      <td>1079</td>\n      <td>сведения об авторах doc статья кротов docx экс...</td>\n    </tr>\n    <tr>\n      <th>986</th>\n      <td>1064</td>\n      <td>статья колегова о а</td>\n    </tr>\n    <tr>\n      <th>987</th>\n      <td>1065</td>\n      <td>статья на рецензию</td>\n    </tr>\n    <tr>\n      <th>991</th>\n      <td>1069</td>\n      <td>королев ответы на замечания рецензента</td>\n    </tr>\n    <tr>\n      <th>582</th>\n      <td>658</td>\n      <td>привет ты получил сообщение</td>\n    </tr>\n  </tbody>\n</table>\n<p>405 rows × 2 columns</p>\n</div>"
     },
     "execution_count": 246,
     "metadata": {},
     "output_type": "execute_result"
    }
   ],
   "source": [
    "uniq_sbj = subjects.drop_duplicates(subset='subject')\n",
    "uniq_sbj"
   ],
   "metadata": {
    "collapsed": false,
    "ExecuteTime": {
     "end_time": "2024-05-17T21:58:50.886620300Z",
     "start_time": "2024-05-17T21:58:50.841583900Z"
    }
   },
   "id": "6895f838787ed16a"
  },
  {
   "cell_type": "code",
   "execution_count": 247,
   "outputs": [],
   "source": [
    "uniq_sbj.to_csv('files/unique_subjects.csv', index=False)"
   ],
   "metadata": {
    "collapsed": false,
    "ExecuteTime": {
     "end_time": "2024-05-17T22:02:12.168849700Z",
     "start_time": "2024-05-17T22:02:12.105046300Z"
    }
   },
   "id": "fb97a81e7ac0a11e"
  },
  {
   "cell_type": "code",
   "execution_count": null,
   "outputs": [],
   "source": [],
   "metadata": {
    "collapsed": false
   },
   "id": "b0171c4e43fb7fdd"
  },
  {
   "cell_type": "markdown",
   "source": [
    "## Ярги парсер"
   ],
   "metadata": {
    "collapsed": false
   },
   "id": "81216fc417bb948a"
  },
  {
   "cell_type": "code",
   "execution_count": 76,
   "outputs": [
    {
     "data": {
      "text/plain": "   id                           subject  \\\n0  82                Повторная отправка   \n1  83       Re: Шаблон рецензии (новый)   \n2  90  RE: статья Вестник САИТ Рецензия   \n3  98     RE: статья для рецензирования   \n4  92            RE: рецензия на статью   \n\n                                                from  \\\n0  Павловский Максим Викторович  <pmv-160570@yand...   \n1                  Юрий Нечаев  <nechaev_ub@mail.ru>   \n2                      Толстобров А.П.  <tap@vsu.ru>   \n3            Вялых Сергей Ариевич <vyalyh@govvrn.ru>   \n4                      Толстобров А.П.  <tap@vsu.ru>   \n\n                                                text                 date  \\\n0  Добрый вечер!\\r\\nОтсылаю материалы рецензии на...  2016-01-14 20:47:03   \n1                                    Спасибо.Нечаев.  2018-02-04 19:56:26   \n2  Добрый день!\\r\\nПосылаю рецензию\\r\\n\\r\\nС уваж...  2018-02-09 17:36:00   \n3  Доброе время суток, Вероника Викторовна!\\r\\n\\r...  2018-02-09 17:54:00   \n4  Добрый день!\\r\\nПосылаю рецензию\\r\\n\\r\\nС уваж...  2018-02-11 22:37:00   \n\n                                 attachment_filename  \\\n0                              Рецензия Гаршиной.doc   \n1                                                NaN   \n2  Рецензия Толстоброва на статью А.С. Платонова....   \n3     рецензия_на_Проблема защита_пользователей.docx   \n4  Рецензия Толстоброва на статью Черненькая-Маге...   \n\n                             attachment_content_type  \\\n0                                 application/msword   \n1                                                NaN   \n2  application/vnd.openxmlformats-officedocument....   \n3  application/vnd.openxmlformats-officedocument....   \n4  application/vnd.openxmlformats-officedocument....   \n\n                                             headers  \n0  {'dkim-signature': ('v=1; a=rsa-sha256; q=dns/...  \n1  {'dkim-signature': ('v=1; a=rsa-sha256; q=dns/...  \n2  {'dkim-signature': ('v=1; a=rsa-sha256; q=dns/...  \n3  {'dkim-signature': ('v=1; a=rsa-sha256; q=dns/...  \n4  {'dkim-signature': ('v=1; a=rsa-sha256; q=dns/...  ",
      "text/html": "<div>\n<style scoped>\n    .dataframe tbody tr th:only-of-type {\n        vertical-align: middle;\n    }\n\n    .dataframe tbody tr th {\n        vertical-align: top;\n    }\n\n    .dataframe thead th {\n        text-align: right;\n    }\n</style>\n<table border=\"1\" class=\"dataframe\">\n  <thead>\n    <tr style=\"text-align: right;\">\n      <th></th>\n      <th>id</th>\n      <th>subject</th>\n      <th>from</th>\n      <th>text</th>\n      <th>date</th>\n      <th>attachment_filename</th>\n      <th>attachment_content_type</th>\n      <th>headers</th>\n    </tr>\n  </thead>\n  <tbody>\n    <tr>\n      <th>0</th>\n      <td>82</td>\n      <td>Повторная отправка</td>\n      <td>Павловский Максим Викторович  &lt;pmv-160570@yand...</td>\n      <td>Добрый вечер!\\r\\nОтсылаю материалы рецензии на...</td>\n      <td>2016-01-14 20:47:03</td>\n      <td>Рецензия Гаршиной.doc</td>\n      <td>application/msword</td>\n      <td>{'dkim-signature': ('v=1; a=rsa-sha256; q=dns/...</td>\n    </tr>\n    <tr>\n      <th>1</th>\n      <td>83</td>\n      <td>Re: Шаблон рецензии (новый)</td>\n      <td>Юрий Нечаев  &lt;nechaev_ub@mail.ru&gt;</td>\n      <td>Спасибо.Нечаев.</td>\n      <td>2018-02-04 19:56:26</td>\n      <td>NaN</td>\n      <td>NaN</td>\n      <td>{'dkim-signature': ('v=1; a=rsa-sha256; q=dns/...</td>\n    </tr>\n    <tr>\n      <th>2</th>\n      <td>90</td>\n      <td>RE: статья Вестник САИТ Рецензия</td>\n      <td>Толстобров А.П.  &lt;tap@vsu.ru&gt;</td>\n      <td>Добрый день!\\r\\nПосылаю рецензию\\r\\n\\r\\nС уваж...</td>\n      <td>2018-02-09 17:36:00</td>\n      <td>Рецензия Толстоброва на статью А.С. Платонова....</td>\n      <td>application/vnd.openxmlformats-officedocument....</td>\n      <td>{'dkim-signature': ('v=1; a=rsa-sha256; q=dns/...</td>\n    </tr>\n    <tr>\n      <th>3</th>\n      <td>98</td>\n      <td>RE: статья для рецензирования</td>\n      <td>Вялых Сергей Ариевич &lt;vyalyh@govvrn.ru&gt;</td>\n      <td>Доброе время суток, Вероника Викторовна!\\r\\n\\r...</td>\n      <td>2018-02-09 17:54:00</td>\n      <td>рецензия_на_Проблема защита_пользователей.docx</td>\n      <td>application/vnd.openxmlformats-officedocument....</td>\n      <td>{'dkim-signature': ('v=1; a=rsa-sha256; q=dns/...</td>\n    </tr>\n    <tr>\n      <th>4</th>\n      <td>92</td>\n      <td>RE: рецензия на статью</td>\n      <td>Толстобров А.П.  &lt;tap@vsu.ru&gt;</td>\n      <td>Добрый день!\\r\\nПосылаю рецензию\\r\\n\\r\\nС уваж...</td>\n      <td>2018-02-11 22:37:00</td>\n      <td>Рецензия Толстоброва на статью Черненькая-Маге...</td>\n      <td>application/vnd.openxmlformats-officedocument....</td>\n      <td>{'dkim-signature': ('v=1; a=rsa-sha256; q=dns/...</td>\n    </tr>\n  </tbody>\n</table>\n</div>"
     },
     "execution_count": 76,
     "metadata": {},
     "output_type": "execute_result"
    }
   ],
   "source": [
    "test_df = pd.read_csv('files/drop_duplicates_df.csv')\n",
    "test_df.head() "
   ],
   "metadata": {
    "collapsed": false,
    "ExecuteTime": {
     "end_time": "2024-05-18T16:26:17.815369900Z",
     "start_time": "2024-05-18T16:26:17.742503900Z"
    }
   },
   "id": "380d971875099b2d"
  },
  {
   "cell_type": "code",
   "execution_count": 36,
   "outputs": [
    {
     "data": {
      "text/plain": "'Здравствуйте!\\r\\n\\r\\nПишет Вам аспирант математического факультета ВГУ Литвинов Дмитрий!\\r\\nЯ собираюсь отправить свою статью в журнал \"Вестник ВГУ. Серия: Системный анализ и информационные технологии\". В связи с этим у меня есть несколько вопросов:\\r\\n\\r\\n\\r\\n1)Принимаете ли Вы статьи аспирантов?\\r\\n2)Какие документы и прочие материалы я должен предоставить вместе со статьей в редакцию?\\r\\n3)Можно ли предоставить электронную версию статьи в формате tex?\\r\\n4)Как долго происходит процесс рецензирования в журнале?\\r\\n\\r\\nЗаранее спасибо!\\r\\n'"
     },
     "execution_count": 36,
     "metadata": {},
     "output_type": "execute_result"
    }
   ],
   "source": [
    "text = test_df.iloc[20]['text']\n",
    "text"
   ],
   "metadata": {
    "collapsed": false,
    "ExecuteTime": {
     "end_time": "2024-05-18T14:42:47.432660200Z",
     "start_time": "2024-05-18T14:42:47.419344400Z"
    }
   },
   "id": "186a98726a91d7b5"
  },
  {
   "cell_type": "code",
   "execution_count": 32,
   "outputs": [],
   "source": [
    "from yargy.tokenizer import MorphTokenizer\n",
    "from yargy.predicates import gram, dictionary, type as tp\n",
    "from yargy import Parser, rule, and_, not_, or_\n",
    "from yargy.predicates import gram,  eq, normalized\n",
    "from yargy.pipelines import morph_pipeline\n",
    "from yargy.interpretation import fact\n",
    "from yargy.tokenizer import RULES\n",
    "from ipymarkup import show_span_box_markup as show_markup"
   ],
   "metadata": {
    "collapsed": false,
    "ExecuteTime": {
     "end_time": "2024-05-18T14:14:18.309784400Z",
     "start_time": "2024-05-18T14:14:18.284510300Z"
    }
   },
   "id": "1d02bf61ac1236c8"
  },
  {
   "cell_type": "code",
   "execution_count": 48,
   "outputs": [
    {
     "data": {
      "text/plain": "[MorphToken(\n     value='поинтересуюсь',\n     span=[0, 13),\n     type='RU',\n     forms=[Form('поинтересоваться', Grams(1per,VERB,futr,indc,intr,perf,sing))]\n )]"
     },
     "execution_count": 48,
     "metadata": {},
     "output_type": "execute_result"
    }
   ],
   "source": [
    "TOKENIZER = MorphTokenizer()\n",
    "list(TOKENIZER('поинтересуюсь'))"
   ],
   "metadata": {
    "collapsed": false,
    "ExecuteTime": {
     "end_time": "2024-05-18T15:48:20.846371600Z",
     "start_time": "2024-05-18T15:48:20.731826800Z"
    }
   },
   "id": "32a12c73bb36c780"
  },
  {
   "cell_type": "code",
   "execution_count": 82,
   "outputs": [
    {
     "data": {
      "text/plain": "       id                                      subject  \\\n0      82                           Повторная отправка   \n1      83                  Re: Шаблон рецензии (новый)   \n2      90             RE: статья Вестник САИТ Рецензия   \n3      98                RE: статья для рецензирования   \n4      92                       RE: рецензия на статью   \n..    ...                                          ...   \n820  1065                       Re: статья на рецензию   \n821  1068                                       статья   \n822  1069  Re: Королев= ответы на замечания рецензента   \n823  1066                   Re: Конденсированные среды   \n824   658               Привет, ты получил сообщение.    \n\n                                   attachment_filename  \n0                                Рецензия Гаршиной.doc  \n1                                                  NaN  \n2    Рецензия Толстоброва на статью А.С. Платонова....  \n3       рецензия_на_Проблема защита_пользователей.docx  \n4    Рецензия Толстоброва на статью Черненькая-Маге...  \n..                                                 ...  \n820                Рецензии Сагдатуллина А_М_САИТ.docx  \n821                    Рис1.docx,Рис2.docx,Статья .doc  \n822  Ответ после повторного рецензирования.pdf,Реце...  \n823                                                NaN  \n824                                          邮件照片3.jpg  \n\n[825 rows x 3 columns]",
      "text/html": "<div>\n<style scoped>\n    .dataframe tbody tr th:only-of-type {\n        vertical-align: middle;\n    }\n\n    .dataframe tbody tr th {\n        vertical-align: top;\n    }\n\n    .dataframe thead th {\n        text-align: right;\n    }\n</style>\n<table border=\"1\" class=\"dataframe\">\n  <thead>\n    <tr style=\"text-align: right;\">\n      <th></th>\n      <th>id</th>\n      <th>subject</th>\n      <th>attachment_filename</th>\n    </tr>\n  </thead>\n  <tbody>\n    <tr>\n      <th>0</th>\n      <td>82</td>\n      <td>Повторная отправка</td>\n      <td>Рецензия Гаршиной.doc</td>\n    </tr>\n    <tr>\n      <th>1</th>\n      <td>83</td>\n      <td>Re: Шаблон рецензии (новый)</td>\n      <td>NaN</td>\n    </tr>\n    <tr>\n      <th>2</th>\n      <td>90</td>\n      <td>RE: статья Вестник САИТ Рецензия</td>\n      <td>Рецензия Толстоброва на статью А.С. Платонова....</td>\n    </tr>\n    <tr>\n      <th>3</th>\n      <td>98</td>\n      <td>RE: статья для рецензирования</td>\n      <td>рецензия_на_Проблема защита_пользователей.docx</td>\n    </tr>\n    <tr>\n      <th>4</th>\n      <td>92</td>\n      <td>RE: рецензия на статью</td>\n      <td>Рецензия Толстоброва на статью Черненькая-Маге...</td>\n    </tr>\n    <tr>\n      <th>...</th>\n      <td>...</td>\n      <td>...</td>\n      <td>...</td>\n    </tr>\n    <tr>\n      <th>820</th>\n      <td>1065</td>\n      <td>Re: статья на рецензию</td>\n      <td>Рецензии Сагдатуллина А_М_САИТ.docx</td>\n    </tr>\n    <tr>\n      <th>821</th>\n      <td>1068</td>\n      <td>статья</td>\n      <td>Рис1.docx,Рис2.docx,Статья .doc</td>\n    </tr>\n    <tr>\n      <th>822</th>\n      <td>1069</td>\n      <td>Re: Королев= ответы на замечания рецензента</td>\n      <td>Ответ после повторного рецензирования.pdf,Реце...</td>\n    </tr>\n    <tr>\n      <th>823</th>\n      <td>1066</td>\n      <td>Re: Конденсированные среды</td>\n      <td>NaN</td>\n    </tr>\n    <tr>\n      <th>824</th>\n      <td>658</td>\n      <td>Привет, ты получил сообщение.</td>\n      <td>邮件照片3.jpg</td>\n    </tr>\n  </tbody>\n</table>\n<p>825 rows × 3 columns</p>\n</div>"
     },
     "execution_count": 82,
     "metadata": {},
     "output_type": "execute_result"
    }
   ],
   "source": [
    "subjects = test_df[['id', 'subject', 'attachment_filename']]\n",
    "subjects"
   ],
   "metadata": {
    "collapsed": false,
    "ExecuteTime": {
     "end_time": "2024-05-18T16:33:00.637973200Z",
     "start_time": "2024-05-18T16:33:00.604700200Z"
    }
   },
   "id": "44a61b7d69447"
  },
  {
   "cell_type": "code",
   "execution_count": 83,
   "outputs": [
    {
     "name": "stderr",
     "output_type": "stream",
     "text": [
      "C:\\Users\\08642\\AppData\\Local\\Temp\\ipykernel_10472\\2351832943.py:1: SettingWithCopyWarning: \n",
      "A value is trying to be set on a copy of a slice from a DataFrame.\n",
      "Try using .loc[row_indexer,col_indexer] = value instead\n",
      "\n",
      "See the caveats in the documentation: https://pandas.pydata.org/pandas-docs/stable/user_guide/indexing.html#returning-a-view-versus-a-copy\n",
      "  subjects['category'] = ''\n"
     ]
    }
   ],
   "source": [
    "subjects['category'] = ''\n"
   ],
   "metadata": {
    "collapsed": false,
    "ExecuteTime": {
     "end_time": "2024-05-18T16:33:14.052556500Z",
     "start_time": "2024-05-18T16:33:14.012671400Z"
    }
   },
   "id": "2cbd9b37ca62531d"
  },
  {
   "cell_type": "code",
   "execution_count": 117,
   "outputs": [],
   "source": [
    "Category = fact('Category', ['name'])\n",
    "article = morph_pipeline(\n",
    "    ['опубликовать','публикация','опубликования','разместить',\n",
    "        'материалы','размещение','печатать','напечатать','принять']\n",
    ").interpretation(Category.name.const('подача'))\n",
    "\n",
    "review = morph_pipeline(\n",
    "    ['рецензия на статью','рецензия','отрецензировать',\n",
    "        'рецензирование','рецензент']\n",
    ").interpretation(Category.name.const('рецензия'))\n",
    "\n",
    "question = morph_pipeline(\n",
    "    ['вопрос','подсказать','сказать','?','узнать',\n",
    "        'интересоваться','поинтересоваться', 'интересует','повод']\n",
    ").interpretation(Category.name.const('вопрос'))\n",
    "\n",
    "ARTICLE = rule(\n",
    "    or_(article, review, question)).interpretation(Category)\n",
    "parser = Parser(ARTICLE)\n",
    "# matches = list(parser.findall(text))\n",
    "# spans = [_.span for _ in matches]\n",
    "# show_markup(text, spans)\n",
    "# for match in parser.findall(text):\n",
    "#     print (match.fact)"
   ],
   "metadata": {
    "collapsed": false,
    "ExecuteTime": {
     "end_time": "2024-05-18T16:55:11.580865500Z",
     "start_time": "2024-05-18T16:55:11.444060400Z"
    }
   },
   "id": "351c4e239e39a556"
  },
  {
   "cell_type": "code",
   "execution_count": 118,
   "outputs": [],
   "source": [
    "for index, row in subjects.iterrows():\n",
    "    tx = row['subject']\n",
    "    if (tx is not None) or (tx != 'NaN') or (str(tx) != 'nan'):\n",
    "        for match in parser.findall(str(tx)):\n",
    "                category = match.fact\n",
    "                if category is not None:\n",
    "                    subjects.at[index, 'category'] = str(category.name)\n",
    "                else:\n",
    "                    subjects.at[index, 'category'] = 'Nan'\n",
    "    else:\n",
    "        subjects.at[index, 'category'] = 'Nan'\n"
   ],
   "metadata": {
    "collapsed": false,
    "ExecuteTime": {
     "end_time": "2024-05-18T16:55:14.396660100Z",
     "start_time": "2024-05-18T16:55:13.428178300Z"
    }
   },
   "id": "b386aa1e6a0f9557"
  }
 ],
 "metadata": {
  "kernelspec": {
   "display_name": "Python 3",
   "language": "python",
   "name": "python3"
  },
  "language_info": {
   "codemirror_mode": {
    "name": "ipython",
    "version": 2
   },
   "file_extension": ".py",
   "mimetype": "text/x-python",
   "name": "python",
   "nbconvert_exporter": "python",
   "pygments_lexer": "ipython2",
   "version": "2.7.6"
  }
 },
 "nbformat": 4,
 "nbformat_minor": 5
}
