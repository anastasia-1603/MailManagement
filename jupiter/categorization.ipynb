{
 "cells": [
  {
   "cell_type": "code",
   "execution_count": null,
   "outputs": [],
   "source": [],
   "metadata": {
    "collapsed": false
   },
   "id": "2a387bb659c30d6d"
  },
  {
   "cell_type": "code",
   "execution_count": 1,
   "outputs": [],
   "source": [
    "import pandas as pd"
   ],
   "metadata": {
    "collapsed": false,
    "ExecuteTime": {
     "end_time": "2024-06-14T14:41:04.321115700Z",
     "start_time": "2024-06-14T14:41:04.309372300Z"
    }
   },
   "id": "ed5c2435dce12598"
  },
  {
   "cell_type": "code",
   "execution_count": 2,
   "outputs": [],
   "source": [
    "# rz_df = pd.read_csv('files/razmetka2.csv', encoding='windows-1251', delimiter=';')\n",
    "rz_df = pd.read_csv('files/14_translated2_source.csv')"
   ],
   "metadata": {
    "collapsed": false,
    "ExecuteTime": {
     "end_time": "2024-06-14T14:41:43.809295700Z",
     "start_time": "2024-06-14T14:41:43.685716900Z"
    }
   },
   "id": "787b84e26356cfbf"
  },
  {
   "cell_type": "code",
   "execution_count": 3,
   "outputs": [
    {
     "data": {
      "text/plain": "                                                   text             category\n0     Повторная отправка Рецензия Гаршиной.doc Добры...       рецензирование\n1          Re: Шаблон рецензии (новый)  Спасибо.Нечаев.               другое\n2     RE: статья Вестник САИТ Рецензия Рецензия Толс...       рецензирование\n3     RE: статья для рецензирования рецензия_на_Проб...       рецензирование\n4     RE: рецензия на статью Рецензия Толстоброва на...       рецензирование\n...                                                 ...                  ...\n3439  Доброе утро, ! Подготовленная авторами статья ...  готово к публикации\n3440  Дорогой! После внесения необходимых изменений ...  готово к публикации\n3441  Доброе утро, ! Мы рады сообщить, что статья пр...  готово к публикации\n3442  Дорогой! После удаления комментариев статья го...  готово к публикации\n3443  Доброе утро, ! Статья подготовлена к публикаци...  готово к публикации\n\n[3444 rows x 2 columns]",
      "text/html": "<div>\n<style scoped>\n    .dataframe tbody tr th:only-of-type {\n        vertical-align: middle;\n    }\n\n    .dataframe tbody tr th {\n        vertical-align: top;\n    }\n\n    .dataframe thead th {\n        text-align: right;\n    }\n</style>\n<table border=\"1\" class=\"dataframe\">\n  <thead>\n    <tr style=\"text-align: right;\">\n      <th></th>\n      <th>text</th>\n      <th>category</th>\n    </tr>\n  </thead>\n  <tbody>\n    <tr>\n      <th>0</th>\n      <td>Повторная отправка Рецензия Гаршиной.doc Добры...</td>\n      <td>рецензирование</td>\n    </tr>\n    <tr>\n      <th>1</th>\n      <td>Re: Шаблон рецензии (новый)  Спасибо.Нечаев.</td>\n      <td>другое</td>\n    </tr>\n    <tr>\n      <th>2</th>\n      <td>RE: статья Вестник САИТ Рецензия Рецензия Толс...</td>\n      <td>рецензирование</td>\n    </tr>\n    <tr>\n      <th>3</th>\n      <td>RE: статья для рецензирования рецензия_на_Проб...</td>\n      <td>рецензирование</td>\n    </tr>\n    <tr>\n      <th>4</th>\n      <td>RE: рецензия на статью Рецензия Толстоброва на...</td>\n      <td>рецензирование</td>\n    </tr>\n    <tr>\n      <th>...</th>\n      <td>...</td>\n      <td>...</td>\n    </tr>\n    <tr>\n      <th>3439</th>\n      <td>Доброе утро, ! Подготовленная авторами статья ...</td>\n      <td>готово к публикации</td>\n    </tr>\n    <tr>\n      <th>3440</th>\n      <td>Дорогой! После внесения необходимых изменений ...</td>\n      <td>готово к публикации</td>\n    </tr>\n    <tr>\n      <th>3441</th>\n      <td>Доброе утро, ! Мы рады сообщить, что статья пр...</td>\n      <td>готово к публикации</td>\n    </tr>\n    <tr>\n      <th>3442</th>\n      <td>Дорогой! После удаления комментариев статья го...</td>\n      <td>готово к публикации</td>\n    </tr>\n    <tr>\n      <th>3443</th>\n      <td>Доброе утро, ! Статья подготовлена к публикаци...</td>\n      <td>готово к публикации</td>\n    </tr>\n  </tbody>\n</table>\n<p>3444 rows × 2 columns</p>\n</div>"
     },
     "execution_count": 3,
     "metadata": {},
     "output_type": "execute_result"
    }
   ],
   "source": [
    "rz_df"
   ],
   "metadata": {
    "collapsed": false,
    "ExecuteTime": {
     "end_time": "2024-06-14T14:41:44.864207500Z",
     "start_time": "2024-06-14T14:41:44.819545200Z"
    }
   },
   "id": "e55b5891688468ce"
  },
  {
   "cell_type": "code",
   "execution_count": 4,
   "outputs": [
    {
     "data": {
      "text/plain": "array(['рецензирование', 'другое', 'проверка статьи',\n       'готово к публикации', 'подача статьи', 'доработка', 'вопросы',\n       'отклонена'], dtype=object)"
     },
     "execution_count": 4,
     "metadata": {},
     "output_type": "execute_result"
    }
   ],
   "source": [
    "rz_df['category'].unique()"
   ],
   "metadata": {
    "collapsed": false,
    "ExecuteTime": {
     "end_time": "2024-06-14T14:41:48.805224600Z",
     "start_time": "2024-06-14T14:41:48.774553300Z"
    }
   },
   "id": "33ec7148150c5fbe"
  },
  {
   "cell_type": "code",
   "execution_count": 8,
   "outputs": [],
   "source": [
    "rz_count = rz_df.groupby('category')['text'].nunique()"
   ],
   "metadata": {
    "collapsed": false,
    "ExecuteTime": {
     "end_time": "2024-06-14T14:42:18.940055100Z",
     "start_time": "2024-06-14T14:42:18.894015200Z"
    }
   },
   "id": "647a3d21b9a1a59e"
  },
  {
   "cell_type": "code",
   "execution_count": 9,
   "outputs": [
    {
     "data": {
      "text/plain": "category\nвопросы                680\nготово к публикации    113\nдоработка              511\nдругое                 552\nотклонена               92\nподача статьи          641\nпроверка статьи        275\nрецензирование         487\nName: text, dtype: int64"
     },
     "execution_count": 9,
     "metadata": {},
     "output_type": "execute_result"
    }
   ],
   "source": [
    "# rz_count = rz_count.rename({'id':'count'})\n",
    "rz_count"
   ],
   "metadata": {
    "collapsed": false,
    "ExecuteTime": {
     "end_time": "2024-06-14T14:42:20.554827200Z",
     "start_time": "2024-06-14T14:42:20.511834800Z"
    }
   },
   "id": "dd7cda76982562f1"
  },
  {
   "cell_type": "code",
   "execution_count": 10,
   "outputs": [
    {
     "data": {
      "text/plain": "                                                   text             category\n0     Повторная отправка Рецензия Гаршиной.doc Добры...       рецензирование\n1          Re: Шаблон рецензии (новый)  Спасибо.Нечаев.               другое\n2     RE: статья Вестник САИТ Рецензия Рецензия Толс...       рецензирование\n3     RE: статья для рецензирования рецензия_на_Проб...       рецензирование\n4     RE: рецензия на статью Рецензия Толстоброва на...       рецензирование\n...                                                 ...                  ...\n3439  Доброе утро, ! Подготовленная авторами статья ...  готово к публикации\n3440  Дорогой! После внесения необходимых изменений ...  готово к публикации\n3441  Доброе утро, ! Мы рады сообщить, что статья пр...  готово к публикации\n3442  Дорогой! После удаления комментариев статья го...  готово к публикации\n3443  Доброе утро, ! Статья подготовлена к публикаци...  готово к публикации\n\n[3444 rows x 2 columns]",
      "text/html": "<div>\n<style scoped>\n    .dataframe tbody tr th:only-of-type {\n        vertical-align: middle;\n    }\n\n    .dataframe tbody tr th {\n        vertical-align: top;\n    }\n\n    .dataframe thead th {\n        text-align: right;\n    }\n</style>\n<table border=\"1\" class=\"dataframe\">\n  <thead>\n    <tr style=\"text-align: right;\">\n      <th></th>\n      <th>text</th>\n      <th>category</th>\n    </tr>\n  </thead>\n  <tbody>\n    <tr>\n      <th>0</th>\n      <td>Повторная отправка Рецензия Гаршиной.doc Добры...</td>\n      <td>рецензирование</td>\n    </tr>\n    <tr>\n      <th>1</th>\n      <td>Re: Шаблон рецензии (новый)  Спасибо.Нечаев.</td>\n      <td>другое</td>\n    </tr>\n    <tr>\n      <th>2</th>\n      <td>RE: статья Вестник САИТ Рецензия Рецензия Толс...</td>\n      <td>рецензирование</td>\n    </tr>\n    <tr>\n      <th>3</th>\n      <td>RE: статья для рецензирования рецензия_на_Проб...</td>\n      <td>рецензирование</td>\n    </tr>\n    <tr>\n      <th>4</th>\n      <td>RE: рецензия на статью Рецензия Толстоброва на...</td>\n      <td>рецензирование</td>\n    </tr>\n    <tr>\n      <th>...</th>\n      <td>...</td>\n      <td>...</td>\n    </tr>\n    <tr>\n      <th>3439</th>\n      <td>Доброе утро, ! Подготовленная авторами статья ...</td>\n      <td>готово к публикации</td>\n    </tr>\n    <tr>\n      <th>3440</th>\n      <td>Дорогой! После внесения необходимых изменений ...</td>\n      <td>готово к публикации</td>\n    </tr>\n    <tr>\n      <th>3441</th>\n      <td>Доброе утро, ! Мы рады сообщить, что статья пр...</td>\n      <td>готово к публикации</td>\n    </tr>\n    <tr>\n      <th>3442</th>\n      <td>Дорогой! После удаления комментариев статья го...</td>\n      <td>готово к публикации</td>\n    </tr>\n    <tr>\n      <th>3443</th>\n      <td>Доброе утро, ! Статья подготовлена к публикаци...</td>\n      <td>готово к публикации</td>\n    </tr>\n  </tbody>\n</table>\n<p>3444 rows × 2 columns</p>\n</div>"
     },
     "execution_count": 10,
     "metadata": {},
     "output_type": "execute_result"
    }
   ],
   "source": [
    "new_categ = rz_df.copy()\n",
    "new_categ"
   ],
   "metadata": {
    "collapsed": false,
    "ExecuteTime": {
     "end_time": "2024-06-14T14:42:25.154421600Z",
     "start_time": "2024-06-14T14:42:25.141776400Z"
    }
   },
   "id": "7a2a0e9c0c044d81"
  },
  {
   "cell_type": "code",
   "execution_count": 26,
   "outputs": [],
   "source": [
    "new_categ.to_csv('files/new_categ.csv', index=False)"
   ],
   "metadata": {
    "collapsed": false,
    "ExecuteTime": {
     "end_time": "2024-05-27T00:11:03.204038300Z",
     "start_time": "2024-05-27T00:11:03.155259100Z"
    }
   },
   "id": "f19e944ded507107"
  },
  {
   "cell_type": "code",
   "execution_count": 12,
   "outputs": [],
   "source": [
    "df = pd.read_csv('files/14_translated2_source.csv')"
   ],
   "metadata": {
    "collapsed": false,
    "ExecuteTime": {
     "end_time": "2024-06-14T14:42:35.055218100Z",
     "start_time": "2024-06-14T14:42:34.946855200Z"
    }
   },
   "id": "280f8ab8d6069847"
  },
  {
   "cell_type": "code",
   "execution_count": 14,
   "outputs": [],
   "source": [
    "count = df.groupby('category')['text'].nunique().reset_index(name='count')"
   ],
   "metadata": {
    "collapsed": false,
    "ExecuteTime": {
     "end_time": "2024-06-14T14:42:40.496007200Z",
     "start_time": "2024-06-14T14:42:40.448296100Z"
    }
   },
   "id": "78e5f0ad6f10f0dd"
  },
  {
   "cell_type": "code",
   "execution_count": 15,
   "outputs": [
    {
     "data": {
      "text/plain": "              category  count\n4            отклонена     92\n1  готово к публикации    113\n6      проверка статьи    275\n7       рецензирование    487\n2            доработка    511\n3               другое    552\n5        подача статьи    641\n0              вопросы    680",
      "text/html": "<div>\n<style scoped>\n    .dataframe tbody tr th:only-of-type {\n        vertical-align: middle;\n    }\n\n    .dataframe tbody tr th {\n        vertical-align: top;\n    }\n\n    .dataframe thead th {\n        text-align: right;\n    }\n</style>\n<table border=\"1\" class=\"dataframe\">\n  <thead>\n    <tr style=\"text-align: right;\">\n      <th></th>\n      <th>category</th>\n      <th>count</th>\n    </tr>\n  </thead>\n  <tbody>\n    <tr>\n      <th>4</th>\n      <td>отклонена</td>\n      <td>92</td>\n    </tr>\n    <tr>\n      <th>1</th>\n      <td>готово к публикации</td>\n      <td>113</td>\n    </tr>\n    <tr>\n      <th>6</th>\n      <td>проверка статьи</td>\n      <td>275</td>\n    </tr>\n    <tr>\n      <th>7</th>\n      <td>рецензирование</td>\n      <td>487</td>\n    </tr>\n    <tr>\n      <th>2</th>\n      <td>доработка</td>\n      <td>511</td>\n    </tr>\n    <tr>\n      <th>3</th>\n      <td>другое</td>\n      <td>552</td>\n    </tr>\n    <tr>\n      <th>5</th>\n      <td>подача статьи</td>\n      <td>641</td>\n    </tr>\n    <tr>\n      <th>0</th>\n      <td>вопросы</td>\n      <td>680</td>\n    </tr>\n  </tbody>\n</table>\n</div>"
     },
     "execution_count": 15,
     "metadata": {},
     "output_type": "execute_result"
    }
   ],
   "source": [
    "count = count.sort_values('count')\n",
    "count"
   ],
   "metadata": {
    "collapsed": false,
    "ExecuteTime": {
     "end_time": "2024-06-14T14:42:41.584549700Z",
     "start_time": "2024-06-14T14:42:41.555587300Z"
    }
   },
   "id": "4f599ca7f245bddd"
  },
  {
   "cell_type": "code",
   "execution_count": 16,
   "outputs": [
    {
     "data": {
      "text/plain": "Text(0.5, 1.0, 'Histogram ')"
     },
     "execution_count": 16,
     "metadata": {},
     "output_type": "execute_result"
    },
    {
     "data": {
      "text/plain": "<Figure size 640x480 with 1 Axes>",
      "image/png": "[encoded data removed]"
     },
     "metadata": {},
     "output_type": "display_data"
    }
   ],
   "source": [
    "# Import the libraries\n",
    "import matplotlib.pyplot as plt\n",
    "\n",
    "\n",
    "\n",
    "plt.barh(count['category'], count['count'])\n",
    "plt.title('Histogram ')\n",
    "# plt.xlabel('category')\n",
    "# plt.ylabel('count')"
   ],
   "metadata": {
    "collapsed": false,
    "ExecuteTime": {
     "end_time": "2024-06-14T14:42:44.312286800Z",
     "start_time": "2024-06-14T14:42:44.068062600Z"
    }
   },
   "id": "89ceeb5ca6ec2423"
  },
  {
   "cell_type": "code",
   "execution_count": 1,
   "outputs": [],
   "source": [
    "from transliterate import translit, get_available_language_codes"
   ],
   "metadata": {
    "collapsed": false,
    "ExecuteTime": {
     "end_time": "2024-06-06T19:57:55.301822500Z",
     "start_time": "2024-06-06T19:57:55.251808300Z"
    }
   },
   "id": "972a74f1d0795a57"
  },
  {
   "cell_type": "code",
   "execution_count": 7,
   "outputs": [],
   "source": [
    "category = 'Готово к публикации'"
   ],
   "metadata": {
    "collapsed": false,
    "ExecuteTime": {
     "end_time": "2024-06-06T19:59:58.458985900Z",
     "start_time": "2024-06-06T19:59:58.427680200Z"
    }
   },
   "id": "ae4d419c74f75d4"
  },
  {
   "cell_type": "code",
   "execution_count": 8,
   "outputs": [
    {
     "data": {
      "text/plain": "'Gotovo_k_publikatsii'"
     },
     "execution_count": 8,
     "metadata": {},
     "output_type": "execute_result"
    }
   ],
   "source": [
    "flag = translit(category, 'ru', reversed=True)\n",
    "flag = '_'.join(flag.split())\n",
    "flag"
   ],
   "metadata": {
    "collapsed": false,
    "ExecuteTime": {
     "end_time": "2024-06-06T20:00:01.321716100Z",
     "start_time": "2024-06-06T20:00:01.306088900Z"
    }
   },
   "id": "7f002df3098fd80"
  },
  {
   "cell_type": "code",
   "execution_count": null,
   "outputs": [],
   "source": [],
   "metadata": {
    "collapsed": false
   },
   "id": "6ed8b8113d3ad3c5"
  }
 ],
 "metadata": {
  "kernelspec": {
   "display_name": "Python 3",
   "language": "python",
   "name": "python3"
  },
  "language_info": {
   "codemirror_mode": {
    "name": "ipython",
    "version": 2
   },
   "file_extension": ".py",
   "mimetype": "text/x-python",
   "name": "python",
   "nbconvert_exporter": "python",
   "pygments_lexer": "ipython2",
   "version": "2.7.6"
  }
 },
 "nbformat": 4,
 "nbformat_minor": 5
}
