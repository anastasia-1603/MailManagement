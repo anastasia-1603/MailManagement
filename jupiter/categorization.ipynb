{
 "cells": [
  {
   "cell_type": "code",
   "execution_count": 1,
   "outputs": [],
   "source": [
    "import pandas as pd"
   ],
   "metadata": {
    "collapsed": false,
    "ExecuteTime": {
     "end_time": "2024-05-30T22:56:12.837985800Z",
     "start_time": "2024-05-30T22:56:12.824319Z"
    }
   },
   "id": "ed5c2435dce12598"
  },
  {
   "cell_type": "code",
   "execution_count": 19,
   "outputs": [],
   "source": [
    "rz_df = pd.read_csv('files/razmetka2.csv', encoding='windows-1251', delimiter=';')"
   ],
   "metadata": {
    "collapsed": false,
    "ExecuteTime": {
     "end_time": "2024-05-27T00:10:06.818488100Z",
     "start_time": "2024-05-27T00:10:06.775576600Z"
    }
   },
   "id": "787b84e26356cfbf"
  },
  {
   "cell_type": "code",
   "execution_count": 20,
   "outputs": [
    {
     "data": {
      "text/plain": "       id                                               text  \\\n0      82  Добрый вечер! \\nОтсылаю материалы рецензии на ...   \n1      83                                    Спасибо.Нечаев.   \n2      90  Добрый день! \\nПосылаю рецензию \\nС уважением,...   \n3      98  Доброе время суток, Вероника Викторовна! \\nВыс...   \n4      92  Добрый день! \\nПосылаю рецензию \\nС уважением,...   \n..    ...                                                ...   \n820  1065  Высылаю рецензию на материал А.М. Сагдатуллина...   \n821  1068  Здравствуйте ! \\nМою отправлен нучную статью с...   \n822  1069  Здравствуйте.\\nСчитаю, что статья может быть о...   \n823  1066  Добрый день, Виктория Викторовна! \\nЮристы оче...   \n824   658  Привет друг,\\nЭто Sasa из Тяньцзиня Semri Bear...   \n\n                                         subject  \\\n0                             Повторная отправка   \n1                    Re: Шаблон рецензии (новый)   \n2               RE: статья Вестник САИТ Рецензия   \n3                  RE: статья для рецензирования   \n4                         RE: рецензия на статью   \n..                                           ...   \n820                       Re: статья на рецензию   \n821                                       статья   \n822  Re: Королев= ответы на замечания рецензента   \n823                   Re: Конденсированные среды   \n824               Привет, ты получил сообщение.    \n\n                                   attachment_filename        category  \n0                                Рецензия Гаршиной.doc  рецензирование  \n1                                                  NaN          другое  \n2    Рецензия Толстоброва на статью А.С. Платонова....  рецензирование  \n3       рецензия_на_Проблема защита_пользователей.docx  рецензирование  \n4    Рецензия Толстоброва на статью Черненькая-Маге...  рецензирование  \n..                                                 ...             ...  \n820                Рецензии Сагдатуллина А_М_САИТ.docx  рецензирование  \n821                    Рис1.docx,Рис2.docx,Статья .doc         вопросы  \n822  Ответ после повторного рецензирования.pdf,Реце...  рецензирование  \n823                                                NaN          другое  \n824                                          ????3.jpg          другое  \n\n[825 rows x 5 columns]",
      "text/html": "<div>\n<style scoped>\n    .dataframe tbody tr th:only-of-type {\n        vertical-align: middle;\n    }\n\n    .dataframe tbody tr th {\n        vertical-align: top;\n    }\n\n    .dataframe thead th {\n        text-align: right;\n    }\n</style>\n<table border=\"1\" class=\"dataframe\">\n  <thead>\n    <tr style=\"text-align: right;\">\n      <th></th>\n      <th>id</th>\n      <th>text</th>\n      <th>subject</th>\n      <th>attachment_filename</th>\n      <th>category</th>\n    </tr>\n  </thead>\n  <tbody>\n    <tr>\n      <th>0</th>\n      <td>82</td>\n      <td>Добрый вечер! \\nОтсылаю материалы рецензии на ...</td>\n      <td>Повторная отправка</td>\n      <td>Рецензия Гаршиной.doc</td>\n      <td>рецензирование</td>\n    </tr>\n    <tr>\n      <th>1</th>\n      <td>83</td>\n      <td>Спасибо.Нечаев.</td>\n      <td>Re: Шаблон рецензии (новый)</td>\n      <td>NaN</td>\n      <td>другое</td>\n    </tr>\n    <tr>\n      <th>2</th>\n      <td>90</td>\n      <td>Добрый день! \\nПосылаю рецензию \\nС уважением,...</td>\n      <td>RE: статья Вестник САИТ Рецензия</td>\n      <td>Рецензия Толстоброва на статью А.С. Платонова....</td>\n      <td>рецензирование</td>\n    </tr>\n    <tr>\n      <th>3</th>\n      <td>98</td>\n      <td>Доброе время суток, Вероника Викторовна! \\nВыс...</td>\n      <td>RE: статья для рецензирования</td>\n      <td>рецензия_на_Проблема защита_пользователей.docx</td>\n      <td>рецензирование</td>\n    </tr>\n    <tr>\n      <th>4</th>\n      <td>92</td>\n      <td>Добрый день! \\nПосылаю рецензию \\nС уважением,...</td>\n      <td>RE: рецензия на статью</td>\n      <td>Рецензия Толстоброва на статью Черненькая-Маге...</td>\n      <td>рецензирование</td>\n    </tr>\n    <tr>\n      <th>...</th>\n      <td>...</td>\n      <td>...</td>\n      <td>...</td>\n      <td>...</td>\n      <td>...</td>\n    </tr>\n    <tr>\n      <th>820</th>\n      <td>1065</td>\n      <td>Высылаю рецензию на материал А.М. Сагдатуллина...</td>\n      <td>Re: статья на рецензию</td>\n      <td>Рецензии Сагдатуллина А_М_САИТ.docx</td>\n      <td>рецензирование</td>\n    </tr>\n    <tr>\n      <th>821</th>\n      <td>1068</td>\n      <td>Здравствуйте ! \\nМою отправлен нучную статью с...</td>\n      <td>статья</td>\n      <td>Рис1.docx,Рис2.docx,Статья .doc</td>\n      <td>вопросы</td>\n    </tr>\n    <tr>\n      <th>822</th>\n      <td>1069</td>\n      <td>Здравствуйте.\\nСчитаю, что статья может быть о...</td>\n      <td>Re: Королев= ответы на замечания рецензента</td>\n      <td>Ответ после повторного рецензирования.pdf,Реце...</td>\n      <td>рецензирование</td>\n    </tr>\n    <tr>\n      <th>823</th>\n      <td>1066</td>\n      <td>Добрый день, Виктория Викторовна! \\nЮристы оче...</td>\n      <td>Re: Конденсированные среды</td>\n      <td>NaN</td>\n      <td>другое</td>\n    </tr>\n    <tr>\n      <th>824</th>\n      <td>658</td>\n      <td>Привет друг,\\nЭто Sasa из Тяньцзиня Semri Bear...</td>\n      <td>Привет, ты получил сообщение.</td>\n      <td>????3.jpg</td>\n      <td>другое</td>\n    </tr>\n  </tbody>\n</table>\n<p>825 rows × 5 columns</p>\n</div>"
     },
     "execution_count": 20,
     "metadata": {},
     "output_type": "execute_result"
    }
   ],
   "source": [
    "rz_df"
   ],
   "metadata": {
    "collapsed": false,
    "ExecuteTime": {
     "end_time": "2024-05-27T00:10:09.259878800Z",
     "start_time": "2024-05-27T00:10:09.209958500Z"
    }
   },
   "id": "e55b5891688468ce"
  },
  {
   "cell_type": "code",
   "execution_count": 21,
   "outputs": [
    {
     "data": {
      "text/plain": "array(['рецензирование', 'другое', 'проверка статьи',\n       'готово к публикации', 'подача статьи', 'доработка', 'вопросы',\n       'отклонена'], dtype=object)"
     },
     "execution_count": 21,
     "metadata": {},
     "output_type": "execute_result"
    }
   ],
   "source": [
    "rz_df['category'].unique()"
   ],
   "metadata": {
    "collapsed": false,
    "ExecuteTime": {
     "end_time": "2024-05-27T00:10:15.349125600Z",
     "start_time": "2024-05-27T00:10:15.316872100Z"
    }
   },
   "id": "33ec7148150c5fbe"
  },
  {
   "cell_type": "code",
   "execution_count": 23,
   "outputs": [],
   "source": [
    "rz_count = rz_df.groupby('category')['id'].nunique()"
   ],
   "metadata": {
    "collapsed": false,
    "ExecuteTime": {
     "end_time": "2024-05-27T00:10:38.938916Z",
     "start_time": "2024-05-27T00:10:38.908003900Z"
    }
   },
   "id": "647a3d21b9a1a59e"
  },
  {
   "cell_type": "code",
   "execution_count": 24,
   "outputs": [
    {
     "data": {
      "text/plain": "category\nвопросы                174\nготово к публикации     17\nдоработка              128\nдругое                 140\nотклонена               12\nподача статьи          164\nпроверка статьи         69\nрецензирование         121\nName: id, dtype: int64"
     },
     "execution_count": 24,
     "metadata": {},
     "output_type": "execute_result"
    }
   ],
   "source": [
    "rz_count = rz_count.rename({'id':'count'})\n",
    "rz_count"
   ],
   "metadata": {
    "collapsed": false,
    "ExecuteTime": {
     "end_time": "2024-05-27T00:10:40.495734Z",
     "start_time": "2024-05-27T00:10:40.460179600Z"
    }
   },
   "id": "dd7cda76982562f1"
  },
  {
   "cell_type": "code",
   "execution_count": 25,
   "outputs": [
    {
     "data": {
      "text/plain": "       id                                               text  \\\n0      82  Добрый вечер! \\nОтсылаю материалы рецензии на ...   \n1      83                                    Спасибо.Нечаев.   \n2      90  Добрый день! \\nПосылаю рецензию \\nС уважением,...   \n3      98  Доброе время суток, Вероника Викторовна! \\nВыс...   \n4      92  Добрый день! \\nПосылаю рецензию \\nС уважением,...   \n..    ...                                                ...   \n820  1065  Высылаю рецензию на материал А.М. Сагдатуллина...   \n821  1068  Здравствуйте ! \\nМою отправлен нучную статью с...   \n822  1069  Здравствуйте.\\nСчитаю, что статья может быть о...   \n823  1066  Добрый день, Виктория Викторовна! \\nЮристы оче...   \n824   658  Привет друг,\\nЭто Sasa из Тяньцзиня Semri Bear...   \n\n                                         subject  \\\n0                             Повторная отправка   \n1                    Re: Шаблон рецензии (новый)   \n2               RE: статья Вестник САИТ Рецензия   \n3                  RE: статья для рецензирования   \n4                         RE: рецензия на статью   \n..                                           ...   \n820                       Re: статья на рецензию   \n821                                       статья   \n822  Re: Королев= ответы на замечания рецензента   \n823                   Re: Конденсированные среды   \n824               Привет, ты получил сообщение.    \n\n                                   attachment_filename        category  \n0                                Рецензия Гаршиной.doc  рецензирование  \n1                                                  NaN          другое  \n2    Рецензия Толстоброва на статью А.С. Платонова....  рецензирование  \n3       рецензия_на_Проблема защита_пользователей.docx  рецензирование  \n4    Рецензия Толстоброва на статью Черненькая-Маге...  рецензирование  \n..                                                 ...             ...  \n820                Рецензии Сагдатуллина А_М_САИТ.docx  рецензирование  \n821                    Рис1.docx,Рис2.docx,Статья .doc         вопросы  \n822  Ответ после повторного рецензирования.pdf,Реце...  рецензирование  \n823                                                NaN          другое  \n824                                          ????3.jpg          другое  \n\n[825 rows x 5 columns]",
      "text/html": "<div>\n<style scoped>\n    .dataframe tbody tr th:only-of-type {\n        vertical-align: middle;\n    }\n\n    .dataframe tbody tr th {\n        vertical-align: top;\n    }\n\n    .dataframe thead th {\n        text-align: right;\n    }\n</style>\n<table border=\"1\" class=\"dataframe\">\n  <thead>\n    <tr style=\"text-align: right;\">\n      <th></th>\n      <th>id</th>\n      <th>text</th>\n      <th>subject</th>\n      <th>attachment_filename</th>\n      <th>category</th>\n    </tr>\n  </thead>\n  <tbody>\n    <tr>\n      <th>0</th>\n      <td>82</td>\n      <td>Добрый вечер! \\nОтсылаю материалы рецензии на ...</td>\n      <td>Повторная отправка</td>\n      <td>Рецензия Гаршиной.doc</td>\n      <td>рецензирование</td>\n    </tr>\n    <tr>\n      <th>1</th>\n      <td>83</td>\n      <td>Спасибо.Нечаев.</td>\n      <td>Re: Шаблон рецензии (новый)</td>\n      <td>NaN</td>\n      <td>другое</td>\n    </tr>\n    <tr>\n      <th>2</th>\n      <td>90</td>\n      <td>Добрый день! \\nПосылаю рецензию \\nС уважением,...</td>\n      <td>RE: статья Вестник САИТ Рецензия</td>\n      <td>Рецензия Толстоброва на статью А.С. Платонова....</td>\n      <td>рецензирование</td>\n    </tr>\n    <tr>\n      <th>3</th>\n      <td>98</td>\n      <td>Доброе время суток, Вероника Викторовна! \\nВыс...</td>\n      <td>RE: статья для рецензирования</td>\n      <td>рецензия_на_Проблема защита_пользователей.docx</td>\n      <td>рецензирование</td>\n    </tr>\n    <tr>\n      <th>4</th>\n      <td>92</td>\n      <td>Добрый день! \\nПосылаю рецензию \\nС уважением,...</td>\n      <td>RE: рецензия на статью</td>\n      <td>Рецензия Толстоброва на статью Черненькая-Маге...</td>\n      <td>рецензирование</td>\n    </tr>\n    <tr>\n      <th>...</th>\n      <td>...</td>\n      <td>...</td>\n      <td>...</td>\n      <td>...</td>\n      <td>...</td>\n    </tr>\n    <tr>\n      <th>820</th>\n      <td>1065</td>\n      <td>Высылаю рецензию на материал А.М. Сагдатуллина...</td>\n      <td>Re: статья на рецензию</td>\n      <td>Рецензии Сагдатуллина А_М_САИТ.docx</td>\n      <td>рецензирование</td>\n    </tr>\n    <tr>\n      <th>821</th>\n      <td>1068</td>\n      <td>Здравствуйте ! \\nМою отправлен нучную статью с...</td>\n      <td>статья</td>\n      <td>Рис1.docx,Рис2.docx,Статья .doc</td>\n      <td>вопросы</td>\n    </tr>\n    <tr>\n      <th>822</th>\n      <td>1069</td>\n      <td>Здравствуйте.\\nСчитаю, что статья может быть о...</td>\n      <td>Re: Королев= ответы на замечания рецензента</td>\n      <td>Ответ после повторного рецензирования.pdf,Реце...</td>\n      <td>рецензирование</td>\n    </tr>\n    <tr>\n      <th>823</th>\n      <td>1066</td>\n      <td>Добрый день, Виктория Викторовна! \\nЮристы оче...</td>\n      <td>Re: Конденсированные среды</td>\n      <td>NaN</td>\n      <td>другое</td>\n    </tr>\n    <tr>\n      <th>824</th>\n      <td>658</td>\n      <td>Привет друг,\\nЭто Sasa из Тяньцзиня Semri Bear...</td>\n      <td>Привет, ты получил сообщение.</td>\n      <td>????3.jpg</td>\n      <td>другое</td>\n    </tr>\n  </tbody>\n</table>\n<p>825 rows × 5 columns</p>\n</div>"
     },
     "execution_count": 25,
     "metadata": {},
     "output_type": "execute_result"
    }
   ],
   "source": [
    "new_categ = rz_df.copy()\n",
    "new_categ"
   ],
   "metadata": {
    "collapsed": false,
    "ExecuteTime": {
     "end_time": "2024-05-27T00:10:59.813973700Z",
     "start_time": "2024-05-27T00:10:59.784398800Z"
    }
   },
   "id": "7a2a0e9c0c044d81"
  },
  {
   "cell_type": "code",
   "execution_count": 26,
   "outputs": [],
   "source": [
    "new_categ.to_csv('files/new_categ.csv', index=False)"
   ],
   "metadata": {
    "collapsed": false,
    "ExecuteTime": {
     "end_time": "2024-05-27T00:11:03.204038300Z",
     "start_time": "2024-05-27T00:11:03.155259100Z"
    }
   },
   "id": "f19e944ded507107"
  },
  {
   "cell_type": "code",
   "execution_count": 2,
   "outputs": [],
   "source": [
    "df = pd.read_csv('files/9_texts_lemmatized.csv')"
   ],
   "metadata": {
    "collapsed": false,
    "ExecuteTime": {
     "end_time": "2024-05-30T22:56:45.373246900Z",
     "start_time": "2024-05-30T22:56:45.326706400Z"
    }
   },
   "id": "280f8ab8d6069847"
  },
  {
   "cell_type": "code",
   "execution_count": 23,
   "outputs": [],
   "source": [
    "count = df.groupby('category')['text'].nunique().reset_index(name='count')"
   ],
   "metadata": {
    "collapsed": false,
    "ExecuteTime": {
     "end_time": "2024-05-30T23:16:17.660181900Z",
     "start_time": "2024-05-30T23:16:17.627956500Z"
    }
   },
   "id": "78e5f0ad6f10f0dd"
  },
  {
   "cell_type": "code",
   "execution_count": 35,
   "outputs": [
    {
     "data": {
      "text/plain": "              category  count\n4            отклонена     12\n1  готово к публикации     17\n6      проверка статьи     69\n7       рецензирование    120\n2            доработка    128\n3               другое    137\n5        подача статьи    164\n0              вопросы    167",
      "text/html": "<div>\n<style scoped>\n    .dataframe tbody tr th:only-of-type {\n        vertical-align: middle;\n    }\n\n    .dataframe tbody tr th {\n        vertical-align: top;\n    }\n\n    .dataframe thead th {\n        text-align: right;\n    }\n</style>\n<table border=\"1\" class=\"dataframe\">\n  <thead>\n    <tr style=\"text-align: right;\">\n      <th></th>\n      <th>category</th>\n      <th>count</th>\n    </tr>\n  </thead>\n  <tbody>\n    <tr>\n      <th>4</th>\n      <td>отклонена</td>\n      <td>12</td>\n    </tr>\n    <tr>\n      <th>1</th>\n      <td>готово к публикации</td>\n      <td>17</td>\n    </tr>\n    <tr>\n      <th>6</th>\n      <td>проверка статьи</td>\n      <td>69</td>\n    </tr>\n    <tr>\n      <th>7</th>\n      <td>рецензирование</td>\n      <td>120</td>\n    </tr>\n    <tr>\n      <th>2</th>\n      <td>доработка</td>\n      <td>128</td>\n    </tr>\n    <tr>\n      <th>3</th>\n      <td>другое</td>\n      <td>137</td>\n    </tr>\n    <tr>\n      <th>5</th>\n      <td>подача статьи</td>\n      <td>164</td>\n    </tr>\n    <tr>\n      <th>0</th>\n      <td>вопросы</td>\n      <td>167</td>\n    </tr>\n  </tbody>\n</table>\n</div>"
     },
     "execution_count": 35,
     "metadata": {},
     "output_type": "execute_result"
    }
   ],
   "source": [
    "count = count.sort_values('count')\n",
    "count"
   ],
   "metadata": {
    "collapsed": false,
    "ExecuteTime": {
     "end_time": "2024-05-30T23:19:52.471840800Z",
     "start_time": "2024-05-30T23:19:52.442686600Z"
    }
   },
   "id": "4f599ca7f245bddd"
  },
  {
   "cell_type": "code",
   "execution_count": 41,
   "outputs": [
    {
     "data": {
      "text/plain": "Text(0.5, 1.0, 'Histogram ')"
     },
     "execution_count": 41,
     "metadata": {},
     "output_type": "execute_result"
    },
    {
     "data": {
      "text/plain": "<Figure size 640x480 with 1 Axes>",
      "image/png": "[encoded data removed]"
     },
     "metadata": {},
     "output_type": "display_data"
    }
   ],
   "source": [
    "# Import the libraries\n",
    "import matplotlib.pyplot as plt\n",
    "\n",
    "\n",
    "\n",
    "plt.barh(count['category'], count['count'])\n",
    "plt.title('Histogram ')\n",
    "# plt.xlabel('category')\n",
    "# plt.ylabel('count')"
   ],
   "metadata": {
    "collapsed": false,
    "ExecuteTime": {
     "end_time": "2024-05-30T23:22:26.414128800Z",
     "start_time": "2024-05-30T23:22:26.204209100Z"
    }
   },
   "id": "89ceeb5ca6ec2423"
  }
 ],
 "metadata": {
  "kernelspec": {
   "display_name": "Python 3",
   "language": "python",
   "name": "python3"
  },
  "language_info": {
   "codemirror_mode": {
    "name": "ipython",
    "version": 2
   },
   "file_extension": ".py",
   "mimetype": "text/x-python",
   "name": "python",
   "nbconvert_exporter": "python",
   "pygments_lexer": "ipython2",
   "version": "2.7.6"
  }
 },
 "nbformat": 4,
 "nbformat_minor": 5
}
