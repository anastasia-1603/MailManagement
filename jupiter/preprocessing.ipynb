{
 "cells": [
  {
   "cell_type": "markdown",
   "source": [
    "Исходные данные"
   ],
   "metadata": {
    "collapsed": false
   },
   "id": "e33d5f8f1d5f9050"
  },
  {
   "cell_type": "markdown",
   "source": [
    "из mails_to_csv"
   ],
   "metadata": {
    "collapsed": false
   },
   "id": "abfd29c4843d48d5"
  },
  {
   "cell_type": "code",
   "execution_count": 9,
   "outputs": [],
   "source": [
    "import re\n",
    "import pandas as pd\n",
    "import string"
   ],
   "metadata": {
    "collapsed": false,
    "ExecuteTime": {
     "end_time": "2024-05-30T09:58:46.464041900Z",
     "start_time": "2024-05-30T09:58:46.435476800Z"
    }
   },
   "id": "initial_id"
  },
  {
   "cell_type": "code",
   "execution_count": 39,
   "outputs": [
    {
     "data": {
      "text/plain": "       id                                               text  \\\n0      82  Добрый вечер! \\nОтсылаю материалы рецензии на ...   \n1      83                                    Спасибо.Нечаев.   \n2      90  Добрый день! \\nПосылаю рецензию \\nС уважением,...   \n3      98  Доброе время суток, Вероника Викторовна! \\nВыс...   \n4      92  Добрый день! \\nПосылаю рецензию \\nС уважением,...   \n..    ...                                                ...   \n820  1065  Высылаю рецензию на материал А.М. Сагдатуллина...   \n821  1068  Здравствуйте ! \\nМою отправлен нучную статью с...   \n822  1069  Здравствуйте.\\nСчитаю, что статья может быть о...   \n823  1066  Добрый день, Виктория Викторовна! \\nЮристы оче...   \n824   658  Привет друг,\\nЭто Sasa из Тяньцзиня Semri Bear...   \n\n                                         subject  \\\n0                             Повторная отправка   \n1                    Re: Шаблон рецензии (новый)   \n2               RE: статья Вестник САИТ Рецензия   \n3                  RE: статья для рецензирования   \n4                         RE: рецензия на статью   \n..                                           ...   \n820                       Re: статья на рецензию   \n821                                       статья   \n822  Re: Королев= ответы на замечания рецензента   \n823                   Re: Конденсированные среды   \n824               Привет, ты получил сообщение.    \n\n                                   attachment_filename        category  \n0                                Рецензия Гаршиной.doc  рецензирование  \n1                                                  NaN          другое  \n2    Рецензия Толстоброва на статью А.С. Платонова....  рецензирование  \n3       рецензия_на_Проблема защита_пользователей.docx  рецензирование  \n4    Рецензия Толстоброва на статью Черненькая-Маге...  рецензирование  \n..                                                 ...             ...  \n820                Рецензии Сагдатуллина А_М_САИТ.docx  рецензирование  \n821                    Рис1.docx,Рис2.docx,Статья .doc         вопросы  \n822  Ответ после повторного рецензирования.pdf,Реце...  рецензирование  \n823                                                NaN          другое  \n824                                          ????3.jpg          другое  \n\n[825 rows x 5 columns]",
      "text/html": "<div>\n<style scoped>\n    .dataframe tbody tr th:only-of-type {\n        vertical-align: middle;\n    }\n\n    .dataframe tbody tr th {\n        vertical-align: top;\n    }\n\n    .dataframe thead th {\n        text-align: right;\n    }\n</style>\n<table border=\"1\" class=\"dataframe\">\n  <thead>\n    <tr style=\"text-align: right;\">\n      <th></th>\n      <th>id</th>\n      <th>text</th>\n      <th>subject</th>\n      <th>attachment_filename</th>\n      <th>category</th>\n    </tr>\n  </thead>\n  <tbody>\n    <tr>\n      <th>0</th>\n      <td>82</td>\n      <td>Добрый вечер! \\nОтсылаю материалы рецензии на ...</td>\n      <td>Повторная отправка</td>\n      <td>Рецензия Гаршиной.doc</td>\n      <td>рецензирование</td>\n    </tr>\n    <tr>\n      <th>1</th>\n      <td>83</td>\n      <td>Спасибо.Нечаев.</td>\n      <td>Re: Шаблон рецензии (новый)</td>\n      <td>NaN</td>\n      <td>другое</td>\n    </tr>\n    <tr>\n      <th>2</th>\n      <td>90</td>\n      <td>Добрый день! \\nПосылаю рецензию \\nС уважением,...</td>\n      <td>RE: статья Вестник САИТ Рецензия</td>\n      <td>Рецензия Толстоброва на статью А.С. Платонова....</td>\n      <td>рецензирование</td>\n    </tr>\n    <tr>\n      <th>3</th>\n      <td>98</td>\n      <td>Доброе время суток, Вероника Викторовна! \\nВыс...</td>\n      <td>RE: статья для рецензирования</td>\n      <td>рецензия_на_Проблема защита_пользователей.docx</td>\n      <td>рецензирование</td>\n    </tr>\n    <tr>\n      <th>4</th>\n      <td>92</td>\n      <td>Добрый день! \\nПосылаю рецензию \\nС уважением,...</td>\n      <td>RE: рецензия на статью</td>\n      <td>Рецензия Толстоброва на статью Черненькая-Маге...</td>\n      <td>рецензирование</td>\n    </tr>\n    <tr>\n      <th>...</th>\n      <td>...</td>\n      <td>...</td>\n      <td>...</td>\n      <td>...</td>\n      <td>...</td>\n    </tr>\n    <tr>\n      <th>820</th>\n      <td>1065</td>\n      <td>Высылаю рецензию на материал А.М. Сагдатуллина...</td>\n      <td>Re: статья на рецензию</td>\n      <td>Рецензии Сагдатуллина А_М_САИТ.docx</td>\n      <td>рецензирование</td>\n    </tr>\n    <tr>\n      <th>821</th>\n      <td>1068</td>\n      <td>Здравствуйте ! \\nМою отправлен нучную статью с...</td>\n      <td>статья</td>\n      <td>Рис1.docx,Рис2.docx,Статья .doc</td>\n      <td>вопросы</td>\n    </tr>\n    <tr>\n      <th>822</th>\n      <td>1069</td>\n      <td>Здравствуйте.\\nСчитаю, что статья может быть о...</td>\n      <td>Re: Королев= ответы на замечания рецензента</td>\n      <td>Ответ после повторного рецензирования.pdf,Реце...</td>\n      <td>рецензирование</td>\n    </tr>\n    <tr>\n      <th>823</th>\n      <td>1066</td>\n      <td>Добрый день, Виктория Викторовна! \\nЮристы оче...</td>\n      <td>Re: Конденсированные среды</td>\n      <td>NaN</td>\n      <td>другое</td>\n    </tr>\n    <tr>\n      <th>824</th>\n      <td>658</td>\n      <td>Привет друг,\\nЭто Sasa из Тяньцзиня Semri Bear...</td>\n      <td>Привет, ты получил сообщение.</td>\n      <td>????3.jpg</td>\n      <td>другое</td>\n    </tr>\n  </tbody>\n</table>\n<p>825 rows × 5 columns</p>\n</div>"
     },
     "execution_count": 39,
     "metadata": {},
     "output_type": "execute_result"
    }
   ],
   "source": [
    "df = pd.read_csv('files/new_categ.csv')\n",
    "df"
   ],
   "metadata": {
    "collapsed": false,
    "ExecuteTime": {
     "end_time": "2024-05-30T10:27:37.426677800Z",
     "start_time": "2024-05-30T10:27:37.368927600Z"
    }
   },
   "id": "e4c4690f06333f49"
  },
  {
   "cell_type": "code",
   "execution_count": 40,
   "outputs": [
    {
     "data": {
      "text/plain": "       id                                               text  \\\n0      82  Добрый вечер! \\nОтсылаю материалы рецензии на ...   \n1      83                                    Спасибо.Нечаев.   \n2      90  Добрый день! \\nПосылаю рецензию \\nС уважением,...   \n3      98  Доброе время суток, Вероника Викторовна! \\nВыс...   \n4      92  Добрый день! \\nПосылаю рецензию \\nС уважением,...   \n..    ...                                                ...   \n820  1065  Высылаю рецензию на материал А.М. Сагдатуллина...   \n821  1068  Здравствуйте ! \\nМою отправлен нучную статью с...   \n822  1069  Здравствуйте.\\nСчитаю, что статья может быть о...   \n823  1066  Добрый день, Виктория Викторовна! \\nЮристы оче...   \n824   658  Привет друг,\\nЭто Sasa из Тяньцзиня Semri Bear...   \n\n                                         subject  \\\n0                             Повторная отправка   \n1                    Re: Шаблон рецензии (новый)   \n2               RE: статья Вестник САИТ Рецензия   \n3                  RE: статья для рецензирования   \n4                         RE: рецензия на статью   \n..                                           ...   \n820                       Re: статья на рецензию   \n821                                       статья   \n822  Re: Королев= ответы на замечания рецензента   \n823                   Re: Конденсированные среды   \n824               Привет, ты получил сообщение.    \n\n                                   attachment_filename        category  \n0                                Рецензия Гаршиной.doc  рецензирование  \n1                                                               другое  \n2    Рецензия Толстоброва на статью А.С. Платонова....  рецензирование  \n3       рецензия_на_Проблема защита_пользователей.docx  рецензирование  \n4    Рецензия Толстоброва на статью Черненькая-Маге...  рецензирование  \n..                                                 ...             ...  \n820                Рецензии Сагдатуллина А_М_САИТ.docx  рецензирование  \n821                    Рис1.docx,Рис2.docx,Статья .doc         вопросы  \n822  Ответ после повторного рецензирования.pdf,Реце...  рецензирование  \n823                                                             другое  \n824                                          ????3.jpg          другое  \n\n[825 rows x 5 columns]",
      "text/html": "<div>\n<style scoped>\n    .dataframe tbody tr th:only-of-type {\n        vertical-align: middle;\n    }\n\n    .dataframe tbody tr th {\n        vertical-align: top;\n    }\n\n    .dataframe thead th {\n        text-align: right;\n    }\n</style>\n<table border=\"1\" class=\"dataframe\">\n  <thead>\n    <tr style=\"text-align: right;\">\n      <th></th>\n      <th>id</th>\n      <th>text</th>\n      <th>subject</th>\n      <th>attachment_filename</th>\n      <th>category</th>\n    </tr>\n  </thead>\n  <tbody>\n    <tr>\n      <th>0</th>\n      <td>82</td>\n      <td>Добрый вечер! \\nОтсылаю материалы рецензии на ...</td>\n      <td>Повторная отправка</td>\n      <td>Рецензия Гаршиной.doc</td>\n      <td>рецензирование</td>\n    </tr>\n    <tr>\n      <th>1</th>\n      <td>83</td>\n      <td>Спасибо.Нечаев.</td>\n      <td>Re: Шаблон рецензии (новый)</td>\n      <td></td>\n      <td>другое</td>\n    </tr>\n    <tr>\n      <th>2</th>\n      <td>90</td>\n      <td>Добрый день! \\nПосылаю рецензию \\nС уважением,...</td>\n      <td>RE: статья Вестник САИТ Рецензия</td>\n      <td>Рецензия Толстоброва на статью А.С. Платонова....</td>\n      <td>рецензирование</td>\n    </tr>\n    <tr>\n      <th>3</th>\n      <td>98</td>\n      <td>Доброе время суток, Вероника Викторовна! \\nВыс...</td>\n      <td>RE: статья для рецензирования</td>\n      <td>рецензия_на_Проблема защита_пользователей.docx</td>\n      <td>рецензирование</td>\n    </tr>\n    <tr>\n      <th>4</th>\n      <td>92</td>\n      <td>Добрый день! \\nПосылаю рецензию \\nС уважением,...</td>\n      <td>RE: рецензия на статью</td>\n      <td>Рецензия Толстоброва на статью Черненькая-Маге...</td>\n      <td>рецензирование</td>\n    </tr>\n    <tr>\n      <th>...</th>\n      <td>...</td>\n      <td>...</td>\n      <td>...</td>\n      <td>...</td>\n      <td>...</td>\n    </tr>\n    <tr>\n      <th>820</th>\n      <td>1065</td>\n      <td>Высылаю рецензию на материал А.М. Сагдатуллина...</td>\n      <td>Re: статья на рецензию</td>\n      <td>Рецензии Сагдатуллина А_М_САИТ.docx</td>\n      <td>рецензирование</td>\n    </tr>\n    <tr>\n      <th>821</th>\n      <td>1068</td>\n      <td>Здравствуйте ! \\nМою отправлен нучную статью с...</td>\n      <td>статья</td>\n      <td>Рис1.docx,Рис2.docx,Статья .doc</td>\n      <td>вопросы</td>\n    </tr>\n    <tr>\n      <th>822</th>\n      <td>1069</td>\n      <td>Здравствуйте.\\nСчитаю, что статья может быть о...</td>\n      <td>Re: Королев= ответы на замечания рецензента</td>\n      <td>Ответ после повторного рецензирования.pdf,Реце...</td>\n      <td>рецензирование</td>\n    </tr>\n    <tr>\n      <th>823</th>\n      <td>1066</td>\n      <td>Добрый день, Виктория Викторовна! \\nЮристы оче...</td>\n      <td>Re: Конденсированные среды</td>\n      <td></td>\n      <td>другое</td>\n    </tr>\n    <tr>\n      <th>824</th>\n      <td>658</td>\n      <td>Привет друг,\\nЭто Sasa из Тяньцзиня Semri Bear...</td>\n      <td>Привет, ты получил сообщение.</td>\n      <td>????3.jpg</td>\n      <td>другое</td>\n    </tr>\n  </tbody>\n</table>\n<p>825 rows × 5 columns</p>\n</div>"
     },
     "execution_count": 40,
     "metadata": {},
     "output_type": "execute_result"
    }
   ],
   "source": [
    "df = df.fillna('')\n",
    "df"
   ],
   "metadata": {
    "collapsed": false,
    "ExecuteTime": {
     "end_time": "2024-05-30T10:27:40.029180300Z",
     "start_time": "2024-05-30T10:27:40.012491600Z"
    }
   },
   "id": "6f99e7067e71b42"
  },
  {
   "cell_type": "code",
   "execution_count": 41,
   "outputs": [],
   "source": [
    "df['text'] = df['subject'] + ' ' + df['attachment_filename'] + ' ' + df['text']"
   ],
   "metadata": {
    "collapsed": false,
    "ExecuteTime": {
     "end_time": "2024-05-30T10:27:42.329057100Z",
     "start_time": "2024-05-30T10:27:42.315030400Z"
    }
   },
   "id": "38c56b04c95c226d"
  },
  {
   "cell_type": "code",
   "execution_count": 42,
   "outputs": [],
   "source": [
    "df.drop(['id', 'subject','attachment_filename', 'date', 'attachment_content_type', 'from', 'headers'], axis=1, inplace=True, errors='ignore')"
   ],
   "metadata": {
    "collapsed": false,
    "ExecuteTime": {
     "end_time": "2024-05-30T10:27:44.966745300Z",
     "start_time": "2024-05-30T10:27:44.947992200Z"
    }
   },
   "id": "2d95f24638598c3"
  },
  {
   "cell_type": "code",
   "execution_count": 43,
   "outputs": [
    {
     "data": {
      "text/plain": "                                                  text        category\n0    Повторная отправка Рецензия Гаршиной.doc Добры...  рецензирование\n1         Re: Шаблон рецензии (новый)  Спасибо.Нечаев.          другое\n2    RE: статья Вестник САИТ Рецензия Рецензия Толс...  рецензирование\n3    RE: статья для рецензирования рецензия_на_Проб...  рецензирование\n4    RE: рецензия на статью Рецензия Толстоброва на...  рецензирование\n..                                                 ...             ...\n820  Re: статья на рецензию Рецензии Сагдатуллина А...  рецензирование\n821  статья Рис1.docx,Рис2.docx,Статья .doc Здравст...         вопросы\n822  Re: Королев= ответы на замечания рецензента От...  рецензирование\n823  Re: Конденсированные среды  Добрый день, Викто...          другое\n824  Привет, ты получил сообщение.  ????3.jpg Приве...          другое\n\n[825 rows x 2 columns]",
      "text/html": "<div>\n<style scoped>\n    .dataframe tbody tr th:only-of-type {\n        vertical-align: middle;\n    }\n\n    .dataframe tbody tr th {\n        vertical-align: top;\n    }\n\n    .dataframe thead th {\n        text-align: right;\n    }\n</style>\n<table border=\"1\" class=\"dataframe\">\n  <thead>\n    <tr style=\"text-align: right;\">\n      <th></th>\n      <th>text</th>\n      <th>category</th>\n    </tr>\n  </thead>\n  <tbody>\n    <tr>\n      <th>0</th>\n      <td>Повторная отправка Рецензия Гаршиной.doc Добры...</td>\n      <td>рецензирование</td>\n    </tr>\n    <tr>\n      <th>1</th>\n      <td>Re: Шаблон рецензии (новый)  Спасибо.Нечаев.</td>\n      <td>другое</td>\n    </tr>\n    <tr>\n      <th>2</th>\n      <td>RE: статья Вестник САИТ Рецензия Рецензия Толс...</td>\n      <td>рецензирование</td>\n    </tr>\n    <tr>\n      <th>3</th>\n      <td>RE: статья для рецензирования рецензия_на_Проб...</td>\n      <td>рецензирование</td>\n    </tr>\n    <tr>\n      <th>4</th>\n      <td>RE: рецензия на статью Рецензия Толстоброва на...</td>\n      <td>рецензирование</td>\n    </tr>\n    <tr>\n      <th>...</th>\n      <td>...</td>\n      <td>...</td>\n    </tr>\n    <tr>\n      <th>820</th>\n      <td>Re: статья на рецензию Рецензии Сагдатуллина А...</td>\n      <td>рецензирование</td>\n    </tr>\n    <tr>\n      <th>821</th>\n      <td>статья Рис1.docx,Рис2.docx,Статья .doc Здравст...</td>\n      <td>вопросы</td>\n    </tr>\n    <tr>\n      <th>822</th>\n      <td>Re: Королев= ответы на замечания рецензента От...</td>\n      <td>рецензирование</td>\n    </tr>\n    <tr>\n      <th>823</th>\n      <td>Re: Конденсированные среды  Добрый день, Викто...</td>\n      <td>другое</td>\n    </tr>\n    <tr>\n      <th>824</th>\n      <td>Привет, ты получил сообщение.  ????3.jpg Приве...</td>\n      <td>другое</td>\n    </tr>\n  </tbody>\n</table>\n<p>825 rows × 2 columns</p>\n</div>"
     },
     "execution_count": 43,
     "metadata": {},
     "output_type": "execute_result"
    }
   ],
   "source": [
    "df"
   ],
   "metadata": {
    "collapsed": false,
    "ExecuteTime": {
     "end_time": "2024-05-30T10:27:49.796309800Z",
     "start_time": "2024-05-30T10:27:49.782546700Z"
    }
   },
   "id": "e843c1f1d702b656"
  },
  {
   "cell_type": "code",
   "execution_count": 44,
   "outputs": [],
   "source": [
    "df.to_csv('files/new_categ_dropped.csv', index=False)"
   ],
   "metadata": {
    "collapsed": false,
    "ExecuteTime": {
     "end_time": "2024-05-30T10:28:24.948189600Z",
     "start_time": "2024-05-30T10:28:24.896477500Z"
    }
   },
   "id": "dc60ee40a6550f6d"
  },
  {
   "cell_type": "code",
   "execution_count": 87,
   "outputs": [],
   "source": [
    "# Удаляется возврат каретки, лишние пробелы и знаки переноса строки\n",
    "\n",
    "def preprocess_text(texts):\n",
    "    column = []\n",
    "    for t in texts:\n",
    "        t = str(t)      \n",
    "        t = re.sub(r'\\r+', ' ', t)\n",
    "        t = re.sub(r'\\xa0+', ' ', t)\n",
    "        t = re.sub(r'(\\n\\s*)+', '\\n', t)\n",
    "        column.append(t)\n",
    "    return column"
   ],
   "metadata": {
    "collapsed": false,
    "ExecuteTime": {
     "end_time": "2024-05-29T15:44:01.827525200Z",
     "start_time": "2024-05-29T15:44:01.805434900Z"
    }
   },
   "id": "824fc4d944309cb2"
  },
  {
   "cell_type": "code",
   "execution_count": 88,
   "outputs": [
    {
     "data": {
      "text/plain": "                                                  text        category\n0    Повторная отправка Рецензия Гаршиной.doc Добры...  рецензирование\n1         Re: Шаблон рецензии (новый)  Спасибо.Нечаев.          другое\n2    RE: статья Вестник САИТ Рецензия Рецензия Толс...  рецензирование\n3    RE: статья для рецензирования рецензия_на_Проб...  рецензирование\n4    RE: рецензия на статью Рецензия Толстоброва на...  рецензирование\n..                                                 ...             ...\n820  Re: статья на рецензию Рецензии Сагдатуллина А...  рецензирование\n821  статья Рис1.docx,Рис2.docx,Статья .doc Здравст...         вопросы\n822  Re: Королев= ответы на замечания рецензента От...  рецензирование\n823  Re: Конденсированные среды  Добрый день, Викто...          другое\n824  Привет, ты получил сообщение.  ????3.jpg Приве...          другое\n\n[825 rows x 2 columns]",
      "text/html": "<div>\n<style scoped>\n    .dataframe tbody tr th:only-of-type {\n        vertical-align: middle;\n    }\n\n    .dataframe tbody tr th {\n        vertical-align: top;\n    }\n\n    .dataframe thead th {\n        text-align: right;\n    }\n</style>\n<table border=\"1\" class=\"dataframe\">\n  <thead>\n    <tr style=\"text-align: right;\">\n      <th></th>\n      <th>text</th>\n      <th>category</th>\n    </tr>\n  </thead>\n  <tbody>\n    <tr>\n      <th>0</th>\n      <td>Повторная отправка Рецензия Гаршиной.doc Добры...</td>\n      <td>рецензирование</td>\n    </tr>\n    <tr>\n      <th>1</th>\n      <td>Re: Шаблон рецензии (новый)  Спасибо.Нечаев.</td>\n      <td>другое</td>\n    </tr>\n    <tr>\n      <th>2</th>\n      <td>RE: статья Вестник САИТ Рецензия Рецензия Толс...</td>\n      <td>рецензирование</td>\n    </tr>\n    <tr>\n      <th>3</th>\n      <td>RE: статья для рецензирования рецензия_на_Проб...</td>\n      <td>рецензирование</td>\n    </tr>\n    <tr>\n      <th>4</th>\n      <td>RE: рецензия на статью Рецензия Толстоброва на...</td>\n      <td>рецензирование</td>\n    </tr>\n    <tr>\n      <th>...</th>\n      <td>...</td>\n      <td>...</td>\n    </tr>\n    <tr>\n      <th>820</th>\n      <td>Re: статья на рецензию Рецензии Сагдатуллина А...</td>\n      <td>рецензирование</td>\n    </tr>\n    <tr>\n      <th>821</th>\n      <td>статья Рис1.docx,Рис2.docx,Статья .doc Здравст...</td>\n      <td>вопросы</td>\n    </tr>\n    <tr>\n      <th>822</th>\n      <td>Re: Королев= ответы на замечания рецензента От...</td>\n      <td>рецензирование</td>\n    </tr>\n    <tr>\n      <th>823</th>\n      <td>Re: Конденсированные среды  Добрый день, Викто...</td>\n      <td>другое</td>\n    </tr>\n    <tr>\n      <th>824</th>\n      <td>Привет, ты получил сообщение.  ????3.jpg Приве...</td>\n      <td>другое</td>\n    </tr>\n  </tbody>\n</table>\n<p>825 rows × 2 columns</p>\n</div>"
     },
     "execution_count": 88,
     "metadata": {},
     "output_type": "execute_result"
    }
   ],
   "source": [
    "df['text'] = preprocess_text(df['text'])\n",
    "df"
   ],
   "metadata": {
    "collapsed": false,
    "ExecuteTime": {
     "end_time": "2024-05-29T15:44:03.472904800Z",
     "start_time": "2024-05-29T15:44:03.396386800Z"
    }
   },
   "id": "e4b109c78cb202dd"
  },
  {
   "cell_type": "code",
   "execution_count": 89,
   "outputs": [],
   "source": [
    "def remove_re_header(t: str):\n",
    "    t = re.sub(r'\\r+', ' ', t)\n",
    "    t = re.sub(r'(>+)', '', t)\n",
    "    t = re.sub(r'\\xa0+', ' ', t)\n",
    "    t = re.sub(r'(\\n\\s*)+', '\\n', t)\n",
    "    # пример 1\n",
    "    pattern = r'Пересылаемое сообщение((.*?)(Тема:.*?))\\n'\n",
    "    # пример 2\n",
    "    pattern2 = r'Original Message((.*?)(Subject:.*?))\\n'\n",
    "    # пример 3\n",
    "    pattern3 = r'(\\n\\d{1,2}\\s(?:января|февраля|марта|апреля|мая|июня|июля|августа|сентября|октября|ноября|декабря)\\s\\d{4}\\sг\\.,\\s\\d{1,2}:\\d{2}.*?пользователь.*?\\nнаписал: \\n)'\n",
    "    # пример 4, пример 6\n",
    "    pattern4 = r'On((.*?)(wrote:.*?))\\n'\n",
    "    # пример 5\n",
    "    pattern5 = r'(?:Понедельник|Вторник|Среда|Четверг|Пятница|Суббота|Воскресенье).*?:\\s'\n",
    "    # пример 7\n",
    "    pattern7 = r'\\n(\\d{1,2}\\.\\d{2}\\.\\d{4}, \\d{2}:\\d{2},.*:\\s)'\n",
    "    t = re.sub(pattern, '', t, flags=re.DOTALL)\n",
    "    t = re.sub(pattern2, '', t, flags=re.DOTALL)\n",
    "    t = re.sub(pattern3, '', t)\n",
    "    t = re.sub(pattern4, '', t, flags=re.DOTALL)\n",
    "    t = re.sub(pattern5, '', t, flags=re.DOTALL)\n",
    "    t = re.sub(pattern7, '', t, flags=re.DOTALL)\n",
    "    return t"
   ],
   "metadata": {
    "collapsed": false,
    "ExecuteTime": {
     "end_time": "2024-05-29T15:44:12.250817100Z",
     "start_time": "2024-05-29T15:44:12.209855900Z"
    }
   },
   "id": "1a5042eb31a8f53a"
  },
  {
   "cell_type": "code",
   "execution_count": 90,
   "outputs": [],
   "source": [
    "def remove_re_headers(texts: list[str]):\n",
    "    col = []\n",
    "    for tx in texts:\n",
    "        new = remove_re_header(str(tx))\n",
    "        col.append(new)\n",
    "    return col"
   ],
   "metadata": {
    "collapsed": false,
    "ExecuteTime": {
     "end_time": "2024-05-29T15:44:14.405024300Z",
     "start_time": "2024-05-29T15:44:14.374372900Z"
    }
   },
   "id": "438ab93d66da52ea"
  },
  {
   "cell_type": "code",
   "execution_count": 91,
   "outputs": [
    {
     "data": {
      "text/plain": "                                                  text        category\n0    Повторная отправка Рецензия Гаршиной.doc Добры...  рецензирование\n1         Re: Шаблон рецензии (новый)  Спасибо.Нечаев.          другое\n2    RE: статья Вестник САИТ Рецензия Рецензия Толс...  рецензирование\n3    RE: статья для рецензирования рецензия_на_Проб...  рецензирование\n4    RE: рецензия на статью Рецензия Толстоброва на...  рецензирование\n..                                                 ...             ...\n820  Re: статья на рецензию Рецензии Сагдатуллина А...  рецензирование\n821  статья Рис1.docx,Рис2.docx,Статья .doc Здравст...         вопросы\n822  Re: Королев= ответы на замечания рецензента От...  рецензирование\n823  Re: Конденсированные среды  Добрый день, Викто...          другое\n824  Привет, ты получил сообщение.  ????3.jpg Приве...          другое\n\n[825 rows x 2 columns]",
      "text/html": "<div>\n<style scoped>\n    .dataframe tbody tr th:only-of-type {\n        vertical-align: middle;\n    }\n\n    .dataframe tbody tr th {\n        vertical-align: top;\n    }\n\n    .dataframe thead th {\n        text-align: right;\n    }\n</style>\n<table border=\"1\" class=\"dataframe\">\n  <thead>\n    <tr style=\"text-align: right;\">\n      <th></th>\n      <th>text</th>\n      <th>category</th>\n    </tr>\n  </thead>\n  <tbody>\n    <tr>\n      <th>0</th>\n      <td>Повторная отправка Рецензия Гаршиной.doc Добры...</td>\n      <td>рецензирование</td>\n    </tr>\n    <tr>\n      <th>1</th>\n      <td>Re: Шаблон рецензии (новый)  Спасибо.Нечаев.</td>\n      <td>другое</td>\n    </tr>\n    <tr>\n      <th>2</th>\n      <td>RE: статья Вестник САИТ Рецензия Рецензия Толс...</td>\n      <td>рецензирование</td>\n    </tr>\n    <tr>\n      <th>3</th>\n      <td>RE: статья для рецензирования рецензия_на_Проб...</td>\n      <td>рецензирование</td>\n    </tr>\n    <tr>\n      <th>4</th>\n      <td>RE: рецензия на статью Рецензия Толстоброва на...</td>\n      <td>рецензирование</td>\n    </tr>\n    <tr>\n      <th>...</th>\n      <td>...</td>\n      <td>...</td>\n    </tr>\n    <tr>\n      <th>820</th>\n      <td>Re: статья на рецензию Рецензии Сагдатуллина А...</td>\n      <td>рецензирование</td>\n    </tr>\n    <tr>\n      <th>821</th>\n      <td>статья Рис1.docx,Рис2.docx,Статья .doc Здравст...</td>\n      <td>вопросы</td>\n    </tr>\n    <tr>\n      <th>822</th>\n      <td>Re: Королев= ответы на замечания рецензента От...</td>\n      <td>рецензирование</td>\n    </tr>\n    <tr>\n      <th>823</th>\n      <td>Re: Конденсированные среды  Добрый день, Викто...</td>\n      <td>другое</td>\n    </tr>\n    <tr>\n      <th>824</th>\n      <td>Привет, ты получил сообщение.  ????3.jpg Приве...</td>\n      <td>другое</td>\n    </tr>\n  </tbody>\n</table>\n<p>825 rows × 2 columns</p>\n</div>"
     },
     "execution_count": 91,
     "metadata": {},
     "output_type": "execute_result"
    }
   ],
   "source": [
    "df['text'] = remove_re_headers(df['text'])\n",
    "df"
   ],
   "metadata": {
    "collapsed": false,
    "ExecuteTime": {
     "end_time": "2024-05-29T15:44:16.034970200Z",
     "start_time": "2024-05-29T15:44:15.924429100Z"
    }
   },
   "id": "56011090c3b050e0"
  },
  {
   "cell_type": "code",
   "execution_count": 92,
   "outputs": [],
   "source": [
    "def remove_personal_sign(texts):\n",
    "    col = []\n",
    "    for t in texts:\n",
    "        t = str(t)\n",
    "        pattern_sign = r'(Отв.*?)\\n'\n",
    "        pattern_sign2 = r'С уважением.*?\\n'\n",
    "        t = re.sub(pattern_sign, '', t)\n",
    "        t = re.sub(pattern_sign2, '', t)\n",
    "        col.append(t)\n",
    "    return col"
   ],
   "metadata": {
    "collapsed": false,
    "ExecuteTime": {
     "end_time": "2024-05-29T15:44:18.363641200Z",
     "start_time": "2024-05-29T15:44:18.337201Z"
    }
   },
   "id": "6f16735d873022df"
  },
  {
   "cell_type": "code",
   "execution_count": 93,
   "outputs": [
    {
     "data": {
      "text/plain": "                                                  text        category\n0    Повторная отправка Рецензия Гаршиной.doc Добры...  рецензирование\n1         Re: Шаблон рецензии (новый)  Спасибо.Нечаев.          другое\n2    RE: статья Вестник САИТ Рецензия Рецензия Толс...  рецензирование\n3    RE: статья для рецензирования рецензия_на_Проб...  рецензирование\n4    RE: рецензия на статью Рецензия Толстоброва на...  рецензирование\n..                                                 ...             ...\n820  Re: статья на рецензию Рецензии Сагдатуллина А...  рецензирование\n821  статья Рис1.docx,Рис2.docx,Статья .doc Здравст...         вопросы\n822  Re: Королев= ответы на замечания рецензента Сч...  рецензирование\n823  Re: Конденсированные среды  Добрый день, Викто...          другое\n824  Привет, ты получил сообщение.  ????3.jpg Приве...          другое\n\n[825 rows x 2 columns]",
      "text/html": "<div>\n<style scoped>\n    .dataframe tbody tr th:only-of-type {\n        vertical-align: middle;\n    }\n\n    .dataframe tbody tr th {\n        vertical-align: top;\n    }\n\n    .dataframe thead th {\n        text-align: right;\n    }\n</style>\n<table border=\"1\" class=\"dataframe\">\n  <thead>\n    <tr style=\"text-align: right;\">\n      <th></th>\n      <th>text</th>\n      <th>category</th>\n    </tr>\n  </thead>\n  <tbody>\n    <tr>\n      <th>0</th>\n      <td>Повторная отправка Рецензия Гаршиной.doc Добры...</td>\n      <td>рецензирование</td>\n    </tr>\n    <tr>\n      <th>1</th>\n      <td>Re: Шаблон рецензии (новый)  Спасибо.Нечаев.</td>\n      <td>другое</td>\n    </tr>\n    <tr>\n      <th>2</th>\n      <td>RE: статья Вестник САИТ Рецензия Рецензия Толс...</td>\n      <td>рецензирование</td>\n    </tr>\n    <tr>\n      <th>3</th>\n      <td>RE: статья для рецензирования рецензия_на_Проб...</td>\n      <td>рецензирование</td>\n    </tr>\n    <tr>\n      <th>4</th>\n      <td>RE: рецензия на статью Рецензия Толстоброва на...</td>\n      <td>рецензирование</td>\n    </tr>\n    <tr>\n      <th>...</th>\n      <td>...</td>\n      <td>...</td>\n    </tr>\n    <tr>\n      <th>820</th>\n      <td>Re: статья на рецензию Рецензии Сагдатуллина А...</td>\n      <td>рецензирование</td>\n    </tr>\n    <tr>\n      <th>821</th>\n      <td>статья Рис1.docx,Рис2.docx,Статья .doc Здравст...</td>\n      <td>вопросы</td>\n    </tr>\n    <tr>\n      <th>822</th>\n      <td>Re: Королев= ответы на замечания рецензента Сч...</td>\n      <td>рецензирование</td>\n    </tr>\n    <tr>\n      <th>823</th>\n      <td>Re: Конденсированные среды  Добрый день, Викто...</td>\n      <td>другое</td>\n    </tr>\n    <tr>\n      <th>824</th>\n      <td>Привет, ты получил сообщение.  ????3.jpg Приве...</td>\n      <td>другое</td>\n    </tr>\n  </tbody>\n</table>\n<p>825 rows × 2 columns</p>\n</div>"
     },
     "execution_count": 93,
     "metadata": {},
     "output_type": "execute_result"
    }
   ],
   "source": [
    "df['text'] = remove_personal_sign(df['text'])\n",
    "df"
   ],
   "metadata": {
    "collapsed": false,
    "ExecuteTime": {
     "end_time": "2024-05-29T15:44:19.861336Z",
     "start_time": "2024-05-29T15:44:19.804289800Z"
    }
   },
   "id": "4a174363594aaa8"
  },
  {
   "cell_type": "code",
   "execution_count": 94,
   "outputs": [],
   "source": [
    "def remove_mails_urls(texts):\n",
    "    column = []\n",
    "    for s in texts:\n",
    "        s = str(s)\n",
    "        mail = r'\\S+@\\S+\\.\\S+'\n",
    "        s = re.sub(mail, '', s)\n",
    "        url = r\"(?i)\\b((?:https?://|www\\d{0,3}[.]|[a-z0-9.\\-]+[.][a-z]{2,4}/)(?:[^\\s()<>]+|\\(([^\\s()<>]+|(\\([^\\s()<>]+\\)))*\\))+(?:\\(([^\\s()<>]+|(\\([^\\s()<>]+\\)))*\\)|[^\\s`!()\\[\\]{};:'\\\".,<>?«»“”‘’]))\"\n",
    "        s = re.sub(url, '', s)\n",
    "        column.append(s)\n",
    "    return column"
   ],
   "metadata": {
    "collapsed": false,
    "ExecuteTime": {
     "end_time": "2024-05-29T15:44:21.708928800Z",
     "start_time": "2024-05-29T15:44:21.680794Z"
    }
   },
   "id": "ad0e3c9f830cbbd1"
  },
  {
   "cell_type": "code",
   "execution_count": 95,
   "outputs": [
    {
     "data": {
      "text/plain": "                                                  text        category\n0    Повторная отправка Рецензия Гаршиной.doc Добры...  рецензирование\n1         Re: Шаблон рецензии (новый)  Спасибо.Нечаев.          другое\n2    RE: статья Вестник САИТ Рецензия Рецензия Толс...  рецензирование\n3    RE: статья для рецензирования рецензия_на_Проб...  рецензирование\n4    RE: рецензия на статью Рецензия Толстоброва на...  рецензирование\n..                                                 ...             ...\n820  Re: статья на рецензию Рецензии Сагдатуллина А...  рецензирование\n821  статья Рис1.docx,Рис2.docx,Статья .doc Здравст...         вопросы\n822  Re: Королев= ответы на замечания рецензента Сч...  рецензирование\n823  Re: Конденсированные среды  Добрый день, Викто...          другое\n824  Привет, ты получил сообщение.  ????3.jpg Приве...          другое\n\n[825 rows x 2 columns]",
      "text/html": "<div>\n<style scoped>\n    .dataframe tbody tr th:only-of-type {\n        vertical-align: middle;\n    }\n\n    .dataframe tbody tr th {\n        vertical-align: top;\n    }\n\n    .dataframe thead th {\n        text-align: right;\n    }\n</style>\n<table border=\"1\" class=\"dataframe\">\n  <thead>\n    <tr style=\"text-align: right;\">\n      <th></th>\n      <th>text</th>\n      <th>category</th>\n    </tr>\n  </thead>\n  <tbody>\n    <tr>\n      <th>0</th>\n      <td>Повторная отправка Рецензия Гаршиной.doc Добры...</td>\n      <td>рецензирование</td>\n    </tr>\n    <tr>\n      <th>1</th>\n      <td>Re: Шаблон рецензии (новый)  Спасибо.Нечаев.</td>\n      <td>другое</td>\n    </tr>\n    <tr>\n      <th>2</th>\n      <td>RE: статья Вестник САИТ Рецензия Рецензия Толс...</td>\n      <td>рецензирование</td>\n    </tr>\n    <tr>\n      <th>3</th>\n      <td>RE: статья для рецензирования рецензия_на_Проб...</td>\n      <td>рецензирование</td>\n    </tr>\n    <tr>\n      <th>4</th>\n      <td>RE: рецензия на статью Рецензия Толстоброва на...</td>\n      <td>рецензирование</td>\n    </tr>\n    <tr>\n      <th>...</th>\n      <td>...</td>\n      <td>...</td>\n    </tr>\n    <tr>\n      <th>820</th>\n      <td>Re: статья на рецензию Рецензии Сагдатуллина А...</td>\n      <td>рецензирование</td>\n    </tr>\n    <tr>\n      <th>821</th>\n      <td>статья Рис1.docx,Рис2.docx,Статья .doc Здравст...</td>\n      <td>вопросы</td>\n    </tr>\n    <tr>\n      <th>822</th>\n      <td>Re: Королев= ответы на замечания рецензента Сч...</td>\n      <td>рецензирование</td>\n    </tr>\n    <tr>\n      <th>823</th>\n      <td>Re: Конденсированные среды  Добрый день, Викто...</td>\n      <td>другое</td>\n    </tr>\n    <tr>\n      <th>824</th>\n      <td>Привет, ты получил сообщение.  ????3.jpg Приве...</td>\n      <td>другое</td>\n    </tr>\n  </tbody>\n</table>\n<p>825 rows × 2 columns</p>\n</div>"
     },
     "execution_count": 95,
     "metadata": {},
     "output_type": "execute_result"
    }
   ],
   "source": [
    "df['text'] = remove_mails_urls(df['text'])\n",
    "df"
   ],
   "metadata": {
    "collapsed": false,
    "ExecuteTime": {
     "end_time": "2024-05-29T15:44:23.299612200Z",
     "start_time": "2024-05-29T15:44:23.181270700Z"
    }
   },
   "id": "324d7c9de0264416"
  },
  {
   "cell_type": "code",
   "execution_count": 102,
   "outputs": [],
   "source": [
    "def clean_text_from_fwd(texts):\n",
    "    column = []\n",
    "    for s in texts:\n",
    "        s = s.lower()\n",
    "        s = s.replace('re:', '')\n",
    "        s = re.sub('re\\[.\\]:', '', s)\n",
    "        s = s.replace('fwd', '')\n",
    "        s = s.replace('fw', '')\n",
    "        s = re.sub(r'\\s+', ' ', s)\n",
    "        column.append(s)\n",
    "    return column"
   ],
   "metadata": {
    "collapsed": false,
    "ExecuteTime": {
     "end_time": "2024-05-29T16:23:42.960973800Z",
     "start_time": "2024-05-29T16:23:42.947749200Z"
    }
   },
   "id": "790a83a8b563e790"
  },
  {
   "cell_type": "code",
   "execution_count": 103,
   "outputs": [
    {
     "data": {
      "text/plain": "                                                  text        category\n0    повторная отправка рецензия гаршиной.doc добры...  рецензирование\n1              шаблон рецензии (новый) спасибо.нечаев.          другое\n2     статья вестник саит рецензия рецензия толстоб...  рецензирование\n3     статья для рецензирования рецензия_на_проблем...  рецензирование\n4     рецензия на статью рецензия толстоброва на ст...  рецензирование\n..                                                 ...             ...\n820   статья на рецензию рецензии сагдатуллина а_м_...  рецензирование\n821  статья рис1.docx,рис2.docx,статья .doc здравст...         вопросы\n822   королев= ответы на замечания рецензента счита...  рецензирование\n823   конденсированные среды добрый день, виктория ...          другое\n824  привет, ты получил сообщение. ????3.jpg привет...          другое\n\n[825 rows x 2 columns]",
      "text/html": "<div>\n<style scoped>\n    .dataframe tbody tr th:only-of-type {\n        vertical-align: middle;\n    }\n\n    .dataframe tbody tr th {\n        vertical-align: top;\n    }\n\n    .dataframe thead th {\n        text-align: right;\n    }\n</style>\n<table border=\"1\" class=\"dataframe\">\n  <thead>\n    <tr style=\"text-align: right;\">\n      <th></th>\n      <th>text</th>\n      <th>category</th>\n    </tr>\n  </thead>\n  <tbody>\n    <tr>\n      <th>0</th>\n      <td>повторная отправка рецензия гаршиной.doc добры...</td>\n      <td>рецензирование</td>\n    </tr>\n    <tr>\n      <th>1</th>\n      <td>шаблон рецензии (новый) спасибо.нечаев.</td>\n      <td>другое</td>\n    </tr>\n    <tr>\n      <th>2</th>\n      <td>статья вестник саит рецензия рецензия толстоб...</td>\n      <td>рецензирование</td>\n    </tr>\n    <tr>\n      <th>3</th>\n      <td>статья для рецензирования рецензия_на_проблем...</td>\n      <td>рецензирование</td>\n    </tr>\n    <tr>\n      <th>4</th>\n      <td>рецензия на статью рецензия толстоброва на ст...</td>\n      <td>рецензирование</td>\n    </tr>\n    <tr>\n      <th>...</th>\n      <td>...</td>\n      <td>...</td>\n    </tr>\n    <tr>\n      <th>820</th>\n      <td>статья на рецензию рецензии сагдатуллина а_м_...</td>\n      <td>рецензирование</td>\n    </tr>\n    <tr>\n      <th>821</th>\n      <td>статья рис1.docx,рис2.docx,статья .doc здравст...</td>\n      <td>вопросы</td>\n    </tr>\n    <tr>\n      <th>822</th>\n      <td>королев= ответы на замечания рецензента счита...</td>\n      <td>рецензирование</td>\n    </tr>\n    <tr>\n      <th>823</th>\n      <td>конденсированные среды добрый день, виктория ...</td>\n      <td>другое</td>\n    </tr>\n    <tr>\n      <th>824</th>\n      <td>привет, ты получил сообщение. ????3.jpg привет...</td>\n      <td>другое</td>\n    </tr>\n  </tbody>\n</table>\n<p>825 rows × 2 columns</p>\n</div>"
     },
     "execution_count": 103,
     "metadata": {},
     "output_type": "execute_result"
    }
   ],
   "source": [
    "df['text'] = clean_text_from_fwd(df['text'])\n",
    "df"
   ],
   "metadata": {
    "collapsed": false,
    "ExecuteTime": {
     "end_time": "2024-05-29T16:23:44.755296300Z",
     "start_time": "2024-05-29T16:23:44.697914600Z"
    }
   },
   "id": "386d3fca8c2491a9"
  },
  {
   "cell_type": "code",
   "execution_count": 104,
   "outputs": [],
   "source": [
    "df.to_csv('files/8_texts_with_punct_categ.csv', index=False)"
   ],
   "metadata": {
    "collapsed": false,
    "ExecuteTime": {
     "end_time": "2024-05-29T16:23:46.326461500Z",
     "start_time": "2024-05-29T16:23:46.298615700Z"
    }
   },
   "id": "4013e628f5edb2e2"
  },
  {
   "cell_type": "code",
   "execution_count": 130,
   "outputs": [],
   "source": [
    "df = pd.read_csv('files/8_texts_with_punct_categ.csv')"
   ],
   "metadata": {
    "collapsed": false,
    "ExecuteTime": {
     "end_time": "2024-05-29T16:38:07.284189500Z",
     "start_time": "2024-05-29T16:38:07.243644700Z"
    }
   },
   "id": "8c154b8fd9ddf8a9"
  },
  {
   "cell_type": "code",
   "execution_count": 133,
   "outputs": [],
   "source": [
    "import string\n",
    "from nltk.corpus import stopwords\n",
    "stop = stopwords.words('russian')\n",
    "# conv_text = lambda mas_in : [''.join([j for j in i if j.lower() in rus]) for i in mas_in]\n",
    "# docs = ' '.join([x for x in conv_text(texts['text'].values)])\n",
    "\n",
    "def clean_text(texts):\n",
    "    column = []\n",
    "    texts = texts.apply(lambda x: ' '.join([word for word in x.split() if word not in stop]))\n",
    "    for s in texts:\n",
    "        s = re.sub('[«»\\t—…<>%№’!:+]', '', s)\n",
    "        s = re.sub(r'[0-9]+', '', s)\n",
    "        s = re.sub(r'\\s+', ' ', s)\n",
    "        column.append(s)\n",
    "    return column\n"
   ],
   "metadata": {
    "collapsed": false,
    "ExecuteTime": {
     "end_time": "2024-05-29T16:38:36.929614100Z",
     "start_time": "2024-05-29T16:38:36.902865400Z"
    }
   },
   "id": "ef57867d455a4b6d"
  },
  {
   "cell_type": "code",
   "execution_count": 134,
   "outputs": [
    {
     "data": {
      "text/plain": "                                                  text        category\n0    повторная отправка рецензия гаршиной.doc добры...  рецензирование\n1              шаблон рецензии (новый) спасибо.нечаев.          другое\n2    статья вестник саит рецензия рецензия толстобр...  рецензирование\n3    статья рецензирования рецензия_на_проблема защ...  рецензирование\n4    рецензия статью рецензия толстоброва статью че...  рецензирование\n..                                                 ...             ...\n820  статья рецензию рецензии сагдатуллина а_м_саит...  рецензирование\n821  статья рис.docx,рис.docx,статья .doc здравству...         вопросы\n822  королев= ответы замечания рецензента считаю, с...  рецензирование\n823  конденсированные среды добрый день, виктория в...          другое\n824  привет, получил сообщение. ????.jpg привет дру...          другое\n\n[825 rows x 2 columns]",
      "text/html": "<div>\n<style scoped>\n    .dataframe tbody tr th:only-of-type {\n        vertical-align: middle;\n    }\n\n    .dataframe tbody tr th {\n        vertical-align: top;\n    }\n\n    .dataframe thead th {\n        text-align: right;\n    }\n</style>\n<table border=\"1\" class=\"dataframe\">\n  <thead>\n    <tr style=\"text-align: right;\">\n      <th></th>\n      <th>text</th>\n      <th>category</th>\n    </tr>\n  </thead>\n  <tbody>\n    <tr>\n      <th>0</th>\n      <td>повторная отправка рецензия гаршиной.doc добры...</td>\n      <td>рецензирование</td>\n    </tr>\n    <tr>\n      <th>1</th>\n      <td>шаблон рецензии (новый) спасибо.нечаев.</td>\n      <td>другое</td>\n    </tr>\n    <tr>\n      <th>2</th>\n      <td>статья вестник саит рецензия рецензия толстобр...</td>\n      <td>рецензирование</td>\n    </tr>\n    <tr>\n      <th>3</th>\n      <td>статья рецензирования рецензия_на_проблема защ...</td>\n      <td>рецензирование</td>\n    </tr>\n    <tr>\n      <th>4</th>\n      <td>рецензия статью рецензия толстоброва статью че...</td>\n      <td>рецензирование</td>\n    </tr>\n    <tr>\n      <th>...</th>\n      <td>...</td>\n      <td>...</td>\n    </tr>\n    <tr>\n      <th>820</th>\n      <td>статья рецензию рецензии сагдатуллина а_м_саит...</td>\n      <td>рецензирование</td>\n    </tr>\n    <tr>\n      <th>821</th>\n      <td>статья рис.docx,рис.docx,статья .doc здравству...</td>\n      <td>вопросы</td>\n    </tr>\n    <tr>\n      <th>822</th>\n      <td>королев= ответы замечания рецензента считаю, с...</td>\n      <td>рецензирование</td>\n    </tr>\n    <tr>\n      <th>823</th>\n      <td>конденсированные среды добрый день, виктория в...</td>\n      <td>другое</td>\n    </tr>\n    <tr>\n      <th>824</th>\n      <td>привет, получил сообщение. ????.jpg привет дру...</td>\n      <td>другое</td>\n    </tr>\n  </tbody>\n</table>\n<p>825 rows × 2 columns</p>\n</div>"
     },
     "execution_count": 134,
     "metadata": {},
     "output_type": "execute_result"
    }
   ],
   "source": [
    "df['text'] = clean_text(df['text'])\n",
    "df"
   ],
   "metadata": {
    "collapsed": false,
    "ExecuteTime": {
     "end_time": "2024-05-29T16:38:38.088560300Z",
     "start_time": "2024-05-29T16:38:37.914121100Z"
    }
   },
   "id": "ef7e100ff652c70e"
  },
  {
   "cell_type": "code",
   "execution_count": 135,
   "outputs": [],
   "source": [
    "from pymorphy2 import MorphAnalyzer\n",
    "morph = MorphAnalyzer()\n",
    "\n",
    "def lemmatize(texts):\n",
    "    col = []\n",
    "    for t in texts:\n",
    "        words = t.split()\n",
    "        tokens = []\n",
    "        for w in words:\n",
    "            w = w.strip()\n",
    "            w = morph.normal_forms(w)[0]\n",
    "            tokens.append(w)\n",
    "        t = ' '.join(t for t in tokens)\n",
    "        col.append(t)\n",
    "    return col"
   ],
   "metadata": {
    "collapsed": false,
    "ExecuteTime": {
     "end_time": "2024-05-29T17:37:58.976043600Z",
     "start_time": "2024-05-29T17:37:58.509334700Z"
    }
   },
   "id": "ad5c19458ef9e9bb"
  },
  {
   "cell_type": "code",
   "execution_count": 136,
   "outputs": [
    {
     "data": {
      "text/plain": "                                                  text        category\n0    повторный отправка рецензия гаршиной.doc добры...  рецензирование\n1              шаблон рецензия (новый) спасибо.нечаев.          другое\n2    статья вестник саит рецензия рецензия толстобр...  рецензирование\n3    статья рецензирование рецензия_на_проблема защ...  рецензирование\n4    рецензия статья рецензия толстобровый статья ч...  рецензирование\n..                                                 ...             ...\n820  статья рецензия рецензия сагдатуллин а_м_саит....  рецензирование\n821  статья рис.docx,рис.docx,статие .doc здравству...         вопросы\n822  королев= ответ замечание рецензент считаю, ста...  рецензирование\n823  конденсировать среда добрый день, виктория вик...          другое\n824  привет, получить сообщение. ????.jpg привет др...          другое\n\n[825 rows x 2 columns]",
      "text/html": "<div>\n<style scoped>\n    .dataframe tbody tr th:only-of-type {\n        vertical-align: middle;\n    }\n\n    .dataframe tbody tr th {\n        vertical-align: top;\n    }\n\n    .dataframe thead th {\n        text-align: right;\n    }\n</style>\n<table border=\"1\" class=\"dataframe\">\n  <thead>\n    <tr style=\"text-align: right;\">\n      <th></th>\n      <th>text</th>\n      <th>category</th>\n    </tr>\n  </thead>\n  <tbody>\n    <tr>\n      <th>0</th>\n      <td>повторный отправка рецензия гаршиной.doc добры...</td>\n      <td>рецензирование</td>\n    </tr>\n    <tr>\n      <th>1</th>\n      <td>шаблон рецензия (новый) спасибо.нечаев.</td>\n      <td>другое</td>\n    </tr>\n    <tr>\n      <th>2</th>\n      <td>статья вестник саит рецензия рецензия толстобр...</td>\n      <td>рецензирование</td>\n    </tr>\n    <tr>\n      <th>3</th>\n      <td>статья рецензирование рецензия_на_проблема защ...</td>\n      <td>рецензирование</td>\n    </tr>\n    <tr>\n      <th>4</th>\n      <td>рецензия статья рецензия толстобровый статья ч...</td>\n      <td>рецензирование</td>\n    </tr>\n    <tr>\n      <th>...</th>\n      <td>...</td>\n      <td>...</td>\n    </tr>\n    <tr>\n      <th>820</th>\n      <td>статья рецензия рецензия сагдатуллин а_м_саит....</td>\n      <td>рецензирование</td>\n    </tr>\n    <tr>\n      <th>821</th>\n      <td>статья рис.docx,рис.docx,статие .doc здравству...</td>\n      <td>вопросы</td>\n    </tr>\n    <tr>\n      <th>822</th>\n      <td>королев= ответ замечание рецензент считаю, ста...</td>\n      <td>рецензирование</td>\n    </tr>\n    <tr>\n      <th>823</th>\n      <td>конденсировать среда добрый день, виктория вик...</td>\n      <td>другое</td>\n    </tr>\n    <tr>\n      <th>824</th>\n      <td>привет, получить сообщение. ????.jpg привет др...</td>\n      <td>другое</td>\n    </tr>\n  </tbody>\n</table>\n<p>825 rows × 2 columns</p>\n</div>"
     },
     "execution_count": 136,
     "metadata": {},
     "output_type": "execute_result"
    }
   ],
   "source": [
    "df['text'] = lemmatize(df['text'])\n",
    "df"
   ],
   "metadata": {
    "collapsed": false,
    "ExecuteTime": {
     "end_time": "2024-05-29T17:38:07.714836Z",
     "start_time": "2024-05-29T17:38:00.278094700Z"
    }
   },
   "id": "8a16470a1b354dfd"
  },
  {
   "cell_type": "code",
   "execution_count": 137,
   "outputs": [],
   "source": [
    "df.to_csv('files/9_texts_lemmatized.csv', index=False)"
   ],
   "metadata": {
    "collapsed": false,
    "ExecuteTime": {
     "end_time": "2024-05-29T17:39:01.109536600Z",
     "start_time": "2024-05-29T17:39:01.043569100Z"
    }
   },
   "id": "ebf1d0fc7acf4094"
  },
  {
   "cell_type": "code",
   "execution_count": 3,
   "outputs": [
    {
     "data": {
      "text/plain": "                                                  text        category\n0    повторный отправка рецензия гаршиной.doc добры...  рецензирование\n1              шаблон рецензия (новый) спасибо.нечаев.          другое\n2    статья вестник саит рецензия рецензия толстобр...  рецензирование\n3    статья рецензирование рецензия_на_проблема защ...  рецензирование\n4    рецензия статья рецензия толстобровый статья ч...  рецензирование\n..                                                 ...             ...\n820  статья рецензия рецензия сагдатуллин а_м_саит....  рецензирование\n821  статья рис.docx,рис.docx,статие .doc здравству...         вопросы\n822  королев= ответ замечание рецензент считаю, ста...  рецензирование\n823  конденсировать среда добрый день, виктория вик...          другое\n824  привет, получить сообщение. ????.jpg привет др...          другое\n\n[825 rows x 2 columns]",
      "text/html": "<div>\n<style scoped>\n    .dataframe tbody tr th:only-of-type {\n        vertical-align: middle;\n    }\n\n    .dataframe tbody tr th {\n        vertical-align: top;\n    }\n\n    .dataframe thead th {\n        text-align: right;\n    }\n</style>\n<table border=\"1\" class=\"dataframe\">\n  <thead>\n    <tr style=\"text-align: right;\">\n      <th></th>\n      <th>text</th>\n      <th>category</th>\n    </tr>\n  </thead>\n  <tbody>\n    <tr>\n      <th>0</th>\n      <td>повторный отправка рецензия гаршиной.doc добры...</td>\n      <td>рецензирование</td>\n    </tr>\n    <tr>\n      <th>1</th>\n      <td>шаблон рецензия (новый) спасибо.нечаев.</td>\n      <td>другое</td>\n    </tr>\n    <tr>\n      <th>2</th>\n      <td>статья вестник саит рецензия рецензия толстобр...</td>\n      <td>рецензирование</td>\n    </tr>\n    <tr>\n      <th>3</th>\n      <td>статья рецензирование рецензия_на_проблема защ...</td>\n      <td>рецензирование</td>\n    </tr>\n    <tr>\n      <th>4</th>\n      <td>рецензия статья рецензия толстобровый статья ч...</td>\n      <td>рецензирование</td>\n    </tr>\n    <tr>\n      <th>...</th>\n      <td>...</td>\n      <td>...</td>\n    </tr>\n    <tr>\n      <th>820</th>\n      <td>статья рецензия рецензия сагдатуллин а_м_саит....</td>\n      <td>рецензирование</td>\n    </tr>\n    <tr>\n      <th>821</th>\n      <td>статья рис.docx,рис.docx,статие .doc здравству...</td>\n      <td>вопросы</td>\n    </tr>\n    <tr>\n      <th>822</th>\n      <td>королев= ответ замечание рецензент считаю, ста...</td>\n      <td>рецензирование</td>\n    </tr>\n    <tr>\n      <th>823</th>\n      <td>конденсировать среда добрый день, виктория вик...</td>\n      <td>другое</td>\n    </tr>\n    <tr>\n      <th>824</th>\n      <td>привет, получить сообщение. ????.jpg привет др...</td>\n      <td>другое</td>\n    </tr>\n  </tbody>\n</table>\n<p>825 rows × 2 columns</p>\n</div>"
     },
     "execution_count": 3,
     "metadata": {},
     "output_type": "execute_result"
    }
   ],
   "source": [
    "df = pd.read_csv('files/9_texts_lemmatized.csv')\n",
    "df"
   ],
   "metadata": {
    "collapsed": false,
    "ExecuteTime": {
     "end_time": "2024-05-30T09:49:12.699900Z",
     "start_time": "2024-05-30T09:49:12.644392100Z"
    }
   },
   "id": "acad0d315d7bfc35"
  },
  {
   "cell_type": "code",
   "execution_count": 10,
   "outputs": [],
   "source": [
    "def clean_punct(texts):\n",
    "    col = []\n",
    "    for t in texts:\n",
    "        t = re.sub(\"[\" + string.punctuation + \"]\", \" \", t)\n",
    "        t = re.sub(r'\\s+', ' ', t)\n",
    "        col.append(t)\n",
    "    return col\n",
    "        "
   ],
   "metadata": {
    "collapsed": false,
    "ExecuteTime": {
     "end_time": "2024-05-30T09:58:51.071078400Z",
     "start_time": "2024-05-30T09:58:51.047326600Z"
    }
   },
   "id": "a1c1e177af219dd3"
  },
  {
   "cell_type": "code",
   "execution_count": 11,
   "outputs": [
    {
     "data": {
      "text/plain": "                                                  text        category\n0    повторный отправка рецензия гаршиной doc добры...  рецензирование\n1                шаблон рецензия новый спасибо нечаев           другое\n2    статья вестник саит рецензия рецензия толстобр...  рецензирование\n3    статья рецензирование рецензия на проблема защ...  рецензирование\n4    рецензия статья рецензия толстобровый статья ч...  рецензирование\n..                                                 ...             ...\n820  статья рецензия рецензия сагдатуллин а м саит ...  рецензирование\n821  статья рис docx рис docx статие doc здравствуй...         вопросы\n822  королев ответ замечание рецензент считаю стать...  рецензирование\n823  конденсировать среда добрый день виктория викт...          другое\n824  привет получить сообщение jpg привет друг это ...          другое\n\n[825 rows x 2 columns]",
      "text/html": "<div>\n<style scoped>\n    .dataframe tbody tr th:only-of-type {\n        vertical-align: middle;\n    }\n\n    .dataframe tbody tr th {\n        vertical-align: top;\n    }\n\n    .dataframe thead th {\n        text-align: right;\n    }\n</style>\n<table border=\"1\" class=\"dataframe\">\n  <thead>\n    <tr style=\"text-align: right;\">\n      <th></th>\n      <th>text</th>\n      <th>category</th>\n    </tr>\n  </thead>\n  <tbody>\n    <tr>\n      <th>0</th>\n      <td>повторный отправка рецензия гаршиной doc добры...</td>\n      <td>рецензирование</td>\n    </tr>\n    <tr>\n      <th>1</th>\n      <td>шаблон рецензия новый спасибо нечаев</td>\n      <td>другое</td>\n    </tr>\n    <tr>\n      <th>2</th>\n      <td>статья вестник саит рецензия рецензия толстобр...</td>\n      <td>рецензирование</td>\n    </tr>\n    <tr>\n      <th>3</th>\n      <td>статья рецензирование рецензия на проблема защ...</td>\n      <td>рецензирование</td>\n    </tr>\n    <tr>\n      <th>4</th>\n      <td>рецензия статья рецензия толстобровый статья ч...</td>\n      <td>рецензирование</td>\n    </tr>\n    <tr>\n      <th>...</th>\n      <td>...</td>\n      <td>...</td>\n    </tr>\n    <tr>\n      <th>820</th>\n      <td>статья рецензия рецензия сагдатуллин а м саит ...</td>\n      <td>рецензирование</td>\n    </tr>\n    <tr>\n      <th>821</th>\n      <td>статья рис docx рис docx статие doc здравствуй...</td>\n      <td>вопросы</td>\n    </tr>\n    <tr>\n      <th>822</th>\n      <td>королев ответ замечание рецензент считаю стать...</td>\n      <td>рецензирование</td>\n    </tr>\n    <tr>\n      <th>823</th>\n      <td>конденсировать среда добрый день виктория викт...</td>\n      <td>другое</td>\n    </tr>\n    <tr>\n      <th>824</th>\n      <td>привет получить сообщение jpg привет друг это ...</td>\n      <td>другое</td>\n    </tr>\n  </tbody>\n</table>\n<p>825 rows × 2 columns</p>\n</div>"
     },
     "execution_count": 11,
     "metadata": {},
     "output_type": "execute_result"
    }
   ],
   "source": [
    "df['text']=clean_punct(df['text'])\n",
    "df"
   ],
   "metadata": {
    "collapsed": false,
    "ExecuteTime": {
     "end_time": "2024-05-30T09:58:52.389705900Z",
     "start_time": "2024-05-30T09:58:52.342150900Z"
    }
   },
   "id": "b076be43f6841a71"
  },
  {
   "cell_type": "code",
   "execution_count": 13,
   "outputs": [],
   "source": [
    "df.to_csv('files/10_texts_lemmatized_no_punct.csv', index=False)"
   ],
   "metadata": {
    "collapsed": false,
    "ExecuteTime": {
     "end_time": "2024-05-30T10:00:28.791326500Z",
     "start_time": "2024-05-30T10:00:28.759596500Z"
    }
   },
   "id": "7deaeffc66679b52"
  },
  {
   "cell_type": "code",
   "execution_count": 26,
   "outputs": [
    {
     "data": {
      "text/plain": "                                                  text        category\n0    повторный отправка рецензия гаршиной doc добры...  рецензирование\n1                шаблон рецензия новый спасибо нечаев           другое\n2    статья вестник саит рецензия рецензия толстобр...  рецензирование\n3    статья рецензирование рецензия на проблема защ...  рецензирование\n4    рецензия статья рецензия толстобровый статья ч...  рецензирование\n..                                                 ...             ...\n820  статья рецензия рецензия сагдатуллин а м саит ...  рецензирование\n821  статья рис docx рис docx статие doc здравствуй...         вопросы\n822  королев ответ замечание рецензент считаю стать...  рецензирование\n823  конденсировать среда добрый день виктория викт...          другое\n824  привет получить сообщение jpg привет друг это ...          другое\n\n[825 rows x 2 columns]",
      "text/html": "<div>\n<style scoped>\n    .dataframe tbody tr th:only-of-type {\n        vertical-align: middle;\n    }\n\n    .dataframe tbody tr th {\n        vertical-align: top;\n    }\n\n    .dataframe thead th {\n        text-align: right;\n    }\n</style>\n<table border=\"1\" class=\"dataframe\">\n  <thead>\n    <tr style=\"text-align: right;\">\n      <th></th>\n      <th>text</th>\n      <th>category</th>\n    </tr>\n  </thead>\n  <tbody>\n    <tr>\n      <th>0</th>\n      <td>повторный отправка рецензия гаршиной doc добры...</td>\n      <td>рецензирование</td>\n    </tr>\n    <tr>\n      <th>1</th>\n      <td>шаблон рецензия новый спасибо нечаев</td>\n      <td>другое</td>\n    </tr>\n    <tr>\n      <th>2</th>\n      <td>статья вестник саит рецензия рецензия толстобр...</td>\n      <td>рецензирование</td>\n    </tr>\n    <tr>\n      <th>3</th>\n      <td>статья рецензирование рецензия на проблема защ...</td>\n      <td>рецензирование</td>\n    </tr>\n    <tr>\n      <th>4</th>\n      <td>рецензия статья рецензия толстобровый статья ч...</td>\n      <td>рецензирование</td>\n    </tr>\n    <tr>\n      <th>...</th>\n      <td>...</td>\n      <td>...</td>\n    </tr>\n    <tr>\n      <th>820</th>\n      <td>статья рецензия рецензия сагдатуллин а м саит ...</td>\n      <td>рецензирование</td>\n    </tr>\n    <tr>\n      <th>821</th>\n      <td>статья рис docx рис docx статие doc здравствуй...</td>\n      <td>вопросы</td>\n    </tr>\n    <tr>\n      <th>822</th>\n      <td>королев ответ замечание рецензент считаю стать...</td>\n      <td>рецензирование</td>\n    </tr>\n    <tr>\n      <th>823</th>\n      <td>конденсировать среда добрый день виктория викт...</td>\n      <td>другое</td>\n    </tr>\n    <tr>\n      <th>824</th>\n      <td>привет получить сообщение jpg привет друг это ...</td>\n      <td>другое</td>\n    </tr>\n  </tbody>\n</table>\n<p>825 rows × 2 columns</p>\n</div>"
     },
     "execution_count": 26,
     "metadata": {},
     "output_type": "execute_result"
    }
   ],
   "source": [
    "df = pd.read_csv('files/10_texts_lemmatized_no_punct.csv')\n",
    "df"
   ],
   "metadata": {
    "collapsed": false,
    "ExecuteTime": {
     "end_time": "2024-05-30T10:17:50.596917400Z",
     "start_time": "2024-05-30T10:17:50.551819800Z"
    }
   },
   "id": "5224ae9b1000f84e"
  },
  {
   "cell_type": "code",
   "execution_count": 27,
   "outputs": [],
   "source": [
    "def clean_en(texts):\n",
    "    col = []\n",
    "    rus = set('абвгдеёжзийклмнопрстуфхцчшщъыьэюя ')\n",
    "    for t in texts:\n",
    "        words = t.split()\n",
    "        clean_w =lambda word: ''.join([ch for ch in word if ch in rus])\n",
    "        words_clean = [clean_w(word) for word in words]\n",
    "        t = ' '.join(w for w in words_clean)\n",
    "        t = re.sub(r'\\s+', ' ', t)\n",
    "        col.append(t)\n",
    "    return col"
   ],
   "metadata": {
    "collapsed": false,
    "ExecuteTime": {
     "end_time": "2024-05-30T10:17:54.044282900Z",
     "start_time": "2024-05-30T10:17:54.033343800Z"
    }
   },
   "id": "2b2195e188f07293"
  },
  {
   "cell_type": "code",
   "execution_count": 28,
   "outputs": [
    {
     "data": {
      "text/plain": "                                                  text        category\n0    повторный отправка рецензия гаршиной добрый ве...  рецензирование\n1                 шаблон рецензия новый спасибо нечаев          другое\n2    статья вестник саит рецензия рецензия толстобр...  рецензирование\n3    статья рецензирование рецензия на проблема защ...  рецензирование\n4    рецензия статья рецензия толстобровый статья ч...  рецензирование\n..                                                 ...             ...\n820  статья рецензия рецензия сагдатуллин а м саит ...  рецензирование\n821  статья рис рис статие здравствуйте мой отправи...         вопросы\n822  королев ответ замечание рецензент считаю стать...  рецензирование\n823  конденсировать среда добрый день виктория викт...          другое\n824  привет получить сообщение привет друг это тянь...          другое\n\n[825 rows x 2 columns]",
      "text/html": "<div>\n<style scoped>\n    .dataframe tbody tr th:only-of-type {\n        vertical-align: middle;\n    }\n\n    .dataframe tbody tr th {\n        vertical-align: top;\n    }\n\n    .dataframe thead th {\n        text-align: right;\n    }\n</style>\n<table border=\"1\" class=\"dataframe\">\n  <thead>\n    <tr style=\"text-align: right;\">\n      <th></th>\n      <th>text</th>\n      <th>category</th>\n    </tr>\n  </thead>\n  <tbody>\n    <tr>\n      <th>0</th>\n      <td>повторный отправка рецензия гаршиной добрый ве...</td>\n      <td>рецензирование</td>\n    </tr>\n    <tr>\n      <th>1</th>\n      <td>шаблон рецензия новый спасибо нечаев</td>\n      <td>другое</td>\n    </tr>\n    <tr>\n      <th>2</th>\n      <td>статья вестник саит рецензия рецензия толстобр...</td>\n      <td>рецензирование</td>\n    </tr>\n    <tr>\n      <th>3</th>\n      <td>статья рецензирование рецензия на проблема защ...</td>\n      <td>рецензирование</td>\n    </tr>\n    <tr>\n      <th>4</th>\n      <td>рецензия статья рецензия толстобровый статья ч...</td>\n      <td>рецензирование</td>\n    </tr>\n    <tr>\n      <th>...</th>\n      <td>...</td>\n      <td>...</td>\n    </tr>\n    <tr>\n      <th>820</th>\n      <td>статья рецензия рецензия сагдатуллин а м саит ...</td>\n      <td>рецензирование</td>\n    </tr>\n    <tr>\n      <th>821</th>\n      <td>статья рис рис статие здравствуйте мой отправи...</td>\n      <td>вопросы</td>\n    </tr>\n    <tr>\n      <th>822</th>\n      <td>королев ответ замечание рецензент считаю стать...</td>\n      <td>рецензирование</td>\n    </tr>\n    <tr>\n      <th>823</th>\n      <td>конденсировать среда добрый день виктория викт...</td>\n      <td>другое</td>\n    </tr>\n    <tr>\n      <th>824</th>\n      <td>привет получить сообщение привет друг это тянь...</td>\n      <td>другое</td>\n    </tr>\n  </tbody>\n</table>\n<p>825 rows × 2 columns</p>\n</div>"
     },
     "execution_count": 28,
     "metadata": {},
     "output_type": "execute_result"
    }
   ],
   "source": [
    "df['text'] = clean_en(df['text'])\n",
    "df"
   ],
   "metadata": {
    "collapsed": false,
    "ExecuteTime": {
     "end_time": "2024-05-30T10:17:55.702996700Z",
     "start_time": "2024-05-30T10:17:55.582725900Z"
    }
   },
   "id": "2436079cce68038e"
  },
  {
   "cell_type": "code",
   "execution_count": 29,
   "outputs": [],
   "source": [
    "def clean_1_symbol(texts):\n",
    "    col = []\n",
    "    for t in texts:\n",
    "        t = ' '.join([word for word in t.split() if len(word)>1])\n",
    "        t = re.sub(r'\\s+', ' ', t)\n",
    "        col.append(t)\n",
    "    return col"
   ],
   "metadata": {
    "collapsed": false,
    "ExecuteTime": {
     "end_time": "2024-05-30T10:17:58.368473100Z",
     "start_time": "2024-05-30T10:17:58.352423Z"
    }
   },
   "id": "6c1769a6ed43bd48"
  },
  {
   "cell_type": "code",
   "execution_count": 30,
   "outputs": [
    {
     "data": {
      "text/plain": "                                                  text        category\n0    повторный отправка рецензия гаршиной добрый ве...  рецензирование\n1                 шаблон рецензия новый спасибо нечаев          другое\n2    статья вестник саит рецензия рецензия толстобр...  рецензирование\n3    статья рецензирование рецензия на проблема защ...  рецензирование\n4    рецензия статья рецензия толстобровый статья ч...  рецензирование\n..                                                 ...             ...\n820  статья рецензия рецензия сагдатуллин саит высы...  рецензирование\n821  статья рис рис статие здравствуйте мой отправи...         вопросы\n822  королев ответ замечание рецензент считаю стать...  рецензирование\n823  конденсировать среда добрый день виктория викт...          другое\n824  привет получить сообщение привет друг это тянь...          другое\n\n[825 rows x 2 columns]",
      "text/html": "<div>\n<style scoped>\n    .dataframe tbody tr th:only-of-type {\n        vertical-align: middle;\n    }\n\n    .dataframe tbody tr th {\n        vertical-align: top;\n    }\n\n    .dataframe thead th {\n        text-align: right;\n    }\n</style>\n<table border=\"1\" class=\"dataframe\">\n  <thead>\n    <tr style=\"text-align: right;\">\n      <th></th>\n      <th>text</th>\n      <th>category</th>\n    </tr>\n  </thead>\n  <tbody>\n    <tr>\n      <th>0</th>\n      <td>повторный отправка рецензия гаршиной добрый ве...</td>\n      <td>рецензирование</td>\n    </tr>\n    <tr>\n      <th>1</th>\n      <td>шаблон рецензия новый спасибо нечаев</td>\n      <td>другое</td>\n    </tr>\n    <tr>\n      <th>2</th>\n      <td>статья вестник саит рецензия рецензия толстобр...</td>\n      <td>рецензирование</td>\n    </tr>\n    <tr>\n      <th>3</th>\n      <td>статья рецензирование рецензия на проблема защ...</td>\n      <td>рецензирование</td>\n    </tr>\n    <tr>\n      <th>4</th>\n      <td>рецензия статья рецензия толстобровый статья ч...</td>\n      <td>рецензирование</td>\n    </tr>\n    <tr>\n      <th>...</th>\n      <td>...</td>\n      <td>...</td>\n    </tr>\n    <tr>\n      <th>820</th>\n      <td>статья рецензия рецензия сагдатуллин саит высы...</td>\n      <td>рецензирование</td>\n    </tr>\n    <tr>\n      <th>821</th>\n      <td>статья рис рис статие здравствуйте мой отправи...</td>\n      <td>вопросы</td>\n    </tr>\n    <tr>\n      <th>822</th>\n      <td>королев ответ замечание рецензент считаю стать...</td>\n      <td>рецензирование</td>\n    </tr>\n    <tr>\n      <th>823</th>\n      <td>конденсировать среда добрый день виктория викт...</td>\n      <td>другое</td>\n    </tr>\n    <tr>\n      <th>824</th>\n      <td>привет получить сообщение привет друг это тянь...</td>\n      <td>другое</td>\n    </tr>\n  </tbody>\n</table>\n<p>825 rows × 2 columns</p>\n</div>"
     },
     "execution_count": 30,
     "metadata": {},
     "output_type": "execute_result"
    }
   ],
   "source": [
    "df['text'] = clean_1_symbol(df['text'])\n",
    "df"
   ],
   "metadata": {
    "collapsed": false,
    "ExecuteTime": {
     "end_time": "2024-05-30T10:17:59.344840Z",
     "start_time": "2024-05-30T10:17:59.286109700Z"
    }
   },
   "id": "154d0f55c3e5d8a5"
  },
  {
   "cell_type": "code",
   "execution_count": 31,
   "outputs": [
    {
     "data": {
      "text/plain": "                                                  text        category\n0    повторный отправка рецензия гаршиной добрый ве...  рецензирование\n1                 шаблон рецензия новый спасибо нечаев          другое\n2    статья вестник саит рецензия рецензия толстобр...  рецензирование\n3    статья рецензирование рецензия на проблема защ...  рецензирование\n4    рецензия статья рецензия толстобровый статья ч...  рецензирование\n..                                                 ...             ...\n820  статья рецензия рецензия сагдатуллин саит высы...  рецензирование\n821  статья рис рис статие здравствуйте мой отправи...         вопросы\n822  королев ответ замечание рецензент считаю стать...  рецензирование\n823  конденсировать среда добрый день виктория викт...          другое\n824  привет получить сообщение привет друг это тянь...          другое\n\n[825 rows x 2 columns]",
      "text/html": "<div>\n<style scoped>\n    .dataframe tbody tr th:only-of-type {\n        vertical-align: middle;\n    }\n\n    .dataframe tbody tr th {\n        vertical-align: top;\n    }\n\n    .dataframe thead th {\n        text-align: right;\n    }\n</style>\n<table border=\"1\" class=\"dataframe\">\n  <thead>\n    <tr style=\"text-align: right;\">\n      <th></th>\n      <th>text</th>\n      <th>category</th>\n    </tr>\n  </thead>\n  <tbody>\n    <tr>\n      <th>0</th>\n      <td>повторный отправка рецензия гаршиной добрый ве...</td>\n      <td>рецензирование</td>\n    </tr>\n    <tr>\n      <th>1</th>\n      <td>шаблон рецензия новый спасибо нечаев</td>\n      <td>другое</td>\n    </tr>\n    <tr>\n      <th>2</th>\n      <td>статья вестник саит рецензия рецензия толстобр...</td>\n      <td>рецензирование</td>\n    </tr>\n    <tr>\n      <th>3</th>\n      <td>статья рецензирование рецензия на проблема защ...</td>\n      <td>рецензирование</td>\n    </tr>\n    <tr>\n      <th>4</th>\n      <td>рецензия статья рецензия толстобровый статья ч...</td>\n      <td>рецензирование</td>\n    </tr>\n    <tr>\n      <th>...</th>\n      <td>...</td>\n      <td>...</td>\n    </tr>\n    <tr>\n      <th>820</th>\n      <td>статья рецензия рецензия сагдатуллин саит высы...</td>\n      <td>рецензирование</td>\n    </tr>\n    <tr>\n      <th>821</th>\n      <td>статья рис рис статие здравствуйте мой отправи...</td>\n      <td>вопросы</td>\n    </tr>\n    <tr>\n      <th>822</th>\n      <td>королев ответ замечание рецензент считаю стать...</td>\n      <td>рецензирование</td>\n    </tr>\n    <tr>\n      <th>823</th>\n      <td>конденсировать среда добрый день виктория викт...</td>\n      <td>другое</td>\n    </tr>\n    <tr>\n      <th>824</th>\n      <td>привет получить сообщение привет друг это тянь...</td>\n      <td>другое</td>\n    </tr>\n  </tbody>\n</table>\n<p>825 rows × 2 columns</p>\n</div>"
     },
     "execution_count": 31,
     "metadata": {},
     "output_type": "execute_result"
    }
   ],
   "source": [
    "df.fillna(\"нет текста\")"
   ],
   "metadata": {
    "collapsed": false,
    "ExecuteTime": {
     "end_time": "2024-05-30T10:18:29.146943700Z",
     "start_time": "2024-05-30T10:18:29.123156700Z"
    }
   },
   "id": "88631bad04aae911"
  },
  {
   "cell_type": "code",
   "execution_count": 36,
   "outputs": [],
   "source": [
    "df.drop(df[df['text']==''].index, inplace=True)"
   ],
   "metadata": {
    "collapsed": false,
    "ExecuteTime": {
     "end_time": "2024-05-30T10:22:00.816941300Z",
     "start_time": "2024-05-30T10:22:00.788352400Z"
    }
   },
   "id": "a46f808495ea1229"
  },
  {
   "cell_type": "code",
   "execution_count": 37,
   "outputs": [
    {
     "data": {
      "text/plain": "Empty DataFrame\nColumns: [text, category]\nIndex: []",
      "text/html": "<div>\n<style scoped>\n    .dataframe tbody tr th:only-of-type {\n        vertical-align: middle;\n    }\n\n    .dataframe tbody tr th {\n        vertical-align: top;\n    }\n\n    .dataframe thead th {\n        text-align: right;\n    }\n</style>\n<table border=\"1\" class=\"dataframe\">\n  <thead>\n    <tr style=\"text-align: right;\">\n      <th></th>\n      <th>text</th>\n      <th>category</th>\n    </tr>\n  </thead>\n  <tbody>\n  </tbody>\n</table>\n</div>"
     },
     "execution_count": 37,
     "metadata": {},
     "output_type": "execute_result"
    }
   ],
   "source": [
    "empty = df[df['text']=='']\n",
    "empty"
   ],
   "metadata": {
    "collapsed": false,
    "ExecuteTime": {
     "end_time": "2024-05-30T10:22:03.178836500Z",
     "start_time": "2024-05-30T10:22:03.162333Z"
    }
   },
   "id": "bbd7620a053d80bf"
  },
  {
   "cell_type": "code",
   "execution_count": 38,
   "outputs": [],
   "source": [
    "df.to_csv('files/11_texts_lemmatized_no_punct_no_en.csv', index=False)"
   ],
   "metadata": {
    "collapsed": false,
    "ExecuteTime": {
     "end_time": "2024-05-30T10:22:05.912630600Z",
     "start_time": "2024-05-30T10:22:05.864103700Z"
    }
   },
   "id": "66a2809dd0b53050"
  }
 ],
 "metadata": {
  "kernelspec": {
   "display_name": "Python 3",
   "language": "python",
   "name": "python3"
  },
  "language_info": {
   "codemirror_mode": {
    "name": "ipython",
    "version": 2
   },
   "file_extension": ".py",
   "mimetype": "text/x-python",
   "name": "python",
   "nbconvert_exporter": "python",
   "pygments_lexer": "ipython2",
   "version": "2.7.6"
  }
 },
 "nbformat": 4,
 "nbformat_minor": 5
}
