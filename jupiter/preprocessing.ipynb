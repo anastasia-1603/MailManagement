{
 "cells": [
  {
   "cell_type": "markdown",
   "source": [
    "Исходные данные"
   ],
   "metadata": {
    "collapsed": false
   },
   "id": "e33d5f8f1d5f9050"
  },
  {
   "cell_type": "markdown",
   "source": [
    "из mails_to_csv"
   ],
   "metadata": {
    "collapsed": false
   },
   "id": "abfd29c4843d48d5"
  },
  {
   "cell_type": "code",
   "execution_count": 20,
   "outputs": [],
   "source": [
    "import re\n",
    "import time\n",
    "\n",
    "import pandas as pd\n",
    "import string"
   ],
   "metadata": {
    "collapsed": false,
    "ExecuteTime": {
     "end_time": "2024-06-09T13:56:04.530877600Z",
     "start_time": "2024-06-09T13:56:04.511582300Z"
    }
   },
   "id": "initial_id"
  },
  {
   "cell_type": "code",
   "execution_count": 24,
   "outputs": [
    {
     "data": {
      "text/plain": "                                                   text             category\n0     Повторная отправка Рецензия Гаршиной.doc Добры...       рецензирование\n1          Re: Шаблон рецензии (новый)  Спасибо.Нечаев.               другое\n2     RE: статья Вестник САИТ Рецензия Рецензия Толс...       рецензирование\n3     RE: статья для рецензирования рецензия_на_Проб...       рецензирование\n4     RE: рецензия на статью Рецензия Толстоброва на...       рецензирование\n...                                                 ...                  ...\n1717  Привет, ! Подготовленная авторами статья стано...  готово к публикации\n1718  Дорого! После внесения необходимых изменений с...  готово к публикации\n1719  Привет, ! Мы рады сообщить, что статья прошла ...  готово к публикации\n1720  Дорогой! После устранения рецензийных замечани...  готово к публикации\n1721  Привет, ! Статья подготовлена к публикации с у...  готово к публикации\n\n[1722 rows x 2 columns]",
      "text/html": "<div>\n<style scoped>\n    .dataframe tbody tr th:only-of-type {\n        vertical-align: middle;\n    }\n\n    .dataframe tbody tr th {\n        vertical-align: top;\n    }\n\n    .dataframe thead th {\n        text-align: right;\n    }\n</style>\n<table border=\"1\" class=\"dataframe\">\n  <thead>\n    <tr style=\"text-align: right;\">\n      <th></th>\n      <th>text</th>\n      <th>category</th>\n    </tr>\n  </thead>\n  <tbody>\n    <tr>\n      <th>0</th>\n      <td>Повторная отправка Рецензия Гаршиной.doc Добры...</td>\n      <td>рецензирование</td>\n    </tr>\n    <tr>\n      <th>1</th>\n      <td>Re: Шаблон рецензии (новый)  Спасибо.Нечаев.</td>\n      <td>другое</td>\n    </tr>\n    <tr>\n      <th>2</th>\n      <td>RE: статья Вестник САИТ Рецензия Рецензия Толс...</td>\n      <td>рецензирование</td>\n    </tr>\n    <tr>\n      <th>3</th>\n      <td>RE: статья для рецензирования рецензия_на_Проб...</td>\n      <td>рецензирование</td>\n    </tr>\n    <tr>\n      <th>4</th>\n      <td>RE: рецензия на статью Рецензия Толстоброва на...</td>\n      <td>рецензирование</td>\n    </tr>\n    <tr>\n      <th>...</th>\n      <td>...</td>\n      <td>...</td>\n    </tr>\n    <tr>\n      <th>1717</th>\n      <td>Привет, ! Подготовленная авторами статья стано...</td>\n      <td>готово к публикации</td>\n    </tr>\n    <tr>\n      <th>1718</th>\n      <td>Дорого! После внесения необходимых изменений с...</td>\n      <td>готово к публикации</td>\n    </tr>\n    <tr>\n      <th>1719</th>\n      <td>Привет, ! Мы рады сообщить, что статья прошла ...</td>\n      <td>готово к публикации</td>\n    </tr>\n    <tr>\n      <th>1720</th>\n      <td>Дорогой! После устранения рецензийных замечани...</td>\n      <td>готово к публикации</td>\n    </tr>\n    <tr>\n      <th>1721</th>\n      <td>Привет, ! Статья подготовлена к публикации с у...</td>\n      <td>готово к публикации</td>\n    </tr>\n  </tbody>\n</table>\n<p>1722 rows × 2 columns</p>\n</div>"
     },
     "execution_count": 24,
     "metadata": {},
     "output_type": "execute_result"
    }
   ],
   "source": [
    "df = pd.read_csv('files/12_augmented_source.csv')\n",
    "df"
   ],
   "metadata": {
    "collapsed": false,
    "ExecuteTime": {
     "end_time": "2024-06-09T13:59:49.337568100Z",
     "start_time": "2024-06-09T13:59:49.254732700Z"
    }
   },
   "id": "e4c4690f06333f49"
  },
  {
   "cell_type": "code",
   "execution_count": 25,
   "outputs": [],
   "source": [
    "df_aug = pd.read_csv('files/translated_2.csv', encoding='windows-1251', delimiter=';')"
   ],
   "metadata": {
    "collapsed": false,
    "ExecuteTime": {
     "end_time": "2024-06-09T14:00:01.622463500Z",
     "start_time": "2024-06-09T14:00:01.549216600Z"
    }
   },
   "id": "bf8967044b0ef854"
  },
  {
   "cell_type": "code",
   "execution_count": 27,
   "outputs": [
    {
     "data": {
      "text/plain": "                                                  текст  \\\n0     Отправить отзыв о Garshina.doc повторно Добрый...   \n1            Re: Шаблон обзора (новый) Спасибо Нечаеву.   \n2     RE: Рецензия на статью \"Вестника САИТ\" Рецензи...   \n3     RE: статья на обзор review_on_Problem автора u...   \n4     RE: рецензия на статью Толстоброва рецензия на...   \n...                                                 ...   \n1717  Доброе утро, ! Подготовленная авторами статья ...   \n1718  Дорогой! После внесения необходимых изменений ...   \n1719  Доброе утро, ! Мы рады сообщить, что статья пр...   \n1720  Дорогой! После удаления комментариев статья го...   \n1721  Доброе утро, ! Статья подготовлена к публикаци...   \n\n                        категория  \n0     Пока мы не встретимся снова  \n1                          другой  \n2     Пока мы не встретимся снова  \n3     Пока мы не встретимся снова  \n4     Пока мы не встретимся снова  \n...                           ...  \n1717           готов к публикации  \n1718           готов к публикации  \n1719           готов к публикации  \n1720           готов к публикации  \n1721           готов к публикации  \n\n[1722 rows x 2 columns]",
      "text/html": "<div>\n<style scoped>\n    .dataframe tbody tr th:only-of-type {\n        vertical-align: middle;\n    }\n\n    .dataframe tbody tr th {\n        vertical-align: top;\n    }\n\n    .dataframe thead th {\n        text-align: right;\n    }\n</style>\n<table border=\"1\" class=\"dataframe\">\n  <thead>\n    <tr style=\"text-align: right;\">\n      <th></th>\n      <th>текст</th>\n      <th>категория</th>\n    </tr>\n  </thead>\n  <tbody>\n    <tr>\n      <th>0</th>\n      <td>Отправить отзыв о Garshina.doc повторно Добрый...</td>\n      <td>Пока мы не встретимся снова</td>\n    </tr>\n    <tr>\n      <th>1</th>\n      <td>Re: Шаблон обзора (новый) Спасибо Нечаеву.</td>\n      <td>другой</td>\n    </tr>\n    <tr>\n      <th>2</th>\n      <td>RE: Рецензия на статью \"Вестника САИТ\" Рецензи...</td>\n      <td>Пока мы не встретимся снова</td>\n    </tr>\n    <tr>\n      <th>3</th>\n      <td>RE: статья на обзор review_on_Problem автора u...</td>\n      <td>Пока мы не встретимся снова</td>\n    </tr>\n    <tr>\n      <th>4</th>\n      <td>RE: рецензия на статью Толстоброва рецензия на...</td>\n      <td>Пока мы не встретимся снова</td>\n    </tr>\n    <tr>\n      <th>...</th>\n      <td>...</td>\n      <td>...</td>\n    </tr>\n    <tr>\n      <th>1717</th>\n      <td>Доброе утро, ! Подготовленная авторами статья ...</td>\n      <td>готов к публикации</td>\n    </tr>\n    <tr>\n      <th>1718</th>\n      <td>Дорогой! После внесения необходимых изменений ...</td>\n      <td>готов к публикации</td>\n    </tr>\n    <tr>\n      <th>1719</th>\n      <td>Доброе утро, ! Мы рады сообщить, что статья пр...</td>\n      <td>готов к публикации</td>\n    </tr>\n    <tr>\n      <th>1720</th>\n      <td>Дорогой! После удаления комментариев статья го...</td>\n      <td>готов к публикации</td>\n    </tr>\n    <tr>\n      <th>1721</th>\n      <td>Доброе утро, ! Статья подготовлена к публикаци...</td>\n      <td>готов к публикации</td>\n    </tr>\n  </tbody>\n</table>\n<p>1722 rows × 2 columns</p>\n</div>"
     },
     "execution_count": 27,
     "metadata": {},
     "output_type": "execute_result"
    }
   ],
   "source": [
    "df_aug"
   ],
   "metadata": {
    "collapsed": false,
    "ExecuteTime": {
     "end_time": "2024-06-09T14:00:08.776224900Z",
     "start_time": "2024-06-09T14:00:08.740426800Z"
    }
   },
   "id": "30dc6846f664afcd"
  },
  {
   "cell_type": "code",
   "execution_count": 117,
   "outputs": [],
   "source": [
    "# df.drop(df_aug.columns[2:], axis=1, inplace=True, errors='ignore')"
   ],
   "metadata": {
    "collapsed": false,
    "ExecuteTime": {
     "end_time": "2024-06-08T22:58:26.317891700Z",
     "start_time": "2024-06-08T22:58:26.295163Z"
    }
   },
   "id": "ad66c4a94f8c6079"
  },
  {
   "cell_type": "code",
   "execution_count": 119,
   "outputs": [
    {
     "data": {
      "text/plain": "(861, 2)"
     },
     "execution_count": 119,
     "metadata": {},
     "output_type": "execute_result"
    }
   ],
   "source": [
    "# df_aug.shape"
   ],
   "metadata": {
    "collapsed": false,
    "ExecuteTime": {
     "end_time": "2024-06-08T22:58:49.942380400Z",
     "start_time": "2024-06-08T22:58:49.917928500Z"
    }
   },
   "id": "f71a5c9aced15a02"
  },
  {
   "cell_type": "code",
   "execution_count": 28,
   "outputs": [],
   "source": [
    "df_aug['категория'] = df['category']"
   ],
   "metadata": {
    "collapsed": false,
    "ExecuteTime": {
     "end_time": "2024-06-09T14:00:31.422698600Z",
     "start_time": "2024-06-09T14:00:31.388923200Z"
    }
   },
   "id": "5d4ded1949782822"
  },
  {
   "cell_type": "code",
   "execution_count": 29,
   "outputs": [
    {
     "data": {
      "text/plain": "                                                  текст            категория\n0     Отправить отзыв о Garshina.doc повторно Добрый...       рецензирование\n1            Re: Шаблон обзора (новый) Спасибо Нечаеву.               другое\n2     RE: Рецензия на статью \"Вестника САИТ\" Рецензи...       рецензирование\n3     RE: статья на обзор review_on_Problem автора u...       рецензирование\n4     RE: рецензия на статью Толстоброва рецензия на...       рецензирование\n...                                                 ...                  ...\n1717  Доброе утро, ! Подготовленная авторами статья ...  готово к публикации\n1718  Дорогой! После внесения необходимых изменений ...  готово к публикации\n1719  Доброе утро, ! Мы рады сообщить, что статья пр...  готово к публикации\n1720  Дорогой! После удаления комментариев статья го...  готово к публикации\n1721  Доброе утро, ! Статья подготовлена к публикаци...  готово к публикации\n\n[1722 rows x 2 columns]",
      "text/html": "<div>\n<style scoped>\n    .dataframe tbody tr th:only-of-type {\n        vertical-align: middle;\n    }\n\n    .dataframe tbody tr th {\n        vertical-align: top;\n    }\n\n    .dataframe thead th {\n        text-align: right;\n    }\n</style>\n<table border=\"1\" class=\"dataframe\">\n  <thead>\n    <tr style=\"text-align: right;\">\n      <th></th>\n      <th>текст</th>\n      <th>категория</th>\n    </tr>\n  </thead>\n  <tbody>\n    <tr>\n      <th>0</th>\n      <td>Отправить отзыв о Garshina.doc повторно Добрый...</td>\n      <td>рецензирование</td>\n    </tr>\n    <tr>\n      <th>1</th>\n      <td>Re: Шаблон обзора (новый) Спасибо Нечаеву.</td>\n      <td>другое</td>\n    </tr>\n    <tr>\n      <th>2</th>\n      <td>RE: Рецензия на статью \"Вестника САИТ\" Рецензи...</td>\n      <td>рецензирование</td>\n    </tr>\n    <tr>\n      <th>3</th>\n      <td>RE: статья на обзор review_on_Problem автора u...</td>\n      <td>рецензирование</td>\n    </tr>\n    <tr>\n      <th>4</th>\n      <td>RE: рецензия на статью Толстоброва рецензия на...</td>\n      <td>рецензирование</td>\n    </tr>\n    <tr>\n      <th>...</th>\n      <td>...</td>\n      <td>...</td>\n    </tr>\n    <tr>\n      <th>1717</th>\n      <td>Доброе утро, ! Подготовленная авторами статья ...</td>\n      <td>готово к публикации</td>\n    </tr>\n    <tr>\n      <th>1718</th>\n      <td>Дорогой! После внесения необходимых изменений ...</td>\n      <td>готово к публикации</td>\n    </tr>\n    <tr>\n      <th>1719</th>\n      <td>Доброе утро, ! Мы рады сообщить, что статья пр...</td>\n      <td>готово к публикации</td>\n    </tr>\n    <tr>\n      <th>1720</th>\n      <td>Дорогой! После удаления комментариев статья го...</td>\n      <td>готово к публикации</td>\n    </tr>\n    <tr>\n      <th>1721</th>\n      <td>Доброе утро, ! Статья подготовлена к публикаци...</td>\n      <td>готово к публикации</td>\n    </tr>\n  </tbody>\n</table>\n<p>1722 rows × 2 columns</p>\n</div>"
     },
     "execution_count": 29,
     "metadata": {},
     "output_type": "execute_result"
    }
   ],
   "source": [
    "df_aug"
   ],
   "metadata": {
    "collapsed": false,
    "ExecuteTime": {
     "end_time": "2024-06-09T14:00:36.908585100Z",
     "start_time": "2024-06-09T14:00:36.854307200Z"
    }
   },
   "id": "db44d5b7cb133f35"
  },
  {
   "cell_type": "code",
   "execution_count": null,
   "outputs": [],
   "source": [],
   "metadata": {
    "collapsed": false
   },
   "id": "af03889fbcf58be1"
  },
  {
   "cell_type": "code",
   "execution_count": 113,
   "outputs": [
    {
     "data": {
      "text/plain": "                                                  text             category\n0    Повторная отправка Рецензия Гаршиной.doc Добры...       рецензирование\n1         Re: Шаблон рецензии (новый)  Спасибо.Нечаев.               другое\n2    RE: статья Вестник САИТ Рецензия Рецензия Толс...       рецензирование\n3    RE: статья для рецензирования рецензия_на_Проб...       рецензирование\n4    RE: рецензия на статью Рецензия Толстоброва на...       рецензирование\n..                                                 ...                  ...\n856  Здравствуйте,  ! Статья, подготовленная автора...  готово к публикации\n857  Дорогая ! После внесения изменений в соответст...  готово к публикации\n858  Здравствуй, ! Мы рады сообщить, что статья про...  готово к публикации\n859  Уважаемая ! После устранения замечаний рецензе...  готово к публикации\n860  Здравствуйте,  ! С учетом рекомендаций рецензе...  готово к публикации\n\n[861 rows x 2 columns]",
      "text/html": "<div>\n<style scoped>\n    .dataframe tbody tr th:only-of-type {\n        vertical-align: middle;\n    }\n\n    .dataframe tbody tr th {\n        vertical-align: top;\n    }\n\n    .dataframe thead th {\n        text-align: right;\n    }\n</style>\n<table border=\"1\" class=\"dataframe\">\n  <thead>\n    <tr style=\"text-align: right;\">\n      <th></th>\n      <th>text</th>\n      <th>category</th>\n    </tr>\n  </thead>\n  <tbody>\n    <tr>\n      <th>0</th>\n      <td>Повторная отправка Рецензия Гаршиной.doc Добры...</td>\n      <td>рецензирование</td>\n    </tr>\n    <tr>\n      <th>1</th>\n      <td>Re: Шаблон рецензии (новый)  Спасибо.Нечаев.</td>\n      <td>другое</td>\n    </tr>\n    <tr>\n      <th>2</th>\n      <td>RE: статья Вестник САИТ Рецензия Рецензия Толс...</td>\n      <td>рецензирование</td>\n    </tr>\n    <tr>\n      <th>3</th>\n      <td>RE: статья для рецензирования рецензия_на_Проб...</td>\n      <td>рецензирование</td>\n    </tr>\n    <tr>\n      <th>4</th>\n      <td>RE: рецензия на статью Рецензия Толстоброва на...</td>\n      <td>рецензирование</td>\n    </tr>\n    <tr>\n      <th>...</th>\n      <td>...</td>\n      <td>...</td>\n    </tr>\n    <tr>\n      <th>856</th>\n      <td>Здравствуйте,  ! Статья, подготовленная автора...</td>\n      <td>готово к публикации</td>\n    </tr>\n    <tr>\n      <th>857</th>\n      <td>Дорогая ! После внесения изменений в соответст...</td>\n      <td>готово к публикации</td>\n    </tr>\n    <tr>\n      <th>858</th>\n      <td>Здравствуй, ! Мы рады сообщить, что статья про...</td>\n      <td>готово к публикации</td>\n    </tr>\n    <tr>\n      <th>859</th>\n      <td>Уважаемая ! После устранения замечаний рецензе...</td>\n      <td>готово к публикации</td>\n    </tr>\n    <tr>\n      <th>860</th>\n      <td>Здравствуйте,  ! С учетом рекомендаций рецензе...</td>\n      <td>готово к публикации</td>\n    </tr>\n  </tbody>\n</table>\n<p>861 rows × 2 columns</p>\n</div>"
     },
     "execution_count": 113,
     "metadata": {},
     "output_type": "execute_result"
    }
   ],
   "source": [
    "df = df.fillna('')\n",
    "df"
   ],
   "metadata": {
    "collapsed": false,
    "ExecuteTime": {
     "end_time": "2024-06-08T22:07:53.597244Z",
     "start_time": "2024-06-08T22:07:53.567901500Z"
    }
   },
   "id": "6f99e7067e71b42"
  },
  {
   "cell_type": "code",
   "execution_count": 30,
   "outputs": [],
   "source": [
    "df_aug = df_aug.rename(columns={\"текст\": \"text\", \"категория\": \"category\"})"
   ],
   "metadata": {
    "collapsed": false,
    "ExecuteTime": {
     "end_time": "2024-06-09T14:00:52.848894100Z",
     "start_time": "2024-06-09T14:00:52.809281100Z"
    }
   },
   "id": "c2d6844cdc4cb401"
  },
  {
   "cell_type": "code",
   "execution_count": 31,
   "outputs": [],
   "source": [
    "result = pd.concat([df, df_aug], ignore_index=True, sort=False)"
   ],
   "metadata": {
    "collapsed": false,
    "ExecuteTime": {
     "end_time": "2024-06-09T14:01:01.770553500Z",
     "start_time": "2024-06-09T14:01:01.741823300Z"
    }
   },
   "id": "d508329c548ee38e"
  },
  {
   "cell_type": "code",
   "execution_count": 32,
   "outputs": [
    {
     "data": {
      "text/plain": "                                                   text             category\n0     Повторная отправка Рецензия Гаршиной.doc Добры...       рецензирование\n1          Re: Шаблон рецензии (новый)  Спасибо.Нечаев.               другое\n2     RE: статья Вестник САИТ Рецензия Рецензия Толс...       рецензирование\n3     RE: статья для рецензирования рецензия_на_Проб...       рецензирование\n4     RE: рецензия на статью Рецензия Толстоброва на...       рецензирование\n...                                                 ...                  ...\n3439  Доброе утро, ! Подготовленная авторами статья ...  готово к публикации\n3440  Дорогой! После внесения необходимых изменений ...  готово к публикации\n3441  Доброе утро, ! Мы рады сообщить, что статья пр...  готово к публикации\n3442  Дорогой! После удаления комментариев статья го...  готово к публикации\n3443  Доброе утро, ! Статья подготовлена к публикаци...  готово к публикации\n\n[3444 rows x 2 columns]",
      "text/html": "<div>\n<style scoped>\n    .dataframe tbody tr th:only-of-type {\n        vertical-align: middle;\n    }\n\n    .dataframe tbody tr th {\n        vertical-align: top;\n    }\n\n    .dataframe thead th {\n        text-align: right;\n    }\n</style>\n<table border=\"1\" class=\"dataframe\">\n  <thead>\n    <tr style=\"text-align: right;\">\n      <th></th>\n      <th>text</th>\n      <th>category</th>\n    </tr>\n  </thead>\n  <tbody>\n    <tr>\n      <th>0</th>\n      <td>Повторная отправка Рецензия Гаршиной.doc Добры...</td>\n      <td>рецензирование</td>\n    </tr>\n    <tr>\n      <th>1</th>\n      <td>Re: Шаблон рецензии (новый)  Спасибо.Нечаев.</td>\n      <td>другое</td>\n    </tr>\n    <tr>\n      <th>2</th>\n      <td>RE: статья Вестник САИТ Рецензия Рецензия Толс...</td>\n      <td>рецензирование</td>\n    </tr>\n    <tr>\n      <th>3</th>\n      <td>RE: статья для рецензирования рецензия_на_Проб...</td>\n      <td>рецензирование</td>\n    </tr>\n    <tr>\n      <th>4</th>\n      <td>RE: рецензия на статью Рецензия Толстоброва на...</td>\n      <td>рецензирование</td>\n    </tr>\n    <tr>\n      <th>...</th>\n      <td>...</td>\n      <td>...</td>\n    </tr>\n    <tr>\n      <th>3439</th>\n      <td>Доброе утро, ! Подготовленная авторами статья ...</td>\n      <td>готово к публикации</td>\n    </tr>\n    <tr>\n      <th>3440</th>\n      <td>Дорогой! После внесения необходимых изменений ...</td>\n      <td>готово к публикации</td>\n    </tr>\n    <tr>\n      <th>3441</th>\n      <td>Доброе утро, ! Мы рады сообщить, что статья пр...</td>\n      <td>готово к публикации</td>\n    </tr>\n    <tr>\n      <th>3442</th>\n      <td>Дорогой! После удаления комментариев статья го...</td>\n      <td>готово к публикации</td>\n    </tr>\n    <tr>\n      <th>3443</th>\n      <td>Доброе утро, ! Статья подготовлена к публикаци...</td>\n      <td>готово к публикации</td>\n    </tr>\n  </tbody>\n</table>\n<p>3444 rows × 2 columns</p>\n</div>"
     },
     "execution_count": 32,
     "metadata": {},
     "output_type": "execute_result"
    }
   ],
   "source": [
    "result"
   ],
   "metadata": {
    "collapsed": false,
    "ExecuteTime": {
     "end_time": "2024-06-09T14:01:05.865292500Z",
     "start_time": "2024-06-09T14:01:05.747700300Z"
    }
   },
   "id": "e19696b56e2554fa"
  },
  {
   "cell_type": "code",
   "execution_count": 33,
   "outputs": [],
   "source": [
    "result.to_csv('files/14_translated2_source.csv', index=False)"
   ],
   "metadata": {
    "collapsed": false,
    "ExecuteTime": {
     "end_time": "2024-06-09T14:01:38.384038Z",
     "start_time": "2024-06-09T14:01:38.276420200Z"
    }
   },
   "id": "78f96770fba51c33"
  },
  {
   "cell_type": "code",
   "execution_count": 41,
   "outputs": [],
   "source": [
    "df['text'] = df['subject'] + ' ' + df['attachment_filename'] + ' ' + df['text']"
   ],
   "metadata": {
    "collapsed": false,
    "ExecuteTime": {
     "end_time": "2024-05-30T10:27:42.329057100Z",
     "start_time": "2024-05-30T10:27:42.315030400Z"
    }
   },
   "id": "38c56b04c95c226d"
  },
  {
   "cell_type": "code",
   "execution_count": 42,
   "outputs": [],
   "source": [
    "df.drop(['id', 'subject','attachment_filename', 'date', 'attachment_content_type', 'from', 'headers'], axis=1, inplace=True, errors='ignore')"
   ],
   "metadata": {
    "collapsed": false,
    "ExecuteTime": {
     "end_time": "2024-05-30T10:27:44.966745300Z",
     "start_time": "2024-05-30T10:27:44.947992200Z"
    }
   },
   "id": "2d95f24638598c3"
  },
  {
   "cell_type": "code",
   "execution_count": 43,
   "outputs": [
    {
     "data": {
      "text/plain": "                                                  text        category\n0    Повторная отправка Рецензия Гаршиной.doc Добры...  рецензирование\n1         Re: Шаблон рецензии (новый)  Спасибо.Нечаев.          другое\n2    RE: статья Вестник САИТ Рецензия Рецензия Толс...  рецензирование\n3    RE: статья для рецензирования рецензия_на_Проб...  рецензирование\n4    RE: рецензия на статью Рецензия Толстоброва на...  рецензирование\n..                                                 ...             ...\n820  Re: статья на рецензию Рецензии Сагдатуллина А...  рецензирование\n821  статья Рис1.docx,Рис2.docx,Статья .doc Здравст...         вопросы\n822  Re: Королев= ответы на замечания рецензента От...  рецензирование\n823  Re: Конденсированные среды  Добрый день, Викто...          другое\n824  Привет, ты получил сообщение.  ????3.jpg Приве...          другое\n\n[825 rows x 2 columns]",
      "text/html": "<div>\n<style scoped>\n    .dataframe tbody tr th:only-of-type {\n        vertical-align: middle;\n    }\n\n    .dataframe tbody tr th {\n        vertical-align: top;\n    }\n\n    .dataframe thead th {\n        text-align: right;\n    }\n</style>\n<table border=\"1\" class=\"dataframe\">\n  <thead>\n    <tr style=\"text-align: right;\">\n      <th></th>\n      <th>text</th>\n      <th>category</th>\n    </tr>\n  </thead>\n  <tbody>\n    <tr>\n      <th>0</th>\n      <td>Повторная отправка Рецензия Гаршиной.doc Добры...</td>\n      <td>рецензирование</td>\n    </tr>\n    <tr>\n      <th>1</th>\n      <td>Re: Шаблон рецензии (новый)  Спасибо.Нечаев.</td>\n      <td>другое</td>\n    </tr>\n    <tr>\n      <th>2</th>\n      <td>RE: статья Вестник САИТ Рецензия Рецензия Толс...</td>\n      <td>рецензирование</td>\n    </tr>\n    <tr>\n      <th>3</th>\n      <td>RE: статья для рецензирования рецензия_на_Проб...</td>\n      <td>рецензирование</td>\n    </tr>\n    <tr>\n      <th>4</th>\n      <td>RE: рецензия на статью Рецензия Толстоброва на...</td>\n      <td>рецензирование</td>\n    </tr>\n    <tr>\n      <th>...</th>\n      <td>...</td>\n      <td>...</td>\n    </tr>\n    <tr>\n      <th>820</th>\n      <td>Re: статья на рецензию Рецензии Сагдатуллина А...</td>\n      <td>рецензирование</td>\n    </tr>\n    <tr>\n      <th>821</th>\n      <td>статья Рис1.docx,Рис2.docx,Статья .doc Здравст...</td>\n      <td>вопросы</td>\n    </tr>\n    <tr>\n      <th>822</th>\n      <td>Re: Королев= ответы на замечания рецензента От...</td>\n      <td>рецензирование</td>\n    </tr>\n    <tr>\n      <th>823</th>\n      <td>Re: Конденсированные среды  Добрый день, Викто...</td>\n      <td>другое</td>\n    </tr>\n    <tr>\n      <th>824</th>\n      <td>Привет, ты получил сообщение.  ????3.jpg Приве...</td>\n      <td>другое</td>\n    </tr>\n  </tbody>\n</table>\n<p>825 rows × 2 columns</p>\n</div>"
     },
     "execution_count": 43,
     "metadata": {},
     "output_type": "execute_result"
    }
   ],
   "source": [
    "df"
   ],
   "metadata": {
    "collapsed": false,
    "ExecuteTime": {
     "end_time": "2024-05-30T10:27:49.796309800Z",
     "start_time": "2024-05-30T10:27:49.782546700Z"
    }
   },
   "id": "e843c1f1d702b656"
  },
  {
   "cell_type": "code",
   "execution_count": 44,
   "outputs": [],
   "source": [
    "# df.to_csv('files/new_categ_dropped.csv', index=False)"
   ],
   "metadata": {
    "collapsed": false,
    "ExecuteTime": {
     "end_time": "2024-05-30T10:28:24.948189600Z",
     "start_time": "2024-05-30T10:28:24.896477500Z"
    }
   },
   "id": "dc60ee40a6550f6d"
  },
  {
   "cell_type": "code",
   "execution_count": 34,
   "outputs": [],
   "source": [
    "df = pd.read_csv('files/14_translated2_source.csv')"
   ],
   "metadata": {
    "collapsed": false,
    "ExecuteTime": {
     "end_time": "2024-06-09T14:02:28.132406Z",
     "start_time": "2024-06-09T14:02:28.004631300Z"
    }
   },
   "id": "2050138e17cb4b51"
  },
  {
   "cell_type": "code",
   "execution_count": 35,
   "outputs": [
    {
     "data": {
      "text/plain": "                                                   text             category\n0     Повторная отправка Рецензия Гаршиной.doc Добры...       рецензирование\n1          Re: Шаблон рецензии (новый)  Спасибо.Нечаев.               другое\n2     RE: статья Вестник САИТ Рецензия Рецензия Толс...       рецензирование\n3     RE: статья для рецензирования рецензия_на_Проб...       рецензирование\n4     RE: рецензия на статью Рецензия Толстоброва на...       рецензирование\n...                                                 ...                  ...\n3439  Доброе утро, ! Подготовленная авторами статья ...  готово к публикации\n3440  Дорогой! После внесения необходимых изменений ...  готово к публикации\n3441  Доброе утро, ! Мы рады сообщить, что статья пр...  готово к публикации\n3442  Дорогой! После удаления комментариев статья го...  готово к публикации\n3443  Доброе утро, ! Статья подготовлена к публикаци...  готово к публикации\n\n[3444 rows x 2 columns]",
      "text/html": "<div>\n<style scoped>\n    .dataframe tbody tr th:only-of-type {\n        vertical-align: middle;\n    }\n\n    .dataframe tbody tr th {\n        vertical-align: top;\n    }\n\n    .dataframe thead th {\n        text-align: right;\n    }\n</style>\n<table border=\"1\" class=\"dataframe\">\n  <thead>\n    <tr style=\"text-align: right;\">\n      <th></th>\n      <th>text</th>\n      <th>category</th>\n    </tr>\n  </thead>\n  <tbody>\n    <tr>\n      <th>0</th>\n      <td>Повторная отправка Рецензия Гаршиной.doc Добры...</td>\n      <td>рецензирование</td>\n    </tr>\n    <tr>\n      <th>1</th>\n      <td>Re: Шаблон рецензии (новый)  Спасибо.Нечаев.</td>\n      <td>другое</td>\n    </tr>\n    <tr>\n      <th>2</th>\n      <td>RE: статья Вестник САИТ Рецензия Рецензия Толс...</td>\n      <td>рецензирование</td>\n    </tr>\n    <tr>\n      <th>3</th>\n      <td>RE: статья для рецензирования рецензия_на_Проб...</td>\n      <td>рецензирование</td>\n    </tr>\n    <tr>\n      <th>4</th>\n      <td>RE: рецензия на статью Рецензия Толстоброва на...</td>\n      <td>рецензирование</td>\n    </tr>\n    <tr>\n      <th>...</th>\n      <td>...</td>\n      <td>...</td>\n    </tr>\n    <tr>\n      <th>3439</th>\n      <td>Доброе утро, ! Подготовленная авторами статья ...</td>\n      <td>готово к публикации</td>\n    </tr>\n    <tr>\n      <th>3440</th>\n      <td>Дорогой! После внесения необходимых изменений ...</td>\n      <td>готово к публикации</td>\n    </tr>\n    <tr>\n      <th>3441</th>\n      <td>Доброе утро, ! Мы рады сообщить, что статья пр...</td>\n      <td>готово к публикации</td>\n    </tr>\n    <tr>\n      <th>3442</th>\n      <td>Дорогой! После удаления комментариев статья го...</td>\n      <td>готово к публикации</td>\n    </tr>\n    <tr>\n      <th>3443</th>\n      <td>Доброе утро, ! Статья подготовлена к публикаци...</td>\n      <td>готово к публикации</td>\n    </tr>\n  </tbody>\n</table>\n<p>3444 rows × 2 columns</p>\n</div>"
     },
     "execution_count": 35,
     "metadata": {},
     "output_type": "execute_result"
    }
   ],
   "source": [
    "df"
   ],
   "metadata": {
    "collapsed": false,
    "ExecuteTime": {
     "end_time": "2024-06-09T14:02:32.408704100Z",
     "start_time": "2024-06-09T14:02:32.378801700Z"
    }
   },
   "id": "5527fcf2b4543893"
  },
  {
   "cell_type": "code",
   "execution_count": 36,
   "outputs": [],
   "source": [
    "# Удаляется возврат каретки, лишние пробелы и знаки переноса строки\n",
    "\n",
    "def preprocess_text(texts):\n",
    "    column = []\n",
    "    for t in texts:\n",
    "        t = str(t)      \n",
    "        t = re.sub(r'\\r+', ' ', t)\n",
    "        t = re.sub(r'\\xa0+', ' ', t)\n",
    "        t = re.sub(r'(\\n\\s*)+', '\\n', t)\n",
    "        column.append(t)\n",
    "    return column"
   ],
   "metadata": {
    "collapsed": false,
    "ExecuteTime": {
     "end_time": "2024-06-09T14:02:35.993600700Z",
     "start_time": "2024-06-09T14:02:35.952986300Z"
    }
   },
   "id": "824fc4d944309cb2"
  },
  {
   "cell_type": "code",
   "execution_count": 37,
   "outputs": [
    {
     "data": {
      "text/plain": "                                                   text             category\n0     Повторная отправка Рецензия Гаршиной.doc Добры...       рецензирование\n1          Re: Шаблон рецензии (новый)  Спасибо.Нечаев.               другое\n2     RE: статья Вестник САИТ Рецензия Рецензия Толс...       рецензирование\n3     RE: статья для рецензирования рецензия_на_Проб...       рецензирование\n4     RE: рецензия на статью Рецензия Толстоброва на...       рецензирование\n...                                                 ...                  ...\n3439  Доброе утро, ! Подготовленная авторами статья ...  готово к публикации\n3440  Дорогой! После внесения необходимых изменений ...  готово к публикации\n3441  Доброе утро, ! Мы рады сообщить, что статья пр...  готово к публикации\n3442  Дорогой! После удаления комментариев статья го...  готово к публикации\n3443  Доброе утро, ! Статья подготовлена к публикаци...  готово к публикации\n\n[3444 rows x 2 columns]",
      "text/html": "<div>\n<style scoped>\n    .dataframe tbody tr th:only-of-type {\n        vertical-align: middle;\n    }\n\n    .dataframe tbody tr th {\n        vertical-align: top;\n    }\n\n    .dataframe thead th {\n        text-align: right;\n    }\n</style>\n<table border=\"1\" class=\"dataframe\">\n  <thead>\n    <tr style=\"text-align: right;\">\n      <th></th>\n      <th>text</th>\n      <th>category</th>\n    </tr>\n  </thead>\n  <tbody>\n    <tr>\n      <th>0</th>\n      <td>Повторная отправка Рецензия Гаршиной.doc Добры...</td>\n      <td>рецензирование</td>\n    </tr>\n    <tr>\n      <th>1</th>\n      <td>Re: Шаблон рецензии (новый)  Спасибо.Нечаев.</td>\n      <td>другое</td>\n    </tr>\n    <tr>\n      <th>2</th>\n      <td>RE: статья Вестник САИТ Рецензия Рецензия Толс...</td>\n      <td>рецензирование</td>\n    </tr>\n    <tr>\n      <th>3</th>\n      <td>RE: статья для рецензирования рецензия_на_Проб...</td>\n      <td>рецензирование</td>\n    </tr>\n    <tr>\n      <th>4</th>\n      <td>RE: рецензия на статью Рецензия Толстоброва на...</td>\n      <td>рецензирование</td>\n    </tr>\n    <tr>\n      <th>...</th>\n      <td>...</td>\n      <td>...</td>\n    </tr>\n    <tr>\n      <th>3439</th>\n      <td>Доброе утро, ! Подготовленная авторами статья ...</td>\n      <td>готово к публикации</td>\n    </tr>\n    <tr>\n      <th>3440</th>\n      <td>Дорогой! После внесения необходимых изменений ...</td>\n      <td>готово к публикации</td>\n    </tr>\n    <tr>\n      <th>3441</th>\n      <td>Доброе утро, ! Мы рады сообщить, что статья пр...</td>\n      <td>готово к публикации</td>\n    </tr>\n    <tr>\n      <th>3442</th>\n      <td>Дорогой! После удаления комментариев статья го...</td>\n      <td>готово к публикации</td>\n    </tr>\n    <tr>\n      <th>3443</th>\n      <td>Доброе утро, ! Статья подготовлена к публикаци...</td>\n      <td>готово к публикации</td>\n    </tr>\n  </tbody>\n</table>\n<p>3444 rows × 2 columns</p>\n</div>"
     },
     "execution_count": 37,
     "metadata": {},
     "output_type": "execute_result"
    }
   ],
   "source": [
    "df['text'] = preprocess_text(df['text'])\n",
    "df"
   ],
   "metadata": {
    "collapsed": false,
    "ExecuteTime": {
     "end_time": "2024-06-09T14:02:37.789117800Z",
     "start_time": "2024-06-09T14:02:37.573500300Z"
    }
   },
   "id": "e4b109c78cb202dd"
  },
  {
   "cell_type": "code",
   "execution_count": 38,
   "outputs": [],
   "source": [
    "def remove_re_header(t: str):\n",
    "    t = re.sub(r'\\r+', ' ', t)\n",
    "    t = re.sub(r'(>+)', '', t)\n",
    "    t = re.sub(r'\\xa0+', ' ', t)\n",
    "    t = re.sub(r'(\\n\\s*)+', '\\n', t)\n",
    "    # пример 1\n",
    "    pattern = r'Пересылаемое сообщение((.*?)(Тема:.*?))\\n'\n",
    "    # пример 2\n",
    "    pattern2 = r'Original Message((.*?)(Subject:.*?))\\n'\n",
    "    # пример 3\n",
    "    pattern3 = r'(\\n\\d{1,2}\\s(?:января|февраля|марта|апреля|мая|июня|июля|августа|сентября|октября|ноября|декабря)\\s\\d{4}\\sг\\.,\\s\\d{1,2}:\\d{2}.*?пользователь.*?\\nнаписал: \\n)'\n",
    "    # пример 4, пример 6\n",
    "    pattern4 = r'On((.*?)(wrote:.*?))\\n'\n",
    "    # пример 5\n",
    "    pattern5 = r'(?:Понедельник|Вторник|Среда|Четверг|Пятница|Суббота|Воскресенье).*?:\\s'\n",
    "    # пример 7\n",
    "    pattern7 = r'\\n(\\d{1,2}\\.\\d{2}\\.\\d{4}, \\d{2}:\\d{2},.*:\\s)'\n",
    "    t = re.sub(pattern, '', t, flags=re.DOTALL)\n",
    "    t = re.sub(pattern2, '', t, flags=re.DOTALL)\n",
    "    t = re.sub(pattern3, '', t)\n",
    "    t = re.sub(pattern4, '', t, flags=re.DOTALL)\n",
    "    t = re.sub(pattern5, '', t, flags=re.DOTALL)\n",
    "    t = re.sub(pattern7, '', t, flags=re.DOTALL)\n",
    "    return t"
   ],
   "metadata": {
    "collapsed": false,
    "ExecuteTime": {
     "end_time": "2024-06-09T14:02:40.649290200Z",
     "start_time": "2024-06-09T14:02:40.620617900Z"
    }
   },
   "id": "1a5042eb31a8f53a"
  },
  {
   "cell_type": "code",
   "execution_count": 39,
   "outputs": [],
   "source": [
    "def remove_re_headers(texts: list[str]):\n",
    "    col = []\n",
    "    for tx in texts:\n",
    "        new = remove_re_header(str(tx))\n",
    "        col.append(new)\n",
    "    return col"
   ],
   "metadata": {
    "collapsed": false,
    "ExecuteTime": {
     "end_time": "2024-06-09T14:02:43.371580900Z",
     "start_time": "2024-06-09T14:02:43.321499800Z"
    }
   },
   "id": "438ab93d66da52ea"
  },
  {
   "cell_type": "code",
   "execution_count": 40,
   "outputs": [
    {
     "data": {
      "text/plain": "                                                   text             category\n0     Повторная отправка Рецензия Гаршиной.doc Добры...       рецензирование\n1          Re: Шаблон рецензии (новый)  Спасибо.Нечаев.               другое\n2     RE: статья Вестник САИТ Рецензия Рецензия Толс...       рецензирование\n3     RE: статья для рецензирования рецензия_на_Проб...       рецензирование\n4     RE: рецензия на статью Рецензия Толстоброва на...       рецензирование\n...                                                 ...                  ...\n3439  Доброе утро, ! Подготовленная авторами статья ...  готово к публикации\n3440  Дорогой! После внесения необходимых изменений ...  готово к публикации\n3441  Доброе утро, ! Мы рады сообщить, что статья пр...  готово к публикации\n3442  Дорогой! После удаления комментариев статья го...  готово к публикации\n3443  Доброе утро, ! Статья подготовлена к публикаци...  готово к публикации\n\n[3444 rows x 2 columns]",
      "text/html": "<div>\n<style scoped>\n    .dataframe tbody tr th:only-of-type {\n        vertical-align: middle;\n    }\n\n    .dataframe tbody tr th {\n        vertical-align: top;\n    }\n\n    .dataframe thead th {\n        text-align: right;\n    }\n</style>\n<table border=\"1\" class=\"dataframe\">\n  <thead>\n    <tr style=\"text-align: right;\">\n      <th></th>\n      <th>text</th>\n      <th>category</th>\n    </tr>\n  </thead>\n  <tbody>\n    <tr>\n      <th>0</th>\n      <td>Повторная отправка Рецензия Гаршиной.doc Добры...</td>\n      <td>рецензирование</td>\n    </tr>\n    <tr>\n      <th>1</th>\n      <td>Re: Шаблон рецензии (новый)  Спасибо.Нечаев.</td>\n      <td>другое</td>\n    </tr>\n    <tr>\n      <th>2</th>\n      <td>RE: статья Вестник САИТ Рецензия Рецензия Толс...</td>\n      <td>рецензирование</td>\n    </tr>\n    <tr>\n      <th>3</th>\n      <td>RE: статья для рецензирования рецензия_на_Проб...</td>\n      <td>рецензирование</td>\n    </tr>\n    <tr>\n      <th>4</th>\n      <td>RE: рецензия на статью Рецензия Толстоброва на...</td>\n      <td>рецензирование</td>\n    </tr>\n    <tr>\n      <th>...</th>\n      <td>...</td>\n      <td>...</td>\n    </tr>\n    <tr>\n      <th>3439</th>\n      <td>Доброе утро, ! Подготовленная авторами статья ...</td>\n      <td>готово к публикации</td>\n    </tr>\n    <tr>\n      <th>3440</th>\n      <td>Дорогой! После внесения необходимых изменений ...</td>\n      <td>готово к публикации</td>\n    </tr>\n    <tr>\n      <th>3441</th>\n      <td>Доброе утро, ! Мы рады сообщить, что статья пр...</td>\n      <td>готово к публикации</td>\n    </tr>\n    <tr>\n      <th>3442</th>\n      <td>Дорогой! После удаления комментариев статья го...</td>\n      <td>готово к публикации</td>\n    </tr>\n    <tr>\n      <th>3443</th>\n      <td>Доброе утро, ! Статья подготовлена к публикаци...</td>\n      <td>готово к публикации</td>\n    </tr>\n  </tbody>\n</table>\n<p>3444 rows × 2 columns</p>\n</div>"
     },
     "execution_count": 40,
     "metadata": {},
     "output_type": "execute_result"
    }
   ],
   "source": [
    "df['text'] = remove_re_headers(df['text'])\n",
    "df"
   ],
   "metadata": {
    "collapsed": false,
    "ExecuteTime": {
     "end_time": "2024-06-09T14:02:45.537631600Z",
     "start_time": "2024-06-09T14:02:45.208464200Z"
    }
   },
   "id": "56011090c3b050e0"
  },
  {
   "cell_type": "code",
   "execution_count": 41,
   "outputs": [],
   "source": [
    "def remove_personal_sign(texts):\n",
    "    col = []\n",
    "    for t in texts:\n",
    "        t = str(t)\n",
    "        pattern_sign = r'(Отв.*?)\\n'\n",
    "        pattern_sign2 = r'С уважением.*?\\n'\n",
    "        t = re.sub(pattern_sign, '', t)\n",
    "        t = re.sub(pattern_sign2, '', t)\n",
    "        col.append(t)\n",
    "    return col"
   ],
   "metadata": {
    "collapsed": false,
    "ExecuteTime": {
     "end_time": "2024-06-09T14:02:49.527894400Z",
     "start_time": "2024-06-09T14:02:49.495221800Z"
    }
   },
   "id": "6f16735d873022df"
  },
  {
   "cell_type": "code",
   "execution_count": 42,
   "outputs": [
    {
     "data": {
      "text/plain": "                                                   text             category\n0     Повторная отправка Рецензия Гаршиной.doc Добры...       рецензирование\n1          Re: Шаблон рецензии (новый)  Спасибо.Нечаев.               другое\n2     RE: статья Вестник САИТ Рецензия Рецензия Толс...       рецензирование\n3     RE: статья для рецензирования рецензия_на_Проб...       рецензирование\n4     RE: рецензия на статью Рецензия Толстоброва на...       рецензирование\n...                                                 ...                  ...\n3439  Доброе утро, ! Подготовленная авторами статья ...  готово к публикации\n3440  Дорогой! После внесения необходимых изменений ...  готово к публикации\n3441  Доброе утро, ! Мы рады сообщить, что статья пр...  готово к публикации\n3442  Дорогой! После удаления комментариев статья го...  готово к публикации\n3443  Доброе утро, ! Статья подготовлена к публикаци...  готово к публикации\n\n[3444 rows x 2 columns]",
      "text/html": "<div>\n<style scoped>\n    .dataframe tbody tr th:only-of-type {\n        vertical-align: middle;\n    }\n\n    .dataframe tbody tr th {\n        vertical-align: top;\n    }\n\n    .dataframe thead th {\n        text-align: right;\n    }\n</style>\n<table border=\"1\" class=\"dataframe\">\n  <thead>\n    <tr style=\"text-align: right;\">\n      <th></th>\n      <th>text</th>\n      <th>category</th>\n    </tr>\n  </thead>\n  <tbody>\n    <tr>\n      <th>0</th>\n      <td>Повторная отправка Рецензия Гаршиной.doc Добры...</td>\n      <td>рецензирование</td>\n    </tr>\n    <tr>\n      <th>1</th>\n      <td>Re: Шаблон рецензии (новый)  Спасибо.Нечаев.</td>\n      <td>другое</td>\n    </tr>\n    <tr>\n      <th>2</th>\n      <td>RE: статья Вестник САИТ Рецензия Рецензия Толс...</td>\n      <td>рецензирование</td>\n    </tr>\n    <tr>\n      <th>3</th>\n      <td>RE: статья для рецензирования рецензия_на_Проб...</td>\n      <td>рецензирование</td>\n    </tr>\n    <tr>\n      <th>4</th>\n      <td>RE: рецензия на статью Рецензия Толстоброва на...</td>\n      <td>рецензирование</td>\n    </tr>\n    <tr>\n      <th>...</th>\n      <td>...</td>\n      <td>...</td>\n    </tr>\n    <tr>\n      <th>3439</th>\n      <td>Доброе утро, ! Подготовленная авторами статья ...</td>\n      <td>готово к публикации</td>\n    </tr>\n    <tr>\n      <th>3440</th>\n      <td>Дорогой! После внесения необходимых изменений ...</td>\n      <td>готово к публикации</td>\n    </tr>\n    <tr>\n      <th>3441</th>\n      <td>Доброе утро, ! Мы рады сообщить, что статья пр...</td>\n      <td>готово к публикации</td>\n    </tr>\n    <tr>\n      <th>3442</th>\n      <td>Дорогой! После удаления комментариев статья го...</td>\n      <td>готово к публикации</td>\n    </tr>\n    <tr>\n      <th>3443</th>\n      <td>Доброе утро, ! Статья подготовлена к публикаци...</td>\n      <td>готово к публикации</td>\n    </tr>\n  </tbody>\n</table>\n<p>3444 rows × 2 columns</p>\n</div>"
     },
     "execution_count": 42,
     "metadata": {},
     "output_type": "execute_result"
    }
   ],
   "source": [
    "df['text'] = remove_personal_sign(df['text'])\n",
    "df"
   ],
   "metadata": {
    "collapsed": false,
    "ExecuteTime": {
     "end_time": "2024-06-09T14:02:51.068536600Z",
     "start_time": "2024-06-09T14:02:50.990751800Z"
    }
   },
   "id": "4a174363594aaa8"
  },
  {
   "cell_type": "code",
   "execution_count": 43,
   "outputs": [],
   "source": [
    "def remove_mails_urls(texts):\n",
    "    column = []\n",
    "    for s in texts:\n",
    "        s = str(s)\n",
    "        mail = r'\\S+@\\S+\\.\\S+'\n",
    "        s = re.sub(mail, '', s)\n",
    "        url = r\"(?i)\\b((?:https?://|www\\d{0,3}[.]|[a-z0-9.\\-]+[.][a-z]{2,4}/)(?:[^\\s()<>]+|\\(([^\\s()<>]+|(\\([^\\s()<>]+\\)))*\\))+(?:\\(([^\\s()<>]+|(\\([^\\s()<>]+\\)))*\\)|[^\\s`!()\\[\\]{};:'\\\".,<>?«»“”‘’]))\"\n",
    "        s = re.sub(url, '', s)\n",
    "        column.append(s)\n",
    "    return column"
   ],
   "metadata": {
    "collapsed": false,
    "ExecuteTime": {
     "end_time": "2024-06-09T14:02:53.448906400Z",
     "start_time": "2024-06-09T14:02:53.408990200Z"
    }
   },
   "id": "ad0e3c9f830cbbd1"
  },
  {
   "cell_type": "code",
   "execution_count": 44,
   "outputs": [
    {
     "data": {
      "text/plain": "                                                   text             category\n0     Повторная отправка Рецензия Гаршиной.doc Добры...       рецензирование\n1          Re: Шаблон рецензии (новый)  Спасибо.Нечаев.               другое\n2     RE: статья Вестник САИТ Рецензия Рецензия Толс...       рецензирование\n3     RE: статья для рецензирования рецензия_на_Проб...       рецензирование\n4     RE: рецензия на статью Рецензия Толстоброва на...       рецензирование\n...                                                 ...                  ...\n3439  Доброе утро, ! Подготовленная авторами статья ...  готово к публикации\n3440  Дорогой! После внесения необходимых изменений ...  готово к публикации\n3441  Доброе утро, ! Мы рады сообщить, что статья пр...  готово к публикации\n3442  Дорогой! После удаления комментариев статья го...  готово к публикации\n3443  Доброе утро, ! Статья подготовлена к публикаци...  готово к публикации\n\n[3444 rows x 2 columns]",
      "text/html": "<div>\n<style scoped>\n    .dataframe tbody tr th:only-of-type {\n        vertical-align: middle;\n    }\n\n    .dataframe tbody tr th {\n        vertical-align: top;\n    }\n\n    .dataframe thead th {\n        text-align: right;\n    }\n</style>\n<table border=\"1\" class=\"dataframe\">\n  <thead>\n    <tr style=\"text-align: right;\">\n      <th></th>\n      <th>text</th>\n      <th>category</th>\n    </tr>\n  </thead>\n  <tbody>\n    <tr>\n      <th>0</th>\n      <td>Повторная отправка Рецензия Гаршиной.doc Добры...</td>\n      <td>рецензирование</td>\n    </tr>\n    <tr>\n      <th>1</th>\n      <td>Re: Шаблон рецензии (новый)  Спасибо.Нечаев.</td>\n      <td>другое</td>\n    </tr>\n    <tr>\n      <th>2</th>\n      <td>RE: статья Вестник САИТ Рецензия Рецензия Толс...</td>\n      <td>рецензирование</td>\n    </tr>\n    <tr>\n      <th>3</th>\n      <td>RE: статья для рецензирования рецензия_на_Проб...</td>\n      <td>рецензирование</td>\n    </tr>\n    <tr>\n      <th>4</th>\n      <td>RE: рецензия на статью Рецензия Толстоброва на...</td>\n      <td>рецензирование</td>\n    </tr>\n    <tr>\n      <th>...</th>\n      <td>...</td>\n      <td>...</td>\n    </tr>\n    <tr>\n      <th>3439</th>\n      <td>Доброе утро, ! Подготовленная авторами статья ...</td>\n      <td>готово к публикации</td>\n    </tr>\n    <tr>\n      <th>3440</th>\n      <td>Дорогой! После внесения необходимых изменений ...</td>\n      <td>готово к публикации</td>\n    </tr>\n    <tr>\n      <th>3441</th>\n      <td>Доброе утро, ! Мы рады сообщить, что статья пр...</td>\n      <td>готово к публикации</td>\n    </tr>\n    <tr>\n      <th>3442</th>\n      <td>Дорогой! После удаления комментариев статья го...</td>\n      <td>готово к публикации</td>\n    </tr>\n    <tr>\n      <th>3443</th>\n      <td>Доброе утро, ! Статья подготовлена к публикаци...</td>\n      <td>готово к публикации</td>\n    </tr>\n  </tbody>\n</table>\n<p>3444 rows × 2 columns</p>\n</div>"
     },
     "execution_count": 44,
     "metadata": {},
     "output_type": "execute_result"
    }
   ],
   "source": [
    "df['text'] = remove_mails_urls(df['text'])\n",
    "df"
   ],
   "metadata": {
    "collapsed": false,
    "ExecuteTime": {
     "end_time": "2024-06-09T14:02:56.459041600Z",
     "start_time": "2024-06-09T14:02:56.088857600Z"
    }
   },
   "id": "324d7c9de0264416"
  },
  {
   "cell_type": "code",
   "execution_count": 45,
   "outputs": [],
   "source": [
    "def clean_text_from_fwd(texts):\n",
    "    column = []\n",
    "    for s in texts:\n",
    "        s = s.lower()\n",
    "        s = s.replace('re:', '')\n",
    "        s = re.sub('re\\[.\\]:', '', s)\n",
    "        s = s.replace('fwd', '')\n",
    "        s = s.replace('fw', '')\n",
    "        s = re.sub(r'\\s+', ' ', s)\n",
    "        column.append(s)\n",
    "    return column"
   ],
   "metadata": {
    "collapsed": false,
    "ExecuteTime": {
     "end_time": "2024-06-09T14:02:59.668765200Z",
     "start_time": "2024-06-09T14:02:59.628627100Z"
    }
   },
   "id": "790a83a8b563e790"
  },
  {
   "cell_type": "code",
   "execution_count": 46,
   "outputs": [
    {
     "data": {
      "text/plain": "                                                   text             category\n0     повторная отправка рецензия гаршиной.doc добры...       рецензирование\n1               шаблон рецензии (новый) спасибо.нечаев.               другое\n2      статья вестник саит рецензия рецензия толстоб...       рецензирование\n3      статья для рецензирования рецензия_на_проблем...       рецензирование\n4      рецензия на статью рецензия толстоброва на ст...       рецензирование\n...                                                 ...                  ...\n3439  доброе утро, ! подготовленная авторами статья ...  готово к публикации\n3440  дорогой! после внесения необходимых изменений ...  готово к публикации\n3441  доброе утро, ! мы рады сообщить, что статья пр...  готово к публикации\n3442  дорогой! после удаления комментариев статья го...  готово к публикации\n3443  доброе утро, ! статья подготовлена к публикаци...  готово к публикации\n\n[3444 rows x 2 columns]",
      "text/html": "<div>\n<style scoped>\n    .dataframe tbody tr th:only-of-type {\n        vertical-align: middle;\n    }\n\n    .dataframe tbody tr th {\n        vertical-align: top;\n    }\n\n    .dataframe thead th {\n        text-align: right;\n    }\n</style>\n<table border=\"1\" class=\"dataframe\">\n  <thead>\n    <tr style=\"text-align: right;\">\n      <th></th>\n      <th>text</th>\n      <th>category</th>\n    </tr>\n  </thead>\n  <tbody>\n    <tr>\n      <th>0</th>\n      <td>повторная отправка рецензия гаршиной.doc добры...</td>\n      <td>рецензирование</td>\n    </tr>\n    <tr>\n      <th>1</th>\n      <td>шаблон рецензии (новый) спасибо.нечаев.</td>\n      <td>другое</td>\n    </tr>\n    <tr>\n      <th>2</th>\n      <td>статья вестник саит рецензия рецензия толстоб...</td>\n      <td>рецензирование</td>\n    </tr>\n    <tr>\n      <th>3</th>\n      <td>статья для рецензирования рецензия_на_проблем...</td>\n      <td>рецензирование</td>\n    </tr>\n    <tr>\n      <th>4</th>\n      <td>рецензия на статью рецензия толстоброва на ст...</td>\n      <td>рецензирование</td>\n    </tr>\n    <tr>\n      <th>...</th>\n      <td>...</td>\n      <td>...</td>\n    </tr>\n    <tr>\n      <th>3439</th>\n      <td>доброе утро, ! подготовленная авторами статья ...</td>\n      <td>готово к публикации</td>\n    </tr>\n    <tr>\n      <th>3440</th>\n      <td>дорогой! после внесения необходимых изменений ...</td>\n      <td>готово к публикации</td>\n    </tr>\n    <tr>\n      <th>3441</th>\n      <td>доброе утро, ! мы рады сообщить, что статья пр...</td>\n      <td>готово к публикации</td>\n    </tr>\n    <tr>\n      <th>3442</th>\n      <td>дорогой! после удаления комментариев статья го...</td>\n      <td>готово к публикации</td>\n    </tr>\n    <tr>\n      <th>3443</th>\n      <td>доброе утро, ! статья подготовлена к публикаци...</td>\n      <td>готово к публикации</td>\n    </tr>\n  </tbody>\n</table>\n<p>3444 rows × 2 columns</p>\n</div>"
     },
     "execution_count": 46,
     "metadata": {},
     "output_type": "execute_result"
    }
   ],
   "source": [
    "df['text'] = clean_text_from_fwd(df['text'])\n",
    "df"
   ],
   "metadata": {
    "collapsed": false,
    "ExecuteTime": {
     "end_time": "2024-06-09T14:03:10.089300600Z",
     "start_time": "2024-06-09T14:03:09.919297400Z"
    }
   },
   "id": "386d3fca8c2491a9"
  },
  {
   "cell_type": "code",
   "execution_count": 47,
   "outputs": [],
   "source": [
    "df.to_csv('files/14_preprocessed.csv', index=False)"
   ],
   "metadata": {
    "collapsed": false,
    "ExecuteTime": {
     "end_time": "2024-06-09T14:03:21.793187600Z",
     "start_time": "2024-06-09T14:03:21.699201Z"
    }
   },
   "id": "4013e628f5edb2e2"
  },
  {
   "cell_type": "code",
   "execution_count": 52,
   "outputs": [],
   "source": [
    "df = pd.read_csv('files/14_preprocessed.csv')"
   ],
   "metadata": {
    "collapsed": false,
    "ExecuteTime": {
     "end_time": "2024-06-09T14:04:02.059310500Z",
     "start_time": "2024-06-09T14:04:01.958646300Z"
    }
   },
   "id": "8c154b8fd9ddf8a9"
  },
  {
   "cell_type": "code",
   "execution_count": 53,
   "outputs": [],
   "source": [
    "import string\n",
    "from nltk.corpus import stopwords\n",
    "stop = stopwords.words('russian')\n",
    "# conv_text = lambda mas_in : [''.join([j for j in i if j.lower() in rus]) for i in mas_in]\n",
    "# docs = ' '.join([x for x in conv_text(texts['text'].values)])\n",
    "\n",
    "def clean_text(texts):\n",
    "    column = []\n",
    "    texts = texts.apply(lambda x: ' '.join([word for word in x.split() if word not in stop]))\n",
    "    for s in texts:\n",
    "        s = re.sub('[«»\\t—…<>%№’!:+]', '', s)\n",
    "        s = re.sub(r'[0-9]+', '', s)\n",
    "        s = re.sub(r'\\s+', ' ', s)\n",
    "        column.append(s)\n",
    "    return column\n"
   ],
   "metadata": {
    "collapsed": false,
    "ExecuteTime": {
     "end_time": "2024-06-09T14:04:03.268498200Z",
     "start_time": "2024-06-09T14:04:03.230159800Z"
    }
   },
   "id": "ef57867d455a4b6d"
  },
  {
   "cell_type": "code",
   "execution_count": 54,
   "outputs": [
    {
     "data": {
      "text/plain": "                                                   text             category\n0     повторная отправка рецензия гаршиной.doc добры...       рецензирование\n1               шаблон рецензии (новый) спасибо.нечаев.               другое\n2     статья вестник саит рецензия рецензия толстобр...       рецензирование\n3     статья рецензирования рецензия_на_проблема защ...       рецензирование\n4     рецензия статью рецензия толстоброва статью че...       рецензирование\n...                                                 ...                  ...\n3439  доброе утро, подготовленная авторами статья ст...  готово к публикации\n3440  дорогой внесения необходимых изменений учетом ...  готово к публикации\n3441  доброе утро, рады сообщить, статья прошла реце...  готово к публикации\n3442  дорогой удаления комментариев статья готова пу...  готово к публикации\n3443  доброе утро, статья подготовлена публикации уч...  готово к публикации\n\n[3444 rows x 2 columns]",
      "text/html": "<div>\n<style scoped>\n    .dataframe tbody tr th:only-of-type {\n        vertical-align: middle;\n    }\n\n    .dataframe tbody tr th {\n        vertical-align: top;\n    }\n\n    .dataframe thead th {\n        text-align: right;\n    }\n</style>\n<table border=\"1\" class=\"dataframe\">\n  <thead>\n    <tr style=\"text-align: right;\">\n      <th></th>\n      <th>text</th>\n      <th>category</th>\n    </tr>\n  </thead>\n  <tbody>\n    <tr>\n      <th>0</th>\n      <td>повторная отправка рецензия гаршиной.doc добры...</td>\n      <td>рецензирование</td>\n    </tr>\n    <tr>\n      <th>1</th>\n      <td>шаблон рецензии (новый) спасибо.нечаев.</td>\n      <td>другое</td>\n    </tr>\n    <tr>\n      <th>2</th>\n      <td>статья вестник саит рецензия рецензия толстобр...</td>\n      <td>рецензирование</td>\n    </tr>\n    <tr>\n      <th>3</th>\n      <td>статья рецензирования рецензия_на_проблема защ...</td>\n      <td>рецензирование</td>\n    </tr>\n    <tr>\n      <th>4</th>\n      <td>рецензия статью рецензия толстоброва статью че...</td>\n      <td>рецензирование</td>\n    </tr>\n    <tr>\n      <th>...</th>\n      <td>...</td>\n      <td>...</td>\n    </tr>\n    <tr>\n      <th>3439</th>\n      <td>доброе утро, подготовленная авторами статья ст...</td>\n      <td>готово к публикации</td>\n    </tr>\n    <tr>\n      <th>3440</th>\n      <td>дорогой внесения необходимых изменений учетом ...</td>\n      <td>готово к публикации</td>\n    </tr>\n    <tr>\n      <th>3441</th>\n      <td>доброе утро, рады сообщить, статья прошла реце...</td>\n      <td>готово к публикации</td>\n    </tr>\n    <tr>\n      <th>3442</th>\n      <td>дорогой удаления комментариев статья готова пу...</td>\n      <td>готово к публикации</td>\n    </tr>\n    <tr>\n      <th>3443</th>\n      <td>доброе утро, статья подготовлена публикации уч...</td>\n      <td>готово к публикации</td>\n    </tr>\n  </tbody>\n</table>\n<p>3444 rows × 2 columns</p>\n</div>"
     },
     "execution_count": 54,
     "metadata": {},
     "output_type": "execute_result"
    }
   ],
   "source": [
    "df['text'] = clean_text(df['text'])\n",
    "df"
   ],
   "metadata": {
    "collapsed": false,
    "ExecuteTime": {
     "end_time": "2024-06-09T14:04:05.818715900Z",
     "start_time": "2024-06-09T14:04:05.030494900Z"
    }
   },
   "id": "ef7e100ff652c70e"
  },
  {
   "cell_type": "code",
   "execution_count": 51,
   "outputs": [],
   "source": [],
   "metadata": {
    "collapsed": false,
    "ExecuteTime": {
     "end_time": "2024-06-09T14:03:45.743292900Z",
     "start_time": "2024-06-09T14:03:45.673282Z"
    }
   },
   "id": "9ce78242537b3354"
  },
  {
   "cell_type": "code",
   "execution_count": 55,
   "outputs": [],
   "source": [
    "from pymorphy2 import MorphAnalyzer\n",
    "morph = MorphAnalyzer()\n",
    "\n",
    "def lemmatize(texts):\n",
    "    col = []\n",
    "    for t in texts:\n",
    "        words = t.split()\n",
    "        tokens = []\n",
    "        for w in words:\n",
    "            w = w.strip()\n",
    "            w = morph.normal_forms(w)[0]\n",
    "            tokens.append(w)\n",
    "        t = ' '.join(t for t in tokens)\n",
    "        col.append(t)\n",
    "    return col"
   ],
   "metadata": {
    "collapsed": false,
    "ExecuteTime": {
     "end_time": "2024-06-09T14:04:07.219290400Z",
     "start_time": "2024-06-09T14:04:06.960581800Z"
    }
   },
   "id": "ad5c19458ef9e9bb"
  },
  {
   "cell_type": "code",
   "execution_count": 56,
   "outputs": [
    {
     "data": {
      "text/plain": "                                                   text             category\n0     повторный отправка рецензия гаршиной.doc добры...       рецензирование\n1               шаблон рецензия (новый) спасибо.нечаев.               другое\n2     статья вестник саит рецензия рецензия толстобр...       рецензирование\n3     статья рецензирование рецензия_на_проблема защ...       рецензирование\n4     рецензия статья рецензия толстобровый статья ч...       рецензирование\n...                                                 ...                  ...\n3439  добрый утро, подготовить автор статья становит...  готово к публикации\n3440  дорога внесение необходимый изменение учёт зам...  готово к публикации\n3441  добрый утро, рада сообщить, статья пройти реце...  готово к публикации\n3442  дорога удаление комментарий статья готовый пуб...  готово к публикации\n3443  добрый утро, статья подготовить публикация учё...  готово к публикации\n\n[3444 rows x 2 columns]",
      "text/html": "<div>\n<style scoped>\n    .dataframe tbody tr th:only-of-type {\n        vertical-align: middle;\n    }\n\n    .dataframe tbody tr th {\n        vertical-align: top;\n    }\n\n    .dataframe thead th {\n        text-align: right;\n    }\n</style>\n<table border=\"1\" class=\"dataframe\">\n  <thead>\n    <tr style=\"text-align: right;\">\n      <th></th>\n      <th>text</th>\n      <th>category</th>\n    </tr>\n  </thead>\n  <tbody>\n    <tr>\n      <th>0</th>\n      <td>повторный отправка рецензия гаршиной.doc добры...</td>\n      <td>рецензирование</td>\n    </tr>\n    <tr>\n      <th>1</th>\n      <td>шаблон рецензия (новый) спасибо.нечаев.</td>\n      <td>другое</td>\n    </tr>\n    <tr>\n      <th>2</th>\n      <td>статья вестник саит рецензия рецензия толстобр...</td>\n      <td>рецензирование</td>\n    </tr>\n    <tr>\n      <th>3</th>\n      <td>статья рецензирование рецензия_на_проблема защ...</td>\n      <td>рецензирование</td>\n    </tr>\n    <tr>\n      <th>4</th>\n      <td>рецензия статья рецензия толстобровый статья ч...</td>\n      <td>рецензирование</td>\n    </tr>\n    <tr>\n      <th>...</th>\n      <td>...</td>\n      <td>...</td>\n    </tr>\n    <tr>\n      <th>3439</th>\n      <td>добрый утро, подготовить автор статья становит...</td>\n      <td>готово к публикации</td>\n    </tr>\n    <tr>\n      <th>3440</th>\n      <td>дорога внесение необходимый изменение учёт зам...</td>\n      <td>готово к публикации</td>\n    </tr>\n    <tr>\n      <th>3441</th>\n      <td>добрый утро, рада сообщить, статья пройти реце...</td>\n      <td>готово к публикации</td>\n    </tr>\n    <tr>\n      <th>3442</th>\n      <td>дорога удаление комментарий статья готовый пуб...</td>\n      <td>готово к публикации</td>\n    </tr>\n    <tr>\n      <th>3443</th>\n      <td>добрый утро, статья подготовить публикация учё...</td>\n      <td>готово к публикации</td>\n    </tr>\n  </tbody>\n</table>\n<p>3444 rows × 2 columns</p>\n</div>"
     },
     "execution_count": 56,
     "metadata": {},
     "output_type": "execute_result"
    }
   ],
   "source": [
    "df['text'] = lemmatize(df['text'])\n",
    "df"
   ],
   "metadata": {
    "collapsed": false,
    "ExecuteTime": {
     "end_time": "2024-06-09T14:04:42.779019900Z",
     "start_time": "2024-06-09T14:04:08.878529200Z"
    }
   },
   "id": "8a16470a1b354dfd"
  },
  {
   "cell_type": "code",
   "execution_count": 57,
   "outputs": [],
   "source": [
    "df.to_csv('files/14_normalized.csv', index=False)"
   ],
   "metadata": {
    "collapsed": false,
    "ExecuteTime": {
     "end_time": "2024-06-09T14:05:28.909549400Z",
     "start_time": "2024-06-09T14:05:28.820012800Z"
    }
   },
   "id": "a642db8c86a8bda7"
  },
  {
   "cell_type": "code",
   "execution_count": 137,
   "outputs": [],
   "source": [
    "df.to_csv('files/9_texts_lemmatized.csv', index=False)"
   ],
   "metadata": {
    "collapsed": false,
    "ExecuteTime": {
     "end_time": "2024-05-29T17:39:01.109536600Z",
     "start_time": "2024-05-29T17:39:01.043569100Z"
    }
   },
   "id": "ebf1d0fc7acf4094"
  },
  {
   "cell_type": "code",
   "execution_count": 3,
   "outputs": [
    {
     "data": {
      "text/plain": "                                                  text        category\n0    повторный отправка рецензия гаршиной.doc добры...  рецензирование\n1              шаблон рецензия (новый) спасибо.нечаев.          другое\n2    статья вестник саит рецензия рецензия толстобр...  рецензирование\n3    статья рецензирование рецензия_на_проблема защ...  рецензирование\n4    рецензия статья рецензия толстобровый статья ч...  рецензирование\n..                                                 ...             ...\n820  статья рецензия рецензия сагдатуллин а_м_саит....  рецензирование\n821  статья рис.docx,рис.docx,статие .doc здравству...         вопросы\n822  королев= ответ замечание рецензент считаю, ста...  рецензирование\n823  конденсировать среда добрый день, виктория вик...          другое\n824  привет, получить сообщение. ????.jpg привет др...          другое\n\n[825 rows x 2 columns]",
      "text/html": "<div>\n<style scoped>\n    .dataframe tbody tr th:only-of-type {\n        vertical-align: middle;\n    }\n\n    .dataframe tbody tr th {\n        vertical-align: top;\n    }\n\n    .dataframe thead th {\n        text-align: right;\n    }\n</style>\n<table border=\"1\" class=\"dataframe\">\n  <thead>\n    <tr style=\"text-align: right;\">\n      <th></th>\n      <th>text</th>\n      <th>category</th>\n    </tr>\n  </thead>\n  <tbody>\n    <tr>\n      <th>0</th>\n      <td>повторный отправка рецензия гаршиной.doc добры...</td>\n      <td>рецензирование</td>\n    </tr>\n    <tr>\n      <th>1</th>\n      <td>шаблон рецензия (новый) спасибо.нечаев.</td>\n      <td>другое</td>\n    </tr>\n    <tr>\n      <th>2</th>\n      <td>статья вестник саит рецензия рецензия толстобр...</td>\n      <td>рецензирование</td>\n    </tr>\n    <tr>\n      <th>3</th>\n      <td>статья рецензирование рецензия_на_проблема защ...</td>\n      <td>рецензирование</td>\n    </tr>\n    <tr>\n      <th>4</th>\n      <td>рецензия статья рецензия толстобровый статья ч...</td>\n      <td>рецензирование</td>\n    </tr>\n    <tr>\n      <th>...</th>\n      <td>...</td>\n      <td>...</td>\n    </tr>\n    <tr>\n      <th>820</th>\n      <td>статья рецензия рецензия сагдатуллин а_м_саит....</td>\n      <td>рецензирование</td>\n    </tr>\n    <tr>\n      <th>821</th>\n      <td>статья рис.docx,рис.docx,статие .doc здравству...</td>\n      <td>вопросы</td>\n    </tr>\n    <tr>\n      <th>822</th>\n      <td>королев= ответ замечание рецензент считаю, ста...</td>\n      <td>рецензирование</td>\n    </tr>\n    <tr>\n      <th>823</th>\n      <td>конденсировать среда добрый день, виктория вик...</td>\n      <td>другое</td>\n    </tr>\n    <tr>\n      <th>824</th>\n      <td>привет, получить сообщение. ????.jpg привет др...</td>\n      <td>другое</td>\n    </tr>\n  </tbody>\n</table>\n<p>825 rows × 2 columns</p>\n</div>"
     },
     "execution_count": 3,
     "metadata": {},
     "output_type": "execute_result"
    }
   ],
   "source": [
    "df = pd.read_csv('files/9_texts_lemmatized.csv')\n",
    "df"
   ],
   "metadata": {
    "collapsed": false,
    "ExecuteTime": {
     "end_time": "2024-05-30T09:49:12.699900Z",
     "start_time": "2024-05-30T09:49:12.644392100Z"
    }
   },
   "id": "acad0d315d7bfc35"
  },
  {
   "cell_type": "code",
   "execution_count": 10,
   "outputs": [],
   "source": [
    "def clean_punct(texts):\n",
    "    col = []\n",
    "    for t in texts:\n",
    "        t = re.sub(\"[\" + string.punctuation + \"]\", \" \", t)\n",
    "        t = re.sub(r'\\s+', ' ', t)\n",
    "        col.append(t)\n",
    "    return col\n",
    "        "
   ],
   "metadata": {
    "collapsed": false,
    "ExecuteTime": {
     "end_time": "2024-05-30T09:58:51.071078400Z",
     "start_time": "2024-05-30T09:58:51.047326600Z"
    }
   },
   "id": "a1c1e177af219dd3"
  },
  {
   "cell_type": "code",
   "execution_count": 11,
   "outputs": [
    {
     "data": {
      "text/plain": "                                                  text        category\n0    повторный отправка рецензия гаршиной doc добры...  рецензирование\n1                шаблон рецензия новый спасибо нечаев           другое\n2    статья вестник саит рецензия рецензия толстобр...  рецензирование\n3    статья рецензирование рецензия на проблема защ...  рецензирование\n4    рецензия статья рецензия толстобровый статья ч...  рецензирование\n..                                                 ...             ...\n820  статья рецензия рецензия сагдатуллин а м саит ...  рецензирование\n821  статья рис docx рис docx статие doc здравствуй...         вопросы\n822  королев ответ замечание рецензент считаю стать...  рецензирование\n823  конденсировать среда добрый день виктория викт...          другое\n824  привет получить сообщение jpg привет друг это ...          другое\n\n[825 rows x 2 columns]",
      "text/html": "<div>\n<style scoped>\n    .dataframe tbody tr th:only-of-type {\n        vertical-align: middle;\n    }\n\n    .dataframe tbody tr th {\n        vertical-align: top;\n    }\n\n    .dataframe thead th {\n        text-align: right;\n    }\n</style>\n<table border=\"1\" class=\"dataframe\">\n  <thead>\n    <tr style=\"text-align: right;\">\n      <th></th>\n      <th>text</th>\n      <th>category</th>\n    </tr>\n  </thead>\n  <tbody>\n    <tr>\n      <th>0</th>\n      <td>повторный отправка рецензия гаршиной doc добры...</td>\n      <td>рецензирование</td>\n    </tr>\n    <tr>\n      <th>1</th>\n      <td>шаблон рецензия новый спасибо нечаев</td>\n      <td>другое</td>\n    </tr>\n    <tr>\n      <th>2</th>\n      <td>статья вестник саит рецензия рецензия толстобр...</td>\n      <td>рецензирование</td>\n    </tr>\n    <tr>\n      <th>3</th>\n      <td>статья рецензирование рецензия на проблема защ...</td>\n      <td>рецензирование</td>\n    </tr>\n    <tr>\n      <th>4</th>\n      <td>рецензия статья рецензия толстобровый статья ч...</td>\n      <td>рецензирование</td>\n    </tr>\n    <tr>\n      <th>...</th>\n      <td>...</td>\n      <td>...</td>\n    </tr>\n    <tr>\n      <th>820</th>\n      <td>статья рецензия рецензия сагдатуллин а м саит ...</td>\n      <td>рецензирование</td>\n    </tr>\n    <tr>\n      <th>821</th>\n      <td>статья рис docx рис docx статие doc здравствуй...</td>\n      <td>вопросы</td>\n    </tr>\n    <tr>\n      <th>822</th>\n      <td>королев ответ замечание рецензент считаю стать...</td>\n      <td>рецензирование</td>\n    </tr>\n    <tr>\n      <th>823</th>\n      <td>конденсировать среда добрый день виктория викт...</td>\n      <td>другое</td>\n    </tr>\n    <tr>\n      <th>824</th>\n      <td>привет получить сообщение jpg привет друг это ...</td>\n      <td>другое</td>\n    </tr>\n  </tbody>\n</table>\n<p>825 rows × 2 columns</p>\n</div>"
     },
     "execution_count": 11,
     "metadata": {},
     "output_type": "execute_result"
    }
   ],
   "source": [
    "df['text']=clean_punct(df['text'])\n",
    "df"
   ],
   "metadata": {
    "collapsed": false,
    "ExecuteTime": {
     "end_time": "2024-05-30T09:58:52.389705900Z",
     "start_time": "2024-05-30T09:58:52.342150900Z"
    }
   },
   "id": "b076be43f6841a71"
  },
  {
   "cell_type": "code",
   "execution_count": 13,
   "outputs": [],
   "source": [
    "df.to_csv('files/10_texts_lemmatized_no_punct.csv', index=False)"
   ],
   "metadata": {
    "collapsed": false,
    "ExecuteTime": {
     "end_time": "2024-05-30T10:00:28.791326500Z",
     "start_time": "2024-05-30T10:00:28.759596500Z"
    }
   },
   "id": "7deaeffc66679b52"
  },
  {
   "cell_type": "code",
   "execution_count": 26,
   "outputs": [
    {
     "data": {
      "text/plain": "                                                  text        category\n0    повторный отправка рецензия гаршиной doc добры...  рецензирование\n1                шаблон рецензия новый спасибо нечаев           другое\n2    статья вестник саит рецензия рецензия толстобр...  рецензирование\n3    статья рецензирование рецензия на проблема защ...  рецензирование\n4    рецензия статья рецензия толстобровый статья ч...  рецензирование\n..                                                 ...             ...\n820  статья рецензия рецензия сагдатуллин а м саит ...  рецензирование\n821  статья рис docx рис docx статие doc здравствуй...         вопросы\n822  королев ответ замечание рецензент считаю стать...  рецензирование\n823  конденсировать среда добрый день виктория викт...          другое\n824  привет получить сообщение jpg привет друг это ...          другое\n\n[825 rows x 2 columns]",
      "text/html": "<div>\n<style scoped>\n    .dataframe tbody tr th:only-of-type {\n        vertical-align: middle;\n    }\n\n    .dataframe tbody tr th {\n        vertical-align: top;\n    }\n\n    .dataframe thead th {\n        text-align: right;\n    }\n</style>\n<table border=\"1\" class=\"dataframe\">\n  <thead>\n    <tr style=\"text-align: right;\">\n      <th></th>\n      <th>text</th>\n      <th>category</th>\n    </tr>\n  </thead>\n  <tbody>\n    <tr>\n      <th>0</th>\n      <td>повторный отправка рецензия гаршиной doc добры...</td>\n      <td>рецензирование</td>\n    </tr>\n    <tr>\n      <th>1</th>\n      <td>шаблон рецензия новый спасибо нечаев</td>\n      <td>другое</td>\n    </tr>\n    <tr>\n      <th>2</th>\n      <td>статья вестник саит рецензия рецензия толстобр...</td>\n      <td>рецензирование</td>\n    </tr>\n    <tr>\n      <th>3</th>\n      <td>статья рецензирование рецензия на проблема защ...</td>\n      <td>рецензирование</td>\n    </tr>\n    <tr>\n      <th>4</th>\n      <td>рецензия статья рецензия толстобровый статья ч...</td>\n      <td>рецензирование</td>\n    </tr>\n    <tr>\n      <th>...</th>\n      <td>...</td>\n      <td>...</td>\n    </tr>\n    <tr>\n      <th>820</th>\n      <td>статья рецензия рецензия сагдатуллин а м саит ...</td>\n      <td>рецензирование</td>\n    </tr>\n    <tr>\n      <th>821</th>\n      <td>статья рис docx рис docx статие doc здравствуй...</td>\n      <td>вопросы</td>\n    </tr>\n    <tr>\n      <th>822</th>\n      <td>королев ответ замечание рецензент считаю стать...</td>\n      <td>рецензирование</td>\n    </tr>\n    <tr>\n      <th>823</th>\n      <td>конденсировать среда добрый день виктория викт...</td>\n      <td>другое</td>\n    </tr>\n    <tr>\n      <th>824</th>\n      <td>привет получить сообщение jpg привет друг это ...</td>\n      <td>другое</td>\n    </tr>\n  </tbody>\n</table>\n<p>825 rows × 2 columns</p>\n</div>"
     },
     "execution_count": 26,
     "metadata": {},
     "output_type": "execute_result"
    }
   ],
   "source": [
    "df = pd.read_csv('files/10_texts_lemmatized_no_punct.csv')\n",
    "df"
   ],
   "metadata": {
    "collapsed": false,
    "ExecuteTime": {
     "end_time": "2024-05-30T10:17:50.596917400Z",
     "start_time": "2024-05-30T10:17:50.551819800Z"
    }
   },
   "id": "5224ae9b1000f84e"
  },
  {
   "cell_type": "code",
   "execution_count": 27,
   "outputs": [],
   "source": [
    "def clean_en(texts):\n",
    "    col = []\n",
    "    rus = set('абвгдеёжзийклмнопрстуфхцчшщъыьэюя ')\n",
    "    for t in texts:\n",
    "        words = t.split()\n",
    "        clean_w =lambda word: ''.join([ch for ch in word if ch in rus])\n",
    "        words_clean = [clean_w(word) for word in words]\n",
    "        t = ' '.join(w for w in words_clean)\n",
    "        t = re.sub(r'\\s+', ' ', t)\n",
    "        col.append(t)\n",
    "    return col"
   ],
   "metadata": {
    "collapsed": false,
    "ExecuteTime": {
     "end_time": "2024-05-30T10:17:54.044282900Z",
     "start_time": "2024-05-30T10:17:54.033343800Z"
    }
   },
   "id": "2b2195e188f07293"
  },
  {
   "cell_type": "code",
   "execution_count": 28,
   "outputs": [
    {
     "data": {
      "text/plain": "                                                  text        category\n0    повторный отправка рецензия гаршиной добрый ве...  рецензирование\n1                 шаблон рецензия новый спасибо нечаев          другое\n2    статья вестник саит рецензия рецензия толстобр...  рецензирование\n3    статья рецензирование рецензия на проблема защ...  рецензирование\n4    рецензия статья рецензия толстобровый статья ч...  рецензирование\n..                                                 ...             ...\n820  статья рецензия рецензия сагдатуллин а м саит ...  рецензирование\n821  статья рис рис статие здравствуйте мой отправи...         вопросы\n822  королев ответ замечание рецензент считаю стать...  рецензирование\n823  конденсировать среда добрый день виктория викт...          другое\n824  привет получить сообщение привет друг это тянь...          другое\n\n[825 rows x 2 columns]",
      "text/html": "<div>\n<style scoped>\n    .dataframe tbody tr th:only-of-type {\n        vertical-align: middle;\n    }\n\n    .dataframe tbody tr th {\n        vertical-align: top;\n    }\n\n    .dataframe thead th {\n        text-align: right;\n    }\n</style>\n<table border=\"1\" class=\"dataframe\">\n  <thead>\n    <tr style=\"text-align: right;\">\n      <th></th>\n      <th>text</th>\n      <th>category</th>\n    </tr>\n  </thead>\n  <tbody>\n    <tr>\n      <th>0</th>\n      <td>повторный отправка рецензия гаршиной добрый ве...</td>\n      <td>рецензирование</td>\n    </tr>\n    <tr>\n      <th>1</th>\n      <td>шаблон рецензия новый спасибо нечаев</td>\n      <td>другое</td>\n    </tr>\n    <tr>\n      <th>2</th>\n      <td>статья вестник саит рецензия рецензия толстобр...</td>\n      <td>рецензирование</td>\n    </tr>\n    <tr>\n      <th>3</th>\n      <td>статья рецензирование рецензия на проблема защ...</td>\n      <td>рецензирование</td>\n    </tr>\n    <tr>\n      <th>4</th>\n      <td>рецензия статья рецензия толстобровый статья ч...</td>\n      <td>рецензирование</td>\n    </tr>\n    <tr>\n      <th>...</th>\n      <td>...</td>\n      <td>...</td>\n    </tr>\n    <tr>\n      <th>820</th>\n      <td>статья рецензия рецензия сагдатуллин а м саит ...</td>\n      <td>рецензирование</td>\n    </tr>\n    <tr>\n      <th>821</th>\n      <td>статья рис рис статие здравствуйте мой отправи...</td>\n      <td>вопросы</td>\n    </tr>\n    <tr>\n      <th>822</th>\n      <td>королев ответ замечание рецензент считаю стать...</td>\n      <td>рецензирование</td>\n    </tr>\n    <tr>\n      <th>823</th>\n      <td>конденсировать среда добрый день виктория викт...</td>\n      <td>другое</td>\n    </tr>\n    <tr>\n      <th>824</th>\n      <td>привет получить сообщение привет друг это тянь...</td>\n      <td>другое</td>\n    </tr>\n  </tbody>\n</table>\n<p>825 rows × 2 columns</p>\n</div>"
     },
     "execution_count": 28,
     "metadata": {},
     "output_type": "execute_result"
    }
   ],
   "source": [
    "df['text'] = clean_en(df['text'])\n",
    "df"
   ],
   "metadata": {
    "collapsed": false,
    "ExecuteTime": {
     "end_time": "2024-05-30T10:17:55.702996700Z",
     "start_time": "2024-05-30T10:17:55.582725900Z"
    }
   },
   "id": "2436079cce68038e"
  },
  {
   "cell_type": "code",
   "execution_count": 29,
   "outputs": [],
   "source": [
    "def clean_1_symbol(texts):\n",
    "    col = []\n",
    "    for t in texts:\n",
    "        t = ' '.join([word for word in t.split() if len(word)>1])\n",
    "        t = re.sub(r'\\s+', ' ', t)\n",
    "        col.append(t)\n",
    "    return col"
   ],
   "metadata": {
    "collapsed": false,
    "ExecuteTime": {
     "end_time": "2024-05-30T10:17:58.368473100Z",
     "start_time": "2024-05-30T10:17:58.352423Z"
    }
   },
   "id": "6c1769a6ed43bd48"
  },
  {
   "cell_type": "code",
   "execution_count": 30,
   "outputs": [
    {
     "data": {
      "text/plain": "                                                  text        category\n0    повторный отправка рецензия гаршиной добрый ве...  рецензирование\n1                 шаблон рецензия новый спасибо нечаев          другое\n2    статья вестник саит рецензия рецензия толстобр...  рецензирование\n3    статья рецензирование рецензия на проблема защ...  рецензирование\n4    рецензия статья рецензия толстобровый статья ч...  рецензирование\n..                                                 ...             ...\n820  статья рецензия рецензия сагдатуллин саит высы...  рецензирование\n821  статья рис рис статие здравствуйте мой отправи...         вопросы\n822  королев ответ замечание рецензент считаю стать...  рецензирование\n823  конденсировать среда добрый день виктория викт...          другое\n824  привет получить сообщение привет друг это тянь...          другое\n\n[825 rows x 2 columns]",
      "text/html": "<div>\n<style scoped>\n    .dataframe tbody tr th:only-of-type {\n        vertical-align: middle;\n    }\n\n    .dataframe tbody tr th {\n        vertical-align: top;\n    }\n\n    .dataframe thead th {\n        text-align: right;\n    }\n</style>\n<table border=\"1\" class=\"dataframe\">\n  <thead>\n    <tr style=\"text-align: right;\">\n      <th></th>\n      <th>text</th>\n      <th>category</th>\n    </tr>\n  </thead>\n  <tbody>\n    <tr>\n      <th>0</th>\n      <td>повторный отправка рецензия гаршиной добрый ве...</td>\n      <td>рецензирование</td>\n    </tr>\n    <tr>\n      <th>1</th>\n      <td>шаблон рецензия новый спасибо нечаев</td>\n      <td>другое</td>\n    </tr>\n    <tr>\n      <th>2</th>\n      <td>статья вестник саит рецензия рецензия толстобр...</td>\n      <td>рецензирование</td>\n    </tr>\n    <tr>\n      <th>3</th>\n      <td>статья рецензирование рецензия на проблема защ...</td>\n      <td>рецензирование</td>\n    </tr>\n    <tr>\n      <th>4</th>\n      <td>рецензия статья рецензия толстобровый статья ч...</td>\n      <td>рецензирование</td>\n    </tr>\n    <tr>\n      <th>...</th>\n      <td>...</td>\n      <td>...</td>\n    </tr>\n    <tr>\n      <th>820</th>\n      <td>статья рецензия рецензия сагдатуллин саит высы...</td>\n      <td>рецензирование</td>\n    </tr>\n    <tr>\n      <th>821</th>\n      <td>статья рис рис статие здравствуйте мой отправи...</td>\n      <td>вопросы</td>\n    </tr>\n    <tr>\n      <th>822</th>\n      <td>королев ответ замечание рецензент считаю стать...</td>\n      <td>рецензирование</td>\n    </tr>\n    <tr>\n      <th>823</th>\n      <td>конденсировать среда добрый день виктория викт...</td>\n      <td>другое</td>\n    </tr>\n    <tr>\n      <th>824</th>\n      <td>привет получить сообщение привет друг это тянь...</td>\n      <td>другое</td>\n    </tr>\n  </tbody>\n</table>\n<p>825 rows × 2 columns</p>\n</div>"
     },
     "execution_count": 30,
     "metadata": {},
     "output_type": "execute_result"
    }
   ],
   "source": [
    "df['text'] = clean_1_symbol(df['text'])\n",
    "df"
   ],
   "metadata": {
    "collapsed": false,
    "ExecuteTime": {
     "end_time": "2024-05-30T10:17:59.344840Z",
     "start_time": "2024-05-30T10:17:59.286109700Z"
    }
   },
   "id": "154d0f55c3e5d8a5"
  },
  {
   "cell_type": "code",
   "execution_count": 31,
   "outputs": [
    {
     "data": {
      "text/plain": "                                                  text        category\n0    повторный отправка рецензия гаршиной добрый ве...  рецензирование\n1                 шаблон рецензия новый спасибо нечаев          другое\n2    статья вестник саит рецензия рецензия толстобр...  рецензирование\n3    статья рецензирование рецензия на проблема защ...  рецензирование\n4    рецензия статья рецензия толстобровый статья ч...  рецензирование\n..                                                 ...             ...\n820  статья рецензия рецензия сагдатуллин саит высы...  рецензирование\n821  статья рис рис статие здравствуйте мой отправи...         вопросы\n822  королев ответ замечание рецензент считаю стать...  рецензирование\n823  конденсировать среда добрый день виктория викт...          другое\n824  привет получить сообщение привет друг это тянь...          другое\n\n[825 rows x 2 columns]",
      "text/html": "<div>\n<style scoped>\n    .dataframe tbody tr th:only-of-type {\n        vertical-align: middle;\n    }\n\n    .dataframe tbody tr th {\n        vertical-align: top;\n    }\n\n    .dataframe thead th {\n        text-align: right;\n    }\n</style>\n<table border=\"1\" class=\"dataframe\">\n  <thead>\n    <tr style=\"text-align: right;\">\n      <th></th>\n      <th>text</th>\n      <th>category</th>\n    </tr>\n  </thead>\n  <tbody>\n    <tr>\n      <th>0</th>\n      <td>повторный отправка рецензия гаршиной добрый ве...</td>\n      <td>рецензирование</td>\n    </tr>\n    <tr>\n      <th>1</th>\n      <td>шаблон рецензия новый спасибо нечаев</td>\n      <td>другое</td>\n    </tr>\n    <tr>\n      <th>2</th>\n      <td>статья вестник саит рецензия рецензия толстобр...</td>\n      <td>рецензирование</td>\n    </tr>\n    <tr>\n      <th>3</th>\n      <td>статья рецензирование рецензия на проблема защ...</td>\n      <td>рецензирование</td>\n    </tr>\n    <tr>\n      <th>4</th>\n      <td>рецензия статья рецензия толстобровый статья ч...</td>\n      <td>рецензирование</td>\n    </tr>\n    <tr>\n      <th>...</th>\n      <td>...</td>\n      <td>...</td>\n    </tr>\n    <tr>\n      <th>820</th>\n      <td>статья рецензия рецензия сагдатуллин саит высы...</td>\n      <td>рецензирование</td>\n    </tr>\n    <tr>\n      <th>821</th>\n      <td>статья рис рис статие здравствуйте мой отправи...</td>\n      <td>вопросы</td>\n    </tr>\n    <tr>\n      <th>822</th>\n      <td>королев ответ замечание рецензент считаю стать...</td>\n      <td>рецензирование</td>\n    </tr>\n    <tr>\n      <th>823</th>\n      <td>конденсировать среда добрый день виктория викт...</td>\n      <td>другое</td>\n    </tr>\n    <tr>\n      <th>824</th>\n      <td>привет получить сообщение привет друг это тянь...</td>\n      <td>другое</td>\n    </tr>\n  </tbody>\n</table>\n<p>825 rows × 2 columns</p>\n</div>"
     },
     "execution_count": 31,
     "metadata": {},
     "output_type": "execute_result"
    }
   ],
   "source": [
    "df.fillna(\"нет текста\")"
   ],
   "metadata": {
    "collapsed": false,
    "ExecuteTime": {
     "end_time": "2024-05-30T10:18:29.146943700Z",
     "start_time": "2024-05-30T10:18:29.123156700Z"
    }
   },
   "id": "88631bad04aae911"
  },
  {
   "cell_type": "code",
   "execution_count": 36,
   "outputs": [],
   "source": [
    "df.drop(df[df['text']==''].index, inplace=True)"
   ],
   "metadata": {
    "collapsed": false,
    "ExecuteTime": {
     "end_time": "2024-05-30T10:22:00.816941300Z",
     "start_time": "2024-05-30T10:22:00.788352400Z"
    }
   },
   "id": "a46f808495ea1229"
  },
  {
   "cell_type": "code",
   "execution_count": 37,
   "outputs": [
    {
     "data": {
      "text/plain": "Empty DataFrame\nColumns: [text, category]\nIndex: []",
      "text/html": "<div>\n<style scoped>\n    .dataframe tbody tr th:only-of-type {\n        vertical-align: middle;\n    }\n\n    .dataframe tbody tr th {\n        vertical-align: top;\n    }\n\n    .dataframe thead th {\n        text-align: right;\n    }\n</style>\n<table border=\"1\" class=\"dataframe\">\n  <thead>\n    <tr style=\"text-align: right;\">\n      <th></th>\n      <th>text</th>\n      <th>category</th>\n    </tr>\n  </thead>\n  <tbody>\n  </tbody>\n</table>\n</div>"
     },
     "execution_count": 37,
     "metadata": {},
     "output_type": "execute_result"
    }
   ],
   "source": [
    "empty = df[df['text']=='']\n",
    "empty"
   ],
   "metadata": {
    "collapsed": false,
    "ExecuteTime": {
     "end_time": "2024-05-30T10:22:03.178836500Z",
     "start_time": "2024-05-30T10:22:03.162333Z"
    }
   },
   "id": "bbd7620a053d80bf"
  },
  {
   "cell_type": "code",
   "execution_count": 38,
   "outputs": [],
   "source": [
    "df.to_csv('files/11_texts_lemmatized_no_punct_no_en.csv', index=False)"
   ],
   "metadata": {
    "collapsed": false,
    "ExecuteTime": {
     "end_time": "2024-05-30T10:22:05.912630600Z",
     "start_time": "2024-05-30T10:22:05.864103700Z"
    }
   },
   "id": "66a2809dd0b53050"
  },
  {
   "cell_type": "markdown",
   "source": [
    "Аугментация"
   ],
   "metadata": {
    "collapsed": false
   },
   "id": "87fc744650cd0a00"
  },
  {
   "cell_type": "code",
   "execution_count": 33,
   "outputs": [],
   "source": [
    "import pandas as pd\n",
    "df = pd.read_csv('files/aug_preprocessed.csv')"
   ],
   "metadata": {
    "collapsed": false,
    "ExecuteTime": {
     "end_time": "2024-06-08T20:27:59.788930Z",
     "start_time": "2024-06-08T20:27:59.738720700Z"
    }
   },
   "id": "25adc54b07f48ea1"
  },
  {
   "cell_type": "code",
   "execution_count": 34,
   "outputs": [
    {
     "data": {
      "text/plain": "                                                  text             category\n0    повторная отправка рецензия гаршиной.doc добры...       рецензирование\n1              шаблон рецензии (новый) спасибо.нечаев.               другое\n2     статья вестник саит рецензия рецензия толстоб...       рецензирование\n3     статья для рецензирования рецензия_на_проблем...       рецензирование\n4     рецензия на статью рецензия толстоброва на ст...       рецензирование\n..                                                 ...                  ...\n856  здравствуйте, ! статья, подготовленная авторам...  готово к публикации\n857  дорогая ! после внесения изменений в соответст...  готово к публикации\n858  здравствуй, ! мы рады сообщить, что статья про...  готово к публикации\n859  уважаемая ! после устранения замечаний рецензе...  готово к публикации\n860  здравствуйте, ! с учетом рекомендаций рецензен...  готово к публикации\n\n[861 rows x 2 columns]",
      "text/html": "<div>\n<style scoped>\n    .dataframe tbody tr th:only-of-type {\n        vertical-align: middle;\n    }\n\n    .dataframe tbody tr th {\n        vertical-align: top;\n    }\n\n    .dataframe thead th {\n        text-align: right;\n    }\n</style>\n<table border=\"1\" class=\"dataframe\">\n  <thead>\n    <tr style=\"text-align: right;\">\n      <th></th>\n      <th>text</th>\n      <th>category</th>\n    </tr>\n  </thead>\n  <tbody>\n    <tr>\n      <th>0</th>\n      <td>повторная отправка рецензия гаршиной.doc добры...</td>\n      <td>рецензирование</td>\n    </tr>\n    <tr>\n      <th>1</th>\n      <td>шаблон рецензии (новый) спасибо.нечаев.</td>\n      <td>другое</td>\n    </tr>\n    <tr>\n      <th>2</th>\n      <td>статья вестник саит рецензия рецензия толстоб...</td>\n      <td>рецензирование</td>\n    </tr>\n    <tr>\n      <th>3</th>\n      <td>статья для рецензирования рецензия_на_проблем...</td>\n      <td>рецензирование</td>\n    </tr>\n    <tr>\n      <th>4</th>\n      <td>рецензия на статью рецензия толстоброва на ст...</td>\n      <td>рецензирование</td>\n    </tr>\n    <tr>\n      <th>...</th>\n      <td>...</td>\n      <td>...</td>\n    </tr>\n    <tr>\n      <th>856</th>\n      <td>здравствуйте, ! статья, подготовленная авторам...</td>\n      <td>готово к публикации</td>\n    </tr>\n    <tr>\n      <th>857</th>\n      <td>дорогая ! после внесения изменений в соответст...</td>\n      <td>готово к публикации</td>\n    </tr>\n    <tr>\n      <th>858</th>\n      <td>здравствуй, ! мы рады сообщить, что статья про...</td>\n      <td>готово к публикации</td>\n    </tr>\n    <tr>\n      <th>859</th>\n      <td>уважаемая ! после устранения замечаний рецензе...</td>\n      <td>готово к публикации</td>\n    </tr>\n    <tr>\n      <th>860</th>\n      <td>здравствуйте, ! с учетом рекомендаций рецензен...</td>\n      <td>готово к публикации</td>\n    </tr>\n  </tbody>\n</table>\n<p>861 rows × 2 columns</p>\n</div>"
     },
     "execution_count": 34,
     "metadata": {},
     "output_type": "execute_result"
    }
   ],
   "source": [
    "df"
   ],
   "metadata": {
    "collapsed": false,
    "ExecuteTime": {
     "end_time": "2024-06-08T20:28:00.986112900Z",
     "start_time": "2024-06-08T20:28:00.937312Z"
    }
   },
   "id": "7aeb36b6e3e1c462"
  },
  {
   "cell_type": "code",
   "execution_count": 35,
   "outputs": [
    {
     "data": {
      "text/plain": "' сверка статьи снимок_рис 1.jpg извините за задержку с ответом болеем... 1) аннотацию и ключевые слова проверил еще в прошлый раз, сомнений не возникло. 2) высылаю рисунок в формате jpeg, без подписи. попробуйте, м.б. этот лучше. в.е. по верстке у нас есть проблемы. 1) проверьте аннотацию и ключевые слова на английском. есть замечание по качеству перевода 2) рисунки мы самостоятельно по качеству из представленного wordского документа не вытянем. пришлите рисунки хорошего качества отдельными файлами (форматы png, tif, jpg). !!! также нужно удалить подрисуночную подпись из первого рисунка. спасибо! в.е. исправим! готовый pdf номера будет размещен на уважаемые коллеги! все понравилось, есть 2 незначительных замечания: 1) на стр. 93, в последнем абзаце перед формулой (2): iint должно быть курсивом, и int в нижнем регистре; 2) очень желательно повысить контрастность рисунков (в оригинале они выглядят четче). спасибо за хорошую работу! в.е. уважаемые авторы! просьба срочно проверить верстку статьи на ошибки. если есть неточности, то пришлите список найденных ошибок. '"
     },
     "execution_count": 35,
     "metadata": {},
     "output_type": "execute_result"
    }
   ],
   "source": [
    "text = df['text'][10]\n",
    "text"
   ],
   "metadata": {
    "collapsed": false,
    "ExecuteTime": {
     "end_time": "2024-06-08T20:28:09.385661300Z",
     "start_time": "2024-06-08T20:28:09.363836900Z"
    }
   },
   "id": "cac30e36a515b93b"
  },
  {
   "cell_type": "code",
   "execution_count": 58,
   "outputs": [],
   "source": [
    "from deep_translator import GoogleTranslator, ChatGptTranslator, MyMemoryTranslator\n",
    "# gt_to_en = GoogleTranslator(source='auto', target='en')\n",
    "gt_to_en = GoogleTranslator(source='auto', target='english')"
   ],
   "metadata": {
    "collapsed": false,
    "ExecuteTime": {
     "end_time": "2024-06-08T20:42:41.325078400Z",
     "start_time": "2024-06-08T20:42:41.309153700Z"
    }
   },
   "id": "28a3d78bd7cd2a09"
  },
  {
   "cell_type": "code",
   "execution_count": 39,
   "outputs": [],
   "source": [
    "translated = gt_to_en.translate(text)"
   ],
   "metadata": {
    "collapsed": false,
    "ExecuteTime": {
     "end_time": "2024-06-08T20:28:27.844113800Z",
     "start_time": "2024-06-08T20:28:26.481169100Z"
    }
   },
   "id": "7288a1a361090132"
  },
  {
   "cell_type": "code",
   "execution_count": 40,
   "outputs": [
    {
     "data": {
      "text/plain": "\"article verification snapshot_fig 1.jpg sorry for the delay in response, we're sick... 1) I checked the abstract and keywords last time, there were no doubts. 2) I send the drawing in jpeg format, without a signature. try it, maybe this one is better. v.e. We have problems with layout. 1) check the abstract and keywords in English. There is a note on the quality of the translation 2) we cannot extract the quality of the pictures from the presented word document on our own. Send good quality drawings in separate files (png, tif, jpg formats). !!! You also need to remove the caption from the first drawing. Thank you! v.e. we'll fix it! The finished pdf of the issue will be posted on dear colleagues! I liked everything, there are 2 minor comments: 1) on page 93, in the last paragraph before formula (2): iint should be italic, and int should be lowercase; 2) it is very desirable to increase the contrast of the drawings (they look sharper in the original). thanks for good job! v.e. Dear authors! please immediately check the layout of the article for errors. if there are inaccuracies, please send a list of errors found.\""
     },
     "execution_count": 40,
     "metadata": {},
     "output_type": "execute_result"
    }
   ],
   "source": [
    "translated"
   ],
   "metadata": {
    "collapsed": false,
    "ExecuteTime": {
     "end_time": "2024-06-08T20:28:32.575232600Z",
     "start_time": "2024-06-08T20:28:32.553878800Z"
    }
   },
   "id": "a304447810f751e6"
  },
  {
   "cell_type": "code",
   "execution_count": 57,
   "outputs": [],
   "source": [
    "gt_to_ru = GoogleTranslator(source='auto', target='ru')"
   ],
   "metadata": {
    "collapsed": false,
    "ExecuteTime": {
     "end_time": "2024-06-08T20:42:38.481409700Z",
     "start_time": "2024-06-08T20:42:38.462632700Z"
    }
   },
   "id": "1d71a8f4fdfaf34"
  },
  {
   "cell_type": "code",
   "execution_count": 42,
   "outputs": [
    {
     "data": {
      "text/plain": "'проверка статьи snapshot_fig 1.jpg извините за задержку с ответом, мы заболели... 1) Я проверял аннотацию и ключевые слова в прошлый раз, сомнений не было. 2) Чертеж присылаю в формате jpeg, без подписи. попробуйте, может этот лучше. в.э. У нас проблемы с планировкой. 1) проверьте аннотацию и ключевые слова на английском языке. Есть замечание по качеству перевода 2) мы не можем самостоятельно извлечь качество картинок из представленного ворд документа. Чертежи хорошего качества присылайте отдельными файлами (форматы png, tif, jpg). !!! Вам также необходимо удалить подпись с первого рисунка. Спасибо! в.э. мы это исправим! Готовый pdf выпуск будет размещен на сайте уважаемые коллеги! Все понравилось, есть 2 небольших замечания: 1) на стр. 93, в последнем абзаце перед формулой (2): iint должен быть курсивом, а int строчным; 2) очень желательно увеличить контрастность рисунков (в оригинале они выглядят резче). спасибо за хорошую работу! в.э. Уважаемые авторы! пожалуйста, сразу проверьте оформление статьи на наличие ошибок. если есть неточности, пришлите, пожалуйста, список найденных ошибок.'"
     },
     "execution_count": 42,
     "metadata": {},
     "output_type": "execute_result"
    }
   ],
   "source": [
    "ru_translated = gt_to_ru.translate(translated)\n",
    "ru_translated"
   ],
   "metadata": {
    "collapsed": false,
    "ExecuteTime": {
     "end_time": "2024-06-08T20:28:39.570772Z",
     "start_time": "2024-06-08T20:28:37.994238700Z"
    }
   },
   "id": "c0803043b1168438"
  },
  {
   "cell_type": "code",
   "execution_count": 44,
   "outputs": [],
   "source": [
    "texts = df['text'].iloc[:25]"
   ],
   "metadata": {
    "collapsed": false,
    "ExecuteTime": {
     "end_time": "2024-06-08T20:31:46.691646600Z",
     "start_time": "2024-06-08T20:31:46.664334400Z"
    }
   },
   "id": "bd4fa8b15cb3fa36"
  },
  {
   "cell_type": "code",
   "execution_count": 105,
   "outputs": [],
   "source": [
    "gt_to_en = GoogleTranslator(source='auto', target='fr')\n",
    "gt_to_ru = GoogleTranslator(source='auto', target='ru')\n",
    "def augment(texts):\n",
    "    col = []\n",
    "    for text in texts:\n",
    "        text = text[:4950]\n",
    "        en = gt_to_en.translate(text)\n",
    "        time.sleep(200)\n",
    "        ru = gt_to_ru.translate(en)\n",
    "        col.append(ru)\n",
    "    return col"
   ],
   "metadata": {
    "collapsed": false,
    "ExecuteTime": {
     "end_time": "2024-06-08T21:53:31.388998400Z",
     "start_time": "2024-06-08T21:53:31.368404800Z"
    }
   },
   "id": "2afd73e78bc291d7"
  },
  {
   "cell_type": "code",
   "execution_count": 49,
   "outputs": [],
   "source": [
    "df_augment = df.copy()"
   ],
   "metadata": {
    "collapsed": false,
    "ExecuteTime": {
     "end_time": "2024-06-08T20:32:41.934761900Z",
     "start_time": "2024-06-08T20:32:41.901542500Z"
    }
   },
   "id": "dd71d55708319dda"
  },
  {
   "cell_type": "code",
   "execution_count": 50,
   "outputs": [
    {
     "data": {
      "text/plain": "861"
     },
     "execution_count": 50,
     "metadata": {},
     "output_type": "execute_result"
    }
   ],
   "source": [
    "df.shape[0]"
   ],
   "metadata": {
    "collapsed": false,
    "ExecuteTime": {
     "end_time": "2024-06-08T20:32:43.711055600Z",
     "start_time": "2024-06-08T20:32:43.684831200Z"
    }
   },
   "id": "a1ffc6101f95e2e8"
  },
  {
   "cell_type": "code",
   "execution_count": 51,
   "outputs": [
    {
     "name": "stderr",
     "output_type": "stream",
     "text": [
      "C:\\Users\\08642\\AppData\\Local\\Temp\\ipykernel_18172\\3011540812.py:1: FutureWarning: ChainedAssignmentError: behaviour will change in pandas 3.0!\n",
      "You are setting values through chained assignment. Currently this works in certain cases, but when using Copy-on-Write (which will become the default behaviour in pandas 3.0) this will never work to update the original DataFrame or Series, because the intermediate object on which we are setting values will behave as a copy.\n",
      "A typical example is when you are setting values in a column of a DataFrame, like:\n",
      "\n",
      "df[\"col\"][row_indexer] = value\n",
      "\n",
      "Use `df.loc[row_indexer, \"col\"] = values` instead, to perform the assignment in a single step and ensure this keeps updating the original `df`.\n",
      "\n",
      "See the caveats in the documentation: https://pandas.pydata.org/pandas-docs/stable/user_guide/indexing.html#returning-a-view-versus-a-copy\n",
      "\n",
      "  df_augment['text'][:100] = augment(df['text'][:100])\n"
     ]
    }
   ],
   "source": [
    "df_augment['text'][:100] = augment(df['text'][:100])"
   ],
   "metadata": {
    "collapsed": false,
    "ExecuteTime": {
     "end_time": "2024-06-08T20:37:13.445471400Z",
     "start_time": "2024-06-08T20:32:47.056424300Z"
    }
   },
   "id": "1ef75b5f140954d3"
  },
  {
   "cell_type": "code",
   "execution_count": 52,
   "outputs": [
    {
     "name": "stderr",
     "output_type": "stream",
     "text": [
      "C:\\Users\\08642\\AppData\\Local\\Temp\\ipykernel_18172\\2108415941.py:1: FutureWarning: ChainedAssignmentError: behaviour will change in pandas 3.0!\n",
      "You are setting values through chained assignment. Currently this works in certain cases, but when using Copy-on-Write (which will become the default behaviour in pandas 3.0) this will never work to update the original DataFrame or Series, because the intermediate object on which we are setting values will behave as a copy.\n",
      "A typical example is when you are setting values in a column of a DataFrame, like:\n",
      "\n",
      "df[\"col\"][row_indexer] = value\n",
      "\n",
      "Use `df.loc[row_indexer, \"col\"] = values` instead, to perform the assignment in a single step and ensure this keeps updating the original `df`.\n",
      "\n",
      "See the caveats in the documentation: https://pandas.pydata.org/pandas-docs/stable/user_guide/indexing.html#returning-a-view-versus-a-copy\n",
      "\n",
      "  df_augment['text'][100:150] = augment(df['text'][100:150])\n"
     ]
    }
   ],
   "source": [
    "df_augment['text'][100:150] = augment(df['text'][100:150])"
   ],
   "metadata": {
    "collapsed": false,
    "ExecuteTime": {
     "end_time": "2024-06-08T20:39:45.955348400Z",
     "start_time": "2024-06-08T20:37:44.019126600Z"
    }
   },
   "id": "ad768ad0223034ca"
  },
  {
   "cell_type": "code",
   "execution_count": 69,
   "outputs": [
    {
     "name": "stderr",
     "output_type": "stream",
     "text": [
      "C:\\Users\\08642\\AppData\\Local\\Temp\\ipykernel_18172\\3425095985.py:1: FutureWarning: ChainedAssignmentError: behaviour will change in pandas 3.0!\n",
      "You are setting values through chained assignment. Currently this works in certain cases, but when using Copy-on-Write (which will become the default behaviour in pandas 3.0) this will never work to update the original DataFrame or Series, because the intermediate object on which we are setting values will behave as a copy.\n",
      "A typical example is when you are setting values in a column of a DataFrame, like:\n",
      "\n",
      "df[\"col\"][row_indexer] = value\n",
      "\n",
      "Use `df.loc[row_indexer, \"col\"] = values` instead, to perform the assignment in a single step and ensure this keeps updating the original `df`.\n",
      "\n",
      "See the caveats in the documentation: https://pandas.pydata.org/pandas-docs/stable/user_guide/indexing.html#returning-a-view-versus-a-copy\n",
      "\n",
      "  df_augment['text'][159:160] = augment(df['text'][159:160])\n"
     ]
    }
   ],
   "source": [
    "df_augment['text'][159:160] = augment(df['text'][159:160])"
   ],
   "metadata": {
    "collapsed": false,
    "ExecuteTime": {
     "end_time": "2024-06-08T20:45:46.989238900Z",
     "start_time": "2024-06-08T20:45:44.761612Z"
    }
   },
   "id": "5154bcc17c85806e"
  },
  {
   "cell_type": "code",
   "execution_count": 78,
   "outputs": [],
   "source": [
    "texts = df_augment['text'][170:190].values.tolist()"
   ],
   "metadata": {
    "collapsed": false,
    "ExecuteTime": {
     "end_time": "2024-06-08T21:24:59.294634400Z",
     "start_time": "2024-06-08T21:24:59.274313900Z"
    }
   },
   "id": "689eaebc6adb5d91"
  },
  {
   "cell_type": "code",
   "execution_count": null,
   "outputs": [],
   "source": [
    "\n",
    "    "
   ],
   "metadata": {
    "collapsed": false
   },
   "id": "b946799ed672b95b"
  },
  {
   "cell_type": "code",
   "execution_count": 108,
   "outputs": [
    {
     "ename": "RequestError",
     "evalue": "Request exception can happen due to an api connection error. Please check your connection and try again",
     "output_type": "error",
     "traceback": [
      "\u001B[1;31m---------------------------------------------------------------------------\u001B[0m",
      "\u001B[1;31mRequestError\u001B[0m                              Traceback (most recent call last)",
      "Cell \u001B[1;32mIn[108], line 1\u001B[0m\n\u001B[1;32m----> 1\u001B[0m df_augment[\u001B[38;5;124m'\u001B[39m\u001B[38;5;124mtext\u001B[39m\u001B[38;5;124m'\u001B[39m][\u001B[38;5;241m187\u001B[39m:\u001B[38;5;241m188\u001B[39m] \u001B[38;5;241m=\u001B[39m \u001B[43maugment\u001B[49m\u001B[43m(\u001B[49m\u001B[43mdf\u001B[49m\u001B[43m[\u001B[49m\u001B[38;5;124;43m'\u001B[39;49m\u001B[38;5;124;43mtext\u001B[39;49m\u001B[38;5;124;43m'\u001B[39;49m\u001B[43m]\u001B[49m\u001B[43m[\u001B[49m\u001B[38;5;241;43m187\u001B[39;49m\u001B[43m:\u001B[49m\u001B[38;5;241;43m188\u001B[39;49m\u001B[43m]\u001B[49m\u001B[43m)\u001B[49m\n",
      "Cell \u001B[1;32mIn[105], line 7\u001B[0m, in \u001B[0;36maugment\u001B[1;34m(texts)\u001B[0m\n\u001B[0;32m      5\u001B[0m \u001B[38;5;28;01mfor\u001B[39;00m text \u001B[38;5;129;01min\u001B[39;00m texts:\n\u001B[0;32m      6\u001B[0m     text \u001B[38;5;241m=\u001B[39m text[:\u001B[38;5;241m4950\u001B[39m]\n\u001B[1;32m----> 7\u001B[0m     en \u001B[38;5;241m=\u001B[39m \u001B[43mgt_to_en\u001B[49m\u001B[38;5;241;43m.\u001B[39;49m\u001B[43mtranslate\u001B[49m\u001B[43m(\u001B[49m\u001B[43mtext\u001B[49m\u001B[43m)\u001B[49m\n\u001B[0;32m      8\u001B[0m     time\u001B[38;5;241m.\u001B[39msleep(\u001B[38;5;241m200\u001B[39m)\n\u001B[0;32m      9\u001B[0m     ru \u001B[38;5;241m=\u001B[39m gt_to_ru\u001B[38;5;241m.\u001B[39mtranslate(en)\n",
      "File \u001B[1;32mF:\\Projects\\Python\\techAI\\MailManagementApp\\lib\\site-packages\\deep_translator\\google.py:74\u001B[0m, in \u001B[0;36mGoogleTranslator.translate\u001B[1;34m(self, text, **kwargs)\u001B[0m\n\u001B[0;32m     71\u001B[0m     \u001B[38;5;28;01mraise\u001B[39;00m TooManyRequests()\n\u001B[0;32m     73\u001B[0m \u001B[38;5;28;01mif\u001B[39;00m request_failed(status_code\u001B[38;5;241m=\u001B[39mresponse\u001B[38;5;241m.\u001B[39mstatus_code):\n\u001B[1;32m---> 74\u001B[0m     \u001B[38;5;28;01mraise\u001B[39;00m RequestError()\n\u001B[0;32m     76\u001B[0m soup \u001B[38;5;241m=\u001B[39m BeautifulSoup(response\u001B[38;5;241m.\u001B[39mtext, \u001B[38;5;124m\"\u001B[39m\u001B[38;5;124mhtml.parser\u001B[39m\u001B[38;5;124m\"\u001B[39m)\n\u001B[0;32m     78\u001B[0m element \u001B[38;5;241m=\u001B[39m soup\u001B[38;5;241m.\u001B[39mfind(\u001B[38;5;28mself\u001B[39m\u001B[38;5;241m.\u001B[39m_element_tag, \u001B[38;5;28mself\u001B[39m\u001B[38;5;241m.\u001B[39m_element_query)\n",
      "\u001B[1;31mRequestError\u001B[0m: Request exception can happen due to an api connection error. Please check your connection and try again"
     ]
    }
   ],
   "source": [
    "df_augment['text'][187:188] = augment(df['text'][187:188])"
   ],
   "metadata": {
    "collapsed": false,
    "ExecuteTime": {
     "end_time": "2024-06-08T21:54:32.917069200Z",
     "start_time": "2024-06-08T21:54:32.701406900Z"
    }
   },
   "id": "1d3f272b7b7c73cf"
  },
  {
   "cell_type": "code",
   "execution_count": 80,
   "outputs": [
    {
     "ename": "RequestError",
     "evalue": "Request exception can happen due to an api connection error. Please check your connection and try again",
     "output_type": "error",
     "traceback": [
      "\u001B[1;31m---------------------------------------------------------------------------\u001B[0m",
      "\u001B[1;31mRequestError\u001B[0m                              Traceback (most recent call last)",
      "Cell \u001B[1;32mIn[80], line 1\u001B[0m\n\u001B[1;32m----> 1\u001B[0m translated \u001B[38;5;241m=\u001B[39m \u001B[43mGoogleTranslator\u001B[49m\u001B[43m(\u001B[49m\u001B[38;5;124;43m'\u001B[39;49m\u001B[38;5;124;43mauto\u001B[39;49m\u001B[38;5;124;43m'\u001B[39;49m\u001B[43m,\u001B[49m\u001B[43m \u001B[49m\u001B[38;5;124;43m'\u001B[39;49m\u001B[38;5;124;43men\u001B[39;49m\u001B[38;5;124;43m'\u001B[39;49m\u001B[43m)\u001B[49m\u001B[38;5;241;43m.\u001B[39;49m\u001B[43mtranslate_batch\u001B[49m\u001B[43m(\u001B[49m\u001B[43mtexts\u001B[49m\u001B[43m)\u001B[49m\n",
      "File \u001B[1;32mF:\\Projects\\Python\\techAI\\MailManagementApp\\lib\\site-packages\\deep_translator\\google.py:122\u001B[0m, in \u001B[0;36mGoogleTranslator.translate_batch\u001B[1;34m(self, batch, **kwargs)\u001B[0m\n\u001B[0;32m    116\u001B[0m \u001B[38;5;28;01mdef\u001B[39;00m \u001B[38;5;21mtranslate_batch\u001B[39m(\u001B[38;5;28mself\u001B[39m, batch: List[\u001B[38;5;28mstr\u001B[39m], \u001B[38;5;241m*\u001B[39m\u001B[38;5;241m*\u001B[39mkwargs) \u001B[38;5;241m-\u001B[39m\u001B[38;5;241m>\u001B[39m List[\u001B[38;5;28mstr\u001B[39m]:\n\u001B[0;32m    117\u001B[0m \u001B[38;5;250m    \u001B[39m\u001B[38;5;124;03m\"\"\"\u001B[39;00m\n\u001B[0;32m    118\u001B[0m \u001B[38;5;124;03m    translate a list of texts\u001B[39;00m\n\u001B[0;32m    119\u001B[0m \u001B[38;5;124;03m    @param batch: list of texts you want to translate\u001B[39;00m\n\u001B[0;32m    120\u001B[0m \u001B[38;5;124;03m    @return: list of translations\u001B[39;00m\n\u001B[0;32m    121\u001B[0m \u001B[38;5;124;03m    \"\"\"\u001B[39;00m\n\u001B[1;32m--> 122\u001B[0m     \u001B[38;5;28;01mreturn\u001B[39;00m \u001B[38;5;28mself\u001B[39m\u001B[38;5;241m.\u001B[39m_translate_batch(batch, \u001B[38;5;241m*\u001B[39m\u001B[38;5;241m*\u001B[39mkwargs)\n",
      "File \u001B[1;32mF:\\Projects\\Python\\techAI\\MailManagementApp\\lib\\site-packages\\deep_translator\\base.py:181\u001B[0m, in \u001B[0;36mBaseTranslator._translate_batch\u001B[1;34m(self, batch, **kwargs)\u001B[0m\n\u001B[0;32m    179\u001B[0m arr \u001B[38;5;241m=\u001B[39m []\n\u001B[0;32m    180\u001B[0m \u001B[38;5;28;01mfor\u001B[39;00m i, text \u001B[38;5;129;01min\u001B[39;00m \u001B[38;5;28menumerate\u001B[39m(batch):\n\u001B[1;32m--> 181\u001B[0m     translated \u001B[38;5;241m=\u001B[39m \u001B[38;5;28mself\u001B[39m\u001B[38;5;241m.\u001B[39mtranslate(text, \u001B[38;5;241m*\u001B[39m\u001B[38;5;241m*\u001B[39mkwargs)\n\u001B[0;32m    182\u001B[0m     arr\u001B[38;5;241m.\u001B[39mappend(translated)\n\u001B[0;32m    183\u001B[0m \u001B[38;5;28;01mreturn\u001B[39;00m arr\n",
      "File \u001B[1;32mF:\\Projects\\Python\\techAI\\MailManagementApp\\lib\\site-packages\\deep_translator\\google.py:74\u001B[0m, in \u001B[0;36mGoogleTranslator.translate\u001B[1;34m(self, text, **kwargs)\u001B[0m\n\u001B[0;32m     71\u001B[0m     \u001B[38;5;28;01mraise\u001B[39;00m TooManyRequests()\n\u001B[0;32m     73\u001B[0m \u001B[38;5;28;01mif\u001B[39;00m request_failed(status_code\u001B[38;5;241m=\u001B[39mresponse\u001B[38;5;241m.\u001B[39mstatus_code):\n\u001B[1;32m---> 74\u001B[0m     \u001B[38;5;28;01mraise\u001B[39;00m RequestError()\n\u001B[0;32m     76\u001B[0m soup \u001B[38;5;241m=\u001B[39m BeautifulSoup(response\u001B[38;5;241m.\u001B[39mtext, \u001B[38;5;124m\"\u001B[39m\u001B[38;5;124mhtml.parser\u001B[39m\u001B[38;5;124m\"\u001B[39m)\n\u001B[0;32m     78\u001B[0m element \u001B[38;5;241m=\u001B[39m soup\u001B[38;5;241m.\u001B[39mfind(\u001B[38;5;28mself\u001B[39m\u001B[38;5;241m.\u001B[39m_element_tag, \u001B[38;5;28mself\u001B[39m\u001B[38;5;241m.\u001B[39m_element_query)\n",
      "\u001B[1;31mRequestError\u001B[0m: Request exception can happen due to an api connection error. Please check your connection and try again"
     ]
    }
   ],
   "source": [
    "translated = GoogleTranslator('auto', 'en').translate_batch(texts)"
   ],
   "metadata": {
    "collapsed": false,
    "ExecuteTime": {
     "end_time": "2024-06-08T21:25:21.184534200Z",
     "start_time": "2024-06-08T21:25:12.452358600Z"
    }
   },
   "id": "4c62562e1952c513"
  },
  {
   "cell_type": "code",
   "execution_count": 73,
   "outputs": [],
   "source": [
    "translated_ru = GoogleTranslator('auto', 'ru').translate_batch(translated)"
   ],
   "metadata": {
    "collapsed": false,
    "ExecuteTime": {
     "end_time": "2024-06-08T21:23:04.596274700Z",
     "start_time": "2024-06-08T21:22:58.721337300Z"
    }
   },
   "id": "37267d5223f2a536"
  },
  {
   "cell_type": "code",
   "execution_count": 74,
   "outputs": [
    {
     "name": "stderr",
     "output_type": "stream",
     "text": [
      "C:\\Users\\08642\\AppData\\Local\\Temp\\ipykernel_18172\\4030251112.py:1: FutureWarning: ChainedAssignmentError: behaviour will change in pandas 3.0!\n",
      "You are setting values through chained assignment. Currently this works in certain cases, but when using Copy-on-Write (which will become the default behaviour in pandas 3.0) this will never work to update the original DataFrame or Series, because the intermediate object on which we are setting values will behave as a copy.\n",
      "A typical example is when you are setting values in a column of a DataFrame, like:\n",
      "\n",
      "df[\"col\"][row_indexer] = value\n",
      "\n",
      "Use `df.loc[row_indexer, \"col\"] = values` instead, to perform the assignment in a single step and ensure this keeps updating the original `df`.\n",
      "\n",
      "See the caveats in the documentation: https://pandas.pydata.org/pandas-docs/stable/user_guide/indexing.html#returning-a-view-versus-a-copy\n",
      "\n",
      "  df_augment['text'][160:170] = texts\n"
     ]
    }
   ],
   "source": [
    "df_augment['text'][160:170] = texts"
   ],
   "metadata": {
    "collapsed": false,
    "ExecuteTime": {
     "end_time": "2024-06-08T21:23:21.121164600Z",
     "start_time": "2024-06-08T21:23:21.087835100Z"
    }
   },
   "id": "388bd3501623c301"
  },
  {
   "cell_type": "code",
   "execution_count": 111,
   "outputs": [
    {
     "data": {
      "text/plain": "text         по оформлению саит вгу 10 августа 2018 здравс...\ncategory                                              вопросы\nName: 187, dtype: object"
     },
     "execution_count": 111,
     "metadata": {},
     "output_type": "execute_result"
    }
   ],
   "source": [
    "df_augment.iloc[187]"
   ],
   "metadata": {
    "collapsed": false,
    "ExecuteTime": {
     "end_time": "2024-06-08T21:56:37.199691300Z",
     "start_time": "2024-06-08T21:56:37.149786200Z"
    }
   },
   "id": "988f269eaaf5bf2a"
  },
  {
   "cell_type": "code",
   "execution_count": 109,
   "outputs": [],
   "source": [
    "df_augment.to_csv('files/aug_translated.csv', index=False)"
   ],
   "metadata": {
    "collapsed": false,
    "ExecuteTime": {
     "end_time": "2024-06-08T21:55:45.136396700Z",
     "start_time": "2024-06-08T21:55:45.098190100Z"
    }
   },
   "id": "7f34396de54c88b0"
  },
  {
   "cell_type": "code",
   "execution_count": 84,
   "outputs": [
    {
     "data": {
      "text/plain": "                                                  text             category\n0    реферал из обзора garshina.doc добрый вечер! В...       рецензирование\n1                 Шаблон отзыва (новый) merci.nechaev.               другое\n2    статья Вестник Саит критика Критика Толстобров...       рецензирование\n3    статья к рассмотрению review_on_the_problem_pr...       рецензирование\n4    Обзор статьи Толстобровый обзор статьи black-m...       рецензирование\n..                                                 ...                  ...\n856  здравствуйте, ! статья, подготовленная авторам...  готово к публикации\n857  дорогая ! после внесения изменений в соответст...  готово к публикации\n858  здравствуй, ! мы рады сообщить, что статья про...  готово к публикации\n859  уважаемая ! после устранения замечаний рецензе...  готово к публикации\n860  здравствуйте, ! с учетом рекомендаций рецензен...  готово к публикации\n\n[861 rows x 2 columns]",
      "text/html": "<div>\n<style scoped>\n    .dataframe tbody tr th:only-of-type {\n        vertical-align: middle;\n    }\n\n    .dataframe tbody tr th {\n        vertical-align: top;\n    }\n\n    .dataframe thead th {\n        text-align: right;\n    }\n</style>\n<table border=\"1\" class=\"dataframe\">\n  <thead>\n    <tr style=\"text-align: right;\">\n      <th></th>\n      <th>text</th>\n      <th>category</th>\n    </tr>\n  </thead>\n  <tbody>\n    <tr>\n      <th>0</th>\n      <td>реферал из обзора garshina.doc добрый вечер! В...</td>\n      <td>рецензирование</td>\n    </tr>\n    <tr>\n      <th>1</th>\n      <td>Шаблон отзыва (новый) merci.nechaev.</td>\n      <td>другое</td>\n    </tr>\n    <tr>\n      <th>2</th>\n      <td>статья Вестник Саит критика Критика Толстобров...</td>\n      <td>рецензирование</td>\n    </tr>\n    <tr>\n      <th>3</th>\n      <td>статья к рассмотрению review_on_the_problem_pr...</td>\n      <td>рецензирование</td>\n    </tr>\n    <tr>\n      <th>4</th>\n      <td>Обзор статьи Толстобровый обзор статьи black-m...</td>\n      <td>рецензирование</td>\n    </tr>\n    <tr>\n      <th>...</th>\n      <td>...</td>\n      <td>...</td>\n    </tr>\n    <tr>\n      <th>856</th>\n      <td>здравствуйте, ! статья, подготовленная авторам...</td>\n      <td>готово к публикации</td>\n    </tr>\n    <tr>\n      <th>857</th>\n      <td>дорогая ! после внесения изменений в соответст...</td>\n      <td>готово к публикации</td>\n    </tr>\n    <tr>\n      <th>858</th>\n      <td>здравствуй, ! мы рады сообщить, что статья про...</td>\n      <td>готово к публикации</td>\n    </tr>\n    <tr>\n      <th>859</th>\n      <td>уважаемая ! после устранения замечаний рецензе...</td>\n      <td>готово к публикации</td>\n    </tr>\n    <tr>\n      <th>860</th>\n      <td>здравствуйте, ! с учетом рекомендаций рецензен...</td>\n      <td>готово к публикации</td>\n    </tr>\n  </tbody>\n</table>\n<p>861 rows × 2 columns</p>\n</div>"
     },
     "execution_count": 84,
     "metadata": {},
     "output_type": "execute_result"
    }
   ],
   "source": [
    "df_augment"
   ],
   "metadata": {
    "collapsed": false,
    "ExecuteTime": {
     "end_time": "2024-06-08T21:30:45.280026200Z",
     "start_time": "2024-06-08T21:30:45.256916200Z"
    }
   },
   "id": "a558f921599aa536"
  }
 ],
 "metadata": {
  "kernelspec": {
   "display_name": "Python 3",
   "language": "python",
   "name": "python3"
  },
  "language_info": {
   "codemirror_mode": {
    "name": "ipython",
    "version": 2
   },
   "file_extension": ".py",
   "mimetype": "text/x-python",
   "name": "python",
   "nbconvert_exporter": "python",
   "pygments_lexer": "ipython2",
   "version": "2.7.6"
  }
 },
 "nbformat": 4,
 "nbformat_minor": 5
}
