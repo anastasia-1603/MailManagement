{
 "cells": [
  {
   "cell_type": "markdown",
   "source": [
    "Исходные данные"
   ],
   "metadata": {
    "collapsed": false
   },
   "id": "e33d5f8f1d5f9050"
  },
  {
   "cell_type": "markdown",
   "source": [
    "из mails_to_csv"
   ],
   "metadata": {
    "collapsed": false
   },
   "id": "abfd29c4843d48d5"
  },
  {
   "cell_type": "code",
   "execution_count": 1,
   "id": "initial_id",
   "metadata": {
    "collapsed": true,
    "ExecuteTime": {
     "end_time": "2024-05-29T14:36:22.317751900Z",
     "start_time": "2024-05-29T14:36:21.948774800Z"
    }
   },
   "outputs": [],
   "source": [
    "import re\n",
    "import pandas as pd"
   ]
  },
  {
   "cell_type": "code",
   "execution_count": 22,
   "outputs": [
    {
     "data": {
      "text/plain": "       id                                      subject  \\\n0      82                           Повторная отправка   \n1      83                  Re: Шаблон рецензии (новый)   \n2      90             RE: статья Вестник САИТ Рецензия   \n3      98                RE: статья для рецензирования   \n4      92                       RE: рецензия на статью   \n..    ...                                          ...   \n820  1065                       Re: статья на рецензию   \n821  1068                                       статья   \n822  1069  Re: Королев= ответы на замечания рецензента   \n823  1066                   Re: Конденсированные среды   \n824   658               Привет, ты получил сообщение.    \n\n                                                  from  \\\n0    Павловский Максим Викторович  <pmv-160570@yand...   \n1                    Юрий Нечаев  <nechaev_ub@mail.ru>   \n2                        Толстобров А.П.  <tap@vsu.ru>   \n3              Вялых Сергей Ариевич <vyalyh@govvrn.ru>   \n4                        Толстобров А.П.  <tap@vsu.ru>   \n..                                                 ...   \n820               Алексей Буховец  <abuhovets@mail.ru>   \n821              hein minzaw <heinminnzaw13@gmail.com>   \n822            Сергей Медведев  <s_n_medvedev@mail.ru>   \n823  CONDENSED MATTER AND INTERPHASES <kcmf@main.vs...   \n824                       Sasa <smrd@semribearing.com>   \n\n                                                  text                 date  \\\n0    Добрый вечер!\\r\\nОтсылаю материалы рецензии на...  2016-01-14 20:47:03   \n1                                      Спасибо.Нечаев.  2018-02-04 19:56:26   \n2    Добрый день!\\r\\nПосылаю рецензию\\r\\n\\r\\nС уваж...  2018-02-09 17:36:00   \n3    Доброе время суток, Вероника Викторовна!\\r\\n\\r...  2018-02-09 17:54:00   \n4    Добрый день!\\r\\nПосылаю рецензию\\r\\n\\r\\nС уваж...  2018-02-11 22:37:00   \n..                                                 ...                  ...   \n820  Высылаю рецензию на материал А.М. Сагдатуллина...  2019-11-14 09:40:50   \n821  Здравствуйте !\\r\\nМою отправлен нучную статью ...  2019-11-14 14:40:59   \n822  Здравствуйте.\\nСчитаю, что статья может быть о...  2019-11-15 00:03:13   \n823  Добрый день, Виктория Викторовна!\\r\\n\\r\\nЮрист...  2019-11-15 09:43:16   \n824  Привет друг,\\n\\n\\nЭто Sasa из Тяньцзиня Semri ...  2024-05-23 00:00:00   \n\n                                   attachment_filename  \\\n0                                Рецензия Гаршиной.doc   \n1                                                  NaN   \n2    Рецензия Толстоброва на статью А.С. Платонова....   \n3       рецензия_на_Проблема защита_пользователей.docx   \n4    Рецензия Толстоброва на статью Черненькая-Маге...   \n..                                                 ...   \n820                Рецензии Сагдатуллина А_М_САИТ.docx   \n821                    Рис1.docx,Рис2.docx,Статья .doc   \n822  Ответ после повторного рецензирования.pdf,Реце...   \n823                                                NaN   \n824                                          邮件照片3.jpg   \n\n                               attachment_content_type  \\\n0                                   application/msword   \n1                                                  NaN   \n2    application/vnd.openxmlformats-officedocument....   \n3    application/vnd.openxmlformats-officedocument....   \n4    application/vnd.openxmlformats-officedocument....   \n..                                                 ...   \n820  application/vnd.openxmlformats-officedocument....   \n821  application/vnd.openxmlformats-officedocument....   \n822  application/pdf,application/vnd.openxmlformats...   \n823                                                NaN   \n824                                         image/jpeg   \n\n                                               headers  \n0    {'dkim-signature': ('v=1; a=rsa-sha256; q=dns/...  \n1    {'dkim-signature': ('v=1; a=rsa-sha256; q=dns/...  \n2    {'dkim-signature': ('v=1; a=rsa-sha256; q=dns/...  \n3    {'dkim-signature': ('v=1; a=rsa-sha256; q=dns/...  \n4    {'dkim-signature': ('v=1; a=rsa-sha256; q=dns/...  \n..                                                 ...  \n820  {'dkim-signature': ('v=1; a=rsa-sha256; q=dns/...  \n821  {'dkim-signature': ('v=1; a=rsa-sha256; q=dns/...  \n822  {'dkim-signature': ('v=1; a=rsa-sha256; q=dns/...  \n823  {'dkim-signature': ('v=1; a=rsa-sha256; q=dns/...  \n824  {'dkim-signature': ('v=1; a=rsa-sha256; q=dns/...  \n\n[825 rows x 8 columns]",
      "text/html": "<div>\n<style scoped>\n    .dataframe tbody tr th:only-of-type {\n        vertical-align: middle;\n    }\n\n    .dataframe tbody tr th {\n        vertical-align: top;\n    }\n\n    .dataframe thead th {\n        text-align: right;\n    }\n</style>\n<table border=\"1\" class=\"dataframe\">\n  <thead>\n    <tr style=\"text-align: right;\">\n      <th></th>\n      <th>id</th>\n      <th>subject</th>\n      <th>from</th>\n      <th>text</th>\n      <th>date</th>\n      <th>attachment_filename</th>\n      <th>attachment_content_type</th>\n      <th>headers</th>\n    </tr>\n  </thead>\n  <tbody>\n    <tr>\n      <th>0</th>\n      <td>82</td>\n      <td>Повторная отправка</td>\n      <td>Павловский Максим Викторович  &lt;pmv-160570@yand...</td>\n      <td>Добрый вечер!\\r\\nОтсылаю материалы рецензии на...</td>\n      <td>2016-01-14 20:47:03</td>\n      <td>Рецензия Гаршиной.doc</td>\n      <td>application/msword</td>\n      <td>{'dkim-signature': ('v=1; a=rsa-sha256; q=dns/...</td>\n    </tr>\n    <tr>\n      <th>1</th>\n      <td>83</td>\n      <td>Re: Шаблон рецензии (новый)</td>\n      <td>Юрий Нечаев  &lt;nechaev_ub@mail.ru&gt;</td>\n      <td>Спасибо.Нечаев.</td>\n      <td>2018-02-04 19:56:26</td>\n      <td>NaN</td>\n      <td>NaN</td>\n      <td>{'dkim-signature': ('v=1; a=rsa-sha256; q=dns/...</td>\n    </tr>\n    <tr>\n      <th>2</th>\n      <td>90</td>\n      <td>RE: статья Вестник САИТ Рецензия</td>\n      <td>Толстобров А.П.  &lt;tap@vsu.ru&gt;</td>\n      <td>Добрый день!\\r\\nПосылаю рецензию\\r\\n\\r\\nС уваж...</td>\n      <td>2018-02-09 17:36:00</td>\n      <td>Рецензия Толстоброва на статью А.С. Платонова....</td>\n      <td>application/vnd.openxmlformats-officedocument....</td>\n      <td>{'dkim-signature': ('v=1; a=rsa-sha256; q=dns/...</td>\n    </tr>\n    <tr>\n      <th>3</th>\n      <td>98</td>\n      <td>RE: статья для рецензирования</td>\n      <td>Вялых Сергей Ариевич &lt;vyalyh@govvrn.ru&gt;</td>\n      <td>Доброе время суток, Вероника Викторовна!\\r\\n\\r...</td>\n      <td>2018-02-09 17:54:00</td>\n      <td>рецензия_на_Проблема защита_пользователей.docx</td>\n      <td>application/vnd.openxmlformats-officedocument....</td>\n      <td>{'dkim-signature': ('v=1; a=rsa-sha256; q=dns/...</td>\n    </tr>\n    <tr>\n      <th>4</th>\n      <td>92</td>\n      <td>RE: рецензия на статью</td>\n      <td>Толстобров А.П.  &lt;tap@vsu.ru&gt;</td>\n      <td>Добрый день!\\r\\nПосылаю рецензию\\r\\n\\r\\nС уваж...</td>\n      <td>2018-02-11 22:37:00</td>\n      <td>Рецензия Толстоброва на статью Черненькая-Маге...</td>\n      <td>application/vnd.openxmlformats-officedocument....</td>\n      <td>{'dkim-signature': ('v=1; a=rsa-sha256; q=dns/...</td>\n    </tr>\n    <tr>\n      <th>...</th>\n      <td>...</td>\n      <td>...</td>\n      <td>...</td>\n      <td>...</td>\n      <td>...</td>\n      <td>...</td>\n      <td>...</td>\n      <td>...</td>\n    </tr>\n    <tr>\n      <th>820</th>\n      <td>1065</td>\n      <td>Re: статья на рецензию</td>\n      <td>Алексей Буховец  &lt;abuhovets@mail.ru&gt;</td>\n      <td>Высылаю рецензию на материал А.М. Сагдатуллина...</td>\n      <td>2019-11-14 09:40:50</td>\n      <td>Рецензии Сагдатуллина А_М_САИТ.docx</td>\n      <td>application/vnd.openxmlformats-officedocument....</td>\n      <td>{'dkim-signature': ('v=1; a=rsa-sha256; q=dns/...</td>\n    </tr>\n    <tr>\n      <th>821</th>\n      <td>1068</td>\n      <td>статья</td>\n      <td>hein minzaw &lt;heinminnzaw13@gmail.com&gt;</td>\n      <td>Здравствуйте !\\r\\nМою отправлен нучную статью ...</td>\n      <td>2019-11-14 14:40:59</td>\n      <td>Рис1.docx,Рис2.docx,Статья .doc</td>\n      <td>application/vnd.openxmlformats-officedocument....</td>\n      <td>{'dkim-signature': ('v=1; a=rsa-sha256; q=dns/...</td>\n    </tr>\n    <tr>\n      <th>822</th>\n      <td>1069</td>\n      <td>Re: Королев= ответы на замечания рецензента</td>\n      <td>Сергей Медведев  &lt;s_n_medvedev@mail.ru&gt;</td>\n      <td>Здравствуйте.\\nСчитаю, что статья может быть о...</td>\n      <td>2019-11-15 00:03:13</td>\n      <td>Ответ после повторного рецензирования.pdf,Реце...</td>\n      <td>application/pdf,application/vnd.openxmlformats...</td>\n      <td>{'dkim-signature': ('v=1; a=rsa-sha256; q=dns/...</td>\n    </tr>\n    <tr>\n      <th>823</th>\n      <td>1066</td>\n      <td>Re: Конденсированные среды</td>\n      <td>CONDENSED MATTER AND INTERPHASES &lt;kcmf@main.vs...</td>\n      <td>Добрый день, Виктория Викторовна!\\r\\n\\r\\nЮрист...</td>\n      <td>2019-11-15 09:43:16</td>\n      <td>NaN</td>\n      <td>NaN</td>\n      <td>{'dkim-signature': ('v=1; a=rsa-sha256; q=dns/...</td>\n    </tr>\n    <tr>\n      <th>824</th>\n      <td>658</td>\n      <td>Привет, ты получил сообщение.</td>\n      <td>Sasa &lt;smrd@semribearing.com&gt;</td>\n      <td>Привет друг,\\n\\n\\nЭто Sasa из Тяньцзиня Semri ...</td>\n      <td>2024-05-23 00:00:00</td>\n      <td>邮件照片3.jpg</td>\n      <td>image/jpeg</td>\n      <td>{'dkim-signature': ('v=1; a=rsa-sha256; q=dns/...</td>\n    </tr>\n  </tbody>\n</table>\n<p>825 rows × 8 columns</p>\n</div>"
     },
     "execution_count": 22,
     "metadata": {},
     "output_type": "execute_result"
    }
   ],
   "source": [
    "df = pd.read_csv('files/4_drop_duplicates_df.csv')\n",
    "df"
   ],
   "metadata": {
    "collapsed": false,
    "ExecuteTime": {
     "end_time": "2024-05-29T15:14:40.287660300Z",
     "start_time": "2024-05-29T15:14:40.210699Z"
    }
   },
   "id": "e4c4690f06333f49"
  },
  {
   "cell_type": "code",
   "execution_count": 23,
   "outputs": [],
   "source": [
    "# Удаляется возврат каретки, лишние пробелы и знаки переноса строки\n",
    "\n",
    "def preprocess_text(texts):\n",
    "    column = []\n",
    "    for t in texts:\n",
    "        t = str(t)      \n",
    "        t = re.sub(r'\\r+', ' ', t)\n",
    "        t = re.sub(r'\\xa0+', ' ', t)\n",
    "        t = re.sub(r'(\\n\\s*)+', '\\n', t)\n",
    "        column.append(t)\n",
    "    return column"
   ],
   "metadata": {
    "collapsed": false,
    "ExecuteTime": {
     "end_time": "2024-05-29T15:15:18.708964100Z",
     "start_time": "2024-05-29T15:15:18.684271500Z"
    }
   },
   "id": "824fc4d944309cb2"
  },
  {
   "cell_type": "code",
   "execution_count": 265,
   "outputs": [],
   "source": [
    "def clean_text(texts):\n",
    "    column = []\n",
    "    for s in texts:\n",
    "        s = s.lower()\n",
    "        s = s.removeprefix('re')\n",
    "        s = s.replace('fwd', '')\n",
    "        s = s.replace('fw', '')\n",
    "        s = re.sub(r'[0-9]+', '', s)\n",
    "        s = re.sub(\"[\" + string.punctuation + \"]\", \" \", s)\n",
    "        s = re.sub(r'\\s+', ' ', s)\n",
    "        column.append(s)\n",
    "    return column"
   ],
   "metadata": {
    "collapsed": false
   },
   "id": "790a83a8b563e790"
  },
  {
   "cell_type": "code",
   "execution_count": 24,
   "outputs": [
    {
     "data": {
      "text/plain": "   id                           subject  \\\n0  82                Повторная отправка   \n1  83       Re: Шаблон рецензии (новый)   \n2  90  RE: статья Вестник САИТ Рецензия   \n3  98     RE: статья для рецензирования   \n4  92            RE: рецензия на статью   \n\n                                                from  \\\n0  Павловский Максим Викторович  <pmv-160570@yand...   \n1                  Юрий Нечаев  <nechaev_ub@mail.ru>   \n2                      Толстобров А.П.  <tap@vsu.ru>   \n3            Вялых Сергей Ариевич <vyalyh@govvrn.ru>   \n4                      Толстобров А.П.  <tap@vsu.ru>   \n\n                                                text                 date  \\\n0  Добрый вечер! \\nОтсылаю материалы рецензии на ...  2016-01-14 20:47:03   \n1                                    Спасибо.Нечаев.  2018-02-04 19:56:26   \n2  Добрый день! \\nПосылаю рецензию \\nС уважением,...  2018-02-09 17:36:00   \n3  Доброе время суток, Вероника Викторовна! \\nВыс...  2018-02-09 17:54:00   \n4  Добрый день! \\nПосылаю рецензию \\nС уважением,...  2018-02-11 22:37:00   \n\n                                 attachment_filename  \\\n0                              Рецензия Гаршиной.doc   \n1                                                NaN   \n2  Рецензия Толстоброва на статью А.С. Платонова....   \n3     рецензия_на_Проблема защита_пользователей.docx   \n4  Рецензия Толстоброва на статью Черненькая-Маге...   \n\n                             attachment_content_type  \\\n0                                 application/msword   \n1                                                NaN   \n2  application/vnd.openxmlformats-officedocument....   \n3  application/vnd.openxmlformats-officedocument....   \n4  application/vnd.openxmlformats-officedocument....   \n\n                                             headers  \n0  {'dkim-signature': ('v=1; a=rsa-sha256; q=dns/...  \n1  {'dkim-signature': ('v=1; a=rsa-sha256; q=dns/...  \n2  {'dkim-signature': ('v=1; a=rsa-sha256; q=dns/...  \n3  {'dkim-signature': ('v=1; a=rsa-sha256; q=dns/...  \n4  {'dkim-signature': ('v=1; a=rsa-sha256; q=dns/...  ",
      "text/html": "<div>\n<style scoped>\n    .dataframe tbody tr th:only-of-type {\n        vertical-align: middle;\n    }\n\n    .dataframe tbody tr th {\n        vertical-align: top;\n    }\n\n    .dataframe thead th {\n        text-align: right;\n    }\n</style>\n<table border=\"1\" class=\"dataframe\">\n  <thead>\n    <tr style=\"text-align: right;\">\n      <th></th>\n      <th>id</th>\n      <th>subject</th>\n      <th>from</th>\n      <th>text</th>\n      <th>date</th>\n      <th>attachment_filename</th>\n      <th>attachment_content_type</th>\n      <th>headers</th>\n    </tr>\n  </thead>\n  <tbody>\n    <tr>\n      <th>0</th>\n      <td>82</td>\n      <td>Повторная отправка</td>\n      <td>Павловский Максим Викторович  &lt;pmv-160570@yand...</td>\n      <td>Добрый вечер! \\nОтсылаю материалы рецензии на ...</td>\n      <td>2016-01-14 20:47:03</td>\n      <td>Рецензия Гаршиной.doc</td>\n      <td>application/msword</td>\n      <td>{'dkim-signature': ('v=1; a=rsa-sha256; q=dns/...</td>\n    </tr>\n    <tr>\n      <th>1</th>\n      <td>83</td>\n      <td>Re: Шаблон рецензии (новый)</td>\n      <td>Юрий Нечаев  &lt;nechaev_ub@mail.ru&gt;</td>\n      <td>Спасибо.Нечаев.</td>\n      <td>2018-02-04 19:56:26</td>\n      <td>NaN</td>\n      <td>NaN</td>\n      <td>{'dkim-signature': ('v=1; a=rsa-sha256; q=dns/...</td>\n    </tr>\n    <tr>\n      <th>2</th>\n      <td>90</td>\n      <td>RE: статья Вестник САИТ Рецензия</td>\n      <td>Толстобров А.П.  &lt;tap@vsu.ru&gt;</td>\n      <td>Добрый день! \\nПосылаю рецензию \\nС уважением,...</td>\n      <td>2018-02-09 17:36:00</td>\n      <td>Рецензия Толстоброва на статью А.С. Платонова....</td>\n      <td>application/vnd.openxmlformats-officedocument....</td>\n      <td>{'dkim-signature': ('v=1; a=rsa-sha256; q=dns/...</td>\n    </tr>\n    <tr>\n      <th>3</th>\n      <td>98</td>\n      <td>RE: статья для рецензирования</td>\n      <td>Вялых Сергей Ариевич &lt;vyalyh@govvrn.ru&gt;</td>\n      <td>Доброе время суток, Вероника Викторовна! \\nВыс...</td>\n      <td>2018-02-09 17:54:00</td>\n      <td>рецензия_на_Проблема защита_пользователей.docx</td>\n      <td>application/vnd.openxmlformats-officedocument....</td>\n      <td>{'dkim-signature': ('v=1; a=rsa-sha256; q=dns/...</td>\n    </tr>\n    <tr>\n      <th>4</th>\n      <td>92</td>\n      <td>RE: рецензия на статью</td>\n      <td>Толстобров А.П.  &lt;tap@vsu.ru&gt;</td>\n      <td>Добрый день! \\nПосылаю рецензию \\nС уважением,...</td>\n      <td>2018-02-11 22:37:00</td>\n      <td>Рецензия Толстоброва на статью Черненькая-Маге...</td>\n      <td>application/vnd.openxmlformats-officedocument....</td>\n      <td>{'dkim-signature': ('v=1; a=rsa-sha256; q=dns/...</td>\n    </tr>\n  </tbody>\n</table>\n</div>"
     },
     "execution_count": 24,
     "metadata": {},
     "output_type": "execute_result"
    }
   ],
   "source": [
    "df['text'] = preprocess_text(df['text'])\n",
    "df.head()"
   ],
   "metadata": {
    "collapsed": false,
    "ExecuteTime": {
     "start_time": "2024-05-29T15:15:25.951945900Z"
    }
   },
   "id": "e4b109c78cb202dd"
  },
  {
   "cell_type": "code",
   "execution_count": 8,
   "outputs": [],
   "source": [
    "# df.to_csv('files/5_cleaned_text.csv')"
   ],
   "metadata": {
    "collapsed": false,
    "ExecuteTime": {
     "start_time": "2024-05-29T14:37:09.459372700Z"
    }
   },
   "id": "f9ea2ec0cd61f9d3"
  },
  {
   "cell_type": "code",
   "execution_count": 16,
   "outputs": [],
   "source": [
    "df = df.fillna('')"
   ],
   "metadata": {
    "collapsed": false,
    "ExecuteTime": {
     "start_time": "2024-05-29T14:42:04.017725600Z"
    }
   },
   "id": "6f99e7067e71b42"
  },
  {
   "cell_type": "code",
   "execution_count": 10,
   "outputs": [
    {
     "data": {
      "text/plain": "       id                                      subject  \\\n0      82                           Повторная отправка   \n1      83                  Re: Шаблон рецензии (новый)   \n2      90             RE: статья Вестник САИТ Рецензия   \n3      98                RE: статья для рецензирования   \n4      92                       RE: рецензия на статью   \n..    ...                                          ...   \n820  1065                       Re: статья на рецензию   \n821  1068                                       статья   \n822  1069  Re: Королев= ответы на замечания рецензента   \n823  1066                   Re: Конденсированные среды   \n824   658               Привет, ты получил сообщение.    \n\n                                                  from  \\\n0    Павловский Максим Викторович  <pmv-160570@yand...   \n1                    Юрий Нечаев  <nechaev_ub@mail.ru>   \n2                        Толстобров А.П.  <tap@vsu.ru>   \n3              Вялых Сергей Ариевич <vyalyh@govvrn.ru>   \n4                        Толстобров А.П.  <tap@vsu.ru>   \n..                                                 ...   \n820               Алексей Буховец  <abuhovets@mail.ru>   \n821              hein minzaw <heinminnzaw13@gmail.com>   \n822            Сергей Медведев  <s_n_medvedev@mail.ru>   \n823  CONDENSED MATTER AND INTERPHASES <kcmf@main.vs...   \n824                       Sasa <smrd@semribearing.com>   \n\n                                                  text                 date  \\\n0    Добрый вечер! \\nОтсылаю материалы рецензии на ...  2016-01-14 20:47:03   \n1                                      Спасибо.Нечаев.  2018-02-04 19:56:26   \n2    Добрый день! \\nПосылаю рецензию \\nС уважением,...  2018-02-09 17:36:00   \n3    Доброе время суток, Вероника Викторовна! \\nВыс...  2018-02-09 17:54:00   \n4    Добрый день! \\nПосылаю рецензию \\nС уважением,...  2018-02-11 22:37:00   \n..                                                 ...                  ...   \n820  Высылаю рецензию на материал А.М. Сагдатуллина...  2019-11-14 09:40:50   \n821  Здравствуйте ! \\nМою отправлен нучную статью с...  2019-11-14 14:40:59   \n822  Здравствуйте.\\nСчитаю, что статья может быть о...  2019-11-15 00:03:13   \n823  Добрый день, Виктория Викторовна! \\nЮристы оче...  2019-11-15 09:43:16   \n824  Привет друг,\\nЭто Sasa из Тяньцзиня Semri Bear...  2024-05-23 00:00:00   \n\n                                   attachment_filename  \\\n0                                Рецензия Гаршиной.doc   \n1                                                        \n2    Рецензия Толстоброва на статью А.С. Платонова....   \n3       рецензия_на_Проблема защита_пользователей.docx   \n4    Рецензия Толстоброва на статью Черненькая-Маге...   \n..                                                 ...   \n820                Рецензии Сагдатуллина А_М_САИТ.docx   \n821                    Рис1.docx,Рис2.docx,Статья .doc   \n822  Ответ после повторного рецензирования.pdf,Реце...   \n823                                                      \n824                                          邮件照片3.jpg   \n\n                               attachment_content_type  \\\n0                                   application/msword   \n1                                                        \n2    application/vnd.openxmlformats-officedocument....   \n3    application/vnd.openxmlformats-officedocument....   \n4    application/vnd.openxmlformats-officedocument....   \n..                                                 ...   \n820  application/vnd.openxmlformats-officedocument....   \n821  application/vnd.openxmlformats-officedocument....   \n822  application/pdf,application/vnd.openxmlformats...   \n823                                                      \n824                                         image/jpeg   \n\n                                               headers  \n0    {'dkim-signature': ('v=1; a=rsa-sha256; q=dns/...  \n1    {'dkim-signature': ('v=1; a=rsa-sha256; q=dns/...  \n2    {'dkim-signature': ('v=1; a=rsa-sha256; q=dns/...  \n3    {'dkim-signature': ('v=1; a=rsa-sha256; q=dns/...  \n4    {'dkim-signature': ('v=1; a=rsa-sha256; q=dns/...  \n..                                                 ...  \n820  {'dkim-signature': ('v=1; a=rsa-sha256; q=dns/...  \n821  {'dkim-signature': ('v=1; a=rsa-sha256; q=dns/...  \n822  {'dkim-signature': ('v=1; a=rsa-sha256; q=dns/...  \n823  {'dkim-signature': ('v=1; a=rsa-sha256; q=dns/...  \n824  {'dkim-signature': ('v=1; a=rsa-sha256; q=dns/...  \n\n[825 rows x 8 columns]",
      "text/html": "<div>\n<style scoped>\n    .dataframe tbody tr th:only-of-type {\n        vertical-align: middle;\n    }\n\n    .dataframe tbody tr th {\n        vertical-align: top;\n    }\n\n    .dataframe thead th {\n        text-align: right;\n    }\n</style>\n<table border=\"1\" class=\"dataframe\">\n  <thead>\n    <tr style=\"text-align: right;\">\n      <th></th>\n      <th>id</th>\n      <th>subject</th>\n      <th>from</th>\n      <th>text</th>\n      <th>date</th>\n      <th>attachment_filename</th>\n      <th>attachment_content_type</th>\n      <th>headers</th>\n    </tr>\n  </thead>\n  <tbody>\n    <tr>\n      <th>0</th>\n      <td>82</td>\n      <td>Повторная отправка</td>\n      <td>Павловский Максим Викторович  &lt;pmv-160570@yand...</td>\n      <td>Добрый вечер! \\nОтсылаю материалы рецензии на ...</td>\n      <td>2016-01-14 20:47:03</td>\n      <td>Рецензия Гаршиной.doc</td>\n      <td>application/msword</td>\n      <td>{'dkim-signature': ('v=1; a=rsa-sha256; q=dns/...</td>\n    </tr>\n    <tr>\n      <th>1</th>\n      <td>83</td>\n      <td>Re: Шаблон рецензии (новый)</td>\n      <td>Юрий Нечаев  &lt;nechaev_ub@mail.ru&gt;</td>\n      <td>Спасибо.Нечаев.</td>\n      <td>2018-02-04 19:56:26</td>\n      <td></td>\n      <td></td>\n      <td>{'dkim-signature': ('v=1; a=rsa-sha256; q=dns/...</td>\n    </tr>\n    <tr>\n      <th>2</th>\n      <td>90</td>\n      <td>RE: статья Вестник САИТ Рецензия</td>\n      <td>Толстобров А.П.  &lt;tap@vsu.ru&gt;</td>\n      <td>Добрый день! \\nПосылаю рецензию \\nС уважением,...</td>\n      <td>2018-02-09 17:36:00</td>\n      <td>Рецензия Толстоброва на статью А.С. Платонова....</td>\n      <td>application/vnd.openxmlformats-officedocument....</td>\n      <td>{'dkim-signature': ('v=1; a=rsa-sha256; q=dns/...</td>\n    </tr>\n    <tr>\n      <th>3</th>\n      <td>98</td>\n      <td>RE: статья для рецензирования</td>\n      <td>Вялых Сергей Ариевич &lt;vyalyh@govvrn.ru&gt;</td>\n      <td>Доброе время суток, Вероника Викторовна! \\nВыс...</td>\n      <td>2018-02-09 17:54:00</td>\n      <td>рецензия_на_Проблема защита_пользователей.docx</td>\n      <td>application/vnd.openxmlformats-officedocument....</td>\n      <td>{'dkim-signature': ('v=1; a=rsa-sha256; q=dns/...</td>\n    </tr>\n    <tr>\n      <th>4</th>\n      <td>92</td>\n      <td>RE: рецензия на статью</td>\n      <td>Толстобров А.П.  &lt;tap@vsu.ru&gt;</td>\n      <td>Добрый день! \\nПосылаю рецензию \\nС уважением,...</td>\n      <td>2018-02-11 22:37:00</td>\n      <td>Рецензия Толстоброва на статью Черненькая-Маге...</td>\n      <td>application/vnd.openxmlformats-officedocument....</td>\n      <td>{'dkim-signature': ('v=1; a=rsa-sha256; q=dns/...</td>\n    </tr>\n    <tr>\n      <th>...</th>\n      <td>...</td>\n      <td>...</td>\n      <td>...</td>\n      <td>...</td>\n      <td>...</td>\n      <td>...</td>\n      <td>...</td>\n      <td>...</td>\n    </tr>\n    <tr>\n      <th>820</th>\n      <td>1065</td>\n      <td>Re: статья на рецензию</td>\n      <td>Алексей Буховец  &lt;abuhovets@mail.ru&gt;</td>\n      <td>Высылаю рецензию на материал А.М. Сагдатуллина...</td>\n      <td>2019-11-14 09:40:50</td>\n      <td>Рецензии Сагдатуллина А_М_САИТ.docx</td>\n      <td>application/vnd.openxmlformats-officedocument....</td>\n      <td>{'dkim-signature': ('v=1; a=rsa-sha256; q=dns/...</td>\n    </tr>\n    <tr>\n      <th>821</th>\n      <td>1068</td>\n      <td>статья</td>\n      <td>hein minzaw &lt;heinminnzaw13@gmail.com&gt;</td>\n      <td>Здравствуйте ! \\nМою отправлен нучную статью с...</td>\n      <td>2019-11-14 14:40:59</td>\n      <td>Рис1.docx,Рис2.docx,Статья .doc</td>\n      <td>application/vnd.openxmlformats-officedocument....</td>\n      <td>{'dkim-signature': ('v=1; a=rsa-sha256; q=dns/...</td>\n    </tr>\n    <tr>\n      <th>822</th>\n      <td>1069</td>\n      <td>Re: Королев= ответы на замечания рецензента</td>\n      <td>Сергей Медведев  &lt;s_n_medvedev@mail.ru&gt;</td>\n      <td>Здравствуйте.\\nСчитаю, что статья может быть о...</td>\n      <td>2019-11-15 00:03:13</td>\n      <td>Ответ после повторного рецензирования.pdf,Реце...</td>\n      <td>application/pdf,application/vnd.openxmlformats...</td>\n      <td>{'dkim-signature': ('v=1; a=rsa-sha256; q=dns/...</td>\n    </tr>\n    <tr>\n      <th>823</th>\n      <td>1066</td>\n      <td>Re: Конденсированные среды</td>\n      <td>CONDENSED MATTER AND INTERPHASES &lt;kcmf@main.vs...</td>\n      <td>Добрый день, Виктория Викторовна! \\nЮристы оче...</td>\n      <td>2019-11-15 09:43:16</td>\n      <td></td>\n      <td></td>\n      <td>{'dkim-signature': ('v=1; a=rsa-sha256; q=dns/...</td>\n    </tr>\n    <tr>\n      <th>824</th>\n      <td>658</td>\n      <td>Привет, ты получил сообщение.</td>\n      <td>Sasa &lt;smrd@semribearing.com&gt;</td>\n      <td>Привет друг,\\nЭто Sasa из Тяньцзиня Semri Bear...</td>\n      <td>2024-05-23 00:00:00</td>\n      <td>邮件照片3.jpg</td>\n      <td>image/jpeg</td>\n      <td>{'dkim-signature': ('v=1; a=rsa-sha256; q=dns/...</td>\n    </tr>\n  </tbody>\n</table>\n<p>825 rows × 8 columns</p>\n</div>"
     },
     "execution_count": 10,
     "metadata": {},
     "output_type": "execute_result"
    }
   ],
   "source": [
    "df"
   ],
   "metadata": {
    "collapsed": false,
    "ExecuteTime": {
     "start_time": "2024-05-29T14:41:18.384535300Z"
    }
   },
   "id": "bae1db7f19c5e738"
  },
  {
   "cell_type": "code",
   "execution_count": 21,
   "outputs": [],
   "source": [
    "cc_df = pd.read_csv('files/7_clean_categorized.csv')"
   ],
   "metadata": {
    "collapsed": false,
    "ExecuteTime": {
     "end_time": "2024-05-29T14:51:21.399144800Z",
     "start_time": "2024-05-29T14:51:21.370275200Z"
    }
   },
   "id": "8be16fdb25ef6606"
  },
  {
   "cell_type": "code",
   "execution_count": null,
   "outputs": [],
   "source": [
    "rus = set('абвгдеёжзийклмнопрстуфхцчшщъыьэюя ')\n",
    "conv_text = lambda mas_in : [''.join([j for j in i if j.lower() in rus]) for i in mas_in]"
   ],
   "metadata": {
    "collapsed": false
   },
   "id": "b0799dd255176626"
  },
  {
   "cell_type": "markdown",
   "source": [
    "из texts_lsa"
   ],
   "metadata": {
    "collapsed": false
   },
   "id": "9124264a0983dd39"
  },
  {
   "cell_type": "markdown",
   "source": [
    "## Очистка\n",
    "Удаляем из текста конструкции с данными вида \n",
    "-----Original Message-----\n",
    "From: Vestnik VSU [mailto:cs-it@cs.vsu.ru] \n",
    "Sent: Friday, February 9, 2018 5:36 PM\n",
    "To: tap@rcnit.vsu.ru\n",
    "Subject: статья Вестник САИТ\n",
    " \n",
    "И личной подписью вида\n",
    "\n",
    "С уважением,\n",
    "Толстобров Александр Павлович\n",
    "______________________________\n",
    "mailto: tap@vsu.ru\n",
    "тел.: +7(473)2555646\n",
    "моб.тел.: +7-9803424150\n",
    "Skype: tap-vsu\n"
   ],
   "metadata": {
    "collapsed": false
   },
   "id": "3ab51d9693037ac8"
  },
  {
   "cell_type": "markdown",
   "source": [
    "# Выбираем заголовки сообщения"
   ],
   "metadata": {
    "collapsed": false
   },
   "id": "e70ea27c9ec11a6d"
  },
  {
   "cell_type": "markdown",
   "source": [
    "## Примеры:\n",
    "1. \"-----Original Message-----\\r\\nFrom: Vestnik VSU [mailto:cs-it@cs.vsu.ru] \\r\\nSent: Friday, February 9, 2018 5:36 PM\\r\\nTo: tap@rcnit.vsu.ru\\r\\nSubject: статья Вестник САИТ\\r\\n\\r\\n\"\n",
    "2. \"-------- Пересылаемое сообщение --------\\n>> От кого: Илья Сандлер < sandleri@bk.ru >\\n>> Кому: cs-it < cs-it@cs.vsu.ru >\\n>> Дата: Воскресенье,  4 февраля 2018, 12:31 +04:00\\n>> Тема: Статья Сандлер И.Л. Комплект документов в журнал \" Вестник ВГУ.\\n>> Серия: Системный анализ и информационные технологии \"\\n\"\n",
    "3. \"15 февраля 2018 г., 22:11 пользователь Vestnik VSU <cs-it@cs.vsu.ru>\\r\\nнаписал:\\r\\n\\r\\n\"\n",
    "4. \"On 19 Feb 2018, at 21:42, Vestnik VSU <cs-it@cs.vsu.ru> wrote:\\r\\n\"\n",
    "5. \"Пятница,  9 февраля 2018, 17:33 +04:00 от Vestnik VSU <cs-it@cs.vsu.ru>:\\n\" (95)\n",
    "6. \"On Thu, 15 Feb 2018 15:57:32 +0300 \\nВладимир Евстафьевич Магер <mv@qmd.spbstu.ru wrote: \\n\"\n",
    "7. \"15.02.2018, 14:50, \"Vestnik VSU\" <csit@cs.vsu.ru:\""
   ],
   "metadata": {
    "collapsed": false
   },
   "id": "83f8f00203bf0c3"
  },
  {
   "cell_type": "markdown",
   "source": [
    "Удалить\n",
    "1. Возврат каретки\n",
    "2. Знаки '>'"
   ],
   "metadata": {
    "collapsed": false
   },
   "id": "b6496df8e20743d3"
  },
  {
   "cell_type": "code",
   "execution_count": null,
   "outputs": [],
   "source": [
    "texts = df[['id','text']]\n",
    "texts"
   ],
   "metadata": {
    "collapsed": false
   },
   "id": "b5456ba8e11a885a"
  },
  {
   "cell_type": "code",
   "execution_count": 505,
   "outputs": [
    {
     "data": {
      "text/plain": "'Добрый день!\\r\\nПосылаю рецензию\\r\\n\\r\\nС уважением,\\r\\nТолстобров Александр Павлович\\r\\n______________________________\\r\\nmailto: tap@vsu.ru\\r\\nтел.: +7(473)2555646\\r\\nмоб.тел.: +7-9803424150\\r\\nSkype: tap-vsu\\r\\n\\r\\n\\r\\n-----Original Message-----\\r\\nFrom: Vestnik VSU [mailto:cs-it@cs.vsu.ru] \\r\\nSent: Sunday, February 11, 2018 10:37 PM\\r\\nTo: tap@vsu.ru\\r\\nSubject: рецензия на статью\\r\\n\\r\\nУважаемый Александр Павлович!\\r\\nПрошу отрецензировать статью - СИСТЕМА ОН-ЛАЙН ОБЕСПЕЧЕНИЯ КАЧЕСТВА ОБРАЗОВАТЕЛЬНЫХ ПРОГРАММ Л.В. Черненькая, В.Е. Магер Санкт-Петербургский политехнический университет Петра Великого  Гаршина В.В.\\r\\n'"
     },
     "execution_count": 505,
     "metadata": {},
     "output_type": "execute_result"
    }
   ],
   "source": [
    "test = texts[texts['id']==92]['text']\n",
    "t = test.values[0]\n",
    "t"
   ],
   "metadata": {
    "collapsed": false
   },
   "id": "3ea6a7c46770ca60"
  },
  {
   "cell_type": "code",
   "execution_count": 11,
   "outputs": [],
   "source": [
    "def remove_re_header(t: str):\n",
    "    t = re.sub(r'\\r+', ' ', t)\n",
    "    t = re.sub(r'(>+)', '', t)\n",
    "    t = re.sub(r'\\xa0+', ' ', t)\n",
    "    t = re.sub(r'(\\n\\s*)+', '\\n', t)\n",
    "    t = re.sub(r'-+', '', t)\n",
    "    # пример 1\n",
    "    pattern = r'Пересылаемое сообщение((.*?)(Тема:.*?))\\n'\n",
    "    # пример 2\n",
    "    pattern2 = r'Original Message((.*?)(Subject:.*?))\\n'\n",
    "    # пример 3\n",
    "    pattern3 = r'(\\n\\d{1,2}\\s(?:января|февраля|марта|апреля|мая|июня|июля|августа|сентября|октября|ноября|декабря)\\s\\d{4}\\sг\\.,\\s\\d{1,2}:\\d{2}.*?пользователь.*?\\nнаписал: \\n)'\n",
    "    # пример 4, пример 6\n",
    "    pattern4 = r'On((.*?)(wrote:.*?))\\n'\n",
    "    # пример 5\n",
    "    pattern5 = r'(?:Понедельник|Вторник|Среда|Четверг|Пятница|Суббота|Воскресенье).*?:\\s'\n",
    "    # пример 7\n",
    "    pattern7 = r'\\n(\\d{1,2}\\.\\d{2}\\.\\d{4}, \\d{2}:\\d{2},.*:\\s)'\n",
    "    t = re.sub(pattern, '', t, flags=re.DOTALL)\n",
    "    t = re.sub(pattern2, '', t, flags=re.DOTALL)\n",
    "    t = re.sub(pattern3, '', t)\n",
    "    t = re.sub(pattern4, '', t, flags=re.DOTALL)\n",
    "    t = re.sub(pattern5, '', t, flags=re.DOTALL)\n",
    "    t = re.sub(pattern7, '', t, flags=re.DOTALL)\n",
    "    return t"
   ],
   "metadata": {
    "collapsed": false,
    "ExecuteTime": {
     "start_time": "2024-05-29T14:41:24.958474600Z"
    }
   },
   "id": "1a5042eb31a8f53a"
  },
  {
   "cell_type": "code",
   "execution_count": 12,
   "outputs": [],
   "source": [
    "def remove_re_headers(texts: list[str]):\n",
    "    col = []\n",
    "    for tx in texts:\n",
    "        new = remove_re_header(str(tx))\n",
    "        col.append(new)\n",
    "    return col"
   ],
   "metadata": {
    "collapsed": false,
    "ExecuteTime": {
     "start_time": "2024-05-29T14:41:26.699670700Z"
    }
   },
   "id": "438ab93d66da52ea"
  },
  {
   "cell_type": "code",
   "execution_count": 13,
   "outputs": [
    {
     "data": {
      "text/plain": "       id                                      subject  \\\n0      82                           Повторная отправка   \n1      83                  Re: Шаблон рецензии (новый)   \n2      90             RE: статья Вестник САИТ Рецензия   \n3      98                RE: статья для рецензирования   \n4      92                       RE: рецензия на статью   \n..    ...                                          ...   \n820  1065                       Re: статья на рецензию   \n821  1068                                       статья   \n822  1069  Re: Королев= ответы на замечания рецензента   \n823  1066                   Re: Конденсированные среды   \n824   658               Привет, ты получил сообщение.    \n\n                                                  from  \\\n0    Павловский Максим Викторович  <pmv-160570@yand...   \n1                    Юрий Нечаев  <nechaev_ub@mail.ru>   \n2                        Толстобров А.П.  <tap@vsu.ru>   \n3              Вялых Сергей Ариевич <vyalyh@govvrn.ru>   \n4                        Толстобров А.П.  <tap@vsu.ru>   \n..                                                 ...   \n820               Алексей Буховец  <abuhovets@mail.ru>   \n821              hein minzaw <heinminnzaw13@gmail.com>   \n822            Сергей Медведев  <s_n_medvedev@mail.ru>   \n823  CONDENSED MATTER AND INTERPHASES <kcmf@main.vs...   \n824                       Sasa <smrd@semribearing.com>   \n\n                                                  text                 date  \\\n0    Добрый вечер! \\nОтсылаю материалы рецензии на ...  2016-01-14 20:47:03   \n1                                      Спасибо.Нечаев.  2018-02-04 19:56:26   \n2    Добрый день! \\nПосылаю рецензию \\nС уважением,...  2018-02-09 17:36:00   \n3    Доброе время суток, Вероника Викторовна! \\nВыс...  2018-02-09 17:54:00   \n4    Добрый день! \\nПосылаю рецензию \\nС уважением,...  2018-02-11 22:37:00   \n..                                                 ...                  ...   \n820  Высылаю рецензию на материал А.М. Сагдатуллина...  2019-11-14 09:40:50   \n821  Здравствуйте ! \\nМою отправлен нучную статью с...  2019-11-14 14:40:59   \n822  Здравствуйте.\\nСчитаю, что статья может быть о...  2019-11-15 00:03:13   \n823  Добрый день, Виктория Викторовна! \\nЮристы оче...  2019-11-15 09:43:16   \n824  Привет друг,\\nЭто Sasa из Тяньцзиня Semri Bear...  2024-05-23 00:00:00   \n\n                                   attachment_filename  \\\n0                                Рецензия Гаршиной.doc   \n1                                                        \n2    Рецензия Толстоброва на статью А.С. Платонова....   \n3       рецензия_на_Проблема защита_пользователей.docx   \n4    Рецензия Толстоброва на статью Черненькая-Маге...   \n..                                                 ...   \n820                Рецензии Сагдатуллина А_М_САИТ.docx   \n821                    Рис1.docx,Рис2.docx,Статья .doc   \n822  Ответ после повторного рецензирования.pdf,Реце...   \n823                                                      \n824                                          邮件照片3.jpg   \n\n                               attachment_content_type  \\\n0                                   application/msword   \n1                                                        \n2    application/vnd.openxmlformats-officedocument....   \n3    application/vnd.openxmlformats-officedocument....   \n4    application/vnd.openxmlformats-officedocument....   \n..                                                 ...   \n820  application/vnd.openxmlformats-officedocument....   \n821  application/vnd.openxmlformats-officedocument....   \n822  application/pdf,application/vnd.openxmlformats...   \n823                                                      \n824                                         image/jpeg   \n\n                                               headers  \n0    {'dkim-signature': ('v=1; a=rsa-sha256; q=dns/...  \n1    {'dkim-signature': ('v=1; a=rsa-sha256; q=dns/...  \n2    {'dkim-signature': ('v=1; a=rsa-sha256; q=dns/...  \n3    {'dkim-signature': ('v=1; a=rsa-sha256; q=dns/...  \n4    {'dkim-signature': ('v=1; a=rsa-sha256; q=dns/...  \n..                                                 ...  \n820  {'dkim-signature': ('v=1; a=rsa-sha256; q=dns/...  \n821  {'dkim-signature': ('v=1; a=rsa-sha256; q=dns/...  \n822  {'dkim-signature': ('v=1; a=rsa-sha256; q=dns/...  \n823  {'dkim-signature': ('v=1; a=rsa-sha256; q=dns/...  \n824  {'dkim-signature': ('v=1; a=rsa-sha256; q=dns/...  \n\n[825 rows x 8 columns]",
      "text/html": "<div>\n<style scoped>\n    .dataframe tbody tr th:only-of-type {\n        vertical-align: middle;\n    }\n\n    .dataframe tbody tr th {\n        vertical-align: top;\n    }\n\n    .dataframe thead th {\n        text-align: right;\n    }\n</style>\n<table border=\"1\" class=\"dataframe\">\n  <thead>\n    <tr style=\"text-align: right;\">\n      <th></th>\n      <th>id</th>\n      <th>subject</th>\n      <th>from</th>\n      <th>text</th>\n      <th>date</th>\n      <th>attachment_filename</th>\n      <th>attachment_content_type</th>\n      <th>headers</th>\n    </tr>\n  </thead>\n  <tbody>\n    <tr>\n      <th>0</th>\n      <td>82</td>\n      <td>Повторная отправка</td>\n      <td>Павловский Максим Викторович  &lt;pmv-160570@yand...</td>\n      <td>Добрый вечер! \\nОтсылаю материалы рецензии на ...</td>\n      <td>2016-01-14 20:47:03</td>\n      <td>Рецензия Гаршиной.doc</td>\n      <td>application/msword</td>\n      <td>{'dkim-signature': ('v=1; a=rsa-sha256; q=dns/...</td>\n    </tr>\n    <tr>\n      <th>1</th>\n      <td>83</td>\n      <td>Re: Шаблон рецензии (новый)</td>\n      <td>Юрий Нечаев  &lt;nechaev_ub@mail.ru&gt;</td>\n      <td>Спасибо.Нечаев.</td>\n      <td>2018-02-04 19:56:26</td>\n      <td></td>\n      <td></td>\n      <td>{'dkim-signature': ('v=1; a=rsa-sha256; q=dns/...</td>\n    </tr>\n    <tr>\n      <th>2</th>\n      <td>90</td>\n      <td>RE: статья Вестник САИТ Рецензия</td>\n      <td>Толстобров А.П.  &lt;tap@vsu.ru&gt;</td>\n      <td>Добрый день! \\nПосылаю рецензию \\nС уважением,...</td>\n      <td>2018-02-09 17:36:00</td>\n      <td>Рецензия Толстоброва на статью А.С. Платонова....</td>\n      <td>application/vnd.openxmlformats-officedocument....</td>\n      <td>{'dkim-signature': ('v=1; a=rsa-sha256; q=dns/...</td>\n    </tr>\n    <tr>\n      <th>3</th>\n      <td>98</td>\n      <td>RE: статья для рецензирования</td>\n      <td>Вялых Сергей Ариевич &lt;vyalyh@govvrn.ru&gt;</td>\n      <td>Доброе время суток, Вероника Викторовна! \\nВыс...</td>\n      <td>2018-02-09 17:54:00</td>\n      <td>рецензия_на_Проблема защита_пользователей.docx</td>\n      <td>application/vnd.openxmlformats-officedocument....</td>\n      <td>{'dkim-signature': ('v=1; a=rsa-sha256; q=dns/...</td>\n    </tr>\n    <tr>\n      <th>4</th>\n      <td>92</td>\n      <td>RE: рецензия на статью</td>\n      <td>Толстобров А.П.  &lt;tap@vsu.ru&gt;</td>\n      <td>Добрый день! \\nПосылаю рецензию \\nС уважением,...</td>\n      <td>2018-02-11 22:37:00</td>\n      <td>Рецензия Толстоброва на статью Черненькая-Маге...</td>\n      <td>application/vnd.openxmlformats-officedocument....</td>\n      <td>{'dkim-signature': ('v=1; a=rsa-sha256; q=dns/...</td>\n    </tr>\n    <tr>\n      <th>...</th>\n      <td>...</td>\n      <td>...</td>\n      <td>...</td>\n      <td>...</td>\n      <td>...</td>\n      <td>...</td>\n      <td>...</td>\n      <td>...</td>\n    </tr>\n    <tr>\n      <th>820</th>\n      <td>1065</td>\n      <td>Re: статья на рецензию</td>\n      <td>Алексей Буховец  &lt;abuhovets@mail.ru&gt;</td>\n      <td>Высылаю рецензию на материал А.М. Сагдатуллина...</td>\n      <td>2019-11-14 09:40:50</td>\n      <td>Рецензии Сагдатуллина А_М_САИТ.docx</td>\n      <td>application/vnd.openxmlformats-officedocument....</td>\n      <td>{'dkim-signature': ('v=1; a=rsa-sha256; q=dns/...</td>\n    </tr>\n    <tr>\n      <th>821</th>\n      <td>1068</td>\n      <td>статья</td>\n      <td>hein minzaw &lt;heinminnzaw13@gmail.com&gt;</td>\n      <td>Здравствуйте ! \\nМою отправлен нучную статью с...</td>\n      <td>2019-11-14 14:40:59</td>\n      <td>Рис1.docx,Рис2.docx,Статья .doc</td>\n      <td>application/vnd.openxmlformats-officedocument....</td>\n      <td>{'dkim-signature': ('v=1; a=rsa-sha256; q=dns/...</td>\n    </tr>\n    <tr>\n      <th>822</th>\n      <td>1069</td>\n      <td>Re: Королев= ответы на замечания рецензента</td>\n      <td>Сергей Медведев  &lt;s_n_medvedev@mail.ru&gt;</td>\n      <td>Здравствуйте.\\nСчитаю, что статья может быть о...</td>\n      <td>2019-11-15 00:03:13</td>\n      <td>Ответ после повторного рецензирования.pdf,Реце...</td>\n      <td>application/pdf,application/vnd.openxmlformats...</td>\n      <td>{'dkim-signature': ('v=1; a=rsa-sha256; q=dns/...</td>\n    </tr>\n    <tr>\n      <th>823</th>\n      <td>1066</td>\n      <td>Re: Конденсированные среды</td>\n      <td>CONDENSED MATTER AND INTERPHASES &lt;kcmf@main.vs...</td>\n      <td>Добрый день, Виктория Викторовна! \\nЮристы оче...</td>\n      <td>2019-11-15 09:43:16</td>\n      <td></td>\n      <td></td>\n      <td>{'dkim-signature': ('v=1; a=rsa-sha256; q=dns/...</td>\n    </tr>\n    <tr>\n      <th>824</th>\n      <td>658</td>\n      <td>Привет, ты получил сообщение.</td>\n      <td>Sasa &lt;smrd@semribearing.com&gt;</td>\n      <td>Привет друг,\\nЭто Sasa из Тяньцзиня Semri Bear...</td>\n      <td>2024-05-23 00:00:00</td>\n      <td>邮件照片3.jpg</td>\n      <td>image/jpeg</td>\n      <td>{'dkim-signature': ('v=1; a=rsa-sha256; q=dns/...</td>\n    </tr>\n  </tbody>\n</table>\n<p>825 rows × 8 columns</p>\n</div>"
     },
     "execution_count": 13,
     "metadata": {},
     "output_type": "execute_result"
    }
   ],
   "source": [
    "df['text'] = remove_re_headers(df['text'])\n",
    "df"
   ],
   "metadata": {
    "collapsed": false,
    "ExecuteTime": {
     "start_time": "2024-05-29T14:41:35.551881800Z"
    }
   },
   "id": "56011090c3b050e0"
  },
  {
   "cell_type": "code",
   "execution_count": 14,
   "outputs": [],
   "source": [
    "def remove_personal_sign(texts):\n",
    "    col = []\n",
    "    for t in texts:\n",
    "        t = str(t)\n",
    "        pattern_sign = r'(Отв.*?)\\n'\n",
    "        pattern_sign2 = r'С уважением.*?\\n'\n",
    "        t = re.sub(pattern_sign, '', t)\n",
    "        t = re.sub(pattern_sign2, '', t)\n",
    "        col.append(t)\n",
    "    return col"
   ],
   "metadata": {
    "collapsed": false,
    "ExecuteTime": {
     "start_time": "2024-05-29T14:41:41.276604400Z"
    }
   },
   "id": "6f16735d873022df"
  },
  {
   "cell_type": "code",
   "execution_count": 15,
   "outputs": [
    {
     "data": {
      "text/plain": "       id                                      subject  \\\n0      82                           Повторная отправка   \n1      83                  Re: Шаблон рецензии (новый)   \n2      90             RE: статья Вестник САИТ Рецензия   \n3      98                RE: статья для рецензирования   \n4      92                       RE: рецензия на статью   \n..    ...                                          ...   \n820  1065                       Re: статья на рецензию   \n821  1068                                       статья   \n822  1069  Re: Королев= ответы на замечания рецензента   \n823  1066                   Re: Конденсированные среды   \n824   658               Привет, ты получил сообщение.    \n\n                                                  from  \\\n0    Павловский Максим Викторович  <pmv-160570@yand...   \n1                    Юрий Нечаев  <nechaev_ub@mail.ru>   \n2                        Толстобров А.П.  <tap@vsu.ru>   \n3              Вялых Сергей Ариевич <vyalyh@govvrn.ru>   \n4                        Толстобров А.П.  <tap@vsu.ru>   \n..                                                 ...   \n820               Алексей Буховец  <abuhovets@mail.ru>   \n821              hein minzaw <heinminnzaw13@gmail.com>   \n822            Сергей Медведев  <s_n_medvedev@mail.ru>   \n823  CONDENSED MATTER AND INTERPHASES <kcmf@main.vs...   \n824                       Sasa <smrd@semribearing.com>   \n\n                                                  text                 date  \\\n0    Добрый вечер! \\nОтсылаю материалы рецензии на ...  2016-01-14 20:47:03   \n1                                      Спасибо.Нечаев.  2018-02-04 19:56:26   \n2    Добрый день! \\nПосылаю рецензию \\nТолстобров А...  2018-02-09 17:36:00   \n3    Доброе время суток, Вероника Викторовна! \\nВыс...  2018-02-09 17:54:00   \n4    Добрый день! \\nПосылаю рецензию \\nТолстобров А...  2018-02-11 22:37:00   \n..                                                 ...                  ...   \n820  Высылаю рецензию на материал А.М. Сагдатуллина...  2019-11-14 09:40:50   \n821  Здравствуйте ! \\nМою отправлен нучную статью с...  2019-11-14 14:40:59   \n822  Здравствуйте.\\nСчитаю, что статья может быть о...  2019-11-15 00:03:13   \n823  Добрый день, Виктория Викторовна! \\nЮристы оче...  2019-11-15 09:43:16   \n824  Привет друг,\\nЭто Sasa из Тяньцзиня Semri Bear...  2024-05-23 00:00:00   \n\n                                   attachment_filename  \\\n0                                Рецензия Гаршиной.doc   \n1                                                        \n2    Рецензия Толстоброва на статью А.С. Платонова....   \n3       рецензия_на_Проблема защита_пользователей.docx   \n4    Рецензия Толстоброва на статью Черненькая-Маге...   \n..                                                 ...   \n820                Рецензии Сагдатуллина А_М_САИТ.docx   \n821                    Рис1.docx,Рис2.docx,Статья .doc   \n822  Ответ после повторного рецензирования.pdf,Реце...   \n823                                                      \n824                                          邮件照片3.jpg   \n\n                               attachment_content_type  \\\n0                                   application/msword   \n1                                                        \n2    application/vnd.openxmlformats-officedocument....   \n3    application/vnd.openxmlformats-officedocument....   \n4    application/vnd.openxmlformats-officedocument....   \n..                                                 ...   \n820  application/vnd.openxmlformats-officedocument....   \n821  application/vnd.openxmlformats-officedocument....   \n822  application/pdf,application/vnd.openxmlformats...   \n823                                                      \n824                                         image/jpeg   \n\n                                               headers  \n0    {'dkim-signature': ('v=1; a=rsa-sha256; q=dns/...  \n1    {'dkim-signature': ('v=1; a=rsa-sha256; q=dns/...  \n2    {'dkim-signature': ('v=1; a=rsa-sha256; q=dns/...  \n3    {'dkim-signature': ('v=1; a=rsa-sha256; q=dns/...  \n4    {'dkim-signature': ('v=1; a=rsa-sha256; q=dns/...  \n..                                                 ...  \n820  {'dkim-signature': ('v=1; a=rsa-sha256; q=dns/...  \n821  {'dkim-signature': ('v=1; a=rsa-sha256; q=dns/...  \n822  {'dkim-signature': ('v=1; a=rsa-sha256; q=dns/...  \n823  {'dkim-signature': ('v=1; a=rsa-sha256; q=dns/...  \n824  {'dkim-signature': ('v=1; a=rsa-sha256; q=dns/...  \n\n[825 rows x 8 columns]",
      "text/html": "<div>\n<style scoped>\n    .dataframe tbody tr th:only-of-type {\n        vertical-align: middle;\n    }\n\n    .dataframe tbody tr th {\n        vertical-align: top;\n    }\n\n    .dataframe thead th {\n        text-align: right;\n    }\n</style>\n<table border=\"1\" class=\"dataframe\">\n  <thead>\n    <tr style=\"text-align: right;\">\n      <th></th>\n      <th>id</th>\n      <th>subject</th>\n      <th>from</th>\n      <th>text</th>\n      <th>date</th>\n      <th>attachment_filename</th>\n      <th>attachment_content_type</th>\n      <th>headers</th>\n    </tr>\n  </thead>\n  <tbody>\n    <tr>\n      <th>0</th>\n      <td>82</td>\n      <td>Повторная отправка</td>\n      <td>Павловский Максим Викторович  &lt;pmv-160570@yand...</td>\n      <td>Добрый вечер! \\nОтсылаю материалы рецензии на ...</td>\n      <td>2016-01-14 20:47:03</td>\n      <td>Рецензия Гаршиной.doc</td>\n      <td>application/msword</td>\n      <td>{'dkim-signature': ('v=1; a=rsa-sha256; q=dns/...</td>\n    </tr>\n    <tr>\n      <th>1</th>\n      <td>83</td>\n      <td>Re: Шаблон рецензии (новый)</td>\n      <td>Юрий Нечаев  &lt;nechaev_ub@mail.ru&gt;</td>\n      <td>Спасибо.Нечаев.</td>\n      <td>2018-02-04 19:56:26</td>\n      <td></td>\n      <td></td>\n      <td>{'dkim-signature': ('v=1; a=rsa-sha256; q=dns/...</td>\n    </tr>\n    <tr>\n      <th>2</th>\n      <td>90</td>\n      <td>RE: статья Вестник САИТ Рецензия</td>\n      <td>Толстобров А.П.  &lt;tap@vsu.ru&gt;</td>\n      <td>Добрый день! \\nПосылаю рецензию \\nТолстобров А...</td>\n      <td>2018-02-09 17:36:00</td>\n      <td>Рецензия Толстоброва на статью А.С. Платонова....</td>\n      <td>application/vnd.openxmlformats-officedocument....</td>\n      <td>{'dkim-signature': ('v=1; a=rsa-sha256; q=dns/...</td>\n    </tr>\n    <tr>\n      <th>3</th>\n      <td>98</td>\n      <td>RE: статья для рецензирования</td>\n      <td>Вялых Сергей Ариевич &lt;vyalyh@govvrn.ru&gt;</td>\n      <td>Доброе время суток, Вероника Викторовна! \\nВыс...</td>\n      <td>2018-02-09 17:54:00</td>\n      <td>рецензия_на_Проблема защита_пользователей.docx</td>\n      <td>application/vnd.openxmlformats-officedocument....</td>\n      <td>{'dkim-signature': ('v=1; a=rsa-sha256; q=dns/...</td>\n    </tr>\n    <tr>\n      <th>4</th>\n      <td>92</td>\n      <td>RE: рецензия на статью</td>\n      <td>Толстобров А.П.  &lt;tap@vsu.ru&gt;</td>\n      <td>Добрый день! \\nПосылаю рецензию \\nТолстобров А...</td>\n      <td>2018-02-11 22:37:00</td>\n      <td>Рецензия Толстоброва на статью Черненькая-Маге...</td>\n      <td>application/vnd.openxmlformats-officedocument....</td>\n      <td>{'dkim-signature': ('v=1; a=rsa-sha256; q=dns/...</td>\n    </tr>\n    <tr>\n      <th>...</th>\n      <td>...</td>\n      <td>...</td>\n      <td>...</td>\n      <td>...</td>\n      <td>...</td>\n      <td>...</td>\n      <td>...</td>\n      <td>...</td>\n    </tr>\n    <tr>\n      <th>820</th>\n      <td>1065</td>\n      <td>Re: статья на рецензию</td>\n      <td>Алексей Буховец  &lt;abuhovets@mail.ru&gt;</td>\n      <td>Высылаю рецензию на материал А.М. Сагдатуллина...</td>\n      <td>2019-11-14 09:40:50</td>\n      <td>Рецензии Сагдатуллина А_М_САИТ.docx</td>\n      <td>application/vnd.openxmlformats-officedocument....</td>\n      <td>{'dkim-signature': ('v=1; a=rsa-sha256; q=dns/...</td>\n    </tr>\n    <tr>\n      <th>821</th>\n      <td>1068</td>\n      <td>статья</td>\n      <td>hein minzaw &lt;heinminnzaw13@gmail.com&gt;</td>\n      <td>Здравствуйте ! \\nМою отправлен нучную статью с...</td>\n      <td>2019-11-14 14:40:59</td>\n      <td>Рис1.docx,Рис2.docx,Статья .doc</td>\n      <td>application/vnd.openxmlformats-officedocument....</td>\n      <td>{'dkim-signature': ('v=1; a=rsa-sha256; q=dns/...</td>\n    </tr>\n    <tr>\n      <th>822</th>\n      <td>1069</td>\n      <td>Re: Королев= ответы на замечания рецензента</td>\n      <td>Сергей Медведев  &lt;s_n_medvedev@mail.ru&gt;</td>\n      <td>Здравствуйте.\\nСчитаю, что статья может быть о...</td>\n      <td>2019-11-15 00:03:13</td>\n      <td>Ответ после повторного рецензирования.pdf,Реце...</td>\n      <td>application/pdf,application/vnd.openxmlformats...</td>\n      <td>{'dkim-signature': ('v=1; a=rsa-sha256; q=dns/...</td>\n    </tr>\n    <tr>\n      <th>823</th>\n      <td>1066</td>\n      <td>Re: Конденсированные среды</td>\n      <td>CONDENSED MATTER AND INTERPHASES &lt;kcmf@main.vs...</td>\n      <td>Добрый день, Виктория Викторовна! \\nЮристы оче...</td>\n      <td>2019-11-15 09:43:16</td>\n      <td></td>\n      <td></td>\n      <td>{'dkim-signature': ('v=1; a=rsa-sha256; q=dns/...</td>\n    </tr>\n    <tr>\n      <th>824</th>\n      <td>658</td>\n      <td>Привет, ты получил сообщение.</td>\n      <td>Sasa &lt;smrd@semribearing.com&gt;</td>\n      <td>Привет друг,\\nЭто Sasa из Тяньцзиня Semri Bear...</td>\n      <td>2024-05-23 00:00:00</td>\n      <td>邮件照片3.jpg</td>\n      <td>image/jpeg</td>\n      <td>{'dkim-signature': ('v=1; a=rsa-sha256; q=dns/...</td>\n    </tr>\n  </tbody>\n</table>\n<p>825 rows × 8 columns</p>\n</div>"
     },
     "execution_count": 15,
     "metadata": {},
     "output_type": "execute_result"
    }
   ],
   "source": [
    "df['text'] = remove_personal_sign(df['text'])\n",
    "df"
   ],
   "metadata": {
    "collapsed": false,
    "ExecuteTime": {
     "start_time": "2024-05-29T14:41:47.396529800Z"
    }
   },
   "id": "4a174363594aaa8"
  },
  {
   "cell_type": "code",
   "execution_count": 17,
   "outputs": [],
   "source": [
    "def remove_mails_urls(texts):\n",
    "    column = []\n",
    "    for s in texts:\n",
    "        s = str(s)\n",
    "        mail = r'\\S+@\\S+\\.\\S+'\n",
    "        s = re.sub(mail, '', s)\n",
    "        url = r\"(?i)\\b((?:https?://|www\\d{0,3}[.]|[a-z0-9.\\-]+[.][a-z]{2,4}/)(?:[^\\s()<>]+|\\(([^\\s()<>]+|(\\([^\\s()<>]+\\)))*\\))+(?:\\(([^\\s()<>]+|(\\([^\\s()<>]+\\)))*\\)|[^\\s`!()\\[\\]{};:'\\\".,<>?«»“”‘’]))\"\n",
    "        s = re.sub(url, '', s)\n",
    "        column.append(s)\n",
    "    return column"
   ],
   "metadata": {
    "collapsed": false,
    "ExecuteTime": {
     "start_time": "2024-05-29T14:42:13.989957600Z"
    }
   },
   "id": "ad0e3c9f830cbbd1"
  },
  {
   "cell_type": "code",
   "execution_count": 18,
   "outputs": [
    {
     "data": {
      "text/plain": "       id                                      subject  \\\n0      82                           Повторная отправка   \n1      83                  Re: Шаблон рецензии (новый)   \n2      90             RE: статья Вестник САИТ Рецензия   \n3      98                RE: статья для рецензирования   \n4      92                       RE: рецензия на статью   \n..    ...                                          ...   \n820  1065                       Re: статья на рецензию   \n821  1068                                       статья   \n822  1069  Re: Королев= ответы на замечания рецензента   \n823  1066                   Re: Конденсированные среды   \n824   658               Привет, ты получил сообщение.    \n\n                                                  from  \\\n0    Павловский Максим Викторович  <pmv-160570@yand...   \n1                    Юрий Нечаев  <nechaev_ub@mail.ru>   \n2                        Толстобров А.П.  <tap@vsu.ru>   \n3              Вялых Сергей Ариевич <vyalyh@govvrn.ru>   \n4                        Толстобров А.П.  <tap@vsu.ru>   \n..                                                 ...   \n820               Алексей Буховец  <abuhovets@mail.ru>   \n821              hein minzaw <heinminnzaw13@gmail.com>   \n822            Сергей Медведев  <s_n_medvedev@mail.ru>   \n823  CONDENSED MATTER AND INTERPHASES <kcmf@main.vs...   \n824                       Sasa <smrd@semribearing.com>   \n\n                                                  text                 date  \\\n0    Добрый вечер! \\nОтсылаю материалы рецензии на ...  2016-01-14 20:47:03   \n1                                      Спасибо.Нечаев.  2018-02-04 19:56:26   \n2    Добрый день! \\nПосылаю рецензию \\nТолстобров А...  2018-02-09 17:36:00   \n3    Доброе время суток, Вероника Викторовна! \\nВыс...  2018-02-09 17:54:00   \n4    Добрый день! \\nПосылаю рецензию \\nТолстобров А...  2018-02-11 22:37:00   \n..                                                 ...                  ...   \n820  Высылаю рецензию на материал А.М. Сагдатуллина...  2019-11-14 09:40:50   \n821  Здравствуйте ! \\nМою отправлен нучную статью с...  2019-11-14 14:40:59   \n822  Здравствуйте.\\nСчитаю, что статья может быть о...  2019-11-15 00:03:13   \n823  Добрый день, Виктория Викторовна! \\nЮристы оче...  2019-11-15 09:43:16   \n824  Привет друг,\\nЭто Sasa из Тяньцзиня Semri Bear...  2024-05-23 00:00:00   \n\n                                   attachment_filename  \\\n0                                Рецензия Гаршиной.doc   \n1                                                        \n2    Рецензия Толстоброва на статью А.С. Платонова....   \n3       рецензия_на_Проблема защита_пользователей.docx   \n4    Рецензия Толстоброва на статью Черненькая-Маге...   \n..                                                 ...   \n820                Рецензии Сагдатуллина А_М_САИТ.docx   \n821                    Рис1.docx,Рис2.docx,Статья .doc   \n822  Ответ после повторного рецензирования.pdf,Реце...   \n823                                                      \n824                                          邮件照片3.jpg   \n\n                               attachment_content_type  \\\n0                                   application/msword   \n1                                                        \n2    application/vnd.openxmlformats-officedocument....   \n3    application/vnd.openxmlformats-officedocument....   \n4    application/vnd.openxmlformats-officedocument....   \n..                                                 ...   \n820  application/vnd.openxmlformats-officedocument....   \n821  application/vnd.openxmlformats-officedocument....   \n822  application/pdf,application/vnd.openxmlformats...   \n823                                                      \n824                                         image/jpeg   \n\n                                               headers  \n0    {'dkim-signature': ('v=1; a=rsa-sha256; q=dns/...  \n1    {'dkim-signature': ('v=1; a=rsa-sha256; q=dns/...  \n2    {'dkim-signature': ('v=1; a=rsa-sha256; q=dns/...  \n3    {'dkim-signature': ('v=1; a=rsa-sha256; q=dns/...  \n4    {'dkim-signature': ('v=1; a=rsa-sha256; q=dns/...  \n..                                                 ...  \n820  {'dkim-signature': ('v=1; a=rsa-sha256; q=dns/...  \n821  {'dkim-signature': ('v=1; a=rsa-sha256; q=dns/...  \n822  {'dkim-signature': ('v=1; a=rsa-sha256; q=dns/...  \n823  {'dkim-signature': ('v=1; a=rsa-sha256; q=dns/...  \n824  {'dkim-signature': ('v=1; a=rsa-sha256; q=dns/...  \n\n[825 rows x 8 columns]",
      "text/html": "<div>\n<style scoped>\n    .dataframe tbody tr th:only-of-type {\n        vertical-align: middle;\n    }\n\n    .dataframe tbody tr th {\n        vertical-align: top;\n    }\n\n    .dataframe thead th {\n        text-align: right;\n    }\n</style>\n<table border=\"1\" class=\"dataframe\">\n  <thead>\n    <tr style=\"text-align: right;\">\n      <th></th>\n      <th>id</th>\n      <th>subject</th>\n      <th>from</th>\n      <th>text</th>\n      <th>date</th>\n      <th>attachment_filename</th>\n      <th>attachment_content_type</th>\n      <th>headers</th>\n    </tr>\n  </thead>\n  <tbody>\n    <tr>\n      <th>0</th>\n      <td>82</td>\n      <td>Повторная отправка</td>\n      <td>Павловский Максим Викторович  &lt;pmv-160570@yand...</td>\n      <td>Добрый вечер! \\nОтсылаю материалы рецензии на ...</td>\n      <td>2016-01-14 20:47:03</td>\n      <td>Рецензия Гаршиной.doc</td>\n      <td>application/msword</td>\n      <td>{'dkim-signature': ('v=1; a=rsa-sha256; q=dns/...</td>\n    </tr>\n    <tr>\n      <th>1</th>\n      <td>83</td>\n      <td>Re: Шаблон рецензии (новый)</td>\n      <td>Юрий Нечаев  &lt;nechaev_ub@mail.ru&gt;</td>\n      <td>Спасибо.Нечаев.</td>\n      <td>2018-02-04 19:56:26</td>\n      <td></td>\n      <td></td>\n      <td>{'dkim-signature': ('v=1; a=rsa-sha256; q=dns/...</td>\n    </tr>\n    <tr>\n      <th>2</th>\n      <td>90</td>\n      <td>RE: статья Вестник САИТ Рецензия</td>\n      <td>Толстобров А.П.  &lt;tap@vsu.ru&gt;</td>\n      <td>Добрый день! \\nПосылаю рецензию \\nТолстобров А...</td>\n      <td>2018-02-09 17:36:00</td>\n      <td>Рецензия Толстоброва на статью А.С. Платонова....</td>\n      <td>application/vnd.openxmlformats-officedocument....</td>\n      <td>{'dkim-signature': ('v=1; a=rsa-sha256; q=dns/...</td>\n    </tr>\n    <tr>\n      <th>3</th>\n      <td>98</td>\n      <td>RE: статья для рецензирования</td>\n      <td>Вялых Сергей Ариевич &lt;vyalyh@govvrn.ru&gt;</td>\n      <td>Доброе время суток, Вероника Викторовна! \\nВыс...</td>\n      <td>2018-02-09 17:54:00</td>\n      <td>рецензия_на_Проблема защита_пользователей.docx</td>\n      <td>application/vnd.openxmlformats-officedocument....</td>\n      <td>{'dkim-signature': ('v=1; a=rsa-sha256; q=dns/...</td>\n    </tr>\n    <tr>\n      <th>4</th>\n      <td>92</td>\n      <td>RE: рецензия на статью</td>\n      <td>Толстобров А.П.  &lt;tap@vsu.ru&gt;</td>\n      <td>Добрый день! \\nПосылаю рецензию \\nТолстобров А...</td>\n      <td>2018-02-11 22:37:00</td>\n      <td>Рецензия Толстоброва на статью Черненькая-Маге...</td>\n      <td>application/vnd.openxmlformats-officedocument....</td>\n      <td>{'dkim-signature': ('v=1; a=rsa-sha256; q=dns/...</td>\n    </tr>\n    <tr>\n      <th>...</th>\n      <td>...</td>\n      <td>...</td>\n      <td>...</td>\n      <td>...</td>\n      <td>...</td>\n      <td>...</td>\n      <td>...</td>\n      <td>...</td>\n    </tr>\n    <tr>\n      <th>820</th>\n      <td>1065</td>\n      <td>Re: статья на рецензию</td>\n      <td>Алексей Буховец  &lt;abuhovets@mail.ru&gt;</td>\n      <td>Высылаю рецензию на материал А.М. Сагдатуллина...</td>\n      <td>2019-11-14 09:40:50</td>\n      <td>Рецензии Сагдатуллина А_М_САИТ.docx</td>\n      <td>application/vnd.openxmlformats-officedocument....</td>\n      <td>{'dkim-signature': ('v=1; a=rsa-sha256; q=dns/...</td>\n    </tr>\n    <tr>\n      <th>821</th>\n      <td>1068</td>\n      <td>статья</td>\n      <td>hein minzaw &lt;heinminnzaw13@gmail.com&gt;</td>\n      <td>Здравствуйте ! \\nМою отправлен нучную статью с...</td>\n      <td>2019-11-14 14:40:59</td>\n      <td>Рис1.docx,Рис2.docx,Статья .doc</td>\n      <td>application/vnd.openxmlformats-officedocument....</td>\n      <td>{'dkim-signature': ('v=1; a=rsa-sha256; q=dns/...</td>\n    </tr>\n    <tr>\n      <th>822</th>\n      <td>1069</td>\n      <td>Re: Королев= ответы на замечания рецензента</td>\n      <td>Сергей Медведев  &lt;s_n_medvedev@mail.ru&gt;</td>\n      <td>Здравствуйте.\\nСчитаю, что статья может быть о...</td>\n      <td>2019-11-15 00:03:13</td>\n      <td>Ответ после повторного рецензирования.pdf,Реце...</td>\n      <td>application/pdf,application/vnd.openxmlformats...</td>\n      <td>{'dkim-signature': ('v=1; a=rsa-sha256; q=dns/...</td>\n    </tr>\n    <tr>\n      <th>823</th>\n      <td>1066</td>\n      <td>Re: Конденсированные среды</td>\n      <td>CONDENSED MATTER AND INTERPHASES &lt;kcmf@main.vs...</td>\n      <td>Добрый день, Виктория Викторовна! \\nЮристы оче...</td>\n      <td>2019-11-15 09:43:16</td>\n      <td></td>\n      <td></td>\n      <td>{'dkim-signature': ('v=1; a=rsa-sha256; q=dns/...</td>\n    </tr>\n    <tr>\n      <th>824</th>\n      <td>658</td>\n      <td>Привет, ты получил сообщение.</td>\n      <td>Sasa &lt;smrd@semribearing.com&gt;</td>\n      <td>Привет друг,\\nЭто Sasa из Тяньцзиня Semri Bear...</td>\n      <td>2024-05-23 00:00:00</td>\n      <td>邮件照片3.jpg</td>\n      <td>image/jpeg</td>\n      <td>{'dkim-signature': ('v=1; a=rsa-sha256; q=dns/...</td>\n    </tr>\n  </tbody>\n</table>\n<p>825 rows × 8 columns</p>\n</div>"
     },
     "execution_count": 18,
     "metadata": {},
     "output_type": "execute_result"
    }
   ],
   "source": [
    "df['text'] = remove_mails_urls(df['text'])\n",
    "df"
   ],
   "metadata": {
    "collapsed": false,
    "ExecuteTime": {
     "start_time": "2024-05-29T14:42:19.410808200Z"
    }
   },
   "id": "324d7c9de0264416"
  },
  {
   "cell_type": "code",
   "execution_count": 19,
   "outputs": [],
   "source": [
    "import string\n",
    "from nltk.corpus import stopwords\n",
    "stop = stopwords.words('russian')\n",
    "\n",
    "def clean_text(texts):\n",
    "    column = []\n",
    "    texts = texts.apply(lambda x: ' '.join([word for word in x.split() if word not in stop]))\n",
    "    for s in texts:\n",
    "               \n",
    "        s = s.lower()\n",
    "        s = re.sub(r'[0-9]+', '', s)\n",
    "        s = re.sub(\"[\" + string.punctuation + \"]\", \" \", s)\n",
    "        s = re.sub(r'\\s+', ' ', s)\n",
    "        column.append(s)\n",
    "    return column\n"
   ],
   "metadata": {
    "collapsed": false,
    "ExecuteTime": {
     "start_time": "2024-05-29T14:42:33.810417500Z"
    }
   },
   "id": "ef57867d455a4b6d"
  },
  {
   "cell_type": "code",
   "execution_count": 20,
   "outputs": [
    {
     "data": {
      "text/plain": "       id                                      subject  \\\n0      82                           Повторная отправка   \n1      83                  Re: Шаблон рецензии (новый)   \n2      90             RE: статья Вестник САИТ Рецензия   \n3      98                RE: статья для рецензирования   \n4      92                       RE: рецензия на статью   \n..    ...                                          ...   \n820  1065                       Re: статья на рецензию   \n821  1068                                       статья   \n822  1069  Re: Королев= ответы на замечания рецензента   \n823  1066                   Re: Конденсированные среды   \n824   658               Привет, ты получил сообщение.    \n\n                                                  from  \\\n0    Павловский Максим Викторович  <pmv-160570@yand...   \n1                    Юрий Нечаев  <nechaev_ub@mail.ru>   \n2                        Толстобров А.П.  <tap@vsu.ru>   \n3              Вялых Сергей Ариевич <vyalyh@govvrn.ru>   \n4                        Толстобров А.П.  <tap@vsu.ru>   \n..                                                 ...   \n820               Алексей Буховец  <abuhovets@mail.ru>   \n821              hein minzaw <heinminnzaw13@gmail.com>   \n822            Сергей Медведев  <s_n_medvedev@mail.ru>   \n823  CONDENSED MATTER AND INTERPHASES <kcmf@main.vs...   \n824                       Sasa <smrd@semribearing.com>   \n\n                                                  text                 date  \\\n0    добрый вечер отсылаю материалы рецензии работу...  2016-01-14 20:47:03   \n1                                      спасибо нечаев   2018-02-04 19:56:26   \n2    добрый день посылаю рецензию толстобров алекса...  2018-02-09 17:36:00   \n3    доброе время суток вероника викторовна высылаю...  2018-02-09 17:54:00   \n4    добрый день посылаю рецензию толстобров алекса...  2018-02-11 22:37:00   \n..                                                 ...                  ...   \n820  высылаю рецензию материал а м сагдатуллина а б...  2019-11-14 09:40:50   \n821  здравствуйте мою отправлен нучную статью назва...  2019-11-14 14:40:59   \n822  здравствуйте считаю статья опубликована журнал...  2019-11-15 00:03:13   \n823  добрый день виктория викторовна юристы очень с...  2019-11-15 09:43:16   \n824  привет друг это sasa тяньцзиня semri bearings ...  2024-05-23 00:00:00   \n\n                                   attachment_filename  \\\n0                                Рецензия Гаршиной.doc   \n1                                                        \n2    Рецензия Толстоброва на статью А.С. Платонова....   \n3       рецензия_на_Проблема защита_пользователей.docx   \n4    Рецензия Толстоброва на статью Черненькая-Маге...   \n..                                                 ...   \n820                Рецензии Сагдатуллина А_М_САИТ.docx   \n821                    Рис1.docx,Рис2.docx,Статья .doc   \n822  Ответ после повторного рецензирования.pdf,Реце...   \n823                                                      \n824                                          邮件照片3.jpg   \n\n                               attachment_content_type  \\\n0                                   application/msword   \n1                                                        \n2    application/vnd.openxmlformats-officedocument....   \n3    application/vnd.openxmlformats-officedocument....   \n4    application/vnd.openxmlformats-officedocument....   \n..                                                 ...   \n820  application/vnd.openxmlformats-officedocument....   \n821  application/vnd.openxmlformats-officedocument....   \n822  application/pdf,application/vnd.openxmlformats...   \n823                                                      \n824                                         image/jpeg   \n\n                                               headers  \n0    {'dkim-signature': ('v=1; a=rsa-sha256; q=dns/...  \n1    {'dkim-signature': ('v=1; a=rsa-sha256; q=dns/...  \n2    {'dkim-signature': ('v=1; a=rsa-sha256; q=dns/...  \n3    {'dkim-signature': ('v=1; a=rsa-sha256; q=dns/...  \n4    {'dkim-signature': ('v=1; a=rsa-sha256; q=dns/...  \n..                                                 ...  \n820  {'dkim-signature': ('v=1; a=rsa-sha256; q=dns/...  \n821  {'dkim-signature': ('v=1; a=rsa-sha256; q=dns/...  \n822  {'dkim-signature': ('v=1; a=rsa-sha256; q=dns/...  \n823  {'dkim-signature': ('v=1; a=rsa-sha256; q=dns/...  \n824  {'dkim-signature': ('v=1; a=rsa-sha256; q=dns/...  \n\n[825 rows x 8 columns]",
      "text/html": "<div>\n<style scoped>\n    .dataframe tbody tr th:only-of-type {\n        vertical-align: middle;\n    }\n\n    .dataframe tbody tr th {\n        vertical-align: top;\n    }\n\n    .dataframe thead th {\n        text-align: right;\n    }\n</style>\n<table border=\"1\" class=\"dataframe\">\n  <thead>\n    <tr style=\"text-align: right;\">\n      <th></th>\n      <th>id</th>\n      <th>subject</th>\n      <th>from</th>\n      <th>text</th>\n      <th>date</th>\n      <th>attachment_filename</th>\n      <th>attachment_content_type</th>\n      <th>headers</th>\n    </tr>\n  </thead>\n  <tbody>\n    <tr>\n      <th>0</th>\n      <td>82</td>\n      <td>Повторная отправка</td>\n      <td>Павловский Максим Викторович  &lt;pmv-160570@yand...</td>\n      <td>добрый вечер отсылаю материалы рецензии работу...</td>\n      <td>2016-01-14 20:47:03</td>\n      <td>Рецензия Гаршиной.doc</td>\n      <td>application/msword</td>\n      <td>{'dkim-signature': ('v=1; a=rsa-sha256; q=dns/...</td>\n    </tr>\n    <tr>\n      <th>1</th>\n      <td>83</td>\n      <td>Re: Шаблон рецензии (новый)</td>\n      <td>Юрий Нечаев  &lt;nechaev_ub@mail.ru&gt;</td>\n      <td>спасибо нечаев</td>\n      <td>2018-02-04 19:56:26</td>\n      <td></td>\n      <td></td>\n      <td>{'dkim-signature': ('v=1; a=rsa-sha256; q=dns/...</td>\n    </tr>\n    <tr>\n      <th>2</th>\n      <td>90</td>\n      <td>RE: статья Вестник САИТ Рецензия</td>\n      <td>Толстобров А.П.  &lt;tap@vsu.ru&gt;</td>\n      <td>добрый день посылаю рецензию толстобров алекса...</td>\n      <td>2018-02-09 17:36:00</td>\n      <td>Рецензия Толстоброва на статью А.С. Платонова....</td>\n      <td>application/vnd.openxmlformats-officedocument....</td>\n      <td>{'dkim-signature': ('v=1; a=rsa-sha256; q=dns/...</td>\n    </tr>\n    <tr>\n      <th>3</th>\n      <td>98</td>\n      <td>RE: статья для рецензирования</td>\n      <td>Вялых Сергей Ариевич &lt;vyalyh@govvrn.ru&gt;</td>\n      <td>доброе время суток вероника викторовна высылаю...</td>\n      <td>2018-02-09 17:54:00</td>\n      <td>рецензия_на_Проблема защита_пользователей.docx</td>\n      <td>application/vnd.openxmlformats-officedocument....</td>\n      <td>{'dkim-signature': ('v=1; a=rsa-sha256; q=dns/...</td>\n    </tr>\n    <tr>\n      <th>4</th>\n      <td>92</td>\n      <td>RE: рецензия на статью</td>\n      <td>Толстобров А.П.  &lt;tap@vsu.ru&gt;</td>\n      <td>добрый день посылаю рецензию толстобров алекса...</td>\n      <td>2018-02-11 22:37:00</td>\n      <td>Рецензия Толстоброва на статью Черненькая-Маге...</td>\n      <td>application/vnd.openxmlformats-officedocument....</td>\n      <td>{'dkim-signature': ('v=1; a=rsa-sha256; q=dns/...</td>\n    </tr>\n    <tr>\n      <th>...</th>\n      <td>...</td>\n      <td>...</td>\n      <td>...</td>\n      <td>...</td>\n      <td>...</td>\n      <td>...</td>\n      <td>...</td>\n      <td>...</td>\n    </tr>\n    <tr>\n      <th>820</th>\n      <td>1065</td>\n      <td>Re: статья на рецензию</td>\n      <td>Алексей Буховец  &lt;abuhovets@mail.ru&gt;</td>\n      <td>высылаю рецензию материал а м сагдатуллина а б...</td>\n      <td>2019-11-14 09:40:50</td>\n      <td>Рецензии Сагдатуллина А_М_САИТ.docx</td>\n      <td>application/vnd.openxmlformats-officedocument....</td>\n      <td>{'dkim-signature': ('v=1; a=rsa-sha256; q=dns/...</td>\n    </tr>\n    <tr>\n      <th>821</th>\n      <td>1068</td>\n      <td>статья</td>\n      <td>hein minzaw &lt;heinminnzaw13@gmail.com&gt;</td>\n      <td>здравствуйте мою отправлен нучную статью назва...</td>\n      <td>2019-11-14 14:40:59</td>\n      <td>Рис1.docx,Рис2.docx,Статья .doc</td>\n      <td>application/vnd.openxmlformats-officedocument....</td>\n      <td>{'dkim-signature': ('v=1; a=rsa-sha256; q=dns/...</td>\n    </tr>\n    <tr>\n      <th>822</th>\n      <td>1069</td>\n      <td>Re: Королев= ответы на замечания рецензента</td>\n      <td>Сергей Медведев  &lt;s_n_medvedev@mail.ru&gt;</td>\n      <td>здравствуйте считаю статья опубликована журнал...</td>\n      <td>2019-11-15 00:03:13</td>\n      <td>Ответ после повторного рецензирования.pdf,Реце...</td>\n      <td>application/pdf,application/vnd.openxmlformats...</td>\n      <td>{'dkim-signature': ('v=1; a=rsa-sha256; q=dns/...</td>\n    </tr>\n    <tr>\n      <th>823</th>\n      <td>1066</td>\n      <td>Re: Конденсированные среды</td>\n      <td>CONDENSED MATTER AND INTERPHASES &lt;kcmf@main.vs...</td>\n      <td>добрый день виктория викторовна юристы очень с...</td>\n      <td>2019-11-15 09:43:16</td>\n      <td></td>\n      <td></td>\n      <td>{'dkim-signature': ('v=1; a=rsa-sha256; q=dns/...</td>\n    </tr>\n    <tr>\n      <th>824</th>\n      <td>658</td>\n      <td>Привет, ты получил сообщение.</td>\n      <td>Sasa &lt;smrd@semribearing.com&gt;</td>\n      <td>привет друг это sasa тяньцзиня semri bearings ...</td>\n      <td>2024-05-23 00:00:00</td>\n      <td>邮件照片3.jpg</td>\n      <td>image/jpeg</td>\n      <td>{'dkim-signature': ('v=1; a=rsa-sha256; q=dns/...</td>\n    </tr>\n  </tbody>\n</table>\n<p>825 rows × 8 columns</p>\n</div>"
     },
     "execution_count": 20,
     "metadata": {},
     "output_type": "execute_result"
    }
   ],
   "source": [
    "df['text'] = clean_text(df['text'])\n",
    "df"
   ],
   "metadata": {
    "collapsed": false,
    "ExecuteTime": {
     "start_time": "2024-05-29T14:42:41.369222200Z"
    }
   },
   "id": "6bee7562f21b151f"
  },
  {
   "cell_type": "code",
   "execution_count": 516,
   "outputs": [],
   "source": [
    "df.to_csv('files/cleaned_texts.csv', index=False)"
   ],
   "metadata": {
    "collapsed": false
   },
   "id": "9c33820e3853bd32"
  },
  {
   "cell_type": "markdown",
   "source": [
    "из MailClassification"
   ],
   "metadata": {
    "collapsed": false
   },
   "id": "44ead62088d73fb1"
  },
  {
   "cell_type": "code",
   "execution_count": 46,
   "outputs": [
    {
     "data": {
      "text/plain": "       id                                               text  \\\n0      82  Добрый вечер! \\nОтсылаю материалы рецензии на ...   \n1      83                                    Спасибо.Нечаев.   \n2      90  Добрый день! \\nПосылаю рецензию \\nС уважением,...   \n3      98  Доброе время суток, Вероника Викторовна! \\nВыс...   \n4      92  Добрый день! \\nПосылаю рецензию \\nС уважением,...   \n..    ...                                                ...   \n820  1065  Высылаю рецензию на материал А.М. Сагдатуллина...   \n821  1068  Здравствуйте ! \\nМою отправлен нучную статью с...   \n822  1069  Здравствуйте.\\nСчитаю, что статья может быть о...   \n823  1066  Добрый день, Виктория Викторовна! \\nЮристы оче...   \n824   658  Привет друг,\\nЭто Sasa из Тяньцзиня Semri Bear...   \n\n                                         subject  \\\n0                             Повторная отправка   \n1                    Re: Шаблон рецензии (новый)   \n2               RE: статья Вестник САИТ Рецензия   \n3                  RE: статья для рецензирования   \n4                         RE: рецензия на статью   \n..                                           ...   \n820                       Re: статья на рецензию   \n821                                       статья   \n822  Re: Королев= ответы на замечания рецензента   \n823                   Re: Конденсированные среды   \n824               Привет, ты получил сообщение.    \n\n                                   attachment_filename        category  \n0                                Рецензия Гаршиной.doc  рецензирование  \n1                                                  NaN          другое  \n2    Рецензия Толстоброва на статью А.С. Платонова....  рецензирование  \n3       рецензия_на_Проблема защита_пользователей.docx  рецензирование  \n4    Рецензия Толстоброва на статью Черненькая-Маге...  рецензирование  \n..                                                 ...             ...  \n820                Рецензии Сагдатуллина А_М_САИТ.docx  рецензирование  \n821                    Рис1.docx,Рис2.docx,Статья .doc         вопросы  \n822  Ответ после повторного рецензирования.pdf,Реце...  рецензирование  \n823                                                NaN          другое  \n824                                          ????3.jpg          другое  \n\n[825 rows x 5 columns]",
      "text/html": "<div>\n<style scoped>\n    .dataframe tbody tr th:only-of-type {\n        vertical-align: middle;\n    }\n\n    .dataframe tbody tr th {\n        vertical-align: top;\n    }\n\n    .dataframe thead th {\n        text-align: right;\n    }\n</style>\n<table border=\"1\" class=\"dataframe\">\n  <thead>\n    <tr style=\"text-align: right;\">\n      <th></th>\n      <th>id</th>\n      <th>text</th>\n      <th>subject</th>\n      <th>attachment_filename</th>\n      <th>category</th>\n    </tr>\n  </thead>\n  <tbody>\n    <tr>\n      <th>0</th>\n      <td>82</td>\n      <td>Добрый вечер! \\nОтсылаю материалы рецензии на ...</td>\n      <td>Повторная отправка</td>\n      <td>Рецензия Гаршиной.doc</td>\n      <td>рецензирование</td>\n    </tr>\n    <tr>\n      <th>1</th>\n      <td>83</td>\n      <td>Спасибо.Нечаев.</td>\n      <td>Re: Шаблон рецензии (новый)</td>\n      <td>NaN</td>\n      <td>другое</td>\n    </tr>\n    <tr>\n      <th>2</th>\n      <td>90</td>\n      <td>Добрый день! \\nПосылаю рецензию \\nС уважением,...</td>\n      <td>RE: статья Вестник САИТ Рецензия</td>\n      <td>Рецензия Толстоброва на статью А.С. Платонова....</td>\n      <td>рецензирование</td>\n    </tr>\n    <tr>\n      <th>3</th>\n      <td>98</td>\n      <td>Доброе время суток, Вероника Викторовна! \\nВыс...</td>\n      <td>RE: статья для рецензирования</td>\n      <td>рецензия_на_Проблема защита_пользователей.docx</td>\n      <td>рецензирование</td>\n    </tr>\n    <tr>\n      <th>4</th>\n      <td>92</td>\n      <td>Добрый день! \\nПосылаю рецензию \\nС уважением,...</td>\n      <td>RE: рецензия на статью</td>\n      <td>Рецензия Толстоброва на статью Черненькая-Маге...</td>\n      <td>рецензирование</td>\n    </tr>\n    <tr>\n      <th>...</th>\n      <td>...</td>\n      <td>...</td>\n      <td>...</td>\n      <td>...</td>\n      <td>...</td>\n    </tr>\n    <tr>\n      <th>820</th>\n      <td>1065</td>\n      <td>Высылаю рецензию на материал А.М. Сагдатуллина...</td>\n      <td>Re: статья на рецензию</td>\n      <td>Рецензии Сагдатуллина А_М_САИТ.docx</td>\n      <td>рецензирование</td>\n    </tr>\n    <tr>\n      <th>821</th>\n      <td>1068</td>\n      <td>Здравствуйте ! \\nМою отправлен нучную статью с...</td>\n      <td>статья</td>\n      <td>Рис1.docx,Рис2.docx,Статья .doc</td>\n      <td>вопросы</td>\n    </tr>\n    <tr>\n      <th>822</th>\n      <td>1069</td>\n      <td>Здравствуйте.\\nСчитаю, что статья может быть о...</td>\n      <td>Re: Королев= ответы на замечания рецензента</td>\n      <td>Ответ после повторного рецензирования.pdf,Реце...</td>\n      <td>рецензирование</td>\n    </tr>\n    <tr>\n      <th>823</th>\n      <td>1066</td>\n      <td>Добрый день, Виктория Викторовна! \\nЮристы оче...</td>\n      <td>Re: Конденсированные среды</td>\n      <td>NaN</td>\n      <td>другое</td>\n    </tr>\n    <tr>\n      <th>824</th>\n      <td>658</td>\n      <td>Привет друг,\\nЭто Sasa из Тяньцзиня Semri Bear...</td>\n      <td>Привет, ты получил сообщение.</td>\n      <td>????3.jpg</td>\n      <td>другое</td>\n    </tr>\n  </tbody>\n</table>\n<p>825 rows × 5 columns</p>\n</div>"
     },
     "execution_count": 46,
     "metadata": {},
     "output_type": "execute_result"
    }
   ],
   "source": [
    "csv_file_path = 'files/new_categ.csv'\n",
    "dataframe = pd.read_csv(csv_file_path)\n",
    "dataframe"
   ],
   "metadata": {
    "collapsed": false
   },
   "id": "2f81f6605dc23f74"
  },
  {
   "cell_type": "code",
   "execution_count": 47,
   "outputs": [],
   "source": [
    "dataframe = dataframe.fillna('')"
   ],
   "metadata": {
    "collapsed": false
   },
   "id": "594b8736f27a9ac7"
  },
  {
   "cell_type": "code",
   "execution_count": 48,
   "outputs": [
    {
     "data": {
      "text/plain": "   id                                               text  \\\n0  82  Добрый вечер! \\nОтсылаю материалы рецензии на ...   \n1  83                                    Спасибо.Нечаев.   \n2  90  Добрый день! \\nПосылаю рецензию \\nС уважением,...   \n3  98  Доброе время суток, Вероника Викторовна! \\nВыс...   \n4  92  Добрый день! \\nПосылаю рецензию \\nС уважением,...   \n\n                            subject  \\\n0                Повторная отправка   \n1       Re: Шаблон рецензии (новый)   \n2  RE: статья Вестник САИТ Рецензия   \n3     RE: статья для рецензирования   \n4            RE: рецензия на статью   \n\n                                 attachment_filename        category  \n0                              Рецензия Гаршиной.doc  рецензирование  \n1                                                             другое  \n2  Рецензия Толстоброва на статью А.С. Платонова....  рецензирование  \n3     рецензия_на_Проблема защита_пользователей.docx  рецензирование  \n4  Рецензия Толстоброва на статью Черненькая-Маге...  рецензирование  ",
      "text/html": "<div>\n<style scoped>\n    .dataframe tbody tr th:only-of-type {\n        vertical-align: middle;\n    }\n\n    .dataframe tbody tr th {\n        vertical-align: top;\n    }\n\n    .dataframe thead th {\n        text-align: right;\n    }\n</style>\n<table border=\"1\" class=\"dataframe\">\n  <thead>\n    <tr style=\"text-align: right;\">\n      <th></th>\n      <th>id</th>\n      <th>text</th>\n      <th>subject</th>\n      <th>attachment_filename</th>\n      <th>category</th>\n    </tr>\n  </thead>\n  <tbody>\n    <tr>\n      <th>0</th>\n      <td>82</td>\n      <td>Добрый вечер! \\nОтсылаю материалы рецензии на ...</td>\n      <td>Повторная отправка</td>\n      <td>Рецензия Гаршиной.doc</td>\n      <td>рецензирование</td>\n    </tr>\n    <tr>\n      <th>1</th>\n      <td>83</td>\n      <td>Спасибо.Нечаев.</td>\n      <td>Re: Шаблон рецензии (новый)</td>\n      <td></td>\n      <td>другое</td>\n    </tr>\n    <tr>\n      <th>2</th>\n      <td>90</td>\n      <td>Добрый день! \\nПосылаю рецензию \\nС уважением,...</td>\n      <td>RE: статья Вестник САИТ Рецензия</td>\n      <td>Рецензия Толстоброва на статью А.С. Платонова....</td>\n      <td>рецензирование</td>\n    </tr>\n    <tr>\n      <th>3</th>\n      <td>98</td>\n      <td>Доброе время суток, Вероника Викторовна! \\nВыс...</td>\n      <td>RE: статья для рецензирования</td>\n      <td>рецензия_на_Проблема защита_пользователей.docx</td>\n      <td>рецензирование</td>\n    </tr>\n    <tr>\n      <th>4</th>\n      <td>92</td>\n      <td>Добрый день! \\nПосылаю рецензию \\nС уважением,...</td>\n      <td>RE: рецензия на статью</td>\n      <td>Рецензия Толстоброва на статью Черненькая-Маге...</td>\n      <td>рецензирование</td>\n    </tr>\n  </tbody>\n</table>\n</div>"
     },
     "execution_count": 48,
     "metadata": {},
     "output_type": "execute_result"
    }
   ],
   "source": [
    "dataframe.head()"
   ],
   "metadata": {
    "collapsed": false
   },
   "id": "9880e3f616f623b9"
  },
  {
   "cell_type": "code",
   "execution_count": 49,
   "outputs": [],
   "source": [
    "dataframe['text'] = dataframe['subject'] + ' ' + dataframe['attachment_filename'] + ' ' + dataframe['text']"
   ],
   "metadata": {
    "collapsed": false
   },
   "id": "38c56b04c95c226d"
  },
  {
   "cell_type": "code",
   "execution_count": 50,
   "outputs": [],
   "source": [
    "dataframe.drop(['id', 'subject','attachment_filename'], axis=1, inplace=True)"
   ],
   "metadata": {
    "collapsed": false
   },
   "id": "2d95f24638598c3"
  },
  {
   "cell_type": "code",
   "execution_count": 51,
   "outputs": [
    {
     "data": {
      "text/plain": "                                                text        category\n0  Повторная отправка Рецензия Гаршиной.doc Добры...  рецензирование\n1       Re: Шаблон рецензии (новый)  Спасибо.Нечаев.          другое\n2  RE: статья Вестник САИТ Рецензия Рецензия Толс...  рецензирование\n3  RE: статья для рецензирования рецензия_на_Проб...  рецензирование\n4  RE: рецензия на статью Рецензия Толстоброва на...  рецензирование",
      "text/html": "<div>\n<style scoped>\n    .dataframe tbody tr th:only-of-type {\n        vertical-align: middle;\n    }\n\n    .dataframe tbody tr th {\n        vertical-align: top;\n    }\n\n    .dataframe thead th {\n        text-align: right;\n    }\n</style>\n<table border=\"1\" class=\"dataframe\">\n  <thead>\n    <tr style=\"text-align: right;\">\n      <th></th>\n      <th>text</th>\n      <th>category</th>\n    </tr>\n  </thead>\n  <tbody>\n    <tr>\n      <th>0</th>\n      <td>Повторная отправка Рецензия Гаршиной.doc Добры...</td>\n      <td>рецензирование</td>\n    </tr>\n    <tr>\n      <th>1</th>\n      <td>Re: Шаблон рецензии (новый)  Спасибо.Нечаев.</td>\n      <td>другое</td>\n    </tr>\n    <tr>\n      <th>2</th>\n      <td>RE: статья Вестник САИТ Рецензия Рецензия Толс...</td>\n      <td>рецензирование</td>\n    </tr>\n    <tr>\n      <th>3</th>\n      <td>RE: статья для рецензирования рецензия_на_Проб...</td>\n      <td>рецензирование</td>\n    </tr>\n    <tr>\n      <th>4</th>\n      <td>RE: рецензия на статью Рецензия Толстоброва на...</td>\n      <td>рецензирование</td>\n    </tr>\n  </tbody>\n</table>\n</div>"
     },
     "execution_count": 51,
     "metadata": {},
     "output_type": "execute_result"
    }
   ],
   "source": [
    "dataframe.head()"
   ],
   "metadata": {
    "collapsed": false
   },
   "id": "e843c1f1d702b656"
  },
  {
   "cell_type": "code",
   "execution_count": 56,
   "outputs": [],
   "source": [
    "import re\n",
    "import pandas as pd\n",
    "import string"
   ],
   "metadata": {
    "collapsed": false
   },
   "id": "7082a6024d3cf948"
  },
  {
   "cell_type": "code",
   "execution_count": 57,
   "outputs": [],
   "source": [
    "def remove_re_header(t: str):\n",
    "    t = re.sub(r'\\r+', ' ', t)\n",
    "    t = re.sub(r'(>+)', '', t)\n",
    "    t = re.sub(r'\\xa0+', ' ', t)\n",
    "    t = re.sub(r'(\\n\\s*)+', '\\n', t)\n",
    "    t = re.sub(r'-+', '', t)\n",
    "    # пример 1\n",
    "    pattern = r'Пересылаемое сообщение((.*?)(Тема:.*?))\\n'\n",
    "    # пример 2\n",
    "    pattern2 = r'Original Message((.*?)(Subject:.*?))\\n'\n",
    "    # пример 3\n",
    "    pattern3 = r'(\\n\\d{1,2}\\s(?:января|февраля|марта|апреля|мая|июня|июля|августа|сентября|октября|ноября|декабря)\\s\\d{4}\\sг\\.,\\s\\d{1,2}:\\d{2}.*?пользователь.*?\\nнаписал: \\n)'\n",
    "    # пример 4, пример 6\n",
    "    pattern4 = r'On((.*?)(wrote:.*?))\\n'\n",
    "    # пример 5\n",
    "    pattern5 = r'(?:Понедельник|Вторник|Среда|Четверг|Пятница|Суббота|Воскресенье).*?:\\s'\n",
    "    # пример 7\n",
    "    pattern7 = r'\\n(\\d{1,2}\\.\\d{2}\\.\\d{4}, \\d{2}:\\d{2},.*:\\s)'\n",
    "    t = re.sub(pattern, '', t, flags=re.DOTALL)\n",
    "    t = re.sub(pattern2, '', t, flags=re.DOTALL)\n",
    "    t = re.sub(pattern3, '', t)\n",
    "    t = re.sub(pattern4, '', t, flags=re.DOTALL)\n",
    "    t = re.sub(pattern5, '', t, flags=re.DOTALL)\n",
    "    t = re.sub(pattern7, '', t, flags=re.DOTALL)\n",
    "    return t"
   ],
   "metadata": {
    "collapsed": false
   },
   "id": "21fc26c87a99cf77"
  },
  {
   "cell_type": "code",
   "execution_count": 58,
   "outputs": [],
   "source": [
    "def remove_re_headers(texts: list[str]):\n",
    "    col = []\n",
    "    for tx in texts:\n",
    "        new = remove_re_header(str(tx))\n",
    "        col.append(new)\n",
    "    return col"
   ],
   "metadata": {
    "collapsed": false
   },
   "id": "4961237b49e55371"
  },
  {
   "cell_type": "code",
   "execution_count": 59,
   "outputs": [
    {
     "data": {
      "text/plain": "                                                text        category\n0  Повторная отправка Рецензия Гаршиной.doc Добры...  рецензирование\n1       Re: Шаблон рецензии (новый)  Спасибо.Нечаев.          другое\n2  RE: статья Вестник САИТ Рецензия Рецензия Толс...  рецензирование\n3  RE: статья для рецензирования рецензия_на_Проб...  рецензирование\n4  RE: рецензия на статью Рецензия Толстоброва на...  рецензирование",
      "text/html": "<div>\n<style scoped>\n    .dataframe tbody tr th:only-of-type {\n        vertical-align: middle;\n    }\n\n    .dataframe tbody tr th {\n        vertical-align: top;\n    }\n\n    .dataframe thead th {\n        text-align: right;\n    }\n</style>\n<table border=\"1\" class=\"dataframe\">\n  <thead>\n    <tr style=\"text-align: right;\">\n      <th></th>\n      <th>text</th>\n      <th>category</th>\n    </tr>\n  </thead>\n  <tbody>\n    <tr>\n      <th>0</th>\n      <td>Повторная отправка Рецензия Гаршиной.doc Добры...</td>\n      <td>рецензирование</td>\n    </tr>\n    <tr>\n      <th>1</th>\n      <td>Re: Шаблон рецензии (новый)  Спасибо.Нечаев.</td>\n      <td>другое</td>\n    </tr>\n    <tr>\n      <th>2</th>\n      <td>RE: статья Вестник САИТ Рецензия Рецензия Толс...</td>\n      <td>рецензирование</td>\n    </tr>\n    <tr>\n      <th>3</th>\n      <td>RE: статья для рецензирования рецензия_на_Проб...</td>\n      <td>рецензирование</td>\n    </tr>\n    <tr>\n      <th>4</th>\n      <td>RE: рецензия на статью Рецензия Толстоброва на...</td>\n      <td>рецензирование</td>\n    </tr>\n  </tbody>\n</table>\n</div>"
     },
     "execution_count": 59,
     "metadata": {},
     "output_type": "execute_result"
    }
   ],
   "source": [
    "dataframe['text'] = remove_re_headers(dataframe['text'])\n",
    "dataframe.head()"
   ],
   "metadata": {
    "collapsed": false
   },
   "id": "d5de5967897edce3"
  },
  {
   "cell_type": "code",
   "execution_count": 60,
   "outputs": [],
   "source": [
    "def remove_personal_sign(texts):\n",
    "    col = []\n",
    "    for t in texts:\n",
    "        t = str(t)\n",
    "        pattern_sign = r'(Отв.*?)\\n'\n",
    "        pattern_sign2 = r'С уважением.*?\\n'\n",
    "        t = re.sub(pattern_sign, '', t)\n",
    "        t = re.sub(pattern_sign2, '', t)\n",
    "        col.append(t)\n",
    "    return col"
   ],
   "metadata": {
    "collapsed": false
   },
   "id": "cc384c6b12d29876"
  },
  {
   "cell_type": "code",
   "execution_count": 61,
   "outputs": [
    {
     "data": {
      "text/plain": "                                                text        category\n0  Повторная отправка Рецензия Гаршиной.doc Добры...  рецензирование\n1       Re: Шаблон рецензии (новый)  Спасибо.Нечаев.          другое\n2  RE: статья Вестник САИТ Рецензия Рецензия Толс...  рецензирование\n3  RE: статья для рецензирования рецензия_на_Проб...  рецензирование\n4  RE: рецензия на статью Рецензия Толстоброва на...  рецензирование",
      "text/html": "<div>\n<style scoped>\n    .dataframe tbody tr th:only-of-type {\n        vertical-align: middle;\n    }\n\n    .dataframe tbody tr th {\n        vertical-align: top;\n    }\n\n    .dataframe thead th {\n        text-align: right;\n    }\n</style>\n<table border=\"1\" class=\"dataframe\">\n  <thead>\n    <tr style=\"text-align: right;\">\n      <th></th>\n      <th>text</th>\n      <th>category</th>\n    </tr>\n  </thead>\n  <tbody>\n    <tr>\n      <th>0</th>\n      <td>Повторная отправка Рецензия Гаршиной.doc Добры...</td>\n      <td>рецензирование</td>\n    </tr>\n    <tr>\n      <th>1</th>\n      <td>Re: Шаблон рецензии (новый)  Спасибо.Нечаев.</td>\n      <td>другое</td>\n    </tr>\n    <tr>\n      <th>2</th>\n      <td>RE: статья Вестник САИТ Рецензия Рецензия Толс...</td>\n      <td>рецензирование</td>\n    </tr>\n    <tr>\n      <th>3</th>\n      <td>RE: статья для рецензирования рецензия_на_Проб...</td>\n      <td>рецензирование</td>\n    </tr>\n    <tr>\n      <th>4</th>\n      <td>RE: рецензия на статью Рецензия Толстоброва на...</td>\n      <td>рецензирование</td>\n    </tr>\n  </tbody>\n</table>\n</div>"
     },
     "execution_count": 61,
     "metadata": {},
     "output_type": "execute_result"
    }
   ],
   "source": [
    "dataframe['text'] = remove_personal_sign(dataframe['text'])\n",
    "dataframe.head()"
   ],
   "metadata": {
    "collapsed": false
   },
   "id": "ac4d5ba1afca1aa8"
  },
  {
   "cell_type": "code",
   "execution_count": 62,
   "outputs": [],
   "source": [
    "def remove_mails_urls(texts):\n",
    "    column = []\n",
    "    for s in texts:\n",
    "        s = str(s)\n",
    "        mail = r'\\S+@\\S+\\.\\S+'\n",
    "        s = re.sub(mail, '', s)\n",
    "        url = r\"(?i)\\b((?:https?://|www\\d{0,3}[.]|[a-z0-9.\\-]+[.][a-z]{2,4}/)(?:[^\\s()<>]+|\\(([^\\s()<>]+|(\\([^\\s()<>]+\\)))*\\))+(?:\\(([^\\s()<>]+|(\\([^\\s()<>]+\\)))*\\)|[^\\s`!()\\[\\]{};:'\\\".,<>?«»“”‘’]))\"\n",
    "        s = re.sub(url, '', s)\n",
    "        column.append(s)\n",
    "    return column"
   ],
   "metadata": {
    "collapsed": false
   },
   "id": "f451ef1e0fa4ded3"
  },
  {
   "cell_type": "code",
   "execution_count": 63,
   "outputs": [
    {
     "data": {
      "text/plain": "                                                text        category\n0  Повторная отправка Рецензия Гаршиной.doc Добры...  рецензирование\n1       Re: Шаблон рецензии (новый)  Спасибо.Нечаев.          другое\n2  RE: статья Вестник САИТ Рецензия Рецензия Толс...  рецензирование\n3  RE: статья для рецензирования рецензия_на_Проб...  рецензирование\n4  RE: рецензия на статью Рецензия Толстоброва на...  рецензирование",
      "text/html": "<div>\n<style scoped>\n    .dataframe tbody tr th:only-of-type {\n        vertical-align: middle;\n    }\n\n    .dataframe tbody tr th {\n        vertical-align: top;\n    }\n\n    .dataframe thead th {\n        text-align: right;\n    }\n</style>\n<table border=\"1\" class=\"dataframe\">\n  <thead>\n    <tr style=\"text-align: right;\">\n      <th></th>\n      <th>text</th>\n      <th>category</th>\n    </tr>\n  </thead>\n  <tbody>\n    <tr>\n      <th>0</th>\n      <td>Повторная отправка Рецензия Гаршиной.doc Добры...</td>\n      <td>рецензирование</td>\n    </tr>\n    <tr>\n      <th>1</th>\n      <td>Re: Шаблон рецензии (новый)  Спасибо.Нечаев.</td>\n      <td>другое</td>\n    </tr>\n    <tr>\n      <th>2</th>\n      <td>RE: статья Вестник САИТ Рецензия Рецензия Толс...</td>\n      <td>рецензирование</td>\n    </tr>\n    <tr>\n      <th>3</th>\n      <td>RE: статья для рецензирования рецензия_на_Проб...</td>\n      <td>рецензирование</td>\n    </tr>\n    <tr>\n      <th>4</th>\n      <td>RE: рецензия на статью Рецензия Толстоброва на...</td>\n      <td>рецензирование</td>\n    </tr>\n  </tbody>\n</table>\n</div>"
     },
     "execution_count": 63,
     "metadata": {},
     "output_type": "execute_result"
    }
   ],
   "source": [
    "dataframe['text'] = remove_mails_urls(dataframe['text'])\n",
    "dataframe.head()"
   ],
   "metadata": {
    "collapsed": false
   },
   "id": "98513b513e69f405"
  },
  {
   "cell_type": "code",
   "execution_count": 64,
   "outputs": [
    {
     "name": "stderr",
     "output_type": "stream",
     "text": [
      "[nltk_data] Downloading package stopwords to\n",
      "[nltk_data]     C:\\Users\\08642\\AppData\\Roaming\\nltk_data...\n",
      "[nltk_data]   Package stopwords is already up-to-date!\n"
     ]
    },
    {
     "data": {
      "text/plain": "True"
     },
     "execution_count": 64,
     "metadata": {},
     "output_type": "execute_result"
    }
   ],
   "source": [
    "import nltk\n",
    "nltk.download('stopwords')"
   ],
   "metadata": {
    "collapsed": false
   },
   "id": "b68bed037f2cdd11"
  },
  {
   "cell_type": "code",
   "execution_count": 65,
   "outputs": [],
   "source": [
    "from nltk.corpus import stopwords\n",
    "stop = stopwords.words('russian')\n",
    "\n",
    "def clean_text(texts):\n",
    "    column = []\n",
    "    texts = texts.apply(lambda x: ' '.join([word for word in x.split() if word not in stop]))\n",
    "    for s in texts:\n",
    "\n",
    "        s = s.lower()\n",
    "        s = re.sub(r'[0-9]+', '', s)\n",
    "        s = re.sub(r're', '', s)\n",
    "        s = re.sub(r'fwd', '', s)\n",
    "        s = re.sub(r'fw', '', s)\n",
    "        s = re.sub(\"[\" + string.punctuation + \"]\", \" \", s)\n",
    "        s = re.sub(r'\\s+', ' ', s)\n",
    "        column.append(s)\n",
    "    return column\n"
   ],
   "metadata": {
    "collapsed": false
   },
   "id": "416b2d6f4ff2700e"
  },
  {
   "cell_type": "code",
   "execution_count": 66,
   "outputs": [
    {
     "data": {
      "text/plain": "                                                text        category\n0  повторная отправка рецензия гаршиной doc добры...  рецензирование\n1              шаблон рецензии новый спасибо нечаев           другое\n2   статья вестник саит рецензия рецензия толстоб...  рецензирование\n3   статья рецензирования рецензия на проблема за...  рецензирование\n4   рецензия статью рецензия толстоброва статью ч...  рецензирование",
      "text/html": "<div>\n<style scoped>\n    .dataframe tbody tr th:only-of-type {\n        vertical-align: middle;\n    }\n\n    .dataframe tbody tr th {\n        vertical-align: top;\n    }\n\n    .dataframe thead th {\n        text-align: right;\n    }\n</style>\n<table border=\"1\" class=\"dataframe\">\n  <thead>\n    <tr style=\"text-align: right;\">\n      <th></th>\n      <th>text</th>\n      <th>category</th>\n    </tr>\n  </thead>\n  <tbody>\n    <tr>\n      <th>0</th>\n      <td>повторная отправка рецензия гаршиной doc добры...</td>\n      <td>рецензирование</td>\n    </tr>\n    <tr>\n      <th>1</th>\n      <td>шаблон рецензии новый спасибо нечаев</td>\n      <td>другое</td>\n    </tr>\n    <tr>\n      <th>2</th>\n      <td>статья вестник саит рецензия рецензия толстоб...</td>\n      <td>рецензирование</td>\n    </tr>\n    <tr>\n      <th>3</th>\n      <td>статья рецензирования рецензия на проблема за...</td>\n      <td>рецензирование</td>\n    </tr>\n    <tr>\n      <th>4</th>\n      <td>рецензия статью рецензия толстоброва статью ч...</td>\n      <td>рецензирование</td>\n    </tr>\n  </tbody>\n</table>\n</div>"
     },
     "execution_count": 66,
     "metadata": {},
     "output_type": "execute_result"
    }
   ],
   "source": [
    "dataframe['text'] = clean_text(dataframe['text'])\n",
    "dataframe.head()"
   ],
   "metadata": {
    "collapsed": false
   },
   "id": "b996ad2b16b79292"
  },
  {
   "cell_type": "code",
   "execution_count": 67,
   "outputs": [],
   "source": [
    "dataframe.to_csv('files/7_clean_categorized.csv', index=False)"
   ],
   "metadata": {
    "collapsed": false
   },
   "id": "e0607cb887788d52"
  },
  {
   "cell_type": "markdown",
   "source": [
    "новое"
   ],
   "metadata": {
    "collapsed": false
   },
   "id": "e4b001015feb0928"
  },
  {
   "cell_type": "code",
   "execution_count": null,
   "outputs": [],
   "source": [
    "# удаление нерусских символов"
   ],
   "metadata": {
    "collapsed": false
   },
   "id": "c33132066c8103fb"
  }
 ],
 "metadata": {
  "kernelspec": {
   "display_name": "Python 3",
   "language": "python",
   "name": "python3"
  },
  "language_info": {
   "codemirror_mode": {
    "name": "ipython",
    "version": 2
   },
   "file_extension": ".py",
   "mimetype": "text/x-python",
   "name": "python",
   "nbconvert_exporter": "python",
   "pygments_lexer": "ipython2",
   "version": "2.7.6"
  }
 },
 "nbformat": 4,
 "nbformat_minor": 5
}
